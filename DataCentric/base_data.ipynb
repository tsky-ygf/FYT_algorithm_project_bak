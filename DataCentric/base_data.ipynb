{
 "cells": [
  {
   "cell_type": "code",
   "execution_count": 1,
   "metadata": {
    "collapsed": true,
    "pycharm": {
     "name": "#%%\n"
    }
   },
   "outputs": [],
   "source": [
    "import pymysql\n",
    "import pandas as pd"
   ]
  },
  {
   "cell_type": "code",
   "execution_count": 8,
   "outputs": [
    {
     "name": "stderr",
     "output_type": "stream",
     "text": [
      "/home/fyt/miniconda3/envs/nlp/lib/python3.9/site-packages/pandas/io/sql.py:761: UserWarning: pandas only support SQLAlchemy connectable(engine/connection) ordatabase string URI or sqlite3 DBAPI2 connectionother DBAPI2 objects are not tested, please consider using SQLAlchemy\n",
      "  warnings.warn(\n"
     ]
    }
   ],
   "source": [
    "connect_big_data = pymysql.connect(host='172.19.82.227',\n",
    "                                   user='root', password='Nblh@2022',\n",
    "                                   db='big_data_ceshi227')\n",
    "sql_labor = '''\n",
    "    select f10,f12,f13,f14,f30,f40,f44 from big_data_ceshi227.case_list_original_labor WHERE f10=\"判决\"\n",
    "       '''\n",
    "sql_jd = '''\n",
    "    select f10,f12,f13,f14,f30,f40,f42,f44 from big_data_ceshi227.case_list_original_hetong WHERE f12=\"租赁合同纠纷\" and f10=\"判决\" limit 30000\n",
    "       '''\n",
    "data = pd.read_sql(sql_jd, con=connect_big_data)\n",
    "connect_big_data.close()"
   ],
   "metadata": {
    "collapsed": false,
    "pycharm": {
     "name": "#%%\n"
    }
   }
  },
  {
   "cell_type": "code",
   "execution_count": 9,
   "outputs": [
    {
     "data": {
      "text/plain": "   f10     f12                                                f13         f14  \\\n4   判决  租赁合同纠纷  本院认为：《广州市直管房（非住宅）租赁合同》出租方为广州市国土资源和房屋管理局天河区分局，后...  2020-03-31   \n14  判决  租赁合同纠纷  本院认为：原被告间签订的房屋租赁协议是双方真实意思表示，该合同合法有效，双方应按合同约定全面...  2020-09-08   \n16  判决  租赁合同纠纷  本院认为，原告叶艺东与被告黄思洁签订的《租赁合同》系双方真实意思表示，未违反禁止性法律法规，...  2020-07-20   \n18  判决  租赁合同纠纷  本院认为，原、被告之间的租赁合同不违反法律法规的禁止性规定，合法有效，本院予以确认，现原告诉...  2021-02-18   \n40  判决  租赁合同纠纷  本院认为，案外人汇通信诚租赁有限公司与被告张某签订的《车辆融资租赁合同》《抵押合同》均系双方...  2020-09-21   \n\n                                                  f30  \\\n4   一、自本判决发生法律效力之日起10日内，被告广州市逸辉物业管理有限公司向原告广州市天河区住房...   \n14  一、解除原告宋志刚与被告李铁众间签订的房屋租赁协议；二、驳回原告宋志刚的其他诉讼请求；三、驳...   \n16  一、解除原告叶艺与被告黄思洁于2016年1月28日签订的《租赁合同》。二、驳回原告叶艺东的其...   \n18  被告吴亚飞于本判决生效之日起十日内支付原告登封市为民种养专业合作社10400元。如果未按本判...   \n40  一、被告张某于本判决生效后立即给付原告吉林省万福融资租赁有限公司租金55，096元及违约金（...   \n\n                                                  f40  \\\n4   原告天河住建园林局诉称：广州市天河区五山路x号商铺是原告的直管非住宅公房。原天河区国土和房管...   \n14  原告向本院提出诉讼请求，要求解除原被告于2019年5月23日签订的房屋租赁协议；返还原告于2...   \n16  原告叶艺东诉称，原告与被告于2016年1月28日签订《租赁合同》，租赁房屋位于柳州市，建筑面...   \n18  原告登封市为民种养专业合作社向本院提出诉讼请求：1、依法判令被告向原告支付租金10400元，...   \n40  原告吉林省万福融资租赁有限公司向本院提出诉讼请求：1、判令被告立即给付原告融资租赁租金55，...   \n\n                                                  f42  \\\n4   被告逸辉公司辩称：我司不同意原告的诉讼请求。一、我司系由原广州市天河区国土资源和房屋管理局（...   \n14  被告李铁众辩称，原有房屋不存在违建，原告说的不属实，另外原告交付房屋时已经看过房子，说被告没...   \n16  被告黄思洁辩称，1、同意原告的诉请1，即日起解除原被告签订的租赁合同，请求法院驳回原告2-6...   \n18                                  被告吴亚飞辩称，合作社还欠我们钱。   \n40  被告郭航辩称，当时我不管签的是租赁合同还是抵押合同，原告请求是55，096元，我实际到账52...   \n\n                                                  f44  \n4   经审理查明：2000年10月17日，广州市国土房管局向天河区国土房管局出具接管通知书，称位于...  \n14  经审理查明：榆树市爱尚健身俱乐部系被告李铁众与高云波、仇安宁共同经营的个体工商户，高云波系经...  \n16  经审理查明，原告叶艺东与被告黄思洁于2016年1月28日签订了一份《租赁合同》，合同约定原告...  \n18  经审理查明，2020年，被告租赁原告土地种植辣椒，共欠原告租金10400元，被告于2020年...  \n40  经审理查明，2019年6月26日，案外人汇通信诚租赁有限公司（出租人）与被告张某（承租人）签...  ",
      "text/html": "<div>\n<style scoped>\n    .dataframe tbody tr th:only-of-type {\n        vertical-align: middle;\n    }\n\n    .dataframe tbody tr th {\n        vertical-align: top;\n    }\n\n    .dataframe thead th {\n        text-align: right;\n    }\n</style>\n<table border=\"1\" class=\"dataframe\">\n  <thead>\n    <tr style=\"text-align: right;\">\n      <th></th>\n      <th>f10</th>\n      <th>f12</th>\n      <th>f13</th>\n      <th>f14</th>\n      <th>f30</th>\n      <th>f40</th>\n      <th>f42</th>\n      <th>f44</th>\n    </tr>\n  </thead>\n  <tbody>\n    <tr>\n      <th>4</th>\n      <td>判决</td>\n      <td>租赁合同纠纷</td>\n      <td>本院认为：《广州市直管房（非住宅）租赁合同》出租方为广州市国土资源和房屋管理局天河区分局，后...</td>\n      <td>2020-03-31</td>\n      <td>一、自本判决发生法律效力之日起10日内，被告广州市逸辉物业管理有限公司向原告广州市天河区住房...</td>\n      <td>原告天河住建园林局诉称：广州市天河区五山路x号商铺是原告的直管非住宅公房。原天河区国土和房管...</td>\n      <td>被告逸辉公司辩称：我司不同意原告的诉讼请求。一、我司系由原广州市天河区国土资源和房屋管理局（...</td>\n      <td>经审理查明：2000年10月17日，广州市国土房管局向天河区国土房管局出具接管通知书，称位于...</td>\n    </tr>\n    <tr>\n      <th>14</th>\n      <td>判决</td>\n      <td>租赁合同纠纷</td>\n      <td>本院认为：原被告间签订的房屋租赁协议是双方真实意思表示，该合同合法有效，双方应按合同约定全面...</td>\n      <td>2020-09-08</td>\n      <td>一、解除原告宋志刚与被告李铁众间签订的房屋租赁协议；二、驳回原告宋志刚的其他诉讼请求；三、驳...</td>\n      <td>原告向本院提出诉讼请求，要求解除原被告于2019年5月23日签订的房屋租赁协议；返还原告于2...</td>\n      <td>被告李铁众辩称，原有房屋不存在违建，原告说的不属实，另外原告交付房屋时已经看过房子，说被告没...</td>\n      <td>经审理查明：榆树市爱尚健身俱乐部系被告李铁众与高云波、仇安宁共同经营的个体工商户，高云波系经...</td>\n    </tr>\n    <tr>\n      <th>16</th>\n      <td>判决</td>\n      <td>租赁合同纠纷</td>\n      <td>本院认为，原告叶艺东与被告黄思洁签订的《租赁合同》系双方真实意思表示，未违反禁止性法律法规，...</td>\n      <td>2020-07-20</td>\n      <td>一、解除原告叶艺与被告黄思洁于2016年1月28日签订的《租赁合同》。二、驳回原告叶艺东的其...</td>\n      <td>原告叶艺东诉称，原告与被告于2016年1月28日签订《租赁合同》，租赁房屋位于柳州市，建筑面...</td>\n      <td>被告黄思洁辩称，1、同意原告的诉请1，即日起解除原被告签订的租赁合同，请求法院驳回原告2-6...</td>\n      <td>经审理查明，原告叶艺东与被告黄思洁于2016年1月28日签订了一份《租赁合同》，合同约定原告...</td>\n    </tr>\n    <tr>\n      <th>18</th>\n      <td>判决</td>\n      <td>租赁合同纠纷</td>\n      <td>本院认为，原、被告之间的租赁合同不违反法律法规的禁止性规定，合法有效，本院予以确认，现原告诉...</td>\n      <td>2021-02-18</td>\n      <td>被告吴亚飞于本判决生效之日起十日内支付原告登封市为民种养专业合作社10400元。如果未按本判...</td>\n      <td>原告登封市为民种养专业合作社向本院提出诉讼请求：1、依法判令被告向原告支付租金10400元，...</td>\n      <td>被告吴亚飞辩称，合作社还欠我们钱。</td>\n      <td>经审理查明，2020年，被告租赁原告土地种植辣椒，共欠原告租金10400元，被告于2020年...</td>\n    </tr>\n    <tr>\n      <th>40</th>\n      <td>判决</td>\n      <td>租赁合同纠纷</td>\n      <td>本院认为，案外人汇通信诚租赁有限公司与被告张某签订的《车辆融资租赁合同》《抵押合同》均系双方...</td>\n      <td>2020-09-21</td>\n      <td>一、被告张某于本判决生效后立即给付原告吉林省万福融资租赁有限公司租金55，096元及违约金（...</td>\n      <td>原告吉林省万福融资租赁有限公司向本院提出诉讼请求：1、判令被告立即给付原告融资租赁租金55，...</td>\n      <td>被告郭航辩称，当时我不管签的是租赁合同还是抵押合同，原告请求是55，096元，我实际到账52...</td>\n      <td>经审理查明，2019年6月26日，案外人汇通信诚租赁有限公司（出租人）与被告张某（承租人）签...</td>\n    </tr>\n  </tbody>\n</table>\n</div>"
     },
     "execution_count": 9,
     "metadata": {},
     "output_type": "execute_result"
    }
   ],
   "source": [
    "data_new = data[data[\"f10\"]== \"判决\"]\n",
    "# data_new = data_new[(data_new[\"f7\"] != \"\")]\n",
    "data_new = data_new[(data_new[\"f13\"] != \"\")&(data_new[\"f14\"] != \"\")&(data_new[\"f30\"] != \"\")]\n",
    "data_new = data_new[(data_new[\"f40\"] != \"\")&(data_new[\"f44\"] != \"\")&(data_new[\"f42\"] != \"\")]\n",
    "data_new.head()"
   ],
   "metadata": {
    "collapsed": false,
    "pycharm": {
     "name": "#%%\n"
    }
   }
  },
  {
   "cell_type": "code",
   "execution_count": 10,
   "outputs": [
    {
     "name": "stdout",
     "output_type": "stream",
     "text": [
      "4382\n"
     ]
    }
   ],
   "source": [
    "print(len(data_new))\n",
    "# data_new = data_new.sample(n=2500)"
   ],
   "metadata": {
    "collapsed": false,
    "pycharm": {
     "name": "#%%\n"
    }
   }
  },
  {
   "cell_type": "code",
   "execution_count": 11,
   "outputs": [],
   "source": [
    "data_new.to_csv(\"data/fyt_train_use_data/zulin_all.csv\",index=False)"
   ],
   "metadata": {
    "collapsed": false,
    "pycharm": {
     "name": "#%%\n"
    }
   }
  },
  {
   "cell_type": "code",
   "execution_count": 43,
   "outputs": [],
   "source": [
    "anyou_list = [\"社会保险纠纷\",\"养老保险待遇纠纷\",\"医疗保险待遇纠纷\",\"失业保险待遇纠纷\",\"生育保险待遇纠纷\"\n",
    "    ,\"工伤保险待遇纠纷\",\"提供劳务者致害责任纠纷\",\"提供劳务者受害责任纠纷\",\"确认劳动关系纠纷\",\"劳务派遣合同纠纷\",\n",
    "    \"劳动合同纠纷\",\"人事争议\",\"追索劳动报酬纠纷\",\"经济补偿金纠纷\",\"劳务合同纠纷\",]"
   ],
   "metadata": {
    "collapsed": false,
    "pycharm": {
     "name": "#%%\n"
    }
   }
  },
  {
   "cell_type": "code",
   "execution_count": 76,
   "outputs": [],
   "source": [
    "data_new = data_new[data_new[\"f12\"].isin(anyou_list)]"
   ],
   "metadata": {
    "collapsed": false,
    "pycharm": {
     "name": "#%%\n"
    }
   }
  },
  {
   "cell_type": "code",
   "execution_count": 77,
   "outputs": [
    {
     "data": {
      "text/plain": "   f7 f10       f12                                                f13  \\\n11     判决  追索劳动报酬纠纷  本院认为，本案系追索劳动报酬纠纷。一、关于责任承担。原告李红权受雇于被告杨东方从事施工技术员...   \n14     判决    劳动合同纠纷  本院认为，根据《中华人民共和国劳动合同法》第四十四条第（一）项、第四十六条第（五）项，除用人...   \n21     判决  追索劳动报酬纠纷  本院认为，本案的争议焦点在于原、被告之间是否存在事实劳动关系。在劳动关系发生期间，劳动者应是...   \n24     判决  追索劳动报酬纠纷  本院认为，因原告2015年10月23日发生工伤，被告为原告缴纳了2014年12月至2018年...   \n26     判决  追索劳动报酬纠纷  本院认为，民事主体应当依照法律规定和合同约定，承担民事义务，履行民事责任。被告作为用人单位，...   \n\n           f14                                                f30  \\\n11  2020-07-14  一、被告杨东方应于本判决生效之日起七日内支付原告李红权工资14440元；二、被告江西共拓能源...   \n14  2020-05-18  被告大连西岗许日燮诊所于本判决生效之日起十日内支付原告于佳鹭经济补偿金24918.25元。如...   \n21  2020-09-30  被告上海超幕网络科技有限公司于本判决生效之日起十日内支付原告牛义婷2019年11月1日至20...   \n24  2020-04-13  一、确认原告王学平和被告青岛半岛都市报业发行有限公司之间的劳动合同于2018年7月2日解除；...   \n26  2020-08-31  被告晋中市力新环保建材有限公司于本判决生效之日起十日内付清原告白银莲劳动报酬3028元。如果...   \n\n                                                  f40  \\\n11  原告李红权向本院提出诉讼请求：1、被告立即支付拖欠原告农民工工资14440元及逾期利息（利息...   \n14  原告于佳鹭向本院提出诉讼请求：1、请求被告支付经济补偿金24918.25元（工作三年三个月2...   \n21  原告向本院提出诉讼请求，要求：被告支付2019年11月1日至2020年1月7日期间工资共计7...   \n24  原告王学平向本院提出诉讼请求：1、确认原告与被告之间的劳动合同于2018年7月2日解除；2、...   \n26         原告向本院提出诉讼请求：请求判令被告支付所欠原告工资3028元；诉讼费用由被告承担。   \n\n                                                  f44  \n11  经审理查明，2018年3月26日，被告江西共拓能源建设有限公司（甲方）与被告杨东方（乙方）签...  \n14  经审理查明，原告于2016年3月7日入职被告处，双方订立了期限自2016年3月7日起至201...  \n21  经审理查明，“廖勇战区工资沟通群”中发布过“廖勇战区11-12月工资明细”，其中记载的原告1...  \n24  经审理查明，原告原系被告处职工，原告于2015年10月23日发生事故受伤，2016年3月1日...  \n26  经审理查明，原告在被告公司工作，被告公司的相应工资明细表显示，从2016年1月至2016年1...  ",
      "text/html": "<div>\n<style scoped>\n    .dataframe tbody tr th:only-of-type {\n        vertical-align: middle;\n    }\n\n    .dataframe tbody tr th {\n        vertical-align: top;\n    }\n\n    .dataframe thead th {\n        text-align: right;\n    }\n</style>\n<table border=\"1\" class=\"dataframe\">\n  <thead>\n    <tr style=\"text-align: right;\">\n      <th></th>\n      <th>f7</th>\n      <th>f10</th>\n      <th>f12</th>\n      <th>f13</th>\n      <th>f14</th>\n      <th>f30</th>\n      <th>f40</th>\n      <th>f44</th>\n    </tr>\n  </thead>\n  <tbody>\n    <tr>\n      <th>11</th>\n      <td></td>\n      <td>判决</td>\n      <td>追索劳动报酬纠纷</td>\n      <td>本院认为，本案系追索劳动报酬纠纷。一、关于责任承担。原告李红权受雇于被告杨东方从事施工技术员...</td>\n      <td>2020-07-14</td>\n      <td>一、被告杨东方应于本判决生效之日起七日内支付原告李红权工资14440元；二、被告江西共拓能源...</td>\n      <td>原告李红权向本院提出诉讼请求：1、被告立即支付拖欠原告农民工工资14440元及逾期利息（利息...</td>\n      <td>经审理查明，2018年3月26日，被告江西共拓能源建设有限公司（甲方）与被告杨东方（乙方）签...</td>\n    </tr>\n    <tr>\n      <th>14</th>\n      <td></td>\n      <td>判决</td>\n      <td>劳动合同纠纷</td>\n      <td>本院认为，根据《中华人民共和国劳动合同法》第四十四条第（一）项、第四十六条第（五）项，除用人...</td>\n      <td>2020-05-18</td>\n      <td>被告大连西岗许日燮诊所于本判决生效之日起十日内支付原告于佳鹭经济补偿金24918.25元。如...</td>\n      <td>原告于佳鹭向本院提出诉讼请求：1、请求被告支付经济补偿金24918.25元（工作三年三个月2...</td>\n      <td>经审理查明，原告于2016年3月7日入职被告处，双方订立了期限自2016年3月7日起至201...</td>\n    </tr>\n    <tr>\n      <th>21</th>\n      <td></td>\n      <td>判决</td>\n      <td>追索劳动报酬纠纷</td>\n      <td>本院认为，本案的争议焦点在于原、被告之间是否存在事实劳动关系。在劳动关系发生期间，劳动者应是...</td>\n      <td>2020-09-30</td>\n      <td>被告上海超幕网络科技有限公司于本判决生效之日起十日内支付原告牛义婷2019年11月1日至20...</td>\n      <td>原告向本院提出诉讼请求，要求：被告支付2019年11月1日至2020年1月7日期间工资共计7...</td>\n      <td>经审理查明，“廖勇战区工资沟通群”中发布过“廖勇战区11-12月工资明细”，其中记载的原告1...</td>\n    </tr>\n    <tr>\n      <th>24</th>\n      <td></td>\n      <td>判决</td>\n      <td>追索劳动报酬纠纷</td>\n      <td>本院认为，因原告2015年10月23日发生工伤，被告为原告缴纳了2014年12月至2018年...</td>\n      <td>2020-04-13</td>\n      <td>一、确认原告王学平和被告青岛半岛都市报业发行有限公司之间的劳动合同于2018年7月2日解除；...</td>\n      <td>原告王学平向本院提出诉讼请求：1、确认原告与被告之间的劳动合同于2018年7月2日解除；2、...</td>\n      <td>经审理查明，原告原系被告处职工，原告于2015年10月23日发生事故受伤，2016年3月1日...</td>\n    </tr>\n    <tr>\n      <th>26</th>\n      <td></td>\n      <td>判决</td>\n      <td>追索劳动报酬纠纷</td>\n      <td>本院认为，民事主体应当依照法律规定和合同约定，承担民事义务，履行民事责任。被告作为用人单位，...</td>\n      <td>2020-08-31</td>\n      <td>被告晋中市力新环保建材有限公司于本判决生效之日起十日内付清原告白银莲劳动报酬3028元。如果...</td>\n      <td>原告向本院提出诉讼请求：请求判令被告支付所欠原告工资3028元；诉讼费用由被告承担。</td>\n      <td>经审理查明，原告在被告公司工作，被告公司的相应工资明细表显示，从2016年1月至2016年1...</td>\n    </tr>\n  </tbody>\n</table>\n</div>"
     },
     "execution_count": 77,
     "metadata": {},
     "output_type": "execute_result"
    }
   ],
   "source": [
    "data_new.head()"
   ],
   "metadata": {
    "collapsed": false,
    "pycharm": {
     "name": "#%%\n"
    }
   }
  },
  {
   "cell_type": "code",
   "execution_count": 78,
   "outputs": [
    {
     "data": {
      "text/plain": "14989"
     },
     "execution_count": 78,
     "metadata": {},
     "output_type": "execute_result"
    }
   ],
   "source": [
    "len(data_new)\n",
    "# data_new = data_new.sample(n=25000)"
   ],
   "metadata": {
    "collapsed": false,
    "pycharm": {
     "name": "#%%\n"
    }
   }
  },
  {
   "cell_type": "code",
   "execution_count": 79,
   "outputs": [],
   "source": [
    "data_new.to_csv(\"data/fyt_train_use_data/labor.csv\",index=False)"
   ],
   "metadata": {
    "collapsed": false,
    "pycharm": {
     "name": "#%%\n"
    }
   }
  },
  {
   "cell_type": "code",
   "execution_count": 11,
   "outputs": [
    {
     "data": {
      "text/plain": "  f10     f12                                                f13         f14  \\\n0  判决  民间借贷纠纷  本院认为，合法的借贷关系应受法律保护，当事人应当按照约定全面履行自己的义务。本案被告向原告借...  2020-04-07   \n1  判决  民间借贷纠纷                                                     2021-04-28   \n2  判决  民间借贷纠纷  本院认为，合法的借贷关系受法律保护。杨鑫与何栋梁之间的借贷事实，有何栋梁出具的借条、杨鑫的银...  2020-11-19   \n3  判决  民间借贷纠纷  本院认为，原告出借两被告10万元，应予认定。因借条未载明借款期限，视为借款期限约定不明确。原...  2020-08-31   \n4  判决  民间借贷纠纷  本院认为，原、被告之间存在合法有效的借贷关系，原告出借款项给被告，被告理应依约清偿借款。现借...  2020-11-19   \n\n                                                 f30         f40 f42 f44  \n0  被告王亚伟于本判决生效后十日内偿还原告李建卿借款3万元。如果被告未按本判决指定的期间履行给付...                      \n1  被告吕向金在本判决发生法律效力之日起三日内归还原告谢照伦借款5，000.00元；并从2021...                      \n2  一、被告何栋梁在本判决发生法律效力之日起十日内返还原告杨鑫借款本金159，800元及利息（以...                      \n3  被告李武金、陈燕美应于本判决发生法律效力之日起三十日内归还原告欧怀宝借款本金10万元。如果未...                      \n4  一、被告伍勇军在本判决生效之日起十日内清还借款本金57600元及逾期利息给原告何志礼，逾期利...  五、原告的诉讼请求：          ",
      "text/html": "<div>\n<style scoped>\n    .dataframe tbody tr th:only-of-type {\n        vertical-align: middle;\n    }\n\n    .dataframe tbody tr th {\n        vertical-align: top;\n    }\n\n    .dataframe thead th {\n        text-align: right;\n    }\n</style>\n<table border=\"1\" class=\"dataframe\">\n  <thead>\n    <tr style=\"text-align: right;\">\n      <th></th>\n      <th>f10</th>\n      <th>f12</th>\n      <th>f13</th>\n      <th>f14</th>\n      <th>f30</th>\n      <th>f40</th>\n      <th>f42</th>\n      <th>f44</th>\n    </tr>\n  </thead>\n  <tbody>\n    <tr>\n      <th>0</th>\n      <td>判决</td>\n      <td>民间借贷纠纷</td>\n      <td>本院认为，合法的借贷关系应受法律保护，当事人应当按照约定全面履行自己的义务。本案被告向原告借...</td>\n      <td>2020-04-07</td>\n      <td>被告王亚伟于本判决生效后十日内偿还原告李建卿借款3万元。如果被告未按本判决指定的期间履行给付...</td>\n      <td></td>\n      <td></td>\n      <td></td>\n    </tr>\n    <tr>\n      <th>1</th>\n      <td>判决</td>\n      <td>民间借贷纠纷</td>\n      <td></td>\n      <td>2021-04-28</td>\n      <td>被告吕向金在本判决发生法律效力之日起三日内归还原告谢照伦借款5，000.00元；并从2021...</td>\n      <td></td>\n      <td></td>\n      <td></td>\n    </tr>\n    <tr>\n      <th>2</th>\n      <td>判决</td>\n      <td>民间借贷纠纷</td>\n      <td>本院认为，合法的借贷关系受法律保护。杨鑫与何栋梁之间的借贷事实，有何栋梁出具的借条、杨鑫的银...</td>\n      <td>2020-11-19</td>\n      <td>一、被告何栋梁在本判决发生法律效力之日起十日内返还原告杨鑫借款本金159，800元及利息（以...</td>\n      <td></td>\n      <td></td>\n      <td></td>\n    </tr>\n    <tr>\n      <th>3</th>\n      <td>判决</td>\n      <td>民间借贷纠纷</td>\n      <td>本院认为，原告出借两被告10万元，应予认定。因借条未载明借款期限，视为借款期限约定不明确。原...</td>\n      <td>2020-08-31</td>\n      <td>被告李武金、陈燕美应于本判决发生法律效力之日起三十日内归还原告欧怀宝借款本金10万元。如果未...</td>\n      <td></td>\n      <td></td>\n      <td></td>\n    </tr>\n    <tr>\n      <th>4</th>\n      <td>判决</td>\n      <td>民间借贷纠纷</td>\n      <td>本院认为，原、被告之间存在合法有效的借贷关系，原告出借款项给被告，被告理应依约清偿借款。现借...</td>\n      <td>2020-11-19</td>\n      <td>一、被告伍勇军在本判决生效之日起十日内清还借款本金57600元及逾期利息给原告何志礼，逾期利...</td>\n      <td>五、原告的诉讼请求：</td>\n      <td></td>\n      <td></td>\n    </tr>\n  </tbody>\n</table>\n</div>"
     },
     "execution_count": 11,
     "metadata": {},
     "output_type": "execute_result"
    }
   ],
   "source": [
    "data_new = data[data[\"f10\"]== \"判决\"]\n",
    "data_new.head()"
   ],
   "metadata": {
    "collapsed": false,
    "pycharm": {
     "name": "#%%\n"
    }
   }
  },
  {
   "cell_type": "code",
   "execution_count": 12,
   "outputs": [
    {
     "data": {
      "text/plain": "2420419"
     },
     "execution_count": 12,
     "metadata": {},
     "output_type": "execute_result"
    }
   ],
   "source": [
    "len(data_new)"
   ],
   "metadata": {
    "collapsed": false,
    "pycharm": {
     "name": "#%%\n"
    }
   }
  },
  {
   "cell_type": "code",
   "execution_count": 3,
   "outputs": [],
   "source": [
    "data_new = data[(data[\"f40\"] != \"\") & (data[\"f10\"] == \"判决\")]"
   ],
   "metadata": {
    "collapsed": false,
    "pycharm": {
     "name": "#%%\n"
    }
   }
  },
  {
   "cell_type": "code",
   "execution_count": 4,
   "outputs": [
    {
     "data": {
      "text/plain": "1780668"
     },
     "execution_count": 4,
     "metadata": {},
     "output_type": "execute_result"
    }
   ],
   "source": [
    "len(data_new)"
   ],
   "metadata": {
    "collapsed": false,
    "pycharm": {
     "name": "#%%\n"
    }
   }
  },
  {
   "cell_type": "code",
   "execution_count": 5,
   "outputs": [
    {
     "data": {
      "text/plain": "   f10     f12                                                f13         f14  \\\n4   判决  民间借贷纠纷  本院认为，原、被告之间存在合法有效的借贷关系，原告出借款项给被告，被告理应依约清偿借款。现借...  2020-11-19   \n6   判决  民间借贷纠纷  本院认为，借据是出借人据以证明其与借款人之间借贷关系成立及交付借款的直接证据，原告朱楠琦与被...  2020-09-29   \n7   判决  民间借贷纠纷  本院认为，合法的借贷关系受法律保护。原告颜博秋主张其与被告常航之间存在借款合同关系，并提交了...  2020-06-10   \n8   判决  民间借贷纠纷  经开庭质证，原告图进公司提供如下主要证据：1、还款协议；2、律师代理费发票；3、委托代理合同...  2020-04-23   \n11  判决  民间借贷纠纷                                   本院认为，《最高人民法院关于适用  2021-04-07   \n\n                                                  f30  \\\n4   一、被告伍勇军在本判决生效之日起十日内清还借款本金57600元及逾期利息给原告何志礼，逾期利...   \n6   被告钟赛赛于本判决生效后十五日内归还原告朱楠琦借款150000元，并支付利息（以100000...   \n7   被告常航于本判决生效之日起七日内归还原告颜博秋借款本金40000元及逾期利息（逾期利息计算方...   \n8   经审理查明：2018年1月31日，原告图进公司（甲方）与被告尤伟（甲方）签订《还款协议》，约...   \n11  被告王福峰偿还原告邹瑞君借款9500元，于本判决生效之日起十日内付清。如果未按本判决指定的期...   \n\n                                                  f40  \\\n4                                          五、原告的诉讼请求：   \n6   原告朱楠琦向本院提出诉讼请求：1.判令被告钟赛赛立即归还原告借款150000元，并支付利息（...   \n7   原告颜博秋向本院提出诉讼请求：1、请求判令被告向原告归还借款本金40000元以及利息（利息以...   \n8   原告图进公司向本院提出诉讼请求为：1、被告归还欠款357083.2元及支付违约金257100...   \n11  原告邹瑞君向本院提出诉讼请求：1.请求判决被告王福峰偿还原告邹瑞君借款9500元；2.请求判...   \n\n                                                  f42  \\\n4                                                       \n6                                                       \n7                                                       \n8   被告尤伟辩称：1、本案还款协议约定的数额没有进行真正有效结算，双方只是初步对原、被告之间的工...   \n11                                                      \n\n                                                  f44  \n4                                                      \n6                                                      \n7                                                      \n8   经审理查明：2018年1月31日，原告图进公司（甲方）与被告尤伟（甲方）签订《还款协议》，约...  \n11                                                     ",
      "text/html": "<div>\n<style scoped>\n    .dataframe tbody tr th:only-of-type {\n        vertical-align: middle;\n    }\n\n    .dataframe tbody tr th {\n        vertical-align: top;\n    }\n\n    .dataframe thead th {\n        text-align: right;\n    }\n</style>\n<table border=\"1\" class=\"dataframe\">\n  <thead>\n    <tr style=\"text-align: right;\">\n      <th></th>\n      <th>f10</th>\n      <th>f12</th>\n      <th>f13</th>\n      <th>f14</th>\n      <th>f30</th>\n      <th>f40</th>\n      <th>f42</th>\n      <th>f44</th>\n    </tr>\n  </thead>\n  <tbody>\n    <tr>\n      <th>4</th>\n      <td>判决</td>\n      <td>民间借贷纠纷</td>\n      <td>本院认为，原、被告之间存在合法有效的借贷关系，原告出借款项给被告，被告理应依约清偿借款。现借...</td>\n      <td>2020-11-19</td>\n      <td>一、被告伍勇军在本判决生效之日起十日内清还借款本金57600元及逾期利息给原告何志礼，逾期利...</td>\n      <td>五、原告的诉讼请求：</td>\n      <td></td>\n      <td></td>\n    </tr>\n    <tr>\n      <th>6</th>\n      <td>判决</td>\n      <td>民间借贷纠纷</td>\n      <td>本院认为，借据是出借人据以证明其与借款人之间借贷关系成立及交付借款的直接证据，原告朱楠琦与被...</td>\n      <td>2020-09-29</td>\n      <td>被告钟赛赛于本判决生效后十五日内归还原告朱楠琦借款150000元，并支付利息（以100000...</td>\n      <td>原告朱楠琦向本院提出诉讼请求：1.判令被告钟赛赛立即归还原告借款150000元，并支付利息（...</td>\n      <td></td>\n      <td></td>\n    </tr>\n    <tr>\n      <th>7</th>\n      <td>判决</td>\n      <td>民间借贷纠纷</td>\n      <td>本院认为，合法的借贷关系受法律保护。原告颜博秋主张其与被告常航之间存在借款合同关系，并提交了...</td>\n      <td>2020-06-10</td>\n      <td>被告常航于本判决生效之日起七日内归还原告颜博秋借款本金40000元及逾期利息（逾期利息计算方...</td>\n      <td>原告颜博秋向本院提出诉讼请求：1、请求判令被告向原告归还借款本金40000元以及利息（利息以...</td>\n      <td></td>\n      <td></td>\n    </tr>\n    <tr>\n      <th>8</th>\n      <td>判决</td>\n      <td>民间借贷纠纷</td>\n      <td>经开庭质证，原告图进公司提供如下主要证据：1、还款协议；2、律师代理费发票；3、委托代理合同...</td>\n      <td>2020-04-23</td>\n      <td>经审理查明：2018年1月31日，原告图进公司（甲方）与被告尤伟（甲方）签订《还款协议》，约...</td>\n      <td>原告图进公司向本院提出诉讼请求为：1、被告归还欠款357083.2元及支付违约金257100...</td>\n      <td>被告尤伟辩称：1、本案还款协议约定的数额没有进行真正有效结算，双方只是初步对原、被告之间的工...</td>\n      <td>经审理查明：2018年1月31日，原告图进公司（甲方）与被告尤伟（甲方）签订《还款协议》，约...</td>\n    </tr>\n    <tr>\n      <th>11</th>\n      <td>判决</td>\n      <td>民间借贷纠纷</td>\n      <td>本院认为，《最高人民法院关于适用</td>\n      <td>2021-04-07</td>\n      <td>被告王福峰偿还原告邹瑞君借款9500元，于本判决生效之日起十日内付清。如果未按本判决指定的期...</td>\n      <td>原告邹瑞君向本院提出诉讼请求：1.请求判决被告王福峰偿还原告邹瑞君借款9500元；2.请求判...</td>\n      <td></td>\n      <td></td>\n    </tr>\n  </tbody>\n</table>\n</div>"
     },
     "execution_count": 5,
     "metadata": {},
     "output_type": "execute_result"
    }
   ],
   "source": [
    "data_new.head()"
   ],
   "metadata": {
    "collapsed": false,
    "pycharm": {
     "name": "#%%\n"
    }
   }
  },
  {
   "cell_type": "code",
   "execution_count": null,
   "outputs": [],
   "source": [
    "for index,row in data_new.iterrows():\n",
    "    print(row[\"f40\"][:100])# break\n",
    "    print('=====')\n",
    "    if index == 10:\n",
    "        break"
   ],
   "metadata": {
    "collapsed": false,
    "pycharm": {
     "name": "#%%\n"
    }
   }
  }
 ],
 "metadata": {
  "kernelspec": {
   "display_name": "Python 3",
   "language": "python",
   "name": "python3"
  },
  "language_info": {
   "codemirror_mode": {
    "name": "ipython",
    "version": 2
   },
   "file_extension": ".py",
   "mimetype": "text/x-python",
   "name": "python",
   "nbconvert_exporter": "python",
   "pygments_lexer": "ipython2",
   "version": "2.7.6"
  }
 },
 "nbformat": 4,
 "nbformat_minor": 0
}