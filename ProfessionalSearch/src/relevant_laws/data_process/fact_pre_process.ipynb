{
 "cells": [
  {
   "cell_type": "code",
   "execution_count": 1,
   "outputs": [
    {
     "name": "stdout",
     "output_type": "stream",
     "text": [
      "/home/fyt\n"
     ]
    }
   ],
   "source": [
    "import os\n",
    "import json\n",
    "import re\n",
    "\n",
    "print(os.getcwd())"
   ],
   "metadata": {
    "collapsed": false,
    "pycharm": {
     "name": "#%%\n"
    }
   }
  },
  {
   "cell_type": "code",
   "execution_count": 3,
   "outputs": [],
   "source": [
    "test_json_path = \"data/fyt_train_use_data/CAIL-Long/civil/test.json\"\n",
    "with open(test_json_path, 'rb') as f:\n",
    "    test_load_list = json.load(f)"
   ],
   "metadata": {
    "collapsed": false,
    "pycharm": {
     "name": "#%%\n"
    }
   }
  },
  {
   "cell_type": "code",
   "execution_count": 4,
   "outputs": [],
   "source": [
    "def filter_str(str_num=0):\n",
    "    one_fact = test_load_list[str_num]['fact']\n",
    "    one_fact_list = re.split(\"[：|；|，|。]\", one_fact)\n",
    "    one_fact_list1 = list(map(lambda x: re.sub('[^\\u4e00-\\u9fa5]+', '', x), one_fact_list))\n",
    "    one_fact1 = \",\".join(one_fact_list1)\n",
    "    return one_fact1"
   ],
   "metadata": {
    "collapsed": false,
    "pycharm": {
     "name": "#%%\n"
    }
   }
  },
  {
   "cell_type": "code",
   "execution_count": 17,
   "outputs": [],
   "source": [
    "fact_len_sum = 0\n",
    "for i in range(len(test_load_list)):\n",
    "    # one_fact = filter_str(i)\n",
    "    # print(len(one_fact))\n",
    "    one_fact = test_load_list[i]['fact']\n",
    "    fact_len_sum += len(one_fact)\n",
    "fact_mean_sum = fact_len_sum / len(test_load_list)"
   ],
   "metadata": {
    "collapsed": false,
    "pycharm": {
     "name": "#%%\n"
    }
   }
  },
  {
   "cell_type": "code",
   "execution_count": 16,
   "outputs": [
    {
     "data": {
      "text/plain": "1089.8725737406908"
     },
     "execution_count": 16,
     "metadata": {},
     "output_type": "execute_result"
    }
   ],
   "source": [
    "fact_mean_sum"
   ],
   "metadata": {
    "collapsed": false,
    "pycharm": {
     "name": "#%%\n"
    }
   }
  },
  {
   "cell_type": "code",
   "execution_count": 18,
   "outputs": [
    {
     "data": {
      "text/plain": "1286.7572274673078"
     },
     "execution_count": 18,
     "metadata": {},
     "output_type": "execute_result"
    }
   ],
   "source": [
    "fact_mean_sum"
   ],
   "metadata": {
    "collapsed": false,
    "pycharm": {
     "name": "#%%\n"
    }
   }
  },
  {
   "cell_type": "code",
   "execution_count": 14,
   "outputs": [
    {
     "data": {
      "text/plain": "'原告崔秀英诉称,年月日,被告刘润伟驾驶鲁鲁挂号货车沿国道线由南向北行驶至国道线公里米处时,与赵同庆驾驶的鲁号三轮车车上乘坐崔秀英刘玉强杨灿珠张先升于常美张渤海相撞后,又与张上海驾驶的鲁鲁挂号货车相撞,致原告受伤,车辆受损,安丘市公安局交通警察大队认定,被告刘润伟承担事故的主要责任,赵同庆承担事故的次要责任,被告张上海原告崔秀英无事故责任,二肇事车辆登记车主分别为安丘市万鑫物流有限公司淄博天炀物流有限公司,分别投保于二被告保险公司,为此,原告诉至本院,请求依法判令被告赔偿原告医疗费护理费等共计元,诉讼费用由被告负担,后变更诉讼请求,要求赔偿医疗费等损失共计元,被告刘润伟王建法安丘市万鑫物流有限公司共同辩称,发生事故属实,对事故责任划分无异议,鲁鲁挂车辆的实际车主是王建法,刘润伟是王建法雇佣的驾驶员,该车辆挂靠于安丘市万鑫物流有限公司,原告的损失保险公司在交强险范围内赔偿后,剩余部分应由王建法承担,被告太平洋保险安丘支公司辩称,发生事故属实,肇事车辆投保交强险属实,但投保车辆更改车牌号未经公司改批,所以不予赔偿,被告张上海淄博天炀物流有限公司中国人保博山支公司未到庭,亦未提交书面答辩状,经审理查明,年月日时分许,被告刘润伟驾驶鲁鲁挂号货车沿国道线由南向北行驶至国道线公里米处时,与前方顺行左转弯赵同庆驾驶的鲁号三轮车车斗内乘坐崔秀英刘玉强杨灿珠于常美张先升张渤海相撞,鲁号三轮车前侧又与沿国道线由北向南行驶被告张上海驾驶的鲁鲁挂号货车左侧相撞,致原告及赵同庆刘玉强杨灿珠张先升于常美张渤海受伤,三车受损,安丘市公安局交通警察大队认定,被告刘润伟驾驶机动车未保持安全车速,承担事故的主要责任,赵同庆无证驾驶机动车转弯未确保安全承担事故的次要责任,被告张上海原告崔秀英无事故责任,事故发生后,原告入安丘市中医院住院治疗天,经诊断伤情为,左踝部皮裂伤多处皮擦伤,原告支出医疗费元,年月日,该诊疗医院为原告出具伤情证明,原告住院期间需人陪护,出院后继续休息治疗个月,另查明,被告刘润伟驾驶的鲁鲁挂号货车车主为被告王建法,刘润伟是王建法雇佣的驾驶员,该车辆挂靠于安丘市万鑫物流有限公司,鲁号车辆在被告太平洋保险安丘支公司投保了机动车交通事故责任强制保险,责任限额为元,其中死亡伤残赔偿限额元,医疗费用赔偿限额元,财产损失赔偿限额元,保险期间自年月日零时起至年月日时止,被告张上海驾驶的车主为淄博天炀物流有限公司,鲁号货车在中国人保博山支公司投保了机动车交通事故责任强制保险,责任限额为元,其中无责任死亡伤残赔偿限额元,无责任医疗费用赔偿限额元,无责任财产损失赔偿限额元,保险期间自年月日零时起至年月日时止,杨灿珠张先升于常美赵同庆已向本院提起诉讼,张先升花费医疗费及住院伙食补助费共计元,赵同庆花费医疗费及住院伙食补助费共计元,于常美花费医疗费及住院伙食补助费共计元,杨灿珠已同太平洋保险安丘支公司达成调解,太平洋保险安丘支公司医疗费赔偿限额尚余元,死亡伤残赔偿限额元,事故发生后,被告王建法为原告垫付医疗费用元,原被告一致同意该垫付款双方自行处理,不需原告返还,还查明,原告崔秀英为农村居民,再查明,山东省统计局公布的年度城镇居民人均可支配收入为元年,农村居民人均纯收入为元年,年月日,原告诉至本院,主张因该事故造成如下损失,医疗费元误工费元护理费元住院伙食补助费元交通费元,共计元,其中,被告认可的损失有,医疗费元住院伙食补助费元,上述事实,有原告陈述被告答辩,原告提供的交通事故认定书住院病历医疗费单据汇总清单伤情证明车辆挂靠协议,机动车行驶证驾驶证交强险保单等已经当事人质证和本院审查的证据在案为证,'"
     },
     "execution_count": 14,
     "metadata": {},
     "output_type": "execute_result"
    }
   ],
   "source": [
    "filter_str(2)"
   ],
   "metadata": {
    "collapsed": false,
    "pycharm": {
     "name": "#%%\n"
    }
   }
  },
  {
   "cell_type": "code",
   "execution_count": 7,
   "outputs": [],
   "source": [
    "import hanlp"
   ],
   "metadata": {
    "collapsed": false,
    "pycharm": {
     "name": "#%%\n"
    }
   }
  },
  {
   "cell_type": "code",
   "execution_count": 10,
   "outputs": [
    {
     "data": {
      "text/plain": "{'OPEN_TOK_POS_NER_SRL_DEP_SDP_CON_ELECTRA_SMALL_ZH': 'https://file.hankcs.com/hanlp/mtl/open_tok_pos_ner_srl_dep_sdp_con_electra_small_20201223_035557.zip',\n 'OPEN_TOK_POS_NER_SRL_DEP_SDP_CON_ELECTRA_BASE_ZH': 'https://file.hankcs.com/hanlp/mtl/open_tok_pos_ner_srl_dep_sdp_con_electra_base_20201223_201906.zip',\n 'CLOSE_TOK_POS_NER_SRL_DEP_SDP_CON_ELECTRA_SMALL_ZH': 'https://file.hankcs.com/hanlp/mtl/close_tok_pos_ner_srl_dep_sdp_con_electra_small_20210111_124159.zip',\n 'CLOSE_TOK_POS_NER_SRL_DEP_SDP_CON_ELECTRA_BASE_ZH': 'https://file.hankcs.com/hanlp/mtl/close_tok_pos_ner_srl_dep_sdp_con_electra_base_20210111_124519.zip',\n 'CLOSE_TOK_POS_NER_SRL_DEP_SDP_CON_ERNIE_GRAM_ZH': 'https://file.hankcs.com/hanlp/mtl/close_tok_pos_ner_srl_dep_sdp_con_ernie_gram_base_aug_20210904_145403.zip',\n 'UD_ONTONOTES_TOK_POS_LEM_FEA_NER_SRL_DEP_SDP_CON_MT5_SMALL': 'https://file.hankcs.com/hanlp/mtl/ud_ontonotes_tok_pos_lem_fea_ner_srl_dep_sdp_con_mt5_small_20210228_123458.zip',\n 'UD_ONTONOTES_TOK_POS_LEM_FEA_NER_SRL_DEP_SDP_CON_XLMR_BASE': 'https://file.hankcs.com/hanlp/mtl/ud_ontonotes_tok_pos_lem_fea_ner_srl_dep_sdp_con_xlm_base_20210602_211620.zip',\n 'NPCMJ_UD_KYOTO_TOK_POS_CON_BERT_BASE_CHAR_JA': 'https://file.hankcs.com/hanlp/mtl/npcmj_ud_kyoto_tok_pos_ner_dep_con_srl_bert_base_char_ja_20210914_133742.zip'}"
     },
     "execution_count": 10,
     "metadata": {},
     "output_type": "execute_result"
    }
   ],
   "source": [
    "hanlp.pretrained.mtl.ALL"
   ],
   "metadata": {
    "collapsed": false,
    "pycharm": {
     "name": "#%%\n"
    }
   }
  },
  {
   "cell_type": "code",
   "execution_count": 12,
   "outputs": [
    {
     "name": "stderr",
     "output_type": "stream",
     "text": [
      "Downloading https://file.hankcs.com/hanlp/mtl/close_tok_pos_ner_srl_dep_sdp_con_electra_base_20210111_124519.zip to /home/fyt/.hanlp/mtl/close_tok_pos_ner_srl_dep_sdp_con_electra_base_20210111_124519.zip\n",
      "100% 467.9 MiB 834.3 KiB/s ETA:  0 s [=========================================]\n",
      "Decompressing /home/fyt/.hanlp/mtl/close_tok_pos_ner_srl_dep_sdp_con_electra_base_20210111_124519.zip to /home/fyt/.hanlp/mtl\n",
      "Downloading https://file.hankcs.com/hanlp/transformers/electra_zh_base_20210706_125233.zip to /home/fyt/.hanlp/transformers/electra_zh_base_20210706_125233.zip\n",
      "100%  41.2 KiB  41.2 KiB/s ETA:  0 s [=========================================]\n",
      "Decompressing /home/fyt/.hanlp/transformers/electra_zh_base_20210706_125233.zip to /home/fyt/.hanlp/transformers\n",
      "Downloading https://file.hankcs.com/corpus/char_table.json.zip to /home/fyt/.hanlp/thirdparty/file.hankcs.com/corpus/char_table.json.zip\n",
      "100%  19.4 KiB  14.6 KiB/s ETA:  0 s [=========================================]\n",
      "Decompressing /home/fyt/.hanlp/thirdparty/file.hankcs.com/corpus/char_table.json.zip to /home/fyt/.hanlp/thirdparty/file.hankcs.com/corpus\n",
      "                                             \r"
     ]
    }
   ],
   "source": [
    "ner = hanlp.load(hanlp.pretrained.mtl.CLOSE_TOK_POS_NER_SRL_DEP_SDP_CON_ELECTRA_BASE_ZH)"
   ],
   "metadata": {
    "collapsed": false,
    "pycharm": {
     "name": "#%%\n"
    }
   }
  },
  {
   "cell_type": "code",
   "execution_count": 13,
   "outputs": [
    {
     "name": "stdout",
     "output_type": "stream",
     "text": [
      "{\n",
      "  \"tok/fine\": [\n",
      "    [\"2021年\", \"HanLPv2.1\", \"为\", \"生产\", \"环境\", \"带来\", \"次\", \"世代\", \"最\", \"先进\", \"的\", \"多\", \"语种\", \"NLP\", \"技术\", \"。\"],\n",
      "    [\"阿婆主\", \"来到\", \"北京\", \"立方庭\", \"参观\", \"自然\", \"语义\", \"科技\", \"公司\", \"。\"]\n",
      "  ],\n",
      "  \"ner/msra\": [\n",
      "    [[\"2021年\", \"DATE\", 0, 1], [\"HanLPv2.1\", \"WWW\", 1, 2]],\n",
      "    [[\"北京\", \"LOCATION\", 2, 3], [\"立方庭\", \"LOCATION\", 3, 4], [\"自然语义科技公司\", \"ORGANIZATION\", 5, 9]]\n",
      "  ],\n",
      "  \"ner/pku\": [\n",
      "    [],\n",
      "    [[\"北京立方庭\", \"ns\", 2, 4], [\"自然语义科技公司\", \"nt\", 5, 9]]\n",
      "  ],\n",
      "  \"ner/ontonotes\": [\n",
      "    [[\"2021年\", \"DATE\", 0, 1], [\"HanLPv2.1\", \"ORG\", 1, 2]],\n",
      "    [[\"北京立方庭\", \"FAC\", 2, 4], [\"自然语义科技公司\", \"ORG\", 5, 9]]\n",
      "  ]\n",
      "}\n"
     ]
    }
   ],
   "source": [
    "print(ner(['2021年HanLPv2.1为生产环境带来次世代最先进的多语种NLP技术。', '阿婆主来到北京立方庭参观自然语义科技公司。'], tasks='ner*'))"
   ],
   "metadata": {
    "collapsed": false,
    "pycharm": {
     "name": "#%%\n"
    }
   }
  },
  {
   "cell_type": "code",
   "execution_count": 17,
   "outputs": [],
   "source": [
    "resp = ner(filter_str(2), tasks='ner/ontonotes')"
   ],
   "metadata": {
    "collapsed": false,
    "pycharm": {
     "name": "#%%\n"
    }
   }
  },
  {
   "cell_type": "code",
   "execution_count": 19,
   "outputs": [],
   "source": [
    "resp2 = ner(test_load_list[2]['fact'], task='ner/ontonotes')"
   ],
   "metadata": {
    "collapsed": false,
    "pycharm": {
     "name": "#%%\n"
    }
   }
  },
  {
   "cell_type": "code",
   "execution_count": 20,
   "outputs": [
    {
     "data": {
      "text/plain": "{'tok/fine': ['原告',\n  '崔秀英',\n  '诉称',\n  '，',\n  '2013年',\n  '9月',\n  '1日',\n  '，',\n  '被告',\n  '刘润伟',\n  '驾驶',\n  '鲁',\n  'XXXXX',\n  '（',\n  '鲁',\n  'XXXXX',\n  '挂',\n  '）',\n  '号',\n  '货车',\n  '沿',\n  '国道',\n  '206',\n  '线',\n  '由',\n  '南',\n  '向',\n  '北',\n  '行驶',\n  '至',\n  '国道',\n  '206',\n  '线',\n  '334',\n  '公里',\n  '＋',\n  '500',\n  '米',\n  '处',\n  '时',\n  '，',\n  '与',\n  '赵同庆',\n  '驾驶',\n  '的',\n  '鲁',\n  'XXXXX',\n  '号',\n  '三轮车',\n  '（',\n  '车上',\n  '乘坐',\n  '崔秀英',\n  '、',\n  '刘玉强',\n  '、',\n  '杨灿珠',\n  '、',\n  '张先升',\n  '、',\n  '于常美',\n  '、',\n  '张渤海',\n  '）',\n  '相撞',\n  '后',\n  '，',\n  '又',\n  '与',\n  '张上海',\n  '驾驶',\n  '的',\n  '鲁',\n  'XXXXX',\n  '（',\n  '鲁',\n  'XXXXX',\n  '挂',\n  '）',\n  '号',\n  '货车',\n  '相撞',\n  '，',\n  '致',\n  '原告',\n  '受伤',\n  '，',\n  '车辆',\n  '受损',\n  '。',\n  '安丘市',\n  '公安局',\n  '交通',\n  '警察',\n  '大队',\n  '认定',\n  '，',\n  '被告',\n  '刘润伟',\n  '承担',\n  '事故',\n  '的',\n  '主要',\n  '责任',\n  '，',\n  '赵同庆',\n  '承担',\n  '事故',\n  '的',\n  '次要',\n  '责任',\n  '，',\n  '被告',\n  '张上海',\n  '、',\n  '原告',\n  '崔秀英',\n  '无',\n  '事故',\n  '责任',\n  '。',\n  '二',\n  '肇事',\n  '车辆',\n  '登记',\n  '车主',\n  '分别',\n  '为',\n  '安丘市',\n  '万鑫',\n  '物流',\n  '有限',\n  '公司',\n  '、',\n  '淄博',\n  '天炀',\n  '物流',\n  '有限',\n  '公司',\n  '，',\n  '分别',\n  '投保',\n  '于',\n  '二',\n  '被告',\n  '保险',\n  '公司',\n  '。',\n  '为此',\n  '，',\n  '原告',\n  '诉',\n  '至',\n  '本院',\n  '，',\n  '请求',\n  '依法',\n  '判令',\n  '被告',\n  '赔偿',\n  '原告',\n  '医疗费',\n  '、',\n  '护理费',\n  '等',\n  '共计',\n  '10000',\n  '元',\n  '；',\n  '诉讼',\n  '费用',\n  '由',\n  '被告',\n  '负担',\n  '。',\n  '后',\n  '变更',\n  '诉讼',\n  '请求',\n  '，',\n  '要求',\n  '赔偿',\n  '医疗费',\n  '等',\n  '损失',\n  '共计',\n  '9605.55',\n  '元',\n  '。',\n  '被告',\n  '刘润伟',\n  '、',\n  '王建法',\n  '、',\n  '安丘市',\n  '万鑫',\n  '物流',\n  '有限',\n  '公司',\n  '共同',\n  '辩称',\n  '，',\n  '发生',\n  '事故',\n  '属实',\n  '，',\n  '对',\n  '事故',\n  '责任',\n  '划分',\n  '无',\n  '异议',\n  '。',\n  '鲁',\n  'XXXXX',\n  '（',\n  '鲁',\n  'XXXXX',\n  '挂',\n  '）',\n  '车辆',\n  '的',\n  '实际',\n  '车主',\n  '是',\n  '王建法',\n  '，',\n  '刘润伟',\n  '是',\n  '王建法',\n  '雇佣',\n  '的',\n  '驾驶员',\n  '，',\n  '该',\n  '车辆',\n  '挂靠',\n  '于',\n  '安丘市',\n  '万鑫',\n  '物流',\n  '有限',\n  '公司',\n  '。',\n  '原告',\n  '的',\n  '损失',\n  '保险',\n  '公司',\n  '在',\n  '交强险',\n  '范围',\n  '内',\n  '赔偿',\n  '后',\n  '，',\n  '剩余',\n  '部分',\n  '应',\n  '由',\n  '王建法',\n  '承担',\n  '。',\n  '被告',\n  '太平洋',\n  '保险',\n  '安丘',\n  '支公司',\n  '辩称',\n  '，',\n  '发生',\n  '事故',\n  '属实',\n  '，',\n  '肇事',\n  '车辆',\n  '投保',\n  '交强险',\n  '属实',\n  '，',\n  '但',\n  '投保',\n  '车辆',\n  '更改',\n  '车牌号',\n  '未经',\n  '公司',\n  '改批',\n  '，',\n  '所以',\n  '不予',\n  '赔偿',\n  '。',\n  '被告',\n  '张上海',\n  '、',\n  '淄博',\n  '天炀',\n  '物流',\n  '有限',\n  '公司',\n  '、',\n  '中国',\n  '人保',\n  '博山',\n  '支公司',\n  '未',\n  '到庭',\n  '，',\n  '亦',\n  '未',\n  '提交',\n  '书面',\n  '答辩状',\n  '。',\n  '经',\n  '审理',\n  '查明',\n  '，',\n  '2013年',\n  '9月',\n  '1日',\n  '7时',\n  '47分',\n  '许',\n  '，',\n  '被告',\n  '刘润伟',\n  '驾驶',\n  '鲁',\n  'XXXXX',\n  '（',\n  '鲁',\n  'XXXXX',\n  '挂',\n  '）',\n  '号',\n  '货车',\n  '沿',\n  '国道',\n  '206',\n  '线',\n  '由',\n  '南',\n  '向',\n  '北',\n  '行驶',\n  '至',\n  '国道',\n  '206',\n  '线',\n  '334',\n  '公里',\n  '＋',\n  '500',\n  '米',\n  '处',\n  '时',\n  '，',\n  '与',\n  '前方',\n  '顺行',\n  '左',\n  '转弯',\n  '赵同庆',\n  '驾驶',\n  '的',\n  '鲁',\n  'XXXXX号',\n  '三轮车',\n  '（',\n  '车斗',\n  '内',\n  '乘坐',\n  '崔秀英',\n  '、',\n  '刘玉强',\n  '、',\n  '杨灿珠',\n  '、',\n  '于常美',\n  '、',\n  '张先升',\n  '、',\n  '张渤海',\n  '）',\n  '相撞',\n  '，',\n  '鲁',\n  'XXXXX',\n  '号',\n  '三轮车',\n  '前侧',\n  '又',\n  '与',\n  '沿',\n  '国道',\n  '206',\n  '线',\n  '由',\n  '北',\n  '向',\n  '南',\n  '行驶',\n  '被告',\n  '张上海',\n  '驾驶',\n  '的',\n  '鲁',\n  'XXXXX',\n  '（',\n  '鲁',\n  'XXXXX',\n  '挂',\n  '）',\n  '号',\n  '货车',\n  '左侧',\n  '相撞',\n  '，',\n  '致',\n  '原告',\n  '及',\n  '赵同庆',\n  '、',\n  '刘玉强',\n  '、',\n  '杨灿珠',\n  '、',\n  '张先升',\n  '、',\n  '于常美',\n  '、',\n  '张渤海',\n  '受伤',\n  '，',\n  '三',\n  '车',\n  '受损',\n  '。',\n  '安丘市',\n  '公安局',\n  '交通',\n  '警察',\n  '大队',\n  '认定',\n  '，',\n  '被告',\n  '刘润伟',\n  '驾驶',\n  '机动车',\n  '未',\n  '保持',\n  '安全',\n  '车速',\n  '，',\n  '承担',\n  '事故',\n  '的',\n  '主要',\n  '责任',\n  '，',\n  '赵同庆',\n  '无',\n  '证',\n  '驾驶',\n  '机动车',\n  '转弯',\n  '未',\n  '确保',\n  '安全',\n  '承担',\n  '事故',\n  '的',\n  '次要',\n  '责任',\n  '，',\n  '被告',\n  '张上海',\n  '、',\n  '原告',\n  '崔秀英',\n  '无',\n  '事故',\n  '责任',\n  '。',\n  '事故',\n  '发生',\n  '后',\n  '，',\n  '原告',\n  '入',\n  '安丘市',\n  '中医院',\n  '住院',\n  '治疗',\n  '12',\n  '天',\n  '，',\n  '经',\n  '诊断',\n  '伤情',\n  '为',\n  '：',\n  '左踝部皮',\n  '裂伤',\n  '、',\n  '多',\n  '处',\n  '皮',\n  '擦伤',\n  '。',\n  '原告',\n  '支出',\n  '医疗费',\n  '5459.31',\n  '元',\n  '。',\n  '2014年',\n  '1月',\n  '21日',\n  '，',\n  '该',\n  '诊疗',\n  '医院',\n  '为',\n  '原告',\n  '出具',\n  '伤情',\n  '证明',\n  '：',\n  '原告',\n  '住院',\n  '期间',\n  '需',\n  '1',\n  '人',\n  '陪护',\n  '，',\n  '出院',\n  '后',\n  '继续',\n  '休息',\n  '治疗',\n  '1',\n  '个',\n  '月',\n  '。',\n  '另',\n  '查明',\n  '，',\n  '被告',\n  '刘润伟',\n  '驾驶',\n  '的',\n  '鲁',\n  'XXXXX',\n  '（',\n  '鲁',\n  'XXXXX',\n  '挂',\n  '）',\n  '号',\n  '货车',\n  '车主',\n  '为',\n  '被告',\n  '王建法',\n  '，',\n  '刘润伟',\n  '是',\n  '王建法',\n  '雇佣',\n  '的',\n  '驾驶员',\n  '，',\n  '该',\n  '车辆',\n  '挂靠',\n  '于',\n  '安丘市',\n  '万鑫',\n  '物流',\n  '有限',\n  '公司',\n  '。',\n  '鲁',\n  'XXXXX',\n  '号',\n  '车辆',\n  '在',\n  '被告',\n  '太平洋',\n  '保险',\n  '安丘',\n  '支公司',\n  '投保',\n  '了',\n  '机动车',\n  '交通',\n  '事故',\n  '责任',\n  '强制',\n  '保险',\n  '，',\n  '责任',\n  '限额',\n  '为',\n  '122000',\n  '元',\n  '，',\n  '其中',\n  '死亡',\n  '伤残',\n  '赔偿',\n  '限额',\n  '110000',\n  '元',\n  '，',\n  '医疗',\n  '费用',\n  '赔偿',\n  '限额',\n  '10000',\n  '元',\n  '，',\n  '财产',\n  '损失',\n  '赔偿',\n  '限额',\n  '2000',\n  '元',\n  '。',\n  '保险',\n  '期间',\n  '自',\n  '2013年',\n  '6月',\n  '10日',\n  '零时',\n  '起',\n  '至',\n  '2014年',\n  '6月',\n  '9日',\n  '24时',\n  '止',\n  '。',\n  '被告',\n  '张上海',\n  '驾驶',\n  '的',\n  '车主',\n  '为',\n  '淄博',\n  '天炀',\n  '物流',\n  '有限',\n  '公司',\n  '，',\n  '鲁',\n  'XXXXX号',\n  '货车',\n  '在',\n  '中国',\n  '人保',\n  '博山',\n  '支公司',\n  '投保',\n  '了',\n  '机动车',\n  '交通',\n  '事故',\n  '责任',\n  '强制',\n  '保险',\n  '，',\n  '责任',\n  '限额',\n  '为',\n  '122000',\n  '元',\n  '，',\n  '其中',\n  '无',\n  '责任',\n  '死亡',\n  '伤残',\n  '赔偿',\n  '限额',\n  '11000',\n  '元',\n  '，',\n  '无',\n  '责任',\n  '医疗',\n  '费用',\n  '赔偿',\n  '限额',\n  '1000',\n  '元',\n  '，',\n  '无',\n  '责任',\n  '财产',\n  '损失',\n  '赔偿',\n  '限额',\n  '100',\n  '元',\n  '。',\n  '保险',\n  '期间',\n  '自',\n  '2012年',\n  '11月',\n  '9日',\n  '零时',\n  '起',\n  '至',\n  '2013年',\n  '11月',\n  '8日',\n  '24时',\n  '止',\n  '。',\n  '杨灿珠',\n  '、',\n  '张先升',\n  '、',\n  '于常美',\n  '、',\n  '赵同庆',\n  '已',\n  '向',\n  '本院',\n  '提起',\n  '诉讼',\n  '，',\n  '张先升',\n  '花费',\n  '医疗费',\n  '及',\n  '住院',\n  '伙食',\n  '补助费',\n  '共计',\n  '6203.82',\n  '元',\n  '，',\n  '赵同庆',\n  '花费',\n  '医疗费',\n  '及',\n  '住院',\n  '伙食',\n  '补助费',\n  '共计',\n  '11492.16',\n  '元',\n  '，',\n  '于常美',\n  '花费',\n  '医疗费',\n  '及',\n  '住院',\n  '伙食',\n  '补助费',\n  '共计',\n  '5628.42',\n  '元',\n  '。',\n  '杨灿珠',\n  '已',\n  '同',\n  '太平洋',\n  '保险',\n  '安丘',\n  '支公司',\n  '达成',\n  '调解',\n  '，',\n  '太平洋',\n  '保险',\n  '安丘',\n  '支',\n  '公司',\n  '医疗费',\n  '赔偿',\n  '限额',\n  '尚',\n  '余',\n  '8000',\n  '元',\n  '，',\n  '死亡',\n  '伤残',\n  '赔偿',\n  '限额',\n  '107556',\n  '元',\n  '。',\n  '事故',\n  '发生',\n  '后',\n  '，',\n  '被告',\n  '王建法',\n  '为',\n  '原告',\n  '垫付',\n  '医疗',\n  '费用',\n  '3500',\n  '元',\n  '。',\n  '原',\n  '、',\n  '被告',\n  '一致',\n  '同意',\n  '该',\n  '垫付款',\n  '双方',\n  '自行',\n  '处理',\n  '，',\n  '不',\n  '需',\n  '原告',\n  '返还',\n  '。',\n  '还',\n  '查明',\n  '，',\n  '原告',\n  '崔秀英',\n  '为',\n  '农村',\n  '居民',\n  '。',\n  '再',\n  '查明',\n  '，',\n  '山东省',\n  '统计局',\n  '公布',\n  '的',\n  '2012',\n  '年度',\n  '城镇',\n  '居民',\n  '人均',\n  '可',\n  '支配',\n  '收入',\n  '为',\n  '25755',\n  '元／年',\n  '，',\n  '农村',\n  '居民',\n  '人均',\n  '纯收入',\n  '为',\n  '9446',\n  '元／年',\n  '。',\n  '2013年',\n  '12月',\n  '28日',\n  '，',\n  '原告',\n  '诉',\n  '至',\n  '本院',\n  '，',\n  '主张',\n  '因',\n  '该',\n  '事故',\n  '造成',\n  '如下',\n  '损失',\n  '：',\n  '医疗费',\n  '5459.31',\n  '元',\n  '、',\n  '误工费',\n  '2963.52',\n  '元',\n  '、',\n  '护理费',\n  '846.72',\n  '元',\n  '、',\n  '住院',\n  '伙食',\n  '补助费',\n  '36',\n  '元',\n  '、',\n  '交通费',\n  '300',\n  '元',\n  '，',\n  '共计',\n  '9605.55',\n  '元',\n  '。',\n  '其中',\n  '，',\n  '被告',\n  '认可',\n  '的',\n  '损失',\n  '有',\n  '：',\n  '医疗费',\n  '5459.31',\n  '元',\n  '、',\n  '住院',\n  '伙食',\n  '补助费',\n  '36',\n  '元',\n  '。',\n  '上述',\n  '事实',\n  '，',\n  '有',\n  '原告',\n  '陈述',\n  '、',\n  '被告',\n  '答辩',\n  '，',\n  '原告',\n  '提供',\n  '的',\n  '交通',\n  '事故',\n  '认定书',\n  '、',\n  '住院',\n  '病历',\n  '、',\n  '医疗费',\n  '单据',\n  '、',\n  '汇总',\n  '清单',\n  '、',\n  '伤情',\n  '证明',\n  '、',\n  '车辆',\n  '挂靠',\n  '协议',\n  '，',\n  '机动车',\n  '行驶证',\n  '、',\n  '驾驶证',\n  '、',\n  '交强险',\n  '保单',\n  '等',\n  '已',\n  '经',\n  '当事人',\n  '质证',\n  '和',\n  '本院',\n  '审查',\n  '的',\n  '证据',\n  '在',\n  '案',\n  '为',\n  '证',\n  '。'],\n 'tok/coarse': ['原告',\n  '崔秀英',\n  '诉称',\n  '，',\n  '2013年',\n  '9月',\n  '1日',\n  '，',\n  '被告',\n  '刘润伟',\n  '驾驶',\n  '鲁',\n  'XXXXX',\n  '（',\n  '鲁',\n  'XXXXX',\n  '挂',\n  '）',\n  '号',\n  '货车',\n  '沿',\n  '国道',\n  '206',\n  '线',\n  '由',\n  '南',\n  '向',\n  '北',\n  '行驶',\n  '至',\n  '国道206',\n  '线',\n  '334',\n  '公里',\n  '＋',\n  '500',\n  '米',\n  '处',\n  '时',\n  '，',\n  '与',\n  '赵同庆',\n  '驾驶',\n  '的',\n  '鲁',\n  'XXXXX',\n  '号',\n  '三轮车',\n  '（',\n  '车上',\n  '乘坐',\n  '崔秀英',\n  '、',\n  '刘玉强',\n  '、',\n  '杨灿珠',\n  '、',\n  '张先升',\n  '、',\n  '于常美',\n  '、',\n  '张渤海',\n  '）',\n  '相撞',\n  '后',\n  '，',\n  '又',\n  '与',\n  '张上海',\n  '驾驶',\n  '的',\n  '鲁',\n  'XXXXX',\n  '（',\n  '鲁',\n  'XXXXX',\n  '挂',\n  '）',\n  '号',\n  '货车',\n  '相撞',\n  '，',\n  '致',\n  '原告',\n  '受伤',\n  '，',\n  '车辆',\n  '受损',\n  '。',\n  '安丘市公安局交通警察大队',\n  '认定',\n  '，',\n  '被告',\n  '刘润伟',\n  '承担',\n  '事故',\n  '的',\n  '主要',\n  '责任',\n  '，',\n  '赵同庆',\n  '承担',\n  '事故',\n  '的',\n  '次要',\n  '责任',\n  '，',\n  '被告',\n  '张上海',\n  '、',\n  '原告',\n  '崔秀英',\n  '无',\n  '事故',\n  '责任',\n  '。',\n  '二',\n  '肇事',\n  '车辆',\n  '登记',\n  '车主',\n  '分别',\n  '为',\n  '安丘市万鑫物流有限公司',\n  '、',\n  '淄博天炀物流有限公司',\n  '，',\n  '分别',\n  '投保',\n  '于',\n  '二',\n  '被告',\n  '保险公司',\n  '。',\n  '为此',\n  '，',\n  '原告',\n  '诉',\n  '至',\n  '本院',\n  '，',\n  '请求',\n  '依法',\n  '判令',\n  '被告',\n  '赔偿',\n  '原告',\n  '医疗费',\n  '、',\n  '护理费',\n  '等',\n  '共计',\n  '10000',\n  '元',\n  '；',\n  '诉讼',\n  '费用',\n  '由',\n  '被告',\n  '负担',\n  '。',\n  '后',\n  '变更',\n  '诉讼',\n  '请求',\n  '，',\n  '要求',\n  '赔偿',\n  '医疗费',\n  '等',\n  '损失',\n  '共计',\n  '9605.55',\n  '元',\n  '。',\n  '被告',\n  '刘润伟',\n  '、',\n  '王建法',\n  '、',\n  '安丘市万鑫物流有限公司',\n  '共同',\n  '辩称',\n  '，',\n  '发生',\n  '事故',\n  '属实',\n  '，',\n  '对',\n  '事故',\n  '责任',\n  '划分',\n  '无',\n  '异议',\n  '。',\n  '鲁',\n  'XXXXX',\n  '（',\n  '鲁',\n  'XXXXX',\n  '挂',\n  '）',\n  '车辆',\n  '的',\n  '实际',\n  '车主',\n  '是',\n  '王建法',\n  '，',\n  '刘润伟',\n  '是',\n  '王建法',\n  '雇佣',\n  '的',\n  '驾驶员',\n  '，',\n  '该',\n  '车辆',\n  '挂靠',\n  '于',\n  '安丘市万鑫物流有限公司',\n  '。',\n  '原告',\n  '的',\n  '损失保险公司',\n  '在',\n  '交强险',\n  '范围',\n  '内',\n  '赔偿',\n  '后',\n  '，',\n  '剩余',\n  '部分',\n  '应',\n  '由',\n  '王建法',\n  '承担',\n  '。',\n  '被告',\n  '太平洋保险安丘支公司',\n  '辩称',\n  '，',\n  '发生',\n  '事故',\n  '属实',\n  '，',\n  '肇事',\n  '车辆',\n  '投保',\n  '交',\n  '强险',\n  '属实',\n  '，',\n  '但',\n  '投保',\n  '车辆',\n  '更改',\n  '车牌号',\n  '未经',\n  '公司',\n  '改批',\n  '，',\n  '所以',\n  '不予',\n  '赔偿',\n  '。',\n  '被告',\n  '张上海',\n  '、',\n  '淄博天炀物流有限公司',\n  '、',\n  '中国人保博山支公司',\n  '未',\n  '到庭',\n  '，',\n  '亦',\n  '未',\n  '提交',\n  '书面',\n  '答辩状',\n  '。',\n  '经',\n  '审理',\n  '查明',\n  '，',\n  '2013年',\n  '9月',\n  '1日',\n  '7时',\n  '47分',\n  '许',\n  '，',\n  '被告',\n  '刘润伟',\n  '驾驶',\n  '鲁',\n  'XXXXX',\n  '（',\n  '鲁',\n  'XXXXX',\n  '挂',\n  '）',\n  '号',\n  '货车',\n  '沿',\n  '国道206线',\n  '由',\n  '南',\n  '向',\n  '北',\n  '行驶',\n  '至',\n  '国道',\n  '206',\n  '线',\n  '334',\n  '公里',\n  '＋',\n  '500',\n  '米',\n  '处',\n  '时',\n  '，',\n  '与',\n  '前方顺行',\n  '左',\n  '转弯',\n  '赵同庆',\n  '驾驶',\n  '的',\n  '鲁',\n  'XXXXX号',\n  '三轮车',\n  '（',\n  '车斗',\n  '内',\n  '乘坐',\n  '崔秀英',\n  '、',\n  '刘玉强',\n  '、',\n  '杨灿珠',\n  '、',\n  '于常美',\n  '、',\n  '张先升',\n  '、',\n  '张渤海',\n  '）',\n  '相撞',\n  '，',\n  '鲁XXXXX号',\n  '三轮车',\n  '前侧',\n  '又',\n  '与',\n  '沿',\n  '国道206',\n  '线',\n  '由',\n  '北',\n  '向',\n  '南',\n  '行驶',\n  '被告',\n  '张上海',\n  '驾驶',\n  '的',\n  '鲁',\n  'XXXXX',\n  '（',\n  '鲁',\n  'XXXXX',\n  '挂',\n  '）',\n  '号',\n  '货车',\n  '左侧',\n  '相撞',\n  '，',\n  '致',\n  '原告',\n  '及',\n  '赵同庆',\n  '、',\n  '刘玉强',\n  '、',\n  '杨灿珠',\n  '、',\n  '张先升',\n  '、',\n  '于常美',\n  '、',\n  '张渤海',\n  '受伤',\n  '，',\n  '三',\n  '车',\n  '受损',\n  '。',\n  '安丘市公安局交通警察大队',\n  '认定',\n  '，',\n  '被告',\n  '刘润伟',\n  '驾驶',\n  '机动车',\n  '未',\n  '保持',\n  '安全',\n  '车速',\n  '，',\n  '承担',\n  '事故',\n  '的',\n  '主要',\n  '责任',\n  '，',\n  '赵同庆',\n  '无',\n  '证',\n  '驾驶',\n  '机动车',\n  '转弯',\n  '未',\n  '确保',\n  '安全',\n  '承担',\n  '事故',\n  '的',\n  '次要',\n  '责任',\n  '，',\n  '被告',\n  '张上海',\n  '、',\n  '原告',\n  '崔秀英',\n  '无',\n  '事故',\n  '责任',\n  '。',\n  '事故',\n  '发生',\n  '后',\n  '，',\n  '原告',\n  '入',\n  '安丘市中医院',\n  '住院',\n  '治疗',\n  '12',\n  '天',\n  '，',\n  '经',\n  '诊断',\n  '伤情',\n  '为',\n  '：',\n  '左踝',\n  '部',\n  '皮',\n  '裂伤',\n  '、',\n  '多',\n  '处',\n  '皮',\n  '擦伤',\n  '。',\n  '原告',\n  '支出',\n  '医疗费',\n  '5459.31',\n  '元',\n  '。',\n  '2014年',\n  '1月',\n  '21日',\n  '，',\n  '该',\n  '诊疗',\n  '医院',\n  '为',\n  '原告',\n  '出具',\n  '伤情',\n  '证明',\n  '：',\n  '原告',\n  '住院',\n  '期间',\n  '需',\n  '1',\n  '人',\n  '陪护',\n  '，',\n  '出院',\n  '后',\n  '继续',\n  '休息',\n  '治疗',\n  '1',\n  '个',\n  '月',\n  '。',\n  '另',\n  '查明',\n  '，',\n  '被告',\n  '刘润伟',\n  '驾驶',\n  '的',\n  '鲁',\n  'XXXXX',\n  '（',\n  '鲁',\n  'XXXXX',\n  '挂',\n  '）',\n  '号',\n  '货车',\n  '车主',\n  '为',\n  '被告',\n  '王建法',\n  '，',\n  '刘润伟',\n  '是',\n  '王建法',\n  '雇佣',\n  '的',\n  '驾驶员',\n  '，',\n  '该',\n  '车辆',\n  '挂靠',\n  '于',\n  '安丘市万鑫物流有限公司',\n  '。',\n  '鲁',\n  'XXXXX',\n  '号',\n  '车辆',\n  '在',\n  '被告',\n  '太平洋保险安丘支公司',\n  '投保',\n  '了',\n  '机动车',\n  '交通',\n  '事故',\n  '责任',\n  '强制',\n  '保险',\n  '，',\n  '责任',\n  '限额',\n  '为',\n  '122000',\n  '元',\n  '，',\n  '其中',\n  '死亡',\n  '伤残',\n  '赔偿',\n  '限额',\n  '110000',\n  '元',\n  '，',\n  '医疗',\n  '费用',\n  '赔偿',\n  '限额',\n  '10000',\n  '元',\n  '，',\n  '财产',\n  '损失',\n  '赔偿',\n  '限额',\n  '2000',\n  '元',\n  '。',\n  '保险',\n  '期间',\n  '自',\n  '2013年',\n  '6月',\n  '10日',\n  '零时',\n  '起',\n  '至',\n  '2014年',\n  '6月',\n  '9日',\n  '24时',\n  '止',\n  '。',\n  '被告',\n  '张上海',\n  '驾驶',\n  '的',\n  '车主',\n  '为',\n  '淄博天炀物流有限公司',\n  '，',\n  '鲁',\n  'XXXXX号',\n  '货车',\n  '在',\n  '中国人保博山支公司',\n  '投保',\n  '了',\n  '机动车',\n  '交通',\n  '事故',\n  '责任',\n  '强制',\n  '保险',\n  '，',\n  '责任',\n  '限额',\n  '为',\n  '122000',\n  '元',\n  '，',\n  '其中',\n  '无',\n  '责任',\n  '死亡',\n  '伤残',\n  '赔偿',\n  '限额',\n  '11000',\n  '元',\n  '，',\n  '无',\n  '责任',\n  '医疗',\n  '费用',\n  '赔偿',\n  '限额',\n  '1000',\n  '元',\n  '，',\n  '无',\n  '责任',\n  '财产',\n  '损失',\n  '赔偿',\n  '限额',\n  '100',\n  '元',\n  '。',\n  '保险',\n  '期间',\n  '自',\n  '2012年',\n  '11月',\n  '9日',\n  '零时',\n  '起',\n  '至',\n  '2013年',\n  '11月',\n  '8日',\n  '24时',\n  '止',\n  '。',\n  '杨灿珠',\n  '、',\n  '张先升',\n  '、',\n  '于常美',\n  '、',\n  '赵同庆',\n  '已',\n  '向',\n  '本院',\n  '提起',\n  '诉讼',\n  '，',\n  '张先升',\n  '花费',\n  '医疗费',\n  '及',\n  '住院',\n  '伙食',\n  '补助费',\n  '共计',\n  '6203.82',\n  '元',\n  '，',\n  '赵同庆',\n  '花费',\n  '医疗费',\n  '及',\n  '住院',\n  '伙食',\n  '补助费',\n  '共计',\n  '11492.16',\n  '元',\n  '，',\n  '于常美',\n  '花费',\n  '医疗费',\n  '及',\n  '住院',\n  '伙食',\n  '补助费',\n  '共计',\n  '5628.42',\n  '元',\n  '。',\n  '杨灿珠',\n  '已',\n  '同',\n  '太平洋保险安丘支公司',\n  '达成',\n  '调解',\n  '，',\n  '太平洋保险安丘支公司',\n  '医疗费',\n  '赔偿',\n  '限额',\n  '尚',\n  '余',\n  '8000',\n  '元',\n  '，',\n  '死亡',\n  '伤残',\n  '赔偿',\n  '限额',\n  '107556',\n  '元',\n  '。',\n  '事故',\n  '发生',\n  '后',\n  '，',\n  '被告',\n  '王建法',\n  '为',\n  '原告',\n  '垫付',\n  '医疗',\n  '费用',\n  '3500',\n  '元',\n  '。',\n  '原',\n  '、',\n  '被告',\n  '一致',\n  '同意',\n  '该',\n  '垫付款',\n  '双方',\n  '自行',\n  '处理',\n  '，',\n  '不',\n  '需',\n  '原告',\n  '返还',\n  '。',\n  '还',\n  '查明',\n  '，',\n  '原告',\n  '崔秀英',\n  '为',\n  '农村',\n  '居民',\n  '。',\n  '再',\n  '查明',\n  '，',\n  '山东省统计局',\n  '公布',\n  '的',\n  '2012',\n  '年度',\n  '城镇',\n  '居民',\n  '人均',\n  '可',\n  '支配',\n  '收入',\n  '为',\n  '25755',\n  '元／年',\n  '，',\n  '农村',\n  '居民',\n  '人均',\n  '纯收入',\n  '为',\n  '9446',\n  '元／年',\n  '。',\n  '2013年',\n  '12月',\n  '28日',\n  '，',\n  '原告',\n  '诉',\n  '至',\n  '本院',\n  '，',\n  '主张',\n  '因',\n  '该',\n  '事故',\n  '造成',\n  '如下',\n  '损失',\n  '：',\n  '医疗费',\n  '5459.31',\n  '元',\n  '、',\n  '误工费',\n  '2963.52',\n  '元',\n  '、',\n  '护理费',\n  '846.72',\n  '元',\n  '、',\n  '住院',\n  '伙食',\n  '补助费',\n  '36',\n  '元',\n  '、',\n  '交通费',\n  '300',\n  '元',\n  '，',\n  '共计',\n  '9605.55',\n  '元',\n  '。',\n  '其中',\n  '，',\n  '被告',\n  '认可',\n  '的',\n  '损失',\n  '有',\n  '：',\n  '医疗费',\n  '5459.31',\n  '元',\n  '、',\n  '住院',\n  '伙食',\n  '补助费',\n  '36',\n  '元',\n  '。',\n  '上述',\n  '事实',\n  '，',\n  '有',\n  '原告',\n  '陈述',\n  '、',\n  '被告',\n  '答辩',\n  '，',\n  '原告',\n  '提供',\n  '的',\n  '交通',\n  '事故',\n  '认定书',\n  '、',\n  '住院',\n  '病历',\n  '、',\n  '医疗费',\n  '单据',\n  '、',\n  '汇总',\n  '清单',\n  '、',\n  '伤情',\n  '证明',\n  '、',\n  '车辆',\n  '挂靠',\n  '协议',\n  '，',\n  '机动车',\n  '行驶证',\n  '、',\n  '驾驶证',\n  '、',\n  '交强险',\n  '保单',\n  '等',\n  '已',\n  '经',\n  '当事人',\n  '质证',\n  '和',\n  '本院',\n  '审查',\n  '的',\n  '证据',\n  '在',\n  '案',\n  '为',\n  '证',\n  '。'],\n 'pos/ctb': ['NN',\n  'NR',\n  'VV',\n  'PU',\n  'NT',\n  'NT',\n  'NT',\n  'PU',\n  'NN',\n  'NR',\n  'VV',\n  'NR',\n  'NR',\n  'PU',\n  'NR',\n  'NR',\n  'VV',\n  'PU',\n  'M',\n  'NN',\n  'P',\n  'NN',\n  'OD',\n  'M',\n  'P',\n  'NN',\n  'P',\n  'NN',\n  'VV',\n  'VV',\n  'NN',\n  'OD',\n  'M',\n  'CD',\n  'M',\n  'PU',\n  'CD',\n  'M',\n  'NN',\n  'LC',\n  'PU',\n  'P',\n  'NR',\n  'VV',\n  'DEC',\n  'NR',\n  'NR',\n  'NN',\n  'NN',\n  'PU',\n  'NN',\n  'VV',\n  'NR',\n  'PU',\n  'NR',\n  'PU',\n  'NR',\n  'PU',\n  'NR',\n  'PU',\n  'NR',\n  'PU',\n  'NR',\n  'PU',\n  'VV',\n  'LC',\n  'PU',\n  'AD',\n  'P',\n  'NR',\n  'VV',\n  'DEC',\n  'NR',\n  'NR',\n  'PU',\n  'NR',\n  'NR',\n  'VV',\n  'PU',\n  'M',\n  'NN',\n  'VV',\n  'PU',\n  'VV',\n  'NN',\n  'VV',\n  'PU',\n  'NN',\n  'VV',\n  'PU',\n  'NR',\n  'NN',\n  'NN',\n  'NN',\n  'NN',\n  'VV',\n  'PU',\n  'NN',\n  'NR',\n  'VV',\n  'NN',\n  'DEG',\n  'JJ',\n  'NN',\n  'PU',\n  'NR',\n  'VV',\n  'NN',\n  'DEG',\n  'JJ',\n  'NN',\n  'PU',\n  'NN',\n  'NR',\n  'PU',\n  'NN',\n  'NR',\n  'VE',\n  'NN',\n  'NN',\n  'PU',\n  'OD',\n  'NN',\n  'NN',\n  'NN',\n  'NN',\n  'AD',\n  'VC',\n  'NR',\n  'NR',\n  'NN',\n  'JJ',\n  'NN',\n  'PU',\n  'NR',\n  'NR',\n  'NN',\n  'JJ',\n  'NN',\n  'PU',\n  'AD',\n  'VV',\n  'P',\n  'OD',\n  'NN',\n  'NN',\n  'NN',\n  'PU',\n  'AD',\n  'PU',\n  'NN',\n  'VV',\n  'VV',\n  'NN',\n  'PU',\n  'VV',\n  'AD',\n  'VV',\n  'NN',\n  'VV',\n  'NN',\n  'NN',\n  'PU',\n  'NN',\n  'ETC',\n  'AD',\n  'CD',\n  'M',\n  'PU',\n  'NN',\n  'NN',\n  'P',\n  'NN',\n  'VV',\n  'PU',\n  'AD',\n  'VV',\n  'NN',\n  'NN',\n  'PU',\n  'VV',\n  'VV',\n  'NN',\n  'ETC',\n  'NN',\n  'VV',\n  'CD',\n  'M',\n  'PU',\n  'NN',\n  'NR',\n  'PU',\n  'NR',\n  'PU',\n  'NR',\n  'NR',\n  'NN',\n  'JJ',\n  'NN',\n  'AD',\n  'VV',\n  'PU',\n  'VV',\n  'NN',\n  'VA',\n  'PU',\n  'P',\n  'NN',\n  'NN',\n  'NN',\n  'VE',\n  'NN',\n  'PU',\n  'NR',\n  'NR',\n  'PU',\n  'NR',\n  'NR',\n  'VV',\n  'PU',\n  'NN',\n  'DEG',\n  'JJ',\n  'NN',\n  'VC',\n  'NR',\n  'PU',\n  'NR',\n  'VC',\n  'NR',\n  'VV',\n  'DEC',\n  'NN',\n  'PU',\n  'DT',\n  'NN',\n  'VV',\n  'P',\n  'NR',\n  'NR',\n  'NN',\n  'JJ',\n  'NN',\n  'PU',\n  'NN',\n  'DEG',\n  'NN',\n  'NN',\n  'NN',\n  'P',\n  'NN',\n  'NN',\n  'LC',\n  'VV',\n  'LC',\n  'PU',\n  'JJ',\n  'NN',\n  'VV',\n  'P',\n  'NR',\n  'VV',\n  'PU',\n  'NN',\n  'NR',\n  'NN',\n  'NR',\n  'NN',\n  'VV',\n  'PU',\n  'VV',\n  'NN',\n  'VV',\n  'PU',\n  'NN',\n  'NN',\n  'VV',\n  'NN',\n  'VV',\n  'PU',\n  'CC',\n  'NN',\n  'NN',\n  'VV',\n  'NN',\n  'AD',\n  'NN',\n  'VV',\n  'PU',\n  'AD',\n  'VV',\n  'NN',\n  'PU',\n  'NN',\n  'NR',\n  'PU',\n  'NR',\n  'NR',\n  'NN',\n  'JJ',\n  'NN',\n  'PU',\n  'NR',\n  'NN',\n  'NR',\n  'NN',\n  'AD',\n  'VV',\n  'PU',\n  'AD',\n  'AD',\n  'VV',\n  'JJ',\n  'NN',\n  'PU',\n  'P',\n  'NN',\n  'VV',\n  'PU',\n  'NT',\n  'NT',\n  'NT',\n  'NT',\n  'NT',\n  'AD',\n  'PU',\n  'NN',\n  'NR',\n  'VV',\n  'NR',\n  'NR',\n  'PU',\n  'NR',\n  'NR',\n  'VV',\n  'PU',\n  'M',\n  'NN',\n  'P',\n  'NN',\n  'OD',\n  'NN',\n  'P',\n  'NN',\n  'P',\n  'NN',\n  'VV',\n  'VV',\n  'NN',\n  'OD',\n  'M',\n  'CD',\n  'M',\n  'PU',\n  'CD',\n  'M',\n  'NN',\n  'LC',\n  'PU',\n  'P',\n  'NN',\n  'NR',\n  'NN',\n  'NN',\n  'NR',\n  'VV',\n  'DEC',\n  'NR',\n  'NN',\n  'NN',\n  'PU',\n  'NN',\n  'LC',\n  'VV',\n  'NR',\n  'PU',\n  'NR',\n  'PU',\n  'NR',\n  'PU',\n  'NR',\n  'PU',\n  'NR',\n  'PU',\n  'NR',\n  'PU',\n  'VV',\n  'PU',\n  'NR',\n  'NR',\n  'NN',\n  'NN',\n  'NN',\n  'AD',\n  'P',\n  'P',\n  'NN',\n  'OD',\n  'M',\n  'P',\n  'NN',\n  'P',\n  'NN',\n  'VV',\n  'NN',\n  'NR',\n  'VV',\n  'DEC',\n  'NR',\n  'NR',\n  'PU',\n  'NR',\n  'NR',\n  'VV',\n  'PU',\n  'NN',\n  'NN',\n  'NN',\n  'VV',\n  'PU',\n  'VV',\n  'NN',\n  'CC',\n  'NR',\n  'PU',\n  'NR',\n  'PU',\n  'NR',\n  'PU',\n  'NR',\n  'PU',\n  'NR',\n  'PU',\n  'NR',\n  'VV',\n  'PU',\n  'CD',\n  'NN',\n  'VV',\n  'PU',\n  'NR',\n  'NN',\n  'NN',\n  'NN',\n  'NN',\n  'VV',\n  'PU',\n  'NN',\n  'NR',\n  'VV',\n  'NN',\n  'AD',\n  'VV',\n  'JJ',\n  'NN',\n  'PU',\n  'VV',\n  'NN',\n  'DEG',\n  'JJ',\n  'NN',\n  'PU',\n  'NR',\n  'VE',\n  'NN',\n  'VV',\n  'NN',\n  'VV',\n  'AD',\n  'VV',\n  'AD',\n  'VV',\n  'NN',\n  'DEG',\n  'JJ',\n  'NN',\n  'PU',\n  'NN',\n  'NR',\n  'PU',\n  'NN',\n  'NR',\n  'VE',\n  'NN',\n  'NN',\n  'PU',\n  'NN',\n  'VV',\n  'LC',\n  'PU',\n  'NN',\n  'VV',\n  'NR',\n  'NN',\n  'VV',\n  'VV',\n  'CD',\n  'M',\n  'PU',\n  'P',\n  'NN',\n  'NN',\n  'VC',\n  'PU',\n  'NN',\n  'VV',\n  'PU',\n  'CD',\n  'M',\n  'NN',\n  'VV',\n  'PU',\n  'NN',\n  'VV',\n  'NN',\n  'CD',\n  'M',\n  'PU',\n  'NT',\n  'NT',\n  'NT',\n  'PU',\n  'DT',\n  'NN',\n  'NN',\n  'P',\n  'NN',\n  'VV',\n  'NN',\n  'NN',\n  'PU',\n  'NN',\n  'VV',\n  'NN',\n  'VV',\n  'CD',\n  'NN',\n  'VV',\n  'PU',\n  'VV',\n  'LC',\n  'VV',\n  'VV',\n  'VV',\n  'CD',\n  'M',\n  'NN',\n  'PU',\n  'AD',\n  'VV',\n  'PU',\n  'NN',\n  'NR',\n  'VV',\n  'DEC',\n  'NR',\n  'NR',\n  'PU',\n  'NR',\n  'NR',\n  'VV',\n  'PU',\n  'NN',\n  'NN',\n  'NN',\n  'VC',\n  'NN',\n  'NR',\n  'PU',\n  'NR',\n  'VC',\n  'NR',\n  'VV',\n  'DEC',\n  'NN',\n  'PU',\n  'DT',\n  'NN',\n  'VV',\n  'P',\n  'NR',\n  'NR',\n  'NN',\n  'JJ',\n  'NN',\n  'PU',\n  'NR',\n  'NR',\n  'NN',\n  'NN',\n  'P',\n  'NN',\n  'NR',\n  'NN',\n  'NR',\n  'NN',\n  'VV',\n  'AS',\n  'NN',\n  'NN',\n  'NN',\n  'NN',\n  'JJ',\n  'NN',\n  'PU',\n  'NN',\n  'NN',\n  'VC',\n  'CD',\n  'M',\n  'PU',\n  'NN',\n  'NN',\n  'NN',\n  'NN',\n  'NN',\n  'CD',\n  'M',\n  'PU',\n  'NN',\n  'NN',\n  'NN',\n  'NN',\n  'CD',\n  'M',\n  'PU',\n  'NN',\n  'NN',\n  'NN',\n  'NN',\n  'CD',\n  'M',\n  'PU',\n  'NN',\n  'NN',\n  'P',\n  'NT',\n  'NT',\n  'NT',\n  'NT',\n  'LC',\n  'CC',\n  'NT',\n  'NT',\n  'NT',\n  'NT',\n  'VV',\n  'PU',\n  'NN',\n  'NR',\n  'VV',\n  'DEC',\n  'NN',\n  'VC',\n  'NR',\n  'NR',\n  'NN',\n  'JJ',\n  'NN',\n  'PU',\n  'NR',\n  'NR',\n  'NN',\n  'P',\n  'NR',\n  'NN',\n  'NR',\n  'NN',\n  'VV',\n  'AS',\n  'NN',\n  'NN',\n  'NN',\n  'NN',\n  'JJ',\n  'NN',\n  'PU',\n  'NN',\n  'NN',\n  'VC',\n  'CD',\n  'M',\n  'PU',\n  'NN',\n  'VE',\n  'NN',\n  'NN',\n  'NN',\n  'NN',\n  'NN',\n  'CD',\n  'M',\n  'PU',\n  'VE',\n  'NN',\n  'NN',\n  'NN',\n  'NN',\n  'NN',\n  'CD',\n  'M',\n  'PU',\n  'VE',\n  'NN',\n  'NN',\n  'NN',\n  'NN',\n  'NN',\n  'CD',\n  'M',\n  'PU',\n  'NN',\n  'NN',\n  'P',\n  'NT',\n  'NT',\n  'NT',\n  'NT',\n  'LC',\n  'P',\n  'NT',\n  'NT',\n  'NT',\n  'NT',\n  'VV',\n  'PU',\n  'NR',\n  'PU',\n  'NR',\n  'PU',\n  'NR',\n  'PU',\n  'NR',\n  'AD',\n  'P',\n  'NN',\n  'VV',\n  'NN',\n  'PU',\n  'NR',\n  'VV',\n  'NN',\n  'CC',\n  'NN',\n  'NN',\n  'NN',\n  'AD',\n  'CD',\n  'M',\n  'PU',\n  'NR',\n  'VV',\n  'NN',\n  'CC',\n  'NN',\n  'NN',\n  'NN',\n  'AD',\n  'CD',\n  'M',\n  'PU',\n  'NR',\n  'VV',\n  'NN',\n  'CC',\n  'NN',\n  'NN',\n  'NN',\n  'AD',\n  'CD',\n  'M',\n  'PU',\n  'NR',\n  'AD',\n  'P',\n  'NR',\n  'NN',\n  'NR',\n  'NN',\n  'VV',\n  'NN',\n  'PU',\n  'NR',\n  'NN',\n  'NR',\n  'NN',\n  'NN',\n  'NN',\n  'NN',\n  'NN',\n  'AD',\n  'VV',\n  'CD',\n  'M',\n  'PU',\n  'NN',\n  'NN',\n  'NN',\n  'NN',\n  'CD',\n  'M',\n  'PU',\n  'NN',\n  'VV',\n  'LC',\n  'PU',\n  'NN',\n  'NR',\n  'P',\n  'NN',\n  'VV',\n  'NN',\n  'NN',\n  'CD',\n  'M',\n  'PU',\n  'JJ',\n  'PU',\n  'NN',\n  'AD',\n  'VV',\n  'DT',\n  'NN',\n  'PN',\n  'AD',\n  'VV',\n  'PU',\n  'AD',\n  'VV',\n  'NN',\n  'VV',\n  'PU',\n  'AD',\n  'VV',\n  'PU',\n  'NN',\n  'NR',\n  'VC',\n  'NN',\n  'NN',\n  'PU',\n  'AD',\n  'VV',\n  'PU',\n  'NR',\n  'NN',\n  'VV',\n  'DEC',\n  'NT',\n  'NN',\n  'NN',\n  'NN',\n  'JJ',\n  'VV',\n  'VV',\n  'NN',\n  'VC',\n  'CD',\n  'M',\n  'PU',\n  'NN',\n  'NN',\n  'JJ',\n  'NN',\n  'VC',\n  'CD',\n  'M',\n  'PU',\n  'NT',\n  'NT',\n  'NT',\n  'PU',\n  'NN',\n  'VV',\n  'VV',\n  'NN',\n  'PU',\n  'VV',\n  'P',\n  'DT',\n  'NN',\n  'VV',\n  'JJ',\n  'NN',\n  'PU',\n  'NN',\n  'CD',\n  'M',\n  'PU',\n  'NN',\n  'CD',\n  'M',\n  'PU',\n  'NN',\n  'CD',\n  'M',\n  'PU',\n  'NN',\n  'NN',\n  'NN',\n  'CD',\n  'M',\n  'PU',\n  'NN',\n  'CD',\n  'M',\n  'PU',\n  'AD',\n  'CD',\n  'M',\n  'PU',\n  'NN',\n  'PU',\n  'NN',\n  'VV',\n  'DEC',\n  'NN',\n  'VE',\n  'PU',\n  'NN',\n  'CD',\n  'M',\n  'PU',\n  'NN',\n  'NN',\n  'NN',\n  'CD',\n  'M',\n  'PU',\n  'JJ',\n  'NN',\n  'PU',\n  'VE',\n  'NN',\n  'VV',\n  'PU',\n  'NN',\n  'VV',\n  'PU',\n  'NN',\n  'VV',\n  'DEC',\n  'NN',\n  'NN',\n  'NN',\n  'PU',\n  'NN',\n  'NN',\n  'PU',\n  'NN',\n  'NN',\n  'PU',\n  'NN',\n  'NN',\n  'PU',\n  'NN',\n  'NN',\n  'PU',\n  'NN',\n  'NN',\n  'NN',\n  'PU',\n  'NN',\n  'NN',\n  'PU',\n  'NN',\n  'PU',\n  'NN',\n  'NN',\n  'ETC',\n  'AD',\n  'P',\n  'NN',\n  'VV',\n  'CC',\n  'NN',\n  'VV',\n  'DEC',\n  'NN',\n  'P',\n  'NN',\n  'VV',\n  'NN',\n  'PU'],\n 'pos/pku': ['n',\n  'nr',\n  'v',\n  'w',\n  't',\n  't',\n  't',\n  'w',\n  'n',\n  'nr',\n  'v',\n  'j',\n  'nx',\n  'w',\n  'j',\n  'nx',\n  'v',\n  'w',\n  'q',\n  'n',\n  'p',\n  'n',\n  'm',\n  'q',\n  'p',\n  'f',\n  'p',\n  'f',\n  'v',\n  'p',\n  'n',\n  'm',\n  'q',\n  'm',\n  'q',\n  'w',\n  'm',\n  'q',\n  'n',\n  'Ng',\n  'w',\n  'p',\n  'nr',\n  'v',\n  'u',\n  'j',\n  'nx',\n  'n',\n  'n',\n  'w',\n  's',\n  'v',\n  'nr',\n  'w',\n  'nr',\n  'w',\n  'nr',\n  'w',\n  'nr',\n  'w',\n  'nr',\n  'w',\n  'nr',\n  'w',\n  'v',\n  'f',\n  'w',\n  'd',\n  'p',\n  'nr',\n  'v',\n  'u',\n  'j',\n  'nx',\n  'w',\n  'j',\n  'nx',\n  'v',\n  'w',\n  'q',\n  'n',\n  'v',\n  'w',\n  'v',\n  'n',\n  'v',\n  'w',\n  'n',\n  'v',\n  'w',\n  'ns',\n  'n',\n  'n',\n  'n',\n  'n',\n  'v',\n  'w',\n  'n',\n  'nr',\n  'v',\n  'n',\n  'u',\n  'b',\n  'n',\n  'w',\n  'nr',\n  'v',\n  'n',\n  'u',\n  'b',\n  'n',\n  'w',\n  'n',\n  'nr',\n  'w',\n  'n',\n  'nr',\n  'v',\n  'n',\n  'n',\n  'w',\n  'm',\n  'vn',\n  'n',\n  'vn',\n  'n',\n  'd',\n  'v',\n  'ns',\n  'nz',\n  'n',\n  'a',\n  'n',\n  'w',\n  'ns',\n  'nz',\n  'n',\n  'a',\n  'n',\n  'w',\n  'd',\n  'v',\n  'p',\n  'm',\n  'n',\n  'n',\n  'n',\n  'w',\n  'd',\n  'w',\n  'n',\n  'v',\n  'p',\n  'n',\n  'w',\n  'v',\n  'd',\n  'v',\n  'n',\n  'v',\n  'n',\n  'n',\n  'w',\n  'n',\n  'u',\n  'v',\n  'm',\n  'q',\n  'w',\n  'vn',\n  'n',\n  'p',\n  'n',\n  'v',\n  'w',\n  'f',\n  'v',\n  'vn',\n  'n',\n  'w',\n  'v',\n  'v',\n  'n',\n  'u',\n  'n',\n  'v',\n  'm',\n  'q',\n  'w',\n  'n',\n  'nr',\n  'w',\n  'nr',\n  'w',\n  'ns',\n  'nz',\n  'n',\n  'a',\n  'n',\n  'd',\n  'v',\n  'w',\n  'v',\n  'n',\n  'v',\n  'w',\n  'p',\n  'n',\n  'n',\n  'vn',\n  'v',\n  'n',\n  'w',\n  'nr',\n  'nx',\n  'w',\n  'nr',\n  'nx',\n  'v',\n  'w',\n  'n',\n  'u',\n  'a',\n  'n',\n  'v',\n  'nr',\n  'w',\n  'nr',\n  'v',\n  'nr',\n  'v',\n  'u',\n  'n',\n  'w',\n  'r',\n  'n',\n  'v',\n  'p',\n  'ns',\n  'nz',\n  'j',\n  'a',\n  'n',\n  'w',\n  'n',\n  'u',\n  'n',\n  'n',\n  'n',\n  'p',\n  'j',\n  'n',\n  'f',\n  'v',\n  'f',\n  'w',\n  'vn',\n  'n',\n  'v',\n  'p',\n  'nr',\n  'v',\n  'w',\n  'n',\n  'ns',\n  'n',\n  'ns',\n  'n',\n  'v',\n  'w',\n  'v',\n  'n',\n  'v',\n  'w',\n  'vn',\n  'n',\n  'v',\n  'n',\n  'v',\n  'w',\n  'c',\n  'vn',\n  'n',\n  'vn',\n  'n',\n  'd',\n  'n',\n  'v',\n  'w',\n  'c',\n  'v',\n  'vn',\n  'w',\n  'n',\n  'nr',\n  'w',\n  'ns',\n  'nz',\n  'j',\n  'a',\n  'n',\n  'w',\n  'ns',\n  'j',\n  'ns',\n  'n',\n  'd',\n  'v',\n  'w',\n  'd',\n  'd',\n  'v',\n  'b',\n  'n',\n  'w',\n  'p',\n  'v',\n  'v',\n  'w',\n  't',\n  't',\n  't',\n  't',\n  't',\n  'm',\n  'w',\n  'n',\n  'nr',\n  'v',\n  'j',\n  'nx',\n  'w',\n  'nr',\n  'nx',\n  'v',\n  'w',\n  'q',\n  'n',\n  'p',\n  'n',\n  'm',\n  'n',\n  'p',\n  'f',\n  'p',\n  'f',\n  'v',\n  'p',\n  'n',\n  'm',\n  'q',\n  'm',\n  'q',\n  'w',\n  'm',\n  'q',\n  'n',\n  'Ng',\n  'w',\n  'p',\n  's',\n  'nz',\n  'f',\n  'v',\n  'nr',\n  'v',\n  'u',\n  'nr',\n  'nz',\n  'n',\n  'w',\n  'n',\n  'f',\n  'v',\n  'nr',\n  'w',\n  'nr',\n  'w',\n  'nr',\n  'w',\n  'nr',\n  'w',\n  'nr',\n  'w',\n  'nr',\n  'w',\n  'v',\n  'w',\n  'j',\n  'nx',\n  'n',\n  'n',\n  'f',\n  'd',\n  'p',\n  'p',\n  'n',\n  'm',\n  'q',\n  'p',\n  'f',\n  'p',\n  'f',\n  'v',\n  'n',\n  'nr',\n  'v',\n  'u',\n  'j',\n  'nx',\n  'w',\n  'j',\n  'nx',\n  'v',\n  'w',\n  'n',\n  'n',\n  'f',\n  'v',\n  'w',\n  'v',\n  'n',\n  'c',\n  'nr',\n  'w',\n  'nr',\n  'w',\n  'nr',\n  'w',\n  'nr',\n  'w',\n  'nr',\n  'w',\n  'nr',\n  'v',\n  'w',\n  'm',\n  'n',\n  'v',\n  'w',\n  'ns',\n  'n',\n  'n',\n  'n',\n  'n',\n  'v',\n  'w',\n  'n',\n  'nr',\n  'v',\n  'n',\n  'd',\n  'v',\n  'a',\n  'n',\n  'w',\n  'v',\n  'n',\n  'u',\n  'b',\n  'n',\n  'w',\n  'nr',\n  'v',\n  'n',\n  'v',\n  'n',\n  'v',\n  'd',\n  'v',\n  'ad',\n  'v',\n  'n',\n  'u',\n  'b',\n  'n',\n  'w',\n  'n',\n  'nr',\n  'w',\n  'n',\n  'nr',\n  'v',\n  'n',\n  'n',\n  'w',\n  'n',\n  'v',\n  'f',\n  'w',\n  'n',\n  'v',\n  'ns',\n  'n',\n  'v',\n  'v',\n  'm',\n  'q',\n  'w',\n  'p',\n  'v',\n  'n',\n  'v',\n  'w',\n  'n',\n  'v',\n  'w',\n  'a',\n  'q',\n  'n',\n  'v',\n  'w',\n  'n',\n  'v',\n  'n',\n  'm',\n  'q',\n  'w',\n  't',\n  't',\n  't',\n  'w',\n  'r',\n  'vn',\n  'n',\n  'p',\n  'n',\n  'v',\n  'n',\n  'n',\n  'w',\n  'n',\n  'vn',\n  'f',\n  'v',\n  'm',\n  'n',\n  'v',\n  'w',\n  'v',\n  'f',\n  'v',\n  'v',\n  'v',\n  'm',\n  'q',\n  'n',\n  'w',\n  'd',\n  'v',\n  'w',\n  'n',\n  'nr',\n  'v',\n  'u',\n  'j',\n  'nx',\n  'w',\n  'nr',\n  'nx',\n  'v',\n  'w',\n  'q',\n  'n',\n  'n',\n  'v',\n  'n',\n  'nr',\n  'w',\n  'nr',\n  'v',\n  'nr',\n  'v',\n  'u',\n  'n',\n  'w',\n  'r',\n  'n',\n  'v',\n  'p',\n  'ns',\n  'nz',\n  'n',\n  'a',\n  'n',\n  'w',\n  'j',\n  'nx',\n  'q',\n  'n',\n  'p',\n  'n',\n  'ns',\n  'n',\n  'ns',\n  'n',\n  'v',\n  'u',\n  'n',\n  'n',\n  'n',\n  'n',\n  'vn',\n  'n',\n  'w',\n  'n',\n  'n',\n  'v',\n  'm',\n  'q',\n  'w',\n  'r',\n  'vn',\n  'vn',\n  'vn',\n  'n',\n  'm',\n  'q',\n  'w',\n  'n',\n  'n',\n  'vn',\n  'n',\n  'm',\n  'q',\n  'w',\n  'n',\n  'n',\n  'vn',\n  'n',\n  'm',\n  'q',\n  'w',\n  'n',\n  'f',\n  'p',\n  't',\n  't',\n  't',\n  't',\n  'f',\n  'p',\n  't',\n  't',\n  't',\n  't',\n  'v',\n  'w',\n  'n',\n  'nr',\n  'v',\n  'u',\n  'n',\n  'v',\n  'ns',\n  'nz',\n  'n',\n  'a',\n  'n',\n  'w',\n  'j',\n  'nz',\n  'n',\n  'p',\n  'ns',\n  'j',\n  'nz',\n  'n',\n  'v',\n  'u',\n  'n',\n  'n',\n  'n',\n  'n',\n  'vn',\n  'n',\n  'w',\n  'n',\n  'n',\n  'v',\n  'm',\n  'q',\n  'w',\n  'r',\n  'v',\n  'n',\n  'vn',\n  'vn',\n  'vn',\n  'n',\n  'm',\n  'q',\n  'w',\n  'v',\n  'n',\n  'n',\n  'n',\n  'vn',\n  'n',\n  'm',\n  'q',\n  'w',\n  'v',\n  'n',\n  'n',\n  'n',\n  'vn',\n  'n',\n  'm',\n  'q',\n  'w',\n  'n',\n  'f',\n  'p',\n  't',\n  't',\n  't',\n  't',\n  'f',\n  'p',\n  't',\n  't',\n  't',\n  't',\n  'v',\n  'w',\n  'nr',\n  'w',\n  'nr',\n  'w',\n  'nr',\n  'w',\n  'nr',\n  'd',\n  'p',\n  'n',\n  'v',\n  'v',\n  'w',\n  'nr',\n  'v',\n  'n',\n  'c',\n  'vn',\n  'n',\n  'n',\n  'v',\n  'm',\n  'q',\n  'w',\n  'nr',\n  'v',\n  'n',\n  'c',\n  'vn',\n  'n',\n  'n',\n  'v',\n  'm',\n  'q',\n  'w',\n  'nr',\n  'v',\n  'n',\n  'c',\n  'vn',\n  'n',\n  'n',\n  'v',\n  'm',\n  'q',\n  'w',\n  'nr',\n  'd',\n  'p',\n  'ns',\n  'n',\n  'ns',\n  'n',\n  'v',\n  'v',\n  'w',\n  'ns',\n  'n',\n  'ns',\n  'j',\n  'n',\n  'n',\n  'vn',\n  'n',\n  'd',\n  'v',\n  'm',\n  'q',\n  'w',\n  'vn',\n  'vn',\n  'vn',\n  'n',\n  'm',\n  'q',\n  'w',\n  'n',\n  'v',\n  'f',\n  'w',\n  'n',\n  'nr',\n  'p',\n  'n',\n  'v',\n  'n',\n  'n',\n  'm',\n  'q',\n  'w',\n  'b',\n  'w',\n  'n',\n  'ad',\n  'v',\n  'r',\n  'n',\n  'n',\n  'd',\n  'v',\n  'w',\n  'd',\n  'v',\n  'n',\n  'v',\n  'w',\n  'd',\n  'v',\n  'w',\n  'n',\n  'nr',\n  'v',\n  'n',\n  'n',\n  'w',\n  'd',\n  'v',\n  'w',\n  'ns',\n  'n',\n  'v',\n  'u',\n  'm',\n  'n',\n  'n',\n  'n',\n  'j',\n  'v',\n  'v',\n  'n',\n  'v',\n  'm',\n  'q',\n  'w',\n  'n',\n  'n',\n  'j',\n  'n',\n  'v',\n  'm',\n  'q',\n  'w',\n  't',\n  't',\n  't',\n  'w',\n  'n',\n  'v',\n  'p',\n  'n',\n  'w',\n  'v',\n  'p',\n  'r',\n  'n',\n  'v',\n  'v',\n  'n',\n  'w',\n  'n',\n  'm',\n  'q',\n  'w',\n  'n',\n  'm',\n  'q',\n  'w',\n  'n',\n  'm',\n  'q',\n  'w',\n  'vn',\n  'n',\n  'n',\n  'm',\n  'q',\n  'w',\n  'n',\n  'm',\n  'q',\n  'w',\n  'v',\n  'm',\n  'q',\n  'w',\n  'r',\n  'w',\n  'n',\n  'v',\n  'u',\n  'n',\n  'v',\n  'w',\n  'n',\n  'm',\n  'q',\n  'w',\n  'vn',\n  'n',\n  'n',\n  'm',\n  'q',\n  'w',\n  'b',\n  'n',\n  'w',\n  'v',\n  'n',\n  'v',\n  'w',\n  'n',\n  'v',\n  'w',\n  'n',\n  'v',\n  'u',\n  'n',\n  'n',\n  'n',\n  'w',\n  'vn',\n  'n',\n  'w',\n  'n',\n  'n',\n  'w',\n  'vn',\n  'n',\n  'w',\n  'n',\n  'n',\n  'w',\n  'n',\n  'vn',\n  'n',\n  'w',\n  'n',\n  'n',\n  'w',\n  'n',\n  'w',\n  'n',\n  'n',\n  'u',\n  'd',\n  'p',\n  'n',\n  'v',\n  'c',\n  'n',\n  'v',\n  'u',\n  'n',\n  'p',\n  'Ng',\n  'v',\n  'n',\n  'w'],\n 'pos/863': ['n',\n  'nh',\n  'v',\n  'w',\n  'nt',\n  'nt',\n  'nt',\n  'w',\n  'n',\n  'nh',\n  'v',\n  'j',\n  'w',\n  'w',\n  'nh',\n  'w',\n  'v',\n  'w',\n  'n',\n  'n',\n  'p',\n  'n',\n  'm',\n  'n',\n  'p',\n  'nd',\n  'p',\n  'nd',\n  'v',\n  'v',\n  'n',\n  'm',\n  'n',\n  'm',\n  'q',\n  'w',\n  'm',\n  'q',\n  'n',\n  'nt',\n  'w',\n  'c',\n  'nh',\n  'v',\n  'u',\n  'nh',\n  'w',\n  'n',\n  'n',\n  'w',\n  'nl',\n  'v',\n  'nh',\n  'w',\n  'nh',\n  'w',\n  'nh',\n  'w',\n  'nh',\n  'w',\n  'nh',\n  'w',\n  'nh',\n  'w',\n  'v',\n  'nd',\n  'w',\n  'd',\n  'c',\n  'nh',\n  'v',\n  'u',\n  'nh',\n  'w',\n  'w',\n  'nh',\n  'w',\n  'v',\n  'w',\n  'n',\n  'n',\n  'v',\n  'w',\n  'v',\n  'n',\n  'v',\n  'w',\n  'n',\n  'v',\n  'w',\n  'ns',\n  'n',\n  'n',\n  'n',\n  'n',\n  'v',\n  'w',\n  'n',\n  'nh',\n  'v',\n  'n',\n  'u',\n  'a',\n  'n',\n  'w',\n  'nh',\n  'v',\n  'n',\n  'u',\n  'a',\n  'n',\n  'w',\n  'n',\n  'nh',\n  'w',\n  'n',\n  'nh',\n  'v',\n  'n',\n  'n',\n  'w',\n  'w',\n  'v',\n  'n',\n  'v',\n  'n',\n  'd',\n  'p',\n  'ns',\n  'nz',\n  'n',\n  'a',\n  'n',\n  'w',\n  'ns',\n  'nz',\n  'n',\n  'a',\n  'n',\n  'w',\n  'd',\n  'v',\n  'p',\n  'm',\n  'n',\n  'n',\n  'n',\n  'w',\n  'c',\n  'w',\n  'n',\n  'v',\n  'v',\n  'n',\n  'w',\n  'v',\n  'v',\n  'v',\n  'n',\n  'v',\n  'n',\n  'n',\n  'w',\n  'n',\n  'u',\n  'v',\n  'm',\n  'q',\n  'w',\n  'v',\n  'n',\n  'p',\n  'n',\n  'v',\n  'w',\n  'nd',\n  'v',\n  'n',\n  'v',\n  'w',\n  'v',\n  'v',\n  'n',\n  'u',\n  'v',\n  'v',\n  'm',\n  'q',\n  'w',\n  'n',\n  'nh',\n  'w',\n  'nh',\n  'w',\n  'ns',\n  'nz',\n  'n',\n  'a',\n  'n',\n  'd',\n  'v',\n  'w',\n  'v',\n  'n',\n  'v',\n  'w',\n  'p',\n  'n',\n  'n',\n  'v',\n  'v',\n  'n',\n  'w',\n  'nh',\n  'w',\n  'w',\n  'nh',\n  'ws',\n  'v',\n  'w',\n  'n',\n  'u',\n  'a',\n  'n',\n  'vl',\n  'nh',\n  'w',\n  'nh',\n  'v',\n  'nh',\n  'v',\n  'u',\n  'n',\n  'w',\n  'r',\n  'n',\n  'v',\n  'p',\n  'ns',\n  'nz',\n  'n',\n  'a',\n  'n',\n  'w',\n  'n',\n  'u',\n  'v',\n  'n',\n  'n',\n  'p',\n  'n',\n  'n',\n  'nd',\n  'v',\n  'nd',\n  'w',\n  'v',\n  'n',\n  'vu',\n  'p',\n  'nh',\n  'v',\n  'w',\n  'n',\n  'ns',\n  'n',\n  'ns',\n  'n',\n  'v',\n  'w',\n  'v',\n  'n',\n  'v',\n  'w',\n  'v',\n  'n',\n  'v',\n  'n',\n  'v',\n  'w',\n  'c',\n  'v',\n  'n',\n  'v',\n  'n',\n  'v',\n  'n',\n  'v',\n  'w',\n  'c',\n  'v',\n  'v',\n  'w',\n  'n',\n  'nh',\n  'w',\n  'ns',\n  'nz',\n  'nz',\n  'a',\n  'n',\n  'w',\n  'ns',\n  'j',\n  'ns',\n  'n',\n  'd',\n  'v',\n  'w',\n  'd',\n  'd',\n  'v',\n  'n',\n  'n',\n  'w',\n  'v',\n  'v',\n  'v',\n  'w',\n  'nt',\n  'nt',\n  'nt',\n  'nt',\n  'nt',\n  'm',\n  'w',\n  'n',\n  'nh',\n  'v',\n  'nh',\n  'w',\n  'w',\n  'nh',\n  'w',\n  'v',\n  'w',\n  'n',\n  'n',\n  'p',\n  'n',\n  'm',\n  'n',\n  'p',\n  'nd',\n  'p',\n  'nd',\n  'v',\n  'v',\n  'n',\n  'm',\n  'n',\n  'm',\n  'q',\n  'w',\n  'm',\n  'q',\n  'n',\n  'nt',\n  'w',\n  'c',\n  'nd',\n  'ni',\n  'nd',\n  'v',\n  'nh',\n  'v',\n  'u',\n  'nh',\n  'n',\n  'n',\n  'w',\n  'n',\n  'nd',\n  'v',\n  'nh',\n  'w',\n  'nh',\n  'w',\n  'nh',\n  'w',\n  'nh',\n  'w',\n  'nh',\n  'w',\n  'nh',\n  'w',\n  'v',\n  'w',\n  'nh',\n  'w',\n  'n',\n  'n',\n  'nd',\n  'd',\n  'c',\n  'p',\n  'n',\n  'm',\n  'n',\n  'p',\n  'nd',\n  'p',\n  'nd',\n  'v',\n  'n',\n  'nh',\n  'v',\n  'u',\n  'nh',\n  'w',\n  'w',\n  'nh',\n  'ws',\n  'v',\n  'w',\n  'n',\n  'n',\n  'nd',\n  'v',\n  'w',\n  'v',\n  'n',\n  'c',\n  'nh',\n  'w',\n  'nh',\n  'w',\n  'nh',\n  'w',\n  'nh',\n  'w',\n  'nh',\n  'w',\n  'nh',\n  'v',\n  'w',\n  'm',\n  'n',\n  'v',\n  'w',\n  'ns',\n  'n',\n  'n',\n  'n',\n  'n',\n  'v',\n  'w',\n  'n',\n  'nh',\n  'v',\n  'n',\n  'd',\n  'v',\n  'a',\n  'n',\n  'w',\n  'v',\n  'n',\n  'u',\n  'a',\n  'n',\n  'w',\n  'nh',\n  'v',\n  'n',\n  'v',\n  'n',\n  'v',\n  'd',\n  'v',\n  'a',\n  'v',\n  'n',\n  'u',\n  'a',\n  'n',\n  'w',\n  'n',\n  'nh',\n  'w',\n  'n',\n  'nh',\n  'v',\n  'n',\n  'n',\n  'w',\n  'n',\n  'v',\n  'nd',\n  'w',\n  'n',\n  'v',\n  'ns',\n  'ni',\n  'v',\n  'v',\n  'm',\n  'nt',\n  'w',\n  'v',\n  'v',\n  'n',\n  'v',\n  'w',\n  'n',\n  'v',\n  'w',\n  'a',\n  'q',\n  'n',\n  'v',\n  'w',\n  'n',\n  'v',\n  'n',\n  'm',\n  'q',\n  'w',\n  'nt',\n  'nt',\n  'nt',\n  'w',\n  'r',\n  'v',\n  'n',\n  'p',\n  'n',\n  'v',\n  'n',\n  'n',\n  'w',\n  'n',\n  'v',\n  'nt',\n  'v',\n  'm',\n  'n',\n  'v',\n  'w',\n  'v',\n  'nd',\n  'v',\n  'v',\n  'v',\n  'm',\n  'q',\n  'nt',\n  'w',\n  'r',\n  'v',\n  'w',\n  'n',\n  'nh',\n  'v',\n  'u',\n  'j',\n  'w',\n  'w',\n  'nh',\n  'w',\n  'v',\n  'w',\n  'n',\n  'n',\n  'n',\n  'v',\n  'n',\n  'nh',\n  'w',\n  'nh',\n  'vl',\n  'nh',\n  'v',\n  'u',\n  'n',\n  'w',\n  'r',\n  'n',\n  'v',\n  'p',\n  'ns',\n  'nz',\n  'n',\n  'a',\n  'n',\n  'w',\n  'nh',\n  'w',\n  'n',\n  'n',\n  'p',\n  'n',\n  'ns',\n  'n',\n  'ns',\n  'n',\n  'v',\n  'u',\n  'n',\n  'n',\n  'n',\n  'n',\n  'v',\n  'n',\n  'w',\n  'n',\n  'n',\n  'vl',\n  'm',\n  'q',\n  'w',\n  'nd',\n  'v',\n  'v',\n  'v',\n  'n',\n  'm',\n  'q',\n  'w',\n  'n',\n  'n',\n  'v',\n  'n',\n  'm',\n  'q',\n  'w',\n  'n',\n  'v',\n  'v',\n  'n',\n  'm',\n  'q',\n  'w',\n  'n',\n  'nt',\n  'p',\n  'nt',\n  'nt',\n  'nt',\n  'nt',\n  'v',\n  'v',\n  'nt',\n  'nt',\n  'nt',\n  'nt',\n  'v',\n  'w',\n  'n',\n  'nh',\n  'v',\n  'u',\n  'n',\n  'p',\n  'ns',\n  'nz',\n  'n',\n  'a',\n  'n',\n  'w',\n  'j',\n  'ni',\n  'n',\n  'p',\n  'ns',\n  'j',\n  'nz',\n  'n',\n  'v',\n  'u',\n  'n',\n  'n',\n  'n',\n  'n',\n  'v',\n  'n',\n  'w',\n  'n',\n  'n',\n  'v',\n  'm',\n  'q',\n  'w',\n  'nd',\n  'v',\n  'n',\n  'v',\n  'v',\n  'v',\n  'n',\n  'm',\n  'q',\n  'w',\n  'v',\n  'n',\n  'n',\n  'n',\n  'v',\n  'n',\n  'm',\n  'q',\n  'w',\n  'v',\n  'n',\n  'n',\n  'v',\n  'v',\n  'n',\n  'm',\n  'q',\n  'w',\n  'n',\n  'nt',\n  'p',\n  'nt',\n  'nt',\n  'nt',\n  'nt',\n  'v',\n  'v',\n  'nt',\n  'nt',\n  'nt',\n  'nt',\n  'v',\n  'w',\n  'nh',\n  'w',\n  'nh',\n  'w',\n  'nh',\n  'w',\n  'nh',\n  'd',\n  'p',\n  'n',\n  'v',\n  'v',\n  'w',\n  'nh',\n  'v',\n  'n',\n  'c',\n  'v',\n  'n',\n  'n',\n  'v',\n  'm',\n  'q',\n  'w',\n  'nh',\n  'v',\n  'n',\n  'c',\n  'v',\n  'n',\n  'n',\n  'v',\n  'm',\n  'q',\n  'w',\n  'nh',\n  'v',\n  'n',\n  'c',\n  'v',\n  'n',\n  'n',\n  'v',\n  'm',\n  'q',\n  'w',\n  'nh',\n  'd',\n  'p',\n  'ns',\n  'n',\n  'ns',\n  'n',\n  'v',\n  'v',\n  'w',\n  'ns',\n  'n',\n  'nz',\n  'v',\n  'n',\n  'n',\n  'v',\n  'n',\n  'd',\n  'v',\n  'm',\n  'q',\n  'w',\n  'v',\n  'v',\n  'v',\n  'n',\n  'm',\n  'q',\n  'w',\n  'n',\n  'v',\n  'nd',\n  'w',\n  'n',\n  'nh',\n  'p',\n  'n',\n  'v',\n  'n',\n  'n',\n  'm',\n  'q',\n  'w',\n  'a',\n  'w',\n  'n',\n  'a',\n  'v',\n  'r',\n  'n',\n  'n',\n  'd',\n  'v',\n  'w',\n  'd',\n  'v',\n  'n',\n  'v',\n  'w',\n  'd',\n  'v',\n  'w',\n  'n',\n  'nh',\n  'v',\n  'n',\n  'n',\n  'w',\n  'd',\n  'v',\n  'w',\n  'ns',\n  'n',\n  'v',\n  'u',\n  'm',\n  'nt',\n  'n',\n  'n',\n  'j',\n  'v',\n  'v',\n  'n',\n  'vl',\n  'm',\n  'q',\n  'w',\n  'n',\n  'n',\n  'j',\n  'n',\n  'vl',\n  'm',\n  'q',\n  'w',\n  'nt',\n  'nt',\n  'nt',\n  'w',\n  'n',\n  'v',\n  'v',\n  'n',\n  'w',\n  'v',\n  'c',\n  'r',\n  'n',\n  'v',\n  'v',\n  'n',\n  'w',\n  'n',\n  'm',\n  'q',\n  'w',\n  'n',\n  'm',\n  'q',\n  'w',\n  'n',\n  'm',\n  'q',\n  'w',\n  'v',\n  'n',\n  'n',\n  'm',\n  'q',\n  'w',\n  'n',\n  'm',\n  'q',\n  'w',\n  'v',\n  'm',\n  'q',\n  'w',\n  'nd',\n  'w',\n  'n',\n  'v',\n  'u',\n  'v',\n  'v',\n  'w',\n  'n',\n  'm',\n  'q',\n  'w',\n  'v',\n  'n',\n  'n',\n  'm',\n  'q',\n  'w',\n  'v',\n  'n',\n  'w',\n  'v',\n  'n',\n  'v',\n  'w',\n  'n',\n  'v',\n  'w',\n  'n',\n  'v',\n  'u',\n  'n',\n  'n',\n  'n',\n  'w',\n  'v',\n  'n',\n  'w',\n  'n',\n  'n',\n  'w',\n  'v',\n  'n',\n  'w',\n  'n',\n  'n',\n  'w',\n  'n',\n  'v',\n  'n',\n  'w',\n  'n',\n  'n',\n  'w',\n  'n',\n  'w',\n  'n',\n  'n',\n  'u',\n  'd',\n  'p',\n  'n',\n  'v',\n  'c',\n  'n',\n  'v',\n  'u',\n  'n',\n  'p',\n  'n',\n  'vl',\n  'n',\n  'w'],\n 'ner/msra': [('崔秀英', 'PERSON', 1, 2),\n  ('2013年', 'DATE', 4, 5),\n  ('9月', 'DATE', 5, 6),\n  ('1日', 'DATE', 6, 7),\n  ('刘润伟', 'PERSON', 9, 10),\n  ('鲁', 'LOCATION', 11, 12),\n  ('XXXXX', 'LOCATION', 12, 13),\n  ('鲁', 'LOCATION', 14, 15),\n  ('国道206线', 'LOCATION', 21, 24),\n  ('国道206线', 'LOCATION', 30, 33),\n  ('国道206线334', 'LOCATION', 30, 34),\n  ('公里', 'LENGTH', 34, 35),\n  ('米', 'LENGTH', 37, 38),\n  ('赵同庆', 'PERSON', 42, 43),\n  ('鲁', 'LOCATION', 45, 46),\n  ('崔秀英', 'PERSON', 52, 53),\n  ('刘玉强', 'PERSON', 54, 55),\n  ('杨灿珠', 'PERSON', 56, 57),\n  ('张先升', 'PERSON', 58, 59),\n  ('于常美', 'PERSON', 60, 61),\n  ('张渤海', 'PERSON', 62, 63),\n  ('张上海', 'PERSON', 69, 70),\n  ('鲁XXXXX', 'LOCATION', 72, 74),\n  ('鲁', 'LOCATION', 75, 76),\n  ('安丘市公安局交通警察大队', 'ORGANIZATION', 90, 95),\n  ('刘润伟', 'PERSON', 98, 99),\n  ('赵同庆', 'PERSON', 105, 106),\n  ('张上海', 'PERSON', 113, 114),\n  ('崔秀英', 'PERSON', 116, 117),\n  ('安丘市万鑫物流有限公司', 'ORGANIZATION', 128, 133),\n  ('淄博天炀物流有限公司', 'ORGANIZATION', 134, 139),\n  ('二', 'ORDINAL', 143, 144),\n  ('保险公司', 'ORGANIZATION', 145, 147),\n  ('本院', 'ORGANIZATION', 153, 154),\n  ('9605.55', 'MONEY', 186, 187),\n  ('刘润伟', 'PERSON', 190, 191),\n  ('王建法', 'PERSON', 192, 193),\n  ('安丘市万鑫物流有限公司', 'ORGANIZATION', 194, 199),\n  ('鲁', 'PERSON', 213, 214),\n  ('鲁', 'PERSON', 216, 217),\n  ('王建法', 'PERSON', 225, 226),\n  ('刘润伟', 'PERSON', 227, 228),\n  ('王建法', 'PERSON', 229, 230),\n  ('安丘市万鑫物流有限公司', 'ORGANIZATION', 238, 243),\n  ('损失保险公司', 'ORGANIZATION', 246, 249),\n  ('王建法', 'PERSON', 260, 261),\n  ('太平洋保险安丘支公司', 'ORGANIZATION', 264, 268),\n  ('张上海', 'PERSON', 294, 295),\n  ('淄博天炀物流有限公司', 'ORGANIZATION', 296, 301),\n  ('中国人保博山支公司', 'ORGANIZATION', 302, 306),\n  ('2013年', 'DATE', 319, 320),\n  ('9月', 'DATE', 320, 321),\n  ('1日', 'DATE', 321, 322),\n  ('7时', 'TIME', 322, 323),\n  ('47分', 'TIME', 323, 324),\n  ('刘润伟', 'PERSON', 327, 328),\n  ('鲁', 'PERSON', 329, 330),\n  ('XXXXX', 'LOCATION', 330, 331),\n  ('鲁', 'PERSON', 332, 333),\n  ('号', 'ORGANIZATION', 336, 337),\n  ('国道206线', 'LOCATION', 339, 342),\n  ('国道206线', 'LOCATION', 348, 351),\n  ('公里', 'LENGTH', 352, 353),\n  ('米', 'LENGTH', 355, 356),\n  ('前方顺行', 'ORGANIZATION', 360, 362),\n  ('赵同庆', 'PERSON', 364, 365),\n  ('鲁', 'PERSON', 367, 368),\n  ('崔秀英', 'PERSON', 374, 375),\n  ('刘玉强', 'PERSON', 376, 377),\n  ('杨灿珠', 'PERSON', 378, 379),\n  ('于常美', 'PERSON', 380, 381),\n  ('张先升', 'PERSON', 382, 383),\n  ('张渤海', 'PERSON', 384, 385),\n  ('鲁XXXXX', 'LOCATION', 388, 390),\n  ('号', 'ORDINAL', 390, 391),\n  ('国道206线', 'LOCATION', 396, 399),\n  ('张上海', 'PERSON', 405, 406),\n  ('鲁', 'PERSON', 408, 409),\n  ('鲁', 'PERSON', 411, 412),\n  ('赵同庆', 'PERSON', 423, 424),\n  ('刘玉强', 'PERSON', 425, 426),\n  ('杨灿珠', 'PERSON', 427, 428),\n  ('张先升', 'PERSON', 429, 430),\n  ('于常美', 'PERSON', 431, 432),\n  ('张渤海', 'PERSON', 433, 434),\n  ('三', 'INTEGER', 436, 437),\n  ('安丘市公安局交通警察大队', 'ORGANIZATION', 440, 445),\n  ('刘润伟', 'PERSON', 448, 449),\n  ('赵同庆', 'PERSON', 462, 463),\n  ('张上海', 'PERSON', 478, 479),\n  ('崔秀英', 'PERSON', 481, 482),\n  ('安丘市中医院', 'ORGANIZATION', 492, 494),\n  ('5459.31', 'MONEY', 515, 516),\n  ('2014年', 'DATE', 518, 519),\n  ('1月', 'DATE', 519, 520),\n  ('21日', 'DATE', 520, 521),\n  ('刘润伟', 'PERSON', 552, 553),\n  ('鲁', 'LOCATION', 555, 556),\n  ('鲁', 'PERSON', 558, 559),\n  ('王建法', 'PERSON', 567, 568),\n  ('刘润伟', 'PERSON', 569, 570),\n  ('王建法', 'PERSON', 571, 572),\n  ('安丘市万鑫物流有限公司', 'ORGANIZATION', 580, 585),\n  ('鲁XXXXX', 'LOCATION', 586, 588),\n  ('号', 'ORDINAL', 588, 589),\n  ('太平洋保险安丘支公司', 'ORGANIZATION', 592, 596),\n  ('2013年', 'DATE', 636, 637),\n  ('6月', 'DATE', 637, 638),\n  ('10日', 'DATE', 638, 639),\n  ('零时', 'TIME', 639, 640),\n  ('2014年', 'DATE', 642, 643),\n  ('6月', 'DATE', 643, 644),\n  ('9日', 'DATE', 644, 645),\n  ('24时', 'TIME', 645, 646),\n  ('张上海', 'PERSON', 649, 650),\n  ('淄博天炀物流有限公司', 'ORGANIZATION', 654, 659),\n  ('鲁XXXXX号', 'ORGANIZATION', 660, 662),\n  ('中国人保博山支公司', 'ORGANIZATION', 664, 668),\n  ('2012年', 'DATE', 714, 715),\n  ('11月', 'DATE', 715, 716),\n  ('9日', 'DATE', 716, 717),\n  ('零时', 'TIME', 717, 718),\n  ('2013年', 'DATE', 720, 721),\n  ('11月', 'DATE', 721, 722),\n  ('8日', 'DATE', 722, 723),\n  ('24时', 'TIME', 723, 724),\n  ('杨灿珠', 'PERSON', 726, 727),\n  ('张先升', 'PERSON', 728, 729),\n  ('于常美', 'PERSON', 730, 731),\n  ('赵同庆', 'PERSON', 732, 733),\n  ('本院', 'ORGANIZATION', 735, 736),\n  ('张先升', 'PERSON', 739, 740),\n  ('6203.82', 'MONEY', 747, 748),\n  ('赵同庆', 'PERSON', 750, 751),\n  ('11492.16', 'MONEY', 758, 759),\n  ('于常美', 'PERSON', 761, 762),\n  ('5628.42', 'MONEY', 769, 770),\n  ('杨灿珠', 'PERSON', 772, 773),\n  ('太平洋保险安丘支公司', 'ORGANIZATION', 775, 779),\n  ('太平洋保险安丘支', 'ORGANIZATION', 782, 786),\n  ('公司', 'ORGANIZATION', 786, 787),\n  ('107556', 'MONEY', 799, 800),\n  ('王建法', 'PERSON', 807, 808),\n  ('崔秀英', 'PERSON', 836, 837),\n  ('山东省', 'LOCATION', 844, 845),\n  ('统计局', 'ORGANIZATION', 845, 846),\n  ('2012', 'DATE', 848, 849),\n  ('2013年', 'DATE', 868, 869),\n  ('12月', 'DATE', 869, 870),\n  ('28日', 'DATE', 870, 871),\n  ('本院', 'ORGANIZATION', 875, 876),\n  ('846.72', 'MONEY', 894, 895),\n  ('9605.55', 'MONEY', 908, 909),\n  ('5459.31', 'MONEY', 920, 921),\n  ('本院', 'ORGANIZATION', 975, 976)],\n 'ner/pku': [('崔秀英', 'nr', 1, 2),\n  ('刘润伟', 'nr', 9, 10),\n  ('赵同庆', 'nr', 42, 43),\n  ('崔秀英', 'nr', 52, 53),\n  ('刘玉强', 'nr', 54, 55),\n  ('杨灿珠', 'nr', 56, 57),\n  ('张先升', 'nr', 58, 59),\n  ('于常美', 'nr', 60, 61),\n  ('张渤海', 'nr', 62, 63),\n  ('张上海', 'nr', 69, 70),\n  ('安丘市公安局交通警察大队', 'nt', 90, 95),\n  ('刘润伟', 'nr', 98, 99),\n  ('赵同庆', 'nr', 105, 106),\n  ('张上海', 'nr', 113, 114),\n  ('崔秀英', 'nr', 116, 117),\n  ('安丘市万鑫物流有限公司', 'nt', 128, 133),\n  ('淄博天炀物流有限公司', 'nt', 134, 139),\n  ('刘润伟', 'nr', 190, 191),\n  ('王建法', 'nr', 192, 193),\n  ('安丘市万鑫物流有限公司', 'nt', 194, 199),\n  ('鲁', 'nr', 213, 214),\n  ('鲁', 'nr', 216, 217),\n  ('王建法', 'nr', 225, 226),\n  ('刘润伟', 'nr', 227, 228),\n  ('王建法', 'nr', 229, 230),\n  ('安丘市万鑫物流有限公司', 'nt', 238, 243),\n  ('王建法', 'nr', 260, 261),\n  ('太平洋保险安丘支公司', 'nt', 264, 268),\n  ('张上海', 'nr', 294, 295),\n  ('淄博天炀物流有限公司', 'nt', 296, 301),\n  ('中国人保博山支公司', 'nt', 302, 306),\n  ('刘润伟', 'nr', 327, 328),\n  ('赵同庆', 'nr', 364, 365),\n  ('崔秀英', 'nr', 374, 375),\n  ('刘玉强', 'nr', 376, 377),\n  ('杨灿珠', 'nr', 378, 379),\n  ('于常美', 'nr', 380, 381),\n  ('张先升', 'nr', 382, 383),\n  ('张渤海', 'nr', 384, 385),\n  ('张上海', 'nr', 405, 406),\n  ('赵同庆', 'nr', 423, 424),\n  ('刘玉强', 'nr', 425, 426),\n  ('杨灿珠', 'nr', 427, 428),\n  ('张先升', 'nr', 429, 430),\n  ('于常美', 'nr', 431, 432),\n  ('张渤海', 'nr', 433, 434),\n  ('安丘市公安局交通警察大队', 'nt', 440, 445),\n  ('刘润伟', 'nr', 448, 449),\n  ('赵同庆', 'nr', 462, 463),\n  ('张上海', 'nr', 478, 479),\n  ('崔秀英', 'nr', 481, 482),\n  ('安丘市中医院', 'nt', 492, 494),\n  ('刘润伟', 'nr', 552, 553),\n  ('王建法', 'nr', 567, 568),\n  ('刘润伟', 'nr', 569, 570),\n  ('王建法', 'nr', 571, 572),\n  ('安丘市万鑫物流有限公司', 'nt', 580, 585),\n  ('太平洋保险安丘支公司', 'nt', 592, 596),\n  ('张上海', 'nr', 649, 650),\n  ('淄博天炀物流有限公司', 'nt', 654, 659),\n  ('中国人保博山支公司', 'nt', 664, 668),\n  ('杨灿珠', 'nr', 726, 727),\n  ('张先升', 'nr', 728, 729),\n  ('于常美', 'nr', 730, 731),\n  ('赵同庆', 'nr', 732, 733),\n  ('张先升', 'nr', 739, 740),\n  ('赵同庆', 'nr', 750, 751),\n  ('于常美', 'nr', 761, 762),\n  ('杨灿珠', 'nr', 772, 773),\n  ('太平洋保险安丘支公司', 'nt', 775, 779),\n  ('太平洋保险安丘支公司', 'nt', 782, 787),\n  ('王建法', 'nr', 807, 808),\n  ('崔秀英', 'nr', 836, 837),\n  ('山东省统计局', 'nt', 844, 846)],\n 'ner/ontonotes': [('崔秀英', 'PERSON', 1, 2),\n  ('2013年9月1日', 'DATE', 4, 7),\n  ('刘润伟', 'PERSON', 9, 10),\n  ('鲁', 'FAC', 11, 12),\n  ('XXXXX', 'PRODUCT', 12, 13),\n  ('鲁', 'FAC', 14, 15),\n  ('XXXXX', 'PRODUCT', 15, 16),\n  ('国道206线', 'FAC', 21, 24),\n  ('国道206线', 'FAC', 30, 33),\n  ('334公里', 'QUANTITY', 33, 35),\n  ('500米', 'QUANTITY', 36, 38),\n  ('赵同庆', 'PERSON', 42, 43),\n  ('鲁', 'FAC', 45, 46),\n  ('XXXXX', 'PRODUCT', 46, 47),\n  ('崔秀英', 'PERSON', 52, 53),\n  ('刘玉强', 'PERSON', 54, 55),\n  ('杨灿珠', 'PERSON', 56, 57),\n  ('张先升', 'PERSON', 58, 59),\n  ('于常美', 'PERSON', 60, 61),\n  ('张渤海', 'PERSON', 62, 63),\n  ('张上海', 'PERSON', 69, 70),\n  ('鲁', 'FAC', 72, 73),\n  ('XXXXX', 'ORG', 73, 74),\n  ('鲁', 'FAC', 75, 76),\n  ('XXXXX挂', 'ORG', 76, 78),\n  ('安丘市公安局交通警察大队', 'ORG', 90, 95),\n  ('刘润伟', 'PERSON', 98, 99),\n  ('赵同庆', 'PERSON', 105, 106),\n  ('张上海', 'PERSON', 113, 114),\n  ('崔秀英', 'PERSON', 116, 117),\n  ('安丘市万鑫物流有限公司', 'ORG', 128, 133),\n  ('淄博天炀物流有限公司', 'ORG', 134, 139),\n  ('保险公司', 'ORG', 145, 147),\n  ('10000元', 'MONEY', 166, 168),\n  ('9605.55元', 'MONEY', 186, 188),\n  ('刘润伟', 'PERSON', 190, 191),\n  ('王建法', 'PERSON', 192, 193),\n  ('安丘市', 'ORG', 194, 195),\n  ('万鑫物流有限公司', 'ORG', 195, 199),\n  ('鲁XXXXX', 'PERSON', 213, 215),\n  ('鲁XXXXX', 'PERSON', 216, 218),\n  ('王建法', 'PERSON', 225, 226),\n  ('刘润伟', 'PERSON', 227, 228),\n  ('王建法', 'PERSON', 229, 230),\n  ('安丘市万鑫物流有限公司', 'ORG', 238, 243),\n  ('公司', 'ORG', 248, 249),\n  ('王建法', 'PERSON', 260, 261),\n  ('太平洋保险安丘支公司', 'ORG', 264, 268),\n  ('张上海', 'PERSON', 294, 295),\n  ('淄博天炀物流有限公司', 'ORG', 296, 301),\n  ('中国人保博山支公司', 'ORG', 302, 306),\n  ('2013年9月', 'DATE', 319, 321),\n  ('1日7时47分', 'TIME', 321, 324),\n  ('刘润伟', 'PERSON', 327, 328),\n  ('鲁XXXXX', 'PERSON', 329, 331),\n  ('鲁XXXXX', 'PRODUCT', 332, 334),\n  ('国道206线', 'FAC', 339, 342),\n  ('国道206线', 'FAC', 348, 351),\n  ('334公里', 'QUANTITY', 351, 353),\n  ('500米', 'QUANTITY', 354, 356),\n  ('赵同庆', 'PERSON', 364, 365),\n  ('鲁', 'PERSON', 367, 368),\n  ('崔秀英', 'PERSON', 374, 375),\n  ('刘玉强', 'PERSON', 376, 377),\n  ('杨灿珠', 'PERSON', 378, 379),\n  ('于常美', 'PERSON', 380, 381),\n  ('张先升', 'PERSON', 382, 383),\n  ('张渤海', 'PERSON', 384, 385),\n  ('XXXXX', 'PRODUCT', 389, 390),\n  ('国道206线', 'FAC', 396, 399),\n  ('张上海', 'PERSON', 405, 406),\n  ('鲁', 'ORG', 408, 409),\n  ('XXXXX', 'PRODUCT', 409, 410),\n  ('鲁', 'PERSON', 411, 412),\n  ('XXXXX', 'PRODUCT', 412, 413),\n  ('赵同庆', 'PERSON', 423, 424),\n  ('刘玉强', 'PERSON', 425, 426),\n  ('杨灿珠', 'PERSON', 427, 428),\n  ('张先升', 'PERSON', 429, 430),\n  ('于常美', 'PERSON', 431, 432),\n  ('张渤海', 'PERSON', 433, 434),\n  ('三', 'CARDINAL', 436, 437),\n  ('安丘市公安局交通警察大队', 'ORG', 440, 445),\n  ('刘润伟', 'PERSON', 448, 449),\n  ('赵同庆', 'PERSON', 462, 463),\n  ('张上海', 'PERSON', 478, 479),\n  ('崔秀英', 'PERSON', 481, 482),\n  ('安丘市中医院', 'ORG', 492, 494),\n  ('12天', 'DATE', 496, 498),\n  ('5459.31元', 'MONEY', 515, 517),\n  ('2014年1月21日', 'DATE', 518, 521),\n  ('1个月', 'DATE', 544, 547),\n  ('刘润伟', 'PERSON', 552, 553),\n  ('鲁', 'FAC', 555, 556),\n  ('XXXXX', 'PRODUCT', 556, 557),\n  ('鲁XXXXX挂', 'PRODUCT', 558, 561),\n  ('王建法', 'PERSON', 567, 568),\n  ('刘润伟', 'PERSON', 569, 570),\n  ('王建法', 'PERSON', 571, 572),\n  ('安丘市万鑫物流有限公司', 'ORG', 580, 585),\n  ('鲁', 'ORG', 586, 587),\n  ('XXXXX号', 'PRODUCT', 587, 589),\n  ('太平洋保险安丘支公司', 'ORG', 592, 596),\n  ('122000元', 'MONEY', 608, 610),\n  ('110000元', 'MONEY', 616, 618),\n  ('10000元', 'MONEY', 623, 625),\n  ('2000元', 'MONEY', 630, 632),\n  ('2013年', 'DATE', 636, 637),\n  ('6月10日零时', 'TIME', 637, 640),\n  ('2014年6月9日', 'DATE', 642, 645),\n  ('24时', 'TIME', 645, 646),\n  ('张上海', 'PERSON', 649, 650),\n  ('淄博天炀物流有限公司', 'ORG', 654, 659),\n  ('鲁XXXXX号货车', 'ORG', 660, 663),\n  ('中国人保博山支公司', 'ORG', 664, 668),\n  ('122000元', 'MONEY', 680, 682),\n  ('11000元', 'MONEY', 690, 692),\n  ('1000元', 'MONEY', 699, 701),\n  ('100元', 'MONEY', 708, 710),\n  ('2012年11月9日零时', 'TIME', 714, 718),\n  ('2013年11月8日24时止', 'TIME', 720, 725),\n  ('杨灿珠', 'PERSON', 726, 727),\n  ('张先升', 'PERSON', 728, 729),\n  ('于常美', 'PERSON', 730, 731),\n  ('赵同庆', 'PERSON', 732, 733),\n  ('张先升', 'PERSON', 739, 740),\n  ('6203.82元', 'MONEY', 747, 749),\n  ('赵同庆', 'PERSON', 750, 751),\n  ('11492.16元', 'MONEY', 758, 760),\n  ('于常美', 'PERSON', 761, 762),\n  ('5628.42元', 'MONEY', 769, 771),\n  ('杨灿珠', 'PERSON', 772, 773),\n  ('太平洋保险安丘支公司', 'ORG', 775, 779),\n  ('太平洋保险安丘支公司', 'ORG', 782, 787),\n  ('8000元', 'MONEY', 792, 794),\n  ('107556元', 'MONEY', 799, 801),\n  ('王建法', 'PERSON', 807, 808),\n  ('3500元', 'MONEY', 813, 815),\n  ('崔秀英', 'PERSON', 836, 837),\n  ('山东省统计局', 'ORG', 844, 846),\n  ('2012年度', 'DATE', 848, 850),\n  ('元／年', 'MONEY', 858, 859),\n  ('元／年', 'MONEY', 866, 867),\n  ('2013年12月28日', 'DATE', 868, 871),\n  ('本院', 'ORG', 875, 876),\n  ('5459.31元', 'MONEY', 886, 888),\n  ('2963.52元', 'MONEY', 890, 892),\n  ('846.72元', 'MONEY', 894, 896),\n  ('36元', 'MONEY', 900, 902),\n  ('300元', 'MONEY', 904, 906),\n  ('9605.55元', 'MONEY', 908, 910),\n  ('5459.31元', 'MONEY', 920, 922),\n  ('36元', 'MONEY', 926, 928)],\n 'srl': [[('原告崔秀英', 'ARG0', 0, 2),\n   ('诉称', 'PRED', 2, 3),\n   ('被告刘润伟承担事故的主要责任，赵同庆承担事故的次要责任，被告张上海、原告崔秀英无事故责任。二肇事车辆登记车主分别为安丘市万鑫物流有限公司、淄博天炀物流有限公司，分别投保于二被告保险公司。为此，原告诉至本院，请求依法判令被告赔偿原告医疗费、护理费等共计10000元；诉讼费用由被告负担。后变更诉讼请求，要求赔偿医疗费等损失共计9605.55元。被告刘润伟、王建法、安丘市万鑫物流有限公司共同辩称，发生事故属实，对事故责任划分无异议。鲁XXXXX（鲁XXXXX挂）车辆的实际车主是王建法，刘润伟是王建法雇佣的驾驶员，该车辆挂靠于安丘市万鑫物流有限公司。原告的损失保险公司在交强险范围内赔偿后，剩余部分应由王建法承担。被告太平洋保险安丘支公司辩称，发生事故属实，肇事车辆投保交强险属实，但投保车辆更改车牌号未经公司改批，所以不予赔偿。被告张上海、淄博天炀物流有限公司、中国人保博山支公司未到庭，亦未提交书面答辩状。经审理查明，2013年9月1日7时47分许，被告刘润伟驾驶鲁XXXXX（鲁XXXXX挂）号货车沿国道206线由南向北行驶至国道206线334公里＋500米处时，与前方顺行左转弯赵同庆驾驶的鲁XXXXX号三轮车（车斗内乘坐崔秀英、刘玉强、杨灿珠、于常美、张先升、张渤海）相撞，鲁XXXXX号三轮车前侧又与沿国道206线由北向南行驶被告张上海驾驶的鲁XXXXX（鲁XXXXX挂）号货车左侧相撞，致原告及赵同庆、刘玉强、杨灿珠、张先升、于常美、张渤海受伤，三车受损。安丘市公安局交通警察大队认定，被告刘润伟驾驶机动车未保持安全车速，承担事故的主要责任，赵同庆无证驾驶机动车转弯未确保安全承担事故的次要责任，被告张上海、原告崔秀英无事故责任。事故发生后，原告入安丘市中医院住院治疗12天，经诊断伤情为：左踝部皮裂伤、多处皮擦伤。原告支出医疗费5459.31元。2014年1月21日，该诊疗医院为原告出具伤情证明：原告住院期间需1人陪护，出院后继续休息治疗1个月。另查明，被告刘润伟驾驶的鲁XXXXX（鲁XXXXX挂）号货车车主为被告王建法，刘润伟是王建法雇佣的驾驶员，该车辆挂靠于安丘市万鑫物流有限公司。鲁XXXXX号车辆在被告太平洋保险安丘支公司投保了机动车交通事故责任强制保险，责任限额为122000元，其中死亡伤残赔偿限额110000元，医疗费用赔偿限额10000元，财产损失赔偿限额2000元。保险期间自2013年6月10日零时起至2014年6月9日24时止。被告张上海驾驶的车主为淄博天炀物流有限公司，鲁XXXXX号货车在中国人保博山支公司投保了机动车交通事故责任强制保险，责任限额为122000元，其中无责任死亡伤残赔偿限额11000元，无责任医疗费用赔偿限额1000元，无责任财产损失赔偿限额100元。保险期间自2012年11月9日零时起至2013年11月8日24时止。杨灿珠、张先升、于常美、赵同庆已向本院提起诉讼，张先升花费医疗费及住院伙食补助费共计6203.82元，赵同庆花费医疗费及住院伙食补助费共计11492.16元，于常美花费医疗费及住院伙食补助费共计5628.42元。杨灿珠已同太平洋保险安丘支公司达成调解，太平洋保险安丘支公司医疗费赔偿限额尚余8000元，死亡伤残赔偿限额107556元。事故发生后，被告王建法为原告垫付医疗费用3500元。原、被告一致同意该垫付款双方自行处理，不需原告返还。还查明，原告崔秀英为农村居民。再查明，山东省统计局公布的2012年度城镇居民人均可支配收入为25755元／年，农村居民人均纯收入为9446元／年。2013年12月28日，原告诉至本院，主张因该事故造成如下损失：医疗费5459.31元、误工费2963.52元、护理费846.72元、住院伙食补助费36元、交通费300元，共计9605.55元。其中，被告认可的损失有：医疗费5459.31元、住院伙食补助费36元。上述事实，有原告陈述、被告答辩，原告提供的交通事故认定书、住院病历、医疗费单据、汇总清单、伤情证明、车辆挂靠协议，机动车行驶证、驾驶证、交强险保单等已经当事人质证和本院审查的证据在案为证',\n    'ARG1',\n    97,\n    983)],\n  [('被告刘润伟', 'ARG0', 8, 10),\n   ('驾驶', 'PRED', 10, 11),\n   ('鲁XXXXX（鲁XXXXX挂）号货车沿国道206线', 'ARG1', 11, 24),\n   ('安丘市万鑫物流有限公司、淄博天炀物流有限公司', 'ARG1', 128, 139),\n   ('事故', 'ARG1', 271, 272),\n   ('原告及赵同庆、刘玉强、杨灿珠、张先升、于常美、张渤海', 'ARG1', 421, 434),\n   ('被告刘润伟', 'ARG0', 447, 449),\n   ('医疗费及住院伙食补助费', 'ARG1', 741, 746)],\n  [('沿国道206线', 'ARG0', 20, 24),\n   ('由南向北', 'ARGM-DIR', 24, 28),\n   ('行驶', 'PRED', 28, 29),\n   ('被告张上海、淄博天炀物流有限公司', 'ARG0', 293, 301)],\n  [('赵同庆', 'ARG0', 42, 43), ('驾驶', 'PRED', 43, 44)],\n  [('乘坐', 'PRED', 51, 52), ('崔秀英、刘玉强、杨灿珠、张先升、于常美、张渤海', 'ARG1', 52, 63)],\n  [('与赵同庆驾驶的鲁XXXXX号三轮车（车上乘坐崔秀英、刘玉强、杨灿珠、张先升、于常美、张渤海）', 'ARG0', 41, 64),\n   ('相撞', 'PRED', 64, 65)],\n  [('张上海', 'ARG0', 69, 70),\n   ('驾驶', 'PRED', 70, 71),\n   ('货车', 'ARG1', 80, 81),\n   ('被告', 'ARG0', 913, 914),\n   ('损失', 'ARG1', 916, 917)],\n  [('又', 'ARGM-DIS', 67, 68),\n   ('与张上海驾驶的鲁XXXXX（鲁XXXXX挂）号货车', 'ARG0', 68, 81),\n   ('相撞', 'PRED', 81, 82),\n   ('2013年9月1日7时47分许', 'ARGM-TMP', 319, 325),\n   ('其中', 'ARGM-LOC', 911, 912)],\n  [('致', 'PRED', 83, 84), ('发生事故属实', 'ARG0', 202, 205)],\n  [('安丘市公安局交通警察大队', 'ARG0', 90, 95),\n   ('认定', 'PRED', 95, 96),\n   ('被告刘润伟承担事故的主要责任，赵同庆承担事故的次要责任，被告张上海、原告崔秀英无事故责任', 'ARG1', 97, 120),\n   ('发生事故属实，对事故责任划分无异议。鲁XXXXX（鲁XXXXX挂）车辆的实际车主是王建法，刘润伟是王建法雇佣的驾驶员，该车辆挂靠于安丘市万鑫物流有限公司。原告的损失保险公司在交强险范围内赔偿后，剩余部分应由王建法承担',\n    'ARG1',\n    202,\n    262),\n   ('左踝部皮裂伤、多处皮擦伤。原告支出医疗费5459.31元。2014年1月21日，该诊疗医院为原告出具伤情证明：原告住院期间需1人陪护，出院后继续休息治疗1个月',\n    'ARG1',\n    504,\n    547),\n   ('被告张上海驾驶的车主为淄博天炀物流有限公司，鲁XXXXX号货车在中国人保博山支公司投保了机动车交通事故责任强制保险，责任限额为122000元，其中无责任死亡伤残赔偿限额11000元，无责任医疗费用赔偿限额1000元，无责任财产损失赔偿限额100元',\n    'ARG1',\n    648,\n    710),\n   ('太平洋保险安丘支公司医疗费赔偿限额尚余8000元，死亡伤残赔偿限额107556元。事故发生后，被告王建法为原告垫付医疗费用3500元。原、被告一致同意该垫付款双方自行处理，不需原告返还',\n    'ARG1',\n    782,\n    831),\n   ('医疗费5459.31元、住院伙食补助费36元。上述事实，有原告陈述、被告答辩，原告提供的交通事故认定书、住院病历、医疗费单据、汇总清单、伤情证明、车辆挂靠协议，机动车行驶证、驾驶证、交强险保单等已经当事人质证和本院审查的证据在案为证',\n    'ARG1',\n    919,\n    983)],\n  [('被告刘润伟', 'ARG0', 97, 99),\n   ('承担', 'PRED', 99, 100),\n   ('事故的主要责任', 'ARG1', 100, 104),\n   ('事故的次要责任', 'ARG1', 107, 111),\n   ('1人陪护', 'ARG1', 535, 538),\n   ('如下损失', 'ARG1', 882, 884)],\n  [('被告刘润伟', 'ARG0', 97, 99),\n   ('承担', 'PRED', 106, 107),\n   ('如下损失', 'ARG1', 882, 884)],\n  [('无', 'PRED', 117, 118), ('事故责任', 'ARG1', 118, 120)],\n  [('2013年9月1日', 'ARGM-TMP', 4, 7),\n   ('为安丘市万鑫物流有限公司、淄博天炀物流有限公司', 'ARG1', 127, 139),\n   ('分别', 'ARGM-ADV', 140, 141),\n   ('投保', 'PRED', 141, 142),\n   ('于二被告保险公司', 'ARG1', 142, 147),\n   ('被告刘润伟驾驶的鲁XXXXX（鲁XXXXX挂）号货车车主', 'ARG0', 551, 565),\n   ('自2012年11月9日零时起至2013年11月8日24时止', 'ARGM-TMP', 713, 725),\n   ('杨灿珠、张先升、于常美、赵同庆', 'ARG0', 726, 733),\n   ('已', 'ARGM-ADV', 733, 734),\n   ('2013年12月28日', 'ARGM-TMP', 868, 871)],\n  [('被告刘润伟', 'ARG0', 8, 10),\n   ('原告', 'ARG0', 150, 151),\n   ('诉', 'PRED', 151, 152),\n   ('被告刘润伟', 'ARG0', 447, 449),\n   ('于安丘市万鑫物流有限公司', 'ARG2', 579, 585),\n   ('原告', 'ARG0', 872, 873)],\n  [('2013年9月1日', 'ARGM-TMP', 4, 7),\n   ('由南向北行驶至国道206线334公里＋500米处时', 'ARG2', 24, 40),\n   ('请求', 'PRED', 155, 156),\n   ('赔偿原告医疗费、护理费等共计10000元', 'ARG2', 159, 168),\n   ('及赵同庆、刘玉强、杨灿珠、张先升、于常美、张渤海受伤，三车受损', 'ARGM-ADV', 422, 439),\n   ('被告刘润伟驾驶机动车未保持安全车速，承担事故的主要责任', 'ARG1', 447, 461),\n   ('保险期间自2012年11月9日零时起至2013年11月8日24时止', 'ARGM-TMP', 711, 725),\n   ('2013年12月28日', 'ARGM-TMP', 868, 871),\n   ('因该事故造成如下损失：医疗费5459.31元、误工费2963.52元、护理费846.72元、住院伙食补助费36元、交通费300元，共计9605.55元',\n    'ARG2',\n    878,\n    910)],\n  [('由南向北行驶至国道206线334公里＋500米处时', 'ARG2', 24, 40),\n   ('判令', 'PRED', 157, 158),\n   ('被告', 'ARG1', 158, 159),\n   ('赔偿原告医疗费、护理费等共计10000元', 'ARG2', 159, 168),\n   ('被告张上海、淄博天炀物流有限公司、中国人保博山支公司未到庭', 'ARG2', 293, 308)],\n  [('赔偿', 'PRED', 159, 160), ('原告医疗费、护理费等', 'ARG1', 160, 165)],\n  [('由被告', 'ARG0', 171, 173),\n   ('负担', 'PRED', 173, 174),\n   ('由王建法', 'ARG0', 259, 261),\n   ('其中', 'ARGM-LOC', 911, 912)],\n  [('变更', 'PRED', 176, 177), ('诉讼请求', 'ARG1', 177, 179)],\n  [('要求', 'PRED', 180, 181), ('赔偿医疗费等损失', 'ARG2', 181, 185)],\n  [('赔偿', 'PRED', 181, 182),\n   ('医疗费等损失', 'ARG1', 182, 185),\n   ('12天', 'ARGM-EXT', 496, 498)],\n  [('辩称', 'PRED', 200, 201),\n   ('被告答辩，原告提供的交通事故认定书、住院病历、医疗费单据、汇总清单、伤情证明、车辆挂靠协议，机动车行驶证、驾驶证',\n    'ARG1',\n    936,\n    966)],\n  [('属实', 'PRED', 204, 205), ('该垫付款双方', 'ARG0', 821, 824)],\n  [('无', 'PRED', 210, 211),\n   ('异议', 'ARG1', 211, 212),\n   ('其中', 'ARGM-DIS', 683, 684)],\n  [('鲁XXXXX挂）车辆的实际车主', 'ARG0', 216, 224),\n   ('是', 'PRED', 224, 225),\n   ('被告张上海驾驶的车主', 'ARG0', 648, 653),\n   ('其中', 'ARGM-LOC', 683, 684),\n   ('上述事实', 'ARG0', 929, 931)],\n  [('是', 'PRED', 228, 229),\n   ('王建法雇佣的驾驶员', 'ARG1', 229, 233),\n   ('该车辆', 'ARG0', 234, 236),\n   ('崔秀英、刘玉强、杨灿珠、于常美、张先升、张渤海', 'ARG1', 374, 385),\n   ('鲁XXXXX号三轮车前侧', 'ARG0', 388, 393),\n   ('责任限额', 'ARG0', 677, 679),\n   ('122000元', 'ARG1', 680, 682),\n   ('上述事实', 'ARG0', 929, 931)],\n  [('该车辆', 'ARG0', 234, 236),\n   ('挂靠', 'PRED', 236, 237),\n   ('于安丘市万鑫物流有限公司', 'ARG1', 237, 243),\n   ('2013年9月1日7时47分许', 'ARGM-TMP', 319, 325),\n   ('保险期间自2013年6月10日零时起至2014年6月9日24时止', 'ARGM-TMP', 633, 647)],\n  [('2013年9月1日', 'ARGM-TMP', 4, 7),\n   ('赔偿', 'PRED', 253, 254),\n   ('向本院', 'ARG2', 734, 736)],\n  [('由王建法', 'ARG0', 259, 261), ('承担', 'PRED', 261, 262)],\n  [('未经', 'ARGM-ADV', 285, 286),\n   ('公司', 'ARG0', 286, 287),\n   ('改批', 'PRED', 287, 288),\n   ('王建法', 'ARG0', 571, 572),\n   ('在被告太平洋保险安丘支公司', 'ARGM-LOC', 590, 596)],\n  [('亦', 'ARGM-ADV', 309, 310),\n   ('未', 'ARGM-ADV', 310, 311),\n   ('提交', 'PRED', 311, 312),\n   ('书面答辩状', 'ARG1', 312, 314)],\n  [('查明', 'PRED', 317, 318),\n   ('前方顺行左转弯赵同庆驾驶的鲁XXXXX号三轮车（车斗内乘坐崔秀英、刘玉强、杨灿珠、于常美、张先升、张渤海）', 'ARG0', 360, 386),\n   ('原告', 'ARG0', 933, 934),\n   ('被告答辩，原告提供的交通事故认定书、住院病历、医疗费单据、汇总清单、伤情证明、车辆挂靠协议，机动车行驶证、驾驶证、交强险保单等已经当事人质证和本院审查的证据',\n    'ARG1',\n    936,\n    979)],\n  [('鲁XXXXX（鲁XXXXX挂）号货车', 'ARG0', 72, 81),\n   ('驾驶', 'PRED', 328, 329),\n   ('鲁XXXXX（鲁XXXXX挂）号货车沿国道206线', 'ARG1', 329, 342),\n   ('崔秀英、刘玉强、杨灿珠、于常美、张先升、张渤海）', 'ARG1', 374, 386)],\n  [('于安丘市万鑫物流有限公司', 'ARG1', 237, 243),\n   ('行驶', 'PRED', 346, 347),\n   ('国道206线334公里＋500米处', 'ARG1', 348, 357),\n   ('崔秀英、刘玉强、杨灿珠、于常美、张先升、张渤海', 'ARG1', 374, 385)],\n  [('安丘市万鑫物流有限公司', 'ARG1', 238, 243), ('至', 'PRED', 347, 348)],\n  [('前方顺行左转弯赵同庆', 'ARG0', 360, 365),\n   ('驾驶', 'PRED', 365, 366),\n   ('原告', 'ARG0', 939, 940)],\n  [('相撞', 'PRED', 386, 387),\n   ('原、被告', 'ARG0', 816, 819),\n   ('一致', 'ARGM-ADV', 819, 820)],\n  [('驾驶', 'PRED', 406, 407),\n   ('已', 'ARGM-ADV', 970, 971),\n   ('经当事人', 'ARG0', 971, 973),\n   ('证据', 'ARG1', 978, 979)],\n  [('2013年9月1日', 'ARGM-TMP', 4, 7),\n   ('相撞', 'PRED', 418, 419),\n   ('杨灿珠、张先升、于常美、赵同庆', 'ARG0', 726, 733),\n   ('已', 'ARGM-ADV', 733, 734),\n   ('向本院', 'ARG1', 734, 736),\n   ('2013年12月28日', 'ARGM-TMP', 868, 871)],\n  [('三车', 'ARG0', 436, 438), ('受损', 'PRED', 438, 439)],\n  [('原告诉至本院，请求依法判令被告赔偿原告医疗费、护理费等共计10000元；诉讼费用由被告负担。后变更诉讼请求，要求赔偿医疗费等损失共计9605.55元',\n    'ARG1',\n    150,\n    188),\n   ('发生事故属实，肇事车辆投保交强险属实，但投保车辆更改车牌号未经公司改批，所以不予赔偿', 'ARG1', 270, 292),\n   ('认定', 'PRED', 445, 446),\n   ('被告刘润伟驾驶机动车未保持安全车速，承担事故的主要责任，赵同庆无证驾驶机动车转弯未确保安全承担事故的次要责任，被告张上海、原告崔秀英无事故责任',\n    'ARG1',\n    447,\n    485),\n   ('鲁XXXXX号车辆在被告太平洋保险安丘支公司投保了机动车交通事故责任强制保险，责任限额为122000元，其中死亡伤残赔偿限额110000元，医疗费用赔偿限额10000元，财产损失赔偿限额2000元',\n    'ARG1',\n    586,\n    632),\n   ('张先升花费医疗费及住院伙食补助费共计6203.82元，赵同庆花费医疗费及住院伙食补助费共计11492.16元，于常美花费医疗费及住院伙食补助费共计5628.42元',\n    'ARG1',\n    739,\n    771),\n   ('原告', 'ARG0', 872, 873),\n   ('因该事故造成如下损失：医疗费5459.31元、误工费2963.52元、护理费846.72元、住院伙食补助费36元、交通费300元，共计9605.55元',\n    'ARG1',\n    878,\n    910)],\n  [('事故', 'ARG1', 271, 272),\n   ('被告刘润伟', 'ARG0', 447, 449),\n   ('驾驶', 'PRED', 449, 450),\n   ('机动车', 'ARG1', 450, 451),\n   ('张先升', 'ARG0', 739, 740)],\n  [('被告刘润伟驾驶机动车', 'ARG0', 447, 451),\n   ('未', 'ARGM-ADV', 451, 452),\n   ('保持', 'PRED', 452, 453),\n   ('机动车交通事故责任强制保险', 'ARG1', 598, 604)],\n  [('安全车速', 'ARG1', 453, 455),\n   ('承担', 'PRED', 456, 457),\n   ('事故的主要责任', 'ARG1', 457, 461),\n   ('杨灿珠、张先升、于常美、赵同庆', 'ARG0', 726, 733)],\n  [('无', 'PRED', 463, 464), ('证', 'ARG1', 464, 465), ('责任', 'ARG1', 685, 686)],\n  [('安全', 'ARGM-ADV', 470, 471),\n   ('承担', 'PRED', 471, 472),\n   ('事故的次要责任', 'ARG1', 472, 476),\n   ('事故责任', 'ARG1', 483, 485)],\n  [('无', 'PRED', 482, 483), ('事故责任', 'ARG1', 483, 485)],\n  [('事故', 'ARG0', 486, 487),\n   ('发生', 'PRED', 487, 488),\n   ('事故', 'ARG0', 802, 803)],\n  [('2013年9月1日7时47分许', 'ARGM-TMP', 319, 325), ('住院', 'PRED', 494, 495)],\n  [('2013年9月1日7时47分许', 'ARGM-TMP', 319, 325),\n   ('被告刘润伟驾驶鲁XXXXX（鲁XXXXX挂）号货车', 'ARG0', 326, 338),\n   ('沿国道206线', 'ARGM-ADV', 338, 342),\n   ('原告', 'ARG0', 490, 491),\n   ('治疗', 'PRED', 495, 496),\n   ('12天', 'ARGM-EXT', 496, 498),\n   ('1个月', 'ARGM-EXT', 544, 547)],\n  [('为', 'PRED', 502, 503), ('上述事实', 'ARG0', 929, 931)],\n  [('发生事故属实', 'ARGM-ADV', 202, 205), ('擦伤', 'PRED', 510, 511)],\n  [('发生事故属实', 'ARGM-ADV', 202, 205),\n   ('原告', 'ARG0', 490, 491),\n   ('原告', 'ARG0', 512, 513),\n   ('支出', 'PRED', 513, 514),\n   ('被告张上海驾驶的车主', 'ARG0', 648, 653),\n   ('事故发生后', 'ARGM-TMP', 802, 805),\n   ('被告王建法', 'ARG0', 806, 808),\n   ('为原告', 'ARG2', 808, 810)],\n  [('又', 'ARGM-DIS', 67, 68),\n   ('与张上海驾驶的鲁XXXXX（鲁XXXXX挂）号货车', 'ARG0', 68, 81),\n   ('安丘市公安局交通警察大队', 'ARG0', 90, 95),\n   ('王建法，刘润伟是王建法雇佣的驾驶员', 'ARG1', 225, 233),\n   ('崔秀英、刘玉强、杨灿珠、于常美、张先升、张渤海）', 'ARG1', 374, 386),\n   ('鲁XXXXX号三轮车前侧', 'ARG0', 388, 393),\n   ('事故发生后', 'ARGM-TMP', 486, 489),\n   ('原告', 'ARG0', 490, 491),\n   ('该诊疗医院', 'ARG0', 522, 525),\n   ('为原告', 'ARGM-BNF', 525, 527),\n   ('出具', 'PRED', 527, 528),\n   ('伤情证明', 'ARG1', 528, 530),\n   ('责任限额', 'ARG0', 677, 679),\n   ('122000元', 'ARG1', 680, 682),\n   ('杨灿珠', 'ARG0', 772, 773),\n   ('已', 'ARGM-ADV', 773, 774),\n   ('调解', 'ARG1', 780, 781),\n   ('医疗费用3500元', 'ARG1', 811, 815),\n   ('原、被告', 'ARG0', 816, 819),\n   ('一致', 'ARGM-ADV', 819, 820)],\n  [('住院', 'PRED', 532, 533), ('期间', 'ARGM-TMP', 533, 534)],\n  [('需', 'PRED', 534, 535),\n   ('1人', 'ARG1', 535, 537),\n   ('陪护', 'ARG2', 537, 538),\n   ('原告陈述', 'ARG1', 933, 935)],\n  [('2014年1月21日', 'ARGM-TMP', 518, 521),\n   ('出院后', 'ARGM-TMP', 539, 541),\n   ('继续', 'PRED', 541, 542),\n   ('休息治疗1个月', 'ARG1', 542, 547),\n   ('自2013年6月10日零时起至2014年6月9日24时', 'ARGM-TMP', 635, 646),\n   ('被告张上海驾驶的车主', 'ARG1', 648, 653),\n   ('自2012年11月9日零时起至2013年11月8日24时', 'ARGM-TMP', 713, 724)],\n  [('12天', 'ARGM-EXT', 496, 498),\n   ('2014年1月21日', 'ARGM-TMP', 518, 521),\n   ('治疗', 'PRED', 543, 544),\n   ('1个月', 'ARGM-EXT', 544, 547)],\n  [('另', 'ARGM-ADV', 548, 549),\n   ('查明', 'PRED', 549, 550),\n   ('太平洋保险安丘支公司医疗费赔偿限额尚余8000元，死亡伤残赔偿限额107556元', 'ARG1', 782, 801),\n   ('还', 'ARGM-ADV', 832, 833),\n   ('再', 'ARGM-ADV', 841, 842)],\n  [('驾驶', 'PRED', 553, 554),\n   ('收入', 'ARG1', 855, 856),\n   ('证据', 'ARG1', 978, 979)],\n  [('被告刘润伟驾驶的鲁XXXXX（鲁XXXXX挂）号货车车主', 'ARG0', 551, 565),\n   ('为', 'PRED', 565, 566)],\n  [('但', 'ARGM-DIS', 280, 281),\n   ('投保车辆更改车牌号', 'ARG0', 281, 285),\n   ('未经', 'ARGM-ADV', 285, 286),\n   ('被告刘润伟驾驶的鲁XXXXX（鲁XXXXX挂）号货车车主', 'ARG0', 551, 565),\n   ('是', 'PRED', 570, 571),\n   ('王建法雇佣的驾驶员', 'ARG1', 571, 575)],\n  [('王建法', 'ARG0', 571, 572),\n   ('雇佣', 'PRED', 572, 573),\n   ('驾驶员', 'ARG1', 574, 575),\n   ('收入', 'ARG1', 855, 856)],\n  [('挂靠', 'PRED', 578, 579),\n   ('保险期间自2012年11月9日零时起至2013年11月8日24时止', 'ARGM-TMP', 711, 725)],\n  [('在被告太平洋保险安丘支公司', 'ARGM-LOC', 590, 596), ('投保', 'PRED', 596, 597)],\n  [('与前方顺行左转弯赵同庆驾驶的鲁XXXXX号三轮车（车斗内乘坐崔秀英、刘玉强、杨灿珠、于常美、张先升、张渤海', 'ARG0', 359, 385),\n   ('止', 'PRED', 646, 647)],\n  [('被告张上海', 'ARG0', 648, 650),\n   ('驾驶', 'PRED', 650, 651),\n   ('车主', 'ARG1', 652, 653),\n   ('损失', 'ARG1', 916, 917),\n   ('原告', 'ARG0', 939, 940)],\n  [('被告张上海驾驶的车主', 'ARG0', 648, 653),\n   ('为', 'PRED', 653, 654),\n   ('其中', 'ARGM-LOC', 683, 684),\n   ('上述事实', 'ARG0', 929, 931)],\n  [('发生事故属实', 'ARGM-ADV', 202, 205),\n   ('2014年1月21日', 'ARGM-TMP', 518, 521),\n   ('被告张上海驾驶的车主', 'ARG0', 648, 653),\n   ('鲁XXXXX号货车', 'ARG0', 660, 663),\n   ('在中国人保博山支公司', 'ARGM-LOC', 663, 668),\n   ('投保', 'PRED', 668, 669),\n   ('事故发生后', 'ARGM-TMP', 802, 805),\n   ('被告王建法', 'ARG0', 806, 808),\n   ('上述事实', 'ARGM-TPC', 929, 931)],\n  [('1人陪护', 'ARG1', 535, 538),\n   ('责任限额', 'ARG0', 677, 679),\n   ('为', 'PRED', 679, 680),\n   ('122000元', 'ARG1', 680, 682),\n   ('其中', 'ARGM-LOC', 911, 912),\n   ('原告陈述', 'ARG1', 933, 935)],\n  [('事故', 'ARG1', 203, 204),\n   ('证', 'ARG1', 464, 465),\n   ('无', 'PRED', 684, 685),\n   ('责任', 'ARG1', 685, 686),\n   ('责任', 'ARG1', 694, 695),\n   ('责任', 'ARG1', 703, 704)],\n  [('证', 'ARG1', 464, 465),\n   ('责任', 'ARG1', 685, 686),\n   ('无', 'PRED', 693, 694),\n   ('责任', 'ARG1', 694, 695),\n   ('责任', 'ARG1', 703, 704)],\n  [('货车', 'ARG0', 416, 417),\n   ('证', 'ARG1', 464, 465),\n   ('责任', 'ARG1', 685, 686),\n   ('责任', 'ARG1', 694, 695),\n   ('无', 'PRED', 702, 703),\n   ('责任', 'ARG1', 703, 704)],\n  [('2013年9月1日', 'ARGM-TMP', 4, 7),\n   ('已', 'ARGM-ADV', 733, 734),\n   ('向本院', 'ARGM-DIR', 734, 736),\n   ('提起', 'PRED', 736, 737),\n   ('诉讼', 'ARG1', 737, 738)],\n  [('被告刘润伟', 'ARG0', 447, 449),\n   ('机动车', 'ARG1', 450, 451),\n   ('花费', 'PRED', 740, 741)],\n  [('被告张上海、淄博天炀物流有限公司、中国人保博山支公司', 'ARG2', 293, 306),\n   ('赵同庆', 'ARG0', 750, 751),\n   ('花费', 'PRED', 751, 752)],\n  [('又', 'ARGM-DIS', 67, 68),\n   ('与张上海驾驶的鲁XXXXX（鲁XXXXX挂）号货车', 'ARG0', 68, 81),\n   ('鲁XXXXX号三轮车前侧', 'ARG0', 388, 393),\n   ('原告', 'ARG0', 490, 491),\n   ('该诊疗医院', 'ARG0', 522, 525),\n   ('为原告', 'ARGM-BNF', 525, 527),\n   ('杨灿珠', 'ARG0', 772, 773),\n   ('已', 'ARGM-ADV', 773, 774),\n   ('同太平洋保险安丘支公司', 'ARG0-CRD', 774, 779),\n   ('达成', 'PRED', 779, 780),\n   ('调解', 'ARG1', 780, 781)],\n  [('122000元', 'ARG1', 680, 682),\n   ('调解', 'ARG1', 780, 781),\n   ('尚', 'ARGM-ADV', 790, 791),\n   ('余', 'PRED', 791, 792),\n   ('8000元', 'ARG1', 792, 794)],\n  [('事故', 'ARG0', 486, 487),\n   ('事故', 'ARG0', 802, 803),\n   ('发生', 'PRED', 803, 804)],\n  [('又', 'ARGM-ADV', 67, 68),\n   ('与张上海驾驶的鲁XXXXX（鲁XXXXX挂）号货车', 'ARG0', 68, 81),\n   ('2013年9月1日7时47分许', 'ARGM-TMP', 319, 325),\n   ('沿国道206线', 'ARGM-MNR', 338, 342),\n   ('崔秀英、刘玉强、杨灿珠、于常美、张先升、张渤海', 'ARG2', 374, 385),\n   ('为原告', 'ARG2', 525, 527),\n   ('杨灿珠', 'ARG0', 772, 773),\n   ('已', 'ARGM-ADV', 773, 774),\n   ('同太平洋保险安丘支公司', 'ARG0', 774, 779),\n   ('垫付', 'PRED', 810, 811),\n   ('医疗费用', 'ARG1', 811, 813),\n   ('3500元', 'ARG2', 813, 815)],\n  [('安丘市公安局交通警察大队', 'ARG0', 90, 95),\n   ('原、被告', 'ARG0', 816, 819),\n   ('一致', 'ARGM-ADV', 819, 820),\n   ('同意', 'PRED', 820, 821),\n   ('该垫付款双方自行处理', 'ARG1', 821, 826)],\n  [('该垫付款双方', 'ARG0', 821, 824),\n   ('自行', 'ARGM-ADV', 824, 825),\n   ('处理', 'PRED', 825, 826)],\n  [('另', 'ARGM-DIS', 548, 549),\n   ('太平洋保险安丘支公司医疗费赔偿限额尚余8000元，死亡伤残赔偿限额107556元', 'ARG1', 782, 801),\n   ('还', 'ARGM-DIS', 832, 833),\n   ('查明', 'PRED', 833, 834),\n   ('再', 'ARGM-ADV', 841, 842)],\n  [('为', 'PRED', 837, 838), ('农村居民', 'ARG1', 838, 840)],\n  [('被告刘润伟驾驶机动车未保持安全车速，承担事故的主要责任，赵同庆无证驾驶机动车转弯未确保安全承担事故的次要责任',\n    'ARG1',\n    447,\n    476),\n   ('再', 'ARGM-ADV', 841, 842),\n   ('查明', 'PRED', 842, 843)],\n  [('被告刘润伟', 'ARG0', 447, 449),\n   ('山东省统计局', 'ARG0', 844, 846),\n   ('公布', 'PRED', 846, 847),\n   ('收入', 'ARG1', 855, 856)],\n  [('支配', 'PRED', 854, 855), ('收入', 'ARG1', 855, 856)],\n  [('为', 'PRED', 856, 857), ('25755元／年', 'ARG1', 857, 859)],\n  [('2013年9月1日', 'ARGM-TMP', 4, 7),\n   ('被告刘润伟', 'ARG0', 8, 10),\n   ('于二被告保险公司', 'ARG2', 142, 147),\n   ('原告', 'ARG0', 150, 151),\n   ('被告刘润伟', 'ARG0', 447, 449),\n   ('于安丘市万鑫物流有限公司', 'ARG2', 579, 585),\n   ('2013年12月28日', 'ARGM-TMP', 868, 871),\n   ('原告', 'ARG0', 872, 873),\n   ('诉', 'PRED', 873, 874),\n   ('至本院', 'ARG2', 874, 876)],\n  [('2013年9月1日', 'ARGM-TMP', 4, 7),\n   ('依法判令被告赔偿原告医疗费、护理费等共计10000元；诉讼费用由被告负担', 'ARG1', 156, 174),\n   ('发生事故属实，肇事车辆投保交强险属实，但投保车辆更改车牌号未经公司改批，所以不予赔偿', 'ARG1', 270, 292),\n   ('被告刘润伟驾驶机动车未保持安全车速，承担事故的主要责任，赵同庆无证驾驶机动车转弯未确保安全承担事故的次要责任，被告张上海、原告崔秀英无事故责任',\n    'ARG1',\n    447,\n    485),\n   ('鲁XXXXX号车辆在被告太平洋保险安丘支公司投保了机动车交通事故责任强制保险', 'ARG1', 586, 604),\n   ('张先升花费医疗费及住院伙食补助费共计6203.82元，赵同庆花费医疗费及住院伙食补助费共计11492.16元，于常美花费医疗费及住院伙食补助费共计5628.42元',\n    'ARG1',\n    739,\n    771),\n   ('2013年12月28日', 'ARGM-TMP', 868, 871),\n   ('原告', 'ARG0', 872, 873),\n   ('主张', 'PRED', 877, 878),\n   ('因该事故造成如下损失：医疗费5459.31元、误工费2963.52元、护理费846.72元、住院伙食补助费36元、交通费300元，共计9605.55元',\n    'ARG1',\n    878,\n    910)],\n  [('被告刘润伟', 'ARG0', 447, 449),\n   ('在被告太平洋保险安丘支公司', 'ARGM-LOC', 590, 596),\n   ('机动车交通事故责任强制保险', 'ARG1', 598, 604),\n   ('造成', 'PRED', 881, 882),\n   ('如下损失', 'ARG1', 882, 884)],\n  [('被告', 'ARG0', 913, 914),\n   ('认可', 'PRED', 914, 915),\n   ('损失', 'ARG1', 916, 917)],\n  [('发生事故属实', 'ARGM-ADV', 202, 205),\n   ('责任限额', 'ARG0', 677, 679),\n   ('太平洋保险安丘支公司医疗费赔偿限额', 'ARG0', 782, 790),\n   ('其中', 'ARGM-LOC', 911, 912),\n   ('有', 'PRED', 917, 918),\n   ('上述事实', 'ARG0', 929, 931)],\n  [('被告刘润伟、王建法、安丘市万鑫物流有限公司', 'ARG0', 189, 199),\n   ('鲁XXXXX（鲁XXXXX挂）车辆的实际车主', 'ARG0', 213, 224),\n   ('鲁XXXXX号三轮车前侧', 'ARG0', 388, 393),\n   ('太平洋保险安丘支公司医疗费赔偿限额', 'ARG0', 782, 790),\n   ('上述事实', 'ARG0', 929, 931),\n   ('有', 'PRED', 932, 933),\n   ('原告陈述', 'ARG1', 933, 935)],\n  [('原告', 'ARG0', 933, 934), ('陈述', 'PRED', 934, 935)],\n  [('原告', 'ARG0', 933, 934), ('答辩', 'PRED', 937, 938)],\n  [('前方顺行左转弯赵同庆', 'ARG0', 360, 365),\n   ('被告张上海', 'ARG0', 648, 650),\n   ('损失', 'ARG1', 916, 917),\n   ('原告', 'ARG0', 939, 940),\n   ('提供', 'PRED', 940, 941)],\n  [('当事人', 'ARG0', 972, 973), ('质证', 'PRED', 973, 974)],\n  [('王建法', 'ARG0', 571, 572),\n   ('当事人', 'ARG0', 972, 973),\n   ('本院', 'ARG0', 975, 976),\n   ('审查', 'PRED', 976, 977),\n   ('证据', 'ARG1', 978, 979)],\n  [('未经公司', 'ARG2', 285, 287),\n   ('及赵同庆、刘玉强、杨灿珠、张先升、于常美、张渤海受伤，三车', 'ARG2', 422, 438),\n   ('被告刘润伟驾驶的鲁XXXXX（鲁XXXXX挂）号货车车主', 'ARG0', 551, 565),\n   ('经当事人质证和本院审查的证据在案', 'ARG2', 971, 981),\n   ('为', 'PRED', 981, 982),\n   ('证', 'ARG1', 982, 983)]],\n 'dep': [(2, 'nn'),\n  (3, 'nsubj'),\n  (0, 'root'),\n  (3, 'punct'),\n  (7, 'nn'),\n  (7, 'nn'),\n  (419, 'dep'),\n  (419, 'punct'),\n  (10, 'nn'),\n  (11, 'nsubj'),\n  (419, 'dep'),\n  (13, 'nn'),\n  (19, 'dep'),\n  (17, 'punct'),\n  (17, 'dep'),\n  (17, 'dep'),\n  (19, 'dep'),\n  (17, 'punct'),\n  (20, 'nn'),\n  (11, 'dobj'),\n  (29, 'prep'),\n  (24, 'dep'),\n  (24, 'ordmod'),\n  (21, 'pobj'),\n  (29, 'prep'),\n  (25, 'pobj'),\n  (29, 'prep'),\n  (27, 'pobj'),\n  (419, 'dep'),\n  (29, 'prep'),\n  (33, 'dep'),\n  (33, 'ordmod'),\n  (39, 'nn'),\n  (35, 'nummod'),\n  (39, 'clf'),\n  (38, 'punct'),\n  (38, 'nummod'),\n  (39, 'clf'),\n  (30, 'pobj'),\n  (29, 'loc'),\n  (29, 'punct'),\n  (29, 'prep'),\n  (44, 'nsubj'),\n  (49, 'rcmod'),\n  (44, 'cpm'),\n  (48, 'nn'),\n  (48, 'nn'),\n  (49, 'nn'),\n  (52, 'dobj'),\n  (52, 'punct'),\n  (52, 'dep'),\n  (66, 'lccomp'),\n  (63, 'conj'),\n  (63, 'punct'),\n  (63, 'conj'),\n  (63, 'punct'),\n  (63, 'conj'),\n  (63, 'punct'),\n  (63, 'conj'),\n  (63, 'punct'),\n  (63, 'conj'),\n  (63, 'punct'),\n  (52, 'dobj'),\n  (63, 'punct'),\n  (66, 'lccomp'),\n  (82, 'loc'),\n  (82, 'punct'),\n  (82, 'advmod'),\n  (82, 'prep'),\n  (71, 'nsubj'),\n  (81, 'rcmod'),\n  (71, 'cpm'),\n  (74, 'nn'),\n  (81, 'nn'),\n  (78, 'punct'),\n  (77, 'nn'),\n  (78, 'dep'),\n  (81, 'prnmod'),\n  (78, 'punct'),\n  (81, 'clf'),\n  (69, 'pobj'),\n  (96, 'ccomp'),\n  (82, 'punct'),\n  (82, 'dep'),\n  (84, 'dobj'),\n  (84, 'dep'),\n  (84, 'punct'),\n  (89, 'nsubj'),\n  (84, 'dep'),\n  (96, 'punct'),\n  (92, 'nn'),\n  (95, 'nn'),\n  (95, 'nn'),\n  (95, 'nn'),\n  (96, 'nsubj'),\n  (419, 'conj'),\n  (96, 'punct'),\n  (99, 'nn'),\n  (100, 'nsubj'),\n  (96, 'ccomp'),\n  (104, 'assmod'),\n  (101, 'assm'),\n  (104, 'amod'),\n  (100, 'dobj'),\n  (100, 'punct'),\n  (107, 'nsubj'),\n  (100, 'conj'),\n  (111, 'assmod'),\n  (108, 'assm'),\n  (111, 'amod'),\n  (100, 'dobj'),\n  (419, 'punct'),\n  (114, 'nn'),\n  (419, 'dep'),\n  (117, 'punct'),\n  (117, 'nn'),\n  (118, 'top'),\n  (419, 'conj'),\n  (120, 'nn'),\n  (118, 'dobj'),\n  (419, 'punct'),\n  (128, 'dep'),\n  (124, 'nn'),\n  (126, 'nn'),\n  (126, 'nn'),\n  (128, 'nsubj'),\n  (128, 'advmod'),\n  (419, 'conj'),\n  (133, 'nn'),\n  (133, 'nn'),\n  (133, 'nn'),\n  (133, 'amod'),\n  (139, 'conj'),\n  (139, 'punct'),\n  (139, 'nn'),\n  (139, 'nn'),\n  (139, 'nn'),\n  (139, 'amod'),\n  (142, 'nsubj'),\n  (142, 'punct'),\n  (142, 'advmod'),\n  (419, 'dep'),\n  (142, 'prep'),\n  (145, 'nummod'),\n  (147, 'nn'),\n  (147, 'nn'),\n  (143, 'pobj'),\n  (419, 'punct'),\n  (152, 'advmod'),\n  (152, 'punct'),\n  (152, 'nsubj'),\n  (419, 'conj'),\n  (152, 'rcomp'),\n  (153, 'pobj'),\n  (152, 'punct'),\n  (152, 'conj'),\n  (158, 'advmod'),\n  (152, 'conj'),\n  (158, 'dobj'),\n  (158, 'ccomp'),\n  (164, 'nn'),\n  (164, 'conj'),\n  (164, 'punct'),\n  (160, 'dobj'),\n  (164, 'etc'),\n  (168, 'advmod'),\n  (168, 'nummod'),\n  (160, 'range'),\n  (419, 'punct'),\n  (171, 'nn'),\n  (174, 'nsubj'),\n  (174, 'prep'),\n  (172, 'pobj'),\n  (419, 'conj'),\n  (419, 'punct'),\n  (177, 'advmod'),\n  (419, 'dep'),\n  (179, 'nn'),\n  (177, 'dobj'),\n  (177, 'punct'),\n  (177, 'conj'),\n  (181, 'ccomp'),\n  (182, 'dobj'),\n  (183, 'etc'),\n  (182, 'dobj'),\n  (419, 'conj'),\n  (188, 'nummod'),\n  (186, 'range'),\n  (419, 'punct'),\n  (193, 'nn'),\n  (193, 'conj'),\n  (193, 'punct'),\n  (199, 'conj'),\n  (199, 'punct'),\n  (199, 'nn'),\n  (199, 'nn'),\n  (199, 'nn'),\n  (199, 'amod'),\n  (201, 'nsubj'),\n  (201, 'advmod'),\n  (419, 'conj'),\n  (201, 'punct'),\n  (205, 'dep'),\n  (203, 'dobj'),\n  (201, 'ccomp'),\n  (211, 'punct'),\n  (211, 'prep'),\n  (210, 'nn'),\n  (210, 'nn'),\n  (207, 'pobj'),\n  (201, 'dep'),\n  (211, 'dobj'),\n  (419, 'punct'),\n  (215, 'nn'),\n  (221, 'nn'),\n  (219, 'punct'),\n  (218, 'nn'),\n  (219, 'dep'),\n  (215, 'prnmod'),\n  (219, 'punct'),\n  (224, 'assmod'),\n  (221, 'assm'),\n  (224, 'amod'),\n  (225, 'top'),\n  (419, 'conj'),\n  (229, 'attr'),\n  (229, 'punct'),\n  (229, 'top'),\n  (237, 'conj'),\n  (231, 'nsubj'),\n  (233, 'rcmod'),\n  (231, 'cpm'),\n  (229, 'attr'),\n  (237, 'punct'),\n  (236, 'det'),\n  (237, 'nsubj'),\n  (419, 'conj'),\n  (237, 'prep'),\n  (243, 'nn'),\n  (243, 'nn'),\n  (243, 'nn'),\n  (243, 'amod'),\n  (238, 'pobj'),\n  (419, 'punct'),\n  (249, 'assmod'),\n  (245, 'assm'),\n  (249, 'nn'),\n  (249, 'nn'),\n  (419, 'nsubj'),\n  (419, 'prep'),\n  (252, 'nn'),\n  (253, 'lobj'),\n  (250, 'plmod'),\n  (255, 'lccomp'),\n  (419, 'loc'),\n  (419, 'punct'),\n  (258, 'amod'),\n  (262, 'nsubj'),\n  (262, 'mmod'),\n  (262, 'prep'),\n  (260, 'pobj'),\n  (419, 'conj'),\n  (419, 'punct'),\n  (268, 'nn'),\n  (268, 'nn'),\n  (268, 'nn'),\n  (268, 'nn'),\n  (269, 'nsubj'),\n  (419, 'conj'),\n  (269, 'punct'),\n  (273, 'dep'),\n  (271, 'dobj'),\n  (269, 'ccomp'),\n  (419, 'punct'),\n  (276, 'amod'),\n  (277, 'nsubj'),\n  (279, 'dep'),\n  (277, 'dobj'),\n  (419, 'conj'),\n  (419, 'punct'),\n  (419, 'cc'),\n  (285, 'nn'),\n  (284, 'nsubj'),\n  (285, 'nn'),\n  (419, 'nsubj'),\n  (419, 'advmod'),\n  (288, 'nsubj'),\n  (419, 'conj'),\n  (419, 'punct'),\n  (291, 'advmod'),\n  (419, 'conj'),\n  (291, 'dobj'),\n  (419, 'punct'),\n  (295, 'nn'),\n  (301, 'conj'),\n  (301, 'punct'),\n  (301, 'nn'),\n  (301, 'nn'),\n  (301, 'nn'),\n  (301, 'amod'),\n  (306, 'conj'),\n  (306, 'punct'),\n  (306, 'nn'),\n  (306, 'nn'),\n  (306, 'nn'),\n  (308, 'nsubj'),\n  (308, 'advmod'),\n  (419, 'conj'),\n  (312, 'punct'),\n  (312, 'advmod'),\n  (312, 'advmod'),\n  (419, 'conj'),\n  (314, 'amod'),\n  (312, 'dobj'),\n  (312, 'punct'),\n  (312, 'prep'),\n  (316, 'pobj'),\n  (312, 'dep'),\n  (312, 'punct'),\n  (324, 'nn'),\n  (324, 'nn'),\n  (324, 'nn'),\n  (324, 'nn'),\n  (312, 'tmod'),\n  (324, 'advmod'),\n  (312, 'punct'),\n  (328, 'nn'),\n  (329, 'nsubj'),\n  (358, 'lccomp'),\n  (331, 'nn'),\n  (337, 'dep'),\n  (335, 'punct'),\n  (334, 'nn'),\n  (335, 'dep'),\n  (331, 'prnmod'),\n  (335, 'punct'),\n  (338, 'nn'),\n  (347, 'nsubj'),\n  (347, 'prep'),\n  (342, 'nn'),\n  (342, 'nummod'),\n  (347, 'nsubj'),\n  (347, 'prep'),\n  (343, 'pobj'),\n  (347, 'prep'),\n  (345, 'pobj'),\n  (358, 'lccomp'),\n  (347, 'rcomp'),\n  (351, 'nn'),\n  (351, 'ordmod'),\n  (357, 'nn'),\n  (353, 'nummod'),\n  (357, 'clf'),\n  (356, 'punct'),\n  (356, 'nummod'),\n  (357, 'clf'),\n  (348, 'pobj'),\n  (312, 'loc'),\n  (312, 'punct'),\n  (374, 'prep'),\n  (362, 'nn'),\n  (364, 'nn'),\n  (364, 'nn'),\n  (365, 'nn'),\n  (366, 'nsubj'),\n  (370, 'rcmod'),\n  (366, 'cpm'),\n  (369, 'nn'),\n  (370, 'nn'),\n  (374, 'dobj'),\n  (374, 'punct'),\n  (373, 'lobj'),\n  (374, 'loc'),\n  (419, 'conj'),\n  (385, 'conj'),\n  (385, 'punct'),\n  (385, 'conj'),\n  (385, 'punct'),\n  (385, 'conj'),\n  (385, 'punct'),\n  (385, 'conj'),\n  (385, 'punct'),\n  (385, 'conj'),\n  (385, 'punct'),\n  (387, 'nsubj'),\n  (385, 'punct'),\n  (419, 'dep'),\n  (387, 'punct'),\n  (392, 'nn'),\n  (391, 'nn'),\n  (392, 'nn'),\n  (393, 'nn'),\n  (387, 'nsubj'),\n  (419, 'advmod'),\n  (419, 'prep'),\n  (404, 'prep'),\n  (399, 'dep'),\n  (399, 'nummod'),\n  (400, 'pobj'),\n  (404, 'prep'),\n  (400, 'pobj'),\n  (404, 'prep'),\n  (402, 'pobj'),\n  (417, 'rcmod'),\n  (406, 'nn'),\n  (407, 'nsubj'),\n  (417, 'rcmod'),\n  (407, 'cpm'),\n  (410, 'nn'),\n  (417, 'nn'),\n  (414, 'punct'),\n  (413, 'nn'),\n  (414, 'dep'),\n  (417, 'prnmod'),\n  (414, 'punct'),\n  (417, 'nn'),\n  (418, 'nn'),\n  (419, 'dep'),\n  (3, 'ccomp'),\n  (419, 'punct'),\n  (419, 'dep'),\n  (421, 'dobj'),\n  (421, 'cc'),\n  (434, 'conj'),\n  (434, 'punct'),\n  (434, 'conj'),\n  (434, 'punct'),\n  (434, 'conj'),\n  (434, 'punct'),\n  (434, 'conj'),\n  (434, 'punct'),\n  (434, 'conj'),\n  (434, 'punct'),\n  (435, 'nsubj'),\n  (419, 'conj'),\n  (419, 'punct'),\n  (438, 'nummod'),\n  (439, 'nsubj'),\n  (419, 'conj'),\n  (419, 'punct'),\n  (445, 'nn'),\n  (445, 'nn'),\n  (445, 'nn'),\n  (445, 'nn'),\n  (446, 'nsubj'),\n  (419, 'conj'),\n  (446, 'punct'),\n  (449, 'nn'),\n  (450, 'nsubj'),\n  (453, 'dep'),\n  (450, 'dobj'),\n  (453, 'advmod'),\n  (419, 'conj'),\n  (455, 'amod'),\n  (453, 'dobj'),\n  (453, 'punct'),\n  (419, 'conj'),\n  (461, 'assmod'),\n  (458, 'assm'),\n  (461, 'amod'),\n  (457, 'dobj'),\n  (419, 'punct'),\n  (464, 'nsubj'),\n  (419, 'conj'),\n  (464, 'dobj'),\n  (464, 'conj'),\n  (466, 'dobj'),\n  (466, 'conj'),\n  (470, 'advmod'),\n  (419, 'conj'),\n  (472, 'advmod'),\n  (470, 'ccomp'),\n  (476, 'assmod'),\n  (473, 'assm'),\n  (476, 'amod'),\n  (472, 'dobj'),\n  (419, 'punct'),\n  (482, 'nn'),\n  (482, 'conj'),\n  (482, 'punct'),\n  (482, 'nn'),\n  (483, 'top'),\n  (419, 'conj'),\n  (485, 'nn'),\n  (483, 'dobj'),\n  (419, 'punct'),\n  (488, 'nsubj'),\n  (489, 'lccomp'),\n  (492, 'loc'),\n  (492, 'punct'),\n  (492, 'nsubj'),\n  (535, 'conj'),\n  (494, 'nn'),\n  (492, 'dobj'),\n  (496, 'dep'),\n  (535, 'conj'),\n  (498, 'nummod'),\n  (496, 'range'),\n  (535, 'punct'),\n  (503, 'prep'),\n  (500, 'pobj'),\n  (503, 'top'),\n  (535, 'conj'),\n  (503, 'punct'),\n  (506, 'nsubj'),\n  (535, 'conj'),\n  (535, 'punct'),\n  (509, 'nummod'),\n  (510, 'clf'),\n  (511, 'nsubj'),\n  (535, 'conj'),\n  (535, 'punct'),\n  (514, 'nsubj'),\n  (535, 'conj'),\n  (514, 'dobj'),\n  (517, 'nummod'),\n  (514, 'range'),\n  (535, 'punct'),\n  (521, 'nn'),\n  (521, 'nn'),\n  (535, 'tmod'),\n  (528, 'punct'),\n  (525, 'det'),\n  (525, 'nn'),\n  (528, 'nsubj'),\n  (528, 'prep'),\n  (526, 'pobj'),\n  (535, 'conj'),\n  (530, 'nn'),\n  (528, 'dobj'),\n  (535, 'punct'),\n  (533, 'nsubj'),\n  (534, 'nn'),\n  (535, 'nsubj'),\n  (419, 'conj'),\n  (537, 'nummod'),\n  (538, 'nsubj'),\n  (535, 'dep'),\n  (535, 'punct'),\n  (541, 'lccomp'),\n  (544, 'loc'),\n  (544, 'mmod'),\n  (544, 'dep'),\n  (535, 'conj'),\n  (546, 'nummod'),\n  (547, 'clf'),\n  (544, 'dobj'),\n  (550, 'punct'),\n  (550, 'advmod'),\n  (535, 'conj'),\n  (550, 'punct'),\n  (553, 'nn'),\n  (554, 'nsubj'),\n  (565, 'rcmod'),\n  (554, 'cpm'),\n  (557, 'nn'),\n  (564, 'nn'),\n  (561, 'punct'),\n  (560, 'nn'),\n  (561, 'dep'),\n  (563, 'vmod'),\n  (561, 'punct'),\n  (564, 'nn'),\n  (565, 'nn'),\n  (566, 'top'),\n  (550, 'ccomp'),\n  (568, 'nn'),\n  (566, 'attr'),\n  (566, 'punct'),\n  (571, 'top'),\n  (566, 'conj'),\n  (573, 'nsubj'),\n  (575, 'rcmod'),\n  (573, 'cpm'),\n  (571, 'attr'),\n  (566, 'punct'),\n  (578, 'det'),\n  (579, 'nsubj'),\n  (566, 'conj'),\n  (579, 'prep'),\n  (585, 'nn'),\n  (585, 'nn'),\n  (585, 'nn'),\n  (585, 'amod'),\n  (580, 'pobj'),\n  (566, 'punct'),\n  (589, 'nn'),\n  (589, 'nn'),\n  (590, 'nn'),\n  (597, 'nsubj'),\n  (597, 'prep'),\n  (596, 'nn'),\n  (596, 'nn'),\n  (596, 'nn'),\n  (596, 'nn'),\n  (591, 'pobj'),\n  (566, 'conj'),\n  (597, 'asp'),\n  (604, 'nn'),\n  (602, 'nn'),\n  (602, 'nn'),\n  (604, 'nn'),\n  (604, 'amod'),\n  (597, 'dobj'),\n  (566, 'punct'),\n  (607, 'nn'),\n  (608, 'top'),\n  (566, 'conj'),\n  (610, 'nummod'),\n  (608, 'attr'),\n  (566, 'punct'),\n  (618, 'nsubj'),\n  (614, 'nn'),\n  (616, 'nn'),\n  (616, 'nn'),\n  (618, 'nsubj'),\n  (618, 'nummod'),\n  (535, 'conj'),\n  (535, 'punct'),\n  (623, 'nn'),\n  (623, 'nn'),\n  (623, 'nn'),\n  (625, 'nsubj'),\n  (625, 'nummod'),\n  (535, 'conj'),\n  (535, 'punct'),\n  (628, 'nn'),\n  (630, 'nn'),\n  (630, 'nn'),\n  (632, 'nsubj'),\n  (632, 'nummod'),\n  (535, 'conj'),\n  (535, 'punct'),\n  (635, 'nn'),\n  (535, 'nsubj'),\n  (535, 'prep'),\n  (640, 'nn'),\n  (640, 'nn'),\n  (640, 'nn'),\n  (641, 'lobj'),\n  (636, 'plmod'),\n  (647, 'prep'),\n  (646, 'nn'),\n  (646, 'nn'),\n  (646, 'nn'),\n  (647, 'lobj'),\n  (535, 'conj'),\n  (535, 'punct'),\n  (650, 'nn'),\n  (651, 'nsubj'),\n  (653, 'rcmod'),\n  (651, 'cpm'),\n  (654, 'top'),\n  (535, 'conj'),\n  (659, 'nn'),\n  (659, 'nn'),\n  (659, 'nn'),\n  (659, 'amod'),\n  (669, 'dobj'),\n  (663, 'punct'),\n  (662, 'nn'),\n  (663, 'nn'),\n  (669, 'nsubj'),\n  (669, 'prep'),\n  (668, 'nn'),\n  (668, 'nn'),\n  (668, 'nn'),\n  (664, 'pobj'),\n  (535, 'conj'),\n  (669, 'asp'),\n  (673, 'nn'),\n  (673, 'nn'),\n  (676, 'nn'),\n  (676, 'nn'),\n  (676, 'amod'),\n  (680, 'attr'),\n  (680, 'punct'),\n  (679, 'nn'),\n  (680, 'top'),\n  (535, 'conj'),\n  (682, 'nummod'),\n  (680, 'attr'),\n  (535, 'punct'),\n  (535, 'nsubj'),\n  (690, 'rcmod'),\n  (685, 'dobj'),\n  (690, 'nn'),\n  (690, 'nn'),\n  (690, 'nn'),\n  (692, 'nsubj'),\n  (692, 'nummod'),\n  (535, 'conj'),\n  (535, 'punct'),\n  (699, 'rcmod'),\n  (694, 'dobj'),\n  (697, 'nn'),\n  (699, 'nn'),\n  (699, 'nn'),\n  (701, 'nsubj'),\n  (701, 'nummod'),\n  (535, 'conj'),\n  (535, 'punct'),\n  (708, 'rcmod'),\n  (703, 'dobj'),\n  (708, 'nn'),\n  (708, 'nn'),\n  (708, 'nn'),\n  (710, 'nsubj'),\n  (710, 'nummod'),\n  (419, 'conj'),\n  (419, 'punct'),\n  (713, 'nn'),\n  (419, 'nsubj'),\n  (419, 'prep'),\n  (718, 'nn'),\n  (718, 'nn'),\n  (718, 'nn'),\n  (719, 'lobj'),\n  (714, 'plmod'),\n  (419, 'prep'),\n  (724, 'nn'),\n  (724, 'nn'),\n  (724, 'nn'),\n  (725, 'lobj'),\n  (720, 'plmod'),\n  (419, 'punct'),\n  (733, 'conj'),\n  (733, 'punct'),\n  (733, 'conj'),\n  (733, 'punct'),\n  (733, 'conj'),\n  (733, 'punct'),\n  (419, 'nsubj'),\n  (737, 'advmod'),\n  (737, 'prep'),\n  (735, 'pobj'),\n  (419, 'conj'),\n  (737, 'dobj'),\n  (419, 'punct'),\n  (741, 'nsubj'),\n  (746, 'nn'),\n  (746, 'conj'),\n  (746, 'cc'),\n  (746, 'nn'),\n  (746, 'nn'),\n  (419, 'nsubj'),\n  (749, 'advmod'),\n  (749, 'nummod'),\n  (419, 'conj'),\n  (419, 'punct'),\n  (752, 'nsubj'),\n  (419, 'conj'),\n  (768, 'conj'),\n  (768, 'cc'),\n  (768, 'nn'),\n  (768, 'nn'),\n  (758, 'nsubj'),\n  (763, 'advmod'),\n  (760, 'nummod'),\n  (758, 'range'),\n  (758, 'punct'),\n  (763, 'nsubj'),\n  (768, 'nn'),\n  (768, 'conj'),\n  (768, 'cc'),\n  (768, 'nn'),\n  (768, 'nn'),\n  (752, 'dobj'),\n  (771, 'advmod'),\n  (771, 'nummod'),\n  (419, 'conj'),\n  (419, 'punct'),\n  (780, 'nsubj'),\n  (780, 'advmod'),\n  (780, 'prep'),\n  (779, 'nn'),\n  (779, 'nn'),\n  (779, 'nn'),\n  (775, 'pobj'),\n  (419, 'conj'),\n  (780, 'dobj'),\n  (419, 'punct'),\n  (787, 'nn'),\n  (787, 'nn'),\n  (787, 'nn'),\n  (787, 'nn'),\n  (790, 'nn'),\n  (790, 'nn'),\n  (790, 'nn'),\n  (792, 'nsubj'),\n  (792, 'advmod'),\n  (419, 'conj'),\n  (794, 'nummod'),\n  (792, 'range'),\n  (792, 'punct'),\n  (799, 'nn'),\n  (799, 'nn'),\n  (799, 'nn'),\n  (801, 'nsubj'),\n  (801, 'nummod'),\n  (792, 'range'),\n  (3, 'punct'),\n  (804, 'nsubj'),\n  (805, 'lccomp'),\n  (834, 'loc'),\n  (834, 'punct'),\n  (808, 'nn'),\n  (834, 'nsubj'),\n  (811, 'prep'),\n  (809, 'pobj'),\n  (821, 'conj'),\n  (813, 'nn'),\n  (811, 'dobj'),\n  (815, 'nummod'),\n  (811, 'range'),\n  (821, 'punct'),\n  (819, 'amod'),\n  (819, 'punct'),\n  (821, 'nsubj'),\n  (821, 'advmod'),\n  (834, 'ccomp'),\n  (823, 'det'),\n  (824, 'nn'),\n  (826, 'nsubj'),\n  (826, 'advmod'),\n  (821, 'ccomp'),\n  (821, 'punct'),\n  (829, 'neg'),\n  (834, 'ccomp'),\n  (829, 'nsubj'),\n  (829, 'ccomp'),\n  (834, 'punct'),\n  (834, 'advmod'),\n  (3, 'conj'),\n  (834, 'punct'),\n  (837, 'nn'),\n  (838, 'top'),\n  (834, 'ccomp'),\n  (840, 'nn'),\n  (838, 'attr'),\n  (3, 'punct'),\n  (843, 'advmod'),\n  (3, 'conj'),\n  (843, 'punct'),\n  (846, 'nn'),\n  (847, 'nsubj'),\n  (856, 'rcmod'),\n  (847, 'cpm'),\n  (850, 'nn'),\n  (856, 'nn'),\n  (852, 'nn'),\n  (856, 'nn'),\n  (856, 'amod'),\n  (855, 'mmod'),\n  (856, 'rcmod'),\n  (857, 'top'),\n  (3, 'ccomp'),\n  (859, 'nummod'),\n  (857, 'attr'),\n  (857, 'punct'),\n  (862, 'nn'),\n  (864, 'nn'),\n  (864, 'amod'),\n  (865, 'top'),\n  (857, 'conj'),\n  (867, 'nummod'),\n  (865, 'attr'),\n  (874, 'punct'),\n  (871, 'nn'),\n  (871, 'nn'),\n  (874, 'tmod'),\n  (874, 'punct'),\n  (874, 'nsubj'),\n  (857, 'conj'),\n  (874, 'prep'),\n  (875, 'pobj'),\n  (874, 'punct'),\n  (874, 'dep'),\n  (882, 'prep'),\n  (881, 'det'),\n  (879, 'pobj'),\n  (874, 'conj'),\n  (884, 'amod'),\n  (882, 'dobj'),\n  (857, 'punct'),\n  (888, 'nsubj'),\n  (888, 'nummod'),\n  (857, 'conj'),\n  (857, 'punct'),\n  (892, 'nsubj'),\n  (892, 'nummod'),\n  (857, 'conj'),\n  (857, 'punct'),\n  (896, 'nsubj'),\n  (896, 'nummod'),\n  (857, 'conj'),\n  (857, 'punct'),\n  (900, 'nn'),\n  (900, 'nn'),\n  (902, 'nsubj'),\n  (902, 'nummod'),\n  (857, 'conj'),\n  (857, 'punct'),\n  (906, 'nsubj'),\n  (906, 'nummod'),\n  (857, 'conj'),\n  (910, 'punct'),\n  (910, 'advmod'),\n  (910, 'nummod'),\n  (857, 'conj'),\n  (3, 'punct'),\n  (918, 'nsubj'),\n  (918, 'punct'),\n  (915, 'nsubj'),\n  (917, 'rcmod'),\n  (915, 'cpm'),\n  (918, 'top'),\n  (3, 'conj'),\n  (918, 'punct'),\n  (922, 'nsubj'),\n  (922, 'nummod'),\n  (918, 'dep'),\n  (918, 'punct'),\n  (926, 'nn'),\n  (926, 'nn'),\n  (928, 'nsubj'),\n  (928, 'nummod'),\n  (918, 'dep'),\n  (3, 'punct'),\n  (931, 'amod'),\n  (933, 'nsubj'),\n  (933, 'punct'),\n  (3, 'conj'),\n  (935, 'nsubj'),\n  (933, 'dep'),\n  (933, 'punct'),\n  (938, 'nsubj'),\n  (933, 'dep'),\n  (938, 'punct'),\n  (941, 'nsubj'),\n  (950, 'rcmod'),\n  (941, 'cpm'),\n  (944, 'nn'),\n  (945, 'nn'),\n  (950, 'conj'),\n  (950, 'punct'),\n  (950, 'nn'),\n  (950, 'conj'),\n  (950, 'punct'),\n  (938, 'nn'),\n  (950, 'conj'),\n  (950, 'punct'),\n  (954, 'nn'),\n  (950, 'conj'),\n  (950, 'punct'),\n  (957, 'nn'),\n  (950, 'conj'),\n  (950, 'punct'),\n  (961, 'nn'),\n  (961, 'nn'),\n  (950, 'conj'),\n  (950, 'punct'),\n  (964, 'nn'),\n  (950, 'conj'),\n  (950, 'punct'),\n  (950, 'conj'),\n  (950, 'punct'),\n  (969, 'nn'),\n  (979, 'nn'),\n  (969, 'etc'),\n  (977, 'advmod'),\n  (977, 'prep'),\n  (972, 'pobj'),\n  (972, 'pccomp'),\n  (974, 'cc'),\n  (977, 'nsubj'),\n  (979, 'rcmod'),\n  (977, 'cpm'),\n  (982, 'top'),\n  (982, 'prep'),\n  (980, 'pobj'),\n  (3, 'ccomp'),\n  (982, 'dobj'),\n  (3, 'punct')],\n 'sdp': [[(3, 'Agt')],\n  [(1, 'Nmod'), (3, 'Agt')],\n  [(142, 'eSucc')],\n  [(3, 'mPunc')],\n  [(6, 'Tmod'), (7, 'Tmod'), (717, 'Tmod'), (718, 'Tmod'), (870, 'Tmod')],\n  [(7, 'Tmod'), (871, 'Tmod')],\n  [(142, 'Time'), (419, 'Time'), (737, 'Time'), (874, 'Time')],\n  [(7, 'mPunc')],\n  [(874, 'Agt')],\n  [(9, 'Nmod'),\n   (98, 'Nmod'),\n   (113, 'Nmod'),\n   (116, 'Nmod'),\n   (264, 'Nmod'),\n   (294, 'Nmod'),\n   (405, 'Nmod'),\n   (448, 'Nmod'),\n   (552, 'Nmod'),\n   (836, 'Nmod')],\n  [(597, 'dTime')],\n  [(13, 'Nmod'), (16, 'Nmod')],\n  [(19, 'Nmod')],\n  [(13, 'mPunc'), (15, 'mPunc'), (16, 'mPunc'), (17, 'mPunc')],\n  [(16, 'Nmod')],\n  [(19, 'Nmod')],\n  [(979, 'Desc')],\n  [(17, 'mPunc')],\n  [(20, 'Nmod'), (285, 'Poss'), (746, 'Poss'), (881, 'eEqu')],\n  [(11, 'Cont'), (450, 'Pat'), (741, 'Pat')],\n  [(881, 'mPrep')],\n  [(19, 'Nmod'), (24, 'Nmod'), (33, 'Nmod')],\n  [(19, 'Seq'), (24, 'Seq'), (33, 'Seq')],\n  [(29, 'Loc'), (450, 'Agt')],\n  [(26, 'mPrep')],\n  [(29, 'Lini')],\n  [(28, 'mPrep')],\n  [(29, 'Dir')],\n  [(892, 'dExp')],\n  [(29, 'mDir')],\n  [(33, 'Nmod')],\n  [(33, 'Seq'), (35, 'Quan'), (38, 'Quan'), (48, 'Seq')],\n  [(455, 'Loc')],\n  [(35, 'Quan'), (38, 'Quan')],\n  [(752, 'Qp')],\n  [(35, 'mPunc')],\n  [(35, 'Quan'), (38, 'Quan'), (896, 'Quan')],\n  [(455, 'Qp')],\n  [(457, 'Loc')],\n  [(892, 'mTime')],\n  [(892, 'mPunc')],\n  [(43, 'mPrep')],\n  [(44, 'Agt')],\n  [(49, 'rPat')],\n  [(44, 'mAux')],\n  [(47, 'Nmod')],\n  [(33, 'Seq'), (48, 'Nmod')],\n  [(49, 'Nmod'), (301, 'Nmod'), (757, 'Desc')],\n  [(752, 'Pat')],\n  [(52, 'mPunc')],\n  [(52, 'Loc')],\n  [(470, 'eSucc')],\n  [(52, 'Datv')],\n  [(53, 'mPunc')],\n  [(57, 'eCoo')],\n  [(53, 'mPunc')],\n  [(900, 'Nmod')],\n  [(57, 'mPunc')],\n  [(57, 'eCoo')],\n  [(57, 'mPunc'), (59, 'mPunc')],\n  [(57, 'eCoo')],\n  [(57, 'mPunc'), (59, 'mPunc')],\n  [(481, 'Nmod')],\n  [(470, 'mPunc')],\n  [(470, 'eSucc')],\n  [(65, 'mTime'), (488, 'mTime')],\n  [(65, 'mPunc')],\n  [(312, 'mMod'), (811, 'mMod')],\n  [(81, 'mPrep'), (173, 'mPrep'), (527, 'mPrep'), (779, 'mPrep')],\n  [(71, 'Agt'), (915, 'Agt')],\n  [(81, 'rCont')],\n  [(71, 'mAux'), (231, 'mAux'), (915, 'mAux')],\n  [(74, 'Nmod')],\n  [(80, 'Nmod'), (337, 'Nmod'), (342, 'Nmod'), (416, 'Nmod')],\n  [(77, 'mPunc'), (78, 'mPunc'), (334, 'mPunc'), (335, 'mPunc')],\n  [(77, 'Nmod')],\n  [(335, 'Nmod'), (337, 'Nmod'), (342, 'Nmod')],\n  [(80, 'Seq')],\n  [(78, 'mPunc')],\n  [(81, 'Desc')],\n  [(811, 'Datv')],\n  [(470, 'eSucc')],\n  [(82, 'mPunc'), (811, 'mPunc')],\n  [(82, 'eSucc')],\n  [(237, 'Agt'), (492, 'Agt'), (938, 'Agt')],\n  [(84, 'eResu')],\n  [(780, 'mPunc')],\n  [(89, 'Exp')],\n  [(780, 'eSucc')],\n  [(201, 'mPunc')],\n  [(92, 'Nmod'), (784, 'Nmod')],\n  [(93, 'Nmod')],\n  [(94, 'Desc')],\n  [(95, 'Desc')],\n  [(96, 'Aft'), (201, 'Agt'), (528, 'Agt'), (821, 'Agt')],\n  [(3, 'dCont')],\n  [(3, 'mPunc'), (96, 'mPunc'), (834, 'mPunc')],\n  [(669, 'Agt')],\n  [(649, 'Nmod')],\n  [(201, 'dCont')],\n  [(104, 'Poss')],\n  [(101, 'mAux'), (108, 'mAux')],\n  [(104, 'Desc'), (111, 'Desc')],\n  [(100, 'Cont')],\n  [(535, 'mPunc')],\n  [(834, 'Agt')],\n  [(142, 'eSucc')],\n  [(104, 'Poss'), (111, 'Poss')],\n  [(101, 'mAux'), (108, 'mAux')],\n  [(104, 'Desc'), (111, 'Desc')],\n  [(838, 'Clas')],\n  [(419, 'mPunc'), (737, 'mPunc')],\n  [(142, 'Agt')],\n  [(9, 'Nmod'),\n   (98, 'Nmod'),\n   (113, 'Nmod'),\n   (116, 'Nmod'),\n   (264, 'Nmod'),\n   (294, 'Nmod'),\n   (405, 'Nmod'),\n   (448, 'Nmod'),\n   (552, 'Nmod'),\n   (567, 'Nmod'),\n   (597, 'Agt'),\n   (836, 'Nmod'),\n   (882, 'Agt')],\n  [(426, 'mPunc')],\n  [(597, 'Agt')],\n  [(116, 'Nmod'), (264, 'Nmod'), (448, 'Nmod'), (836, 'Nmod')],\n  [(737, 'eSucc')],\n  [(120, 'Desc')],\n  [(597, 'Cont')],\n  [(571, 'mPunc')],\n  [(550, 'Seq')],\n  [(124, 'Desc'), (276, 'Desc'), (283, 'Desc')],\n  [(125, 'Agt'), (284, 'Pat')],\n  [(126, 'rAgt'), (856, 'Desc')],\n  [(269, 'Agt'), (288, 'Agt'), (597, 'Agt')],\n  [(288, 'Mann'), (597, 'Mann')],\n  [(874, 'eSucc')],\n  [(888, 'Loc')],\n  [(133, 'Nmod'), (585, 'Nmod')],\n  [(133, 'Nmod')],\n  [(133, 'Nmod'), (268, 'Desc'), (301, 'Nmod'), (585, 'Nmod')],\n  [(11, 'Agt')],\n  [(133, 'mPunc')],\n  [(133, 'Loc'),\n   (139, 'Loc'),\n   (268, 'Loc'),\n   (442, 'Nmod'),\n   (585, 'Loc'),\n   (596, 'Nmod'),\n   (846, 'Nmod')],\n  [(139, 'Nmod')],\n  [(139, 'Nmod'), (445, 'Nmod')],\n  [(133, 'Nmod'), (139, 'Nmod'), (301, 'Desc'), (585, 'Desc')],\n  [(836, 'Nmod')],\n  [(254, 'mPunc')],\n  [(142, 'Mann'), (288, 'Mann'), (597, 'Mann'), (737, 'Mann')],\n  [(3, 'dCont')],\n  [(147, 'mPrep'), (585, 'mPrep'), (736, 'mPrep'), (867, 'mPrep')],\n  [(145, 'Seq'), (585, 'Seq')],\n  [(147, 'Poss'), (585, 'Poss')],\n  [(133, 'Desc'), (139, 'Desc'), (147, 'Desc'), (585, 'Desc'), (840, 'Desc')],\n  [(737, 'Datv')],\n  [(142, 'mPunc')],\n  [(142, 'mConj'), (597, 'mConj'), (874, 'mConj')],\n  [(149, 'mPunc'), (871, 'mPunc')],\n  [(152, 'Agt'),\n   (156, 'Agt'),\n   (158, 'Agt'),\n   (269, 'Agt'),\n   (446, 'Agt'),\n   (597, 'Agt'),\n   (874, 'Agt')],\n  [(566, 'eSucc')],\n  [(139, 'mPrep')],\n  [(597, 'Datv')],\n  [(288, 'mPunc'), (597, 'mPunc')],\n  [(152, 'eSucc'), (566, 'eSucc'), (597, 'eSucc'), (874, 'eSucc')],\n  [(158, 'Mann')],\n  [(152, 'eSucc'), (269, 'eSucc'), (597, 'eSucc'), (874, 'eSucc')],\n  [(752, 'Agt')],\n  [(158, 'dCont'), (470, 'dCont')],\n  [(49, 'Poss')],\n  [(160, 'Pat')],\n  [(162, 'mPunc'), (753, 'mPunc')],\n  [(162, 'eCoo'), (753, 'eCoo')],\n  [(164, 'mMaj')],\n  [(618, 'mMod'),\n   (632, 'mMod'),\n   (771, 'mMod'),\n   (902, 'mMod'),\n   (906, 'mMod'),\n   (910, 'mMod')],\n  [(168, 'Quan'),\n   (188, 'Quan'),\n   (498, 'Quan'),\n   (610, 'Quan'),\n   (632, 'Quan'),\n   (760, 'Quan'),\n   (771, 'Quan'),\n   (902, 'Quan'),\n   (906, 'Quan'),\n   (910, 'Quan'),\n   (928, 'Quan')],\n  [(470, 'eSucc')],\n  [(470, 'mPunc')],\n  [(171, 'Desc'),\n   (616, 'Desc'),\n   (621, 'Desc'),\n   (623, 'Desc'),\n   (630, 'Desc'),\n   (900, 'Desc'),\n   (926, 'Desc')],\n  [(174, 'Exp')],\n  [(173, 'mPrep')],\n  [(763, 'Agt')],\n  [(457, 'eSucc'), (470, 'eSucc'), (896, 'eCoo')],\n  [(470, 'mPunc')],\n  [(177, 'Seq')],\n  [(82, 'eSucc')],\n  [(179, 'Desc')],\n  [(177, 'Pat')],\n  [(177, 'mPunc')],\n  [(174, 'eSucc')],\n  [(181, 'dCont')],\n  [(182, 'Pat')],\n  [(183, 'mMaj')],\n  [(763, 'Pat')],\n  [(188, 'mMod'),\n   (625, 'mMod'),\n   (632, 'mMod'),\n   (771, 'mMod'),\n   (794, 'mMod'),\n   (801, 'mMod'),\n   (906, 'mMod'),\n   (910, 'mMod'),\n   (922, 'mMod'),\n   (928, 'mMod')],\n  [(168, 'Quan'),\n   (188, 'Quan'),\n   (356, 'Quan'),\n   (498, 'Quan'),\n   (517, 'Quan'),\n   (625, 'Quan'),\n   (632, 'Quan'),\n   (682, 'Quan'),\n   (710, 'Quan'),\n   (771, 'Quan'),\n   (794, 'Quan'),\n   (801, 'Quan'),\n   (815, 'Quan'),\n   (906, 'Quan'),\n   (910, 'Quan'),\n   (922, 'Quan'),\n   (928, 'Quan')],\n  [(792, 'Cont')],\n  [(312, 'mPunc')],\n  [(669, 'Agt')],\n  [(190, 'Nmod'), (327, 'Nmod')],\n  [(74, 'mPunc')],\n  [(218, 'eCoo')],\n  [(957, 'mPunc')],\n  [(787, 'Loc')],\n  [(199, 'Nmod'), (779, 'Nmod'), (787, 'Nmod')],\n  [(199, 'Nmod'), (787, 'Nmod')],\n  [(199, 'Desc'), (243, 'Desc'), (787, 'Desc')],\n  [(190, 'Nmod')],\n  [(201, 'Mann'), (669, 'Mann')],\n  [(618, 'eSucc')],\n  [(96, 'mPunc'), (201, 'mPunc'), (935, 'mPunc')],\n  [(922, 'dExp')],\n  [(203, 'Exp'),\n   (205, 'Exp'),\n   (329, 'Cont'),\n   (347, 'Exp'),\n   (506, 'Exp'),\n   (826, 'Pat')],\n  [(201, 'dCont')],\n  [(205, 'mPunc')],\n  [(210, 'mPrep'),\n   (218, 'mPrep'),\n   (510, 'mPrep'),\n   (779, 'mPrep'),\n   (810, 'mPrep')],\n  [(209, 'Desc'), (210, 'Pat')],\n  [(210, 'Pat')],\n  [(669, 'Datv')],\n  [(181, 'eSucc')],\n  [(211, 'Belg')],\n  [(312, 'mPunc')],\n  [(215, 'Nmod')],\n  [(225, 'Exp')],\n  [(217, 'mPunc'), (218, 'mPunc')],\n  [(218, 'Nmod'), (413, 'Nmod')],\n  [(219, 'Agt')],\n  [(799, 'dDesc')],\n  [(218, 'mPunc'), (219, 'mPunc')],\n  [(370, 'Poss'), (653, 'Poss'), (917, 'Poss')],\n  [(221, 'mAux'), (649, 'mAux')],\n  [(224, 'Desc'),\n   (370, 'Desc'),\n   (510, 'Desc'),\n   (790, 'Desc'),\n   (799, 'Desc'),\n   (917, 'Desc'),\n   (931, 'Desc')],\n  [(503, 'Exp'), (514, 'Agt'), (669, 'Agt')],\n  [(201, 'eSucc')],\n  [(225, 'Clas')],\n  [(680, 'mPunc')],\n  [(495, 'Agt')],\n  [(181, 'eSucc')],\n  [(335, 'Agt')],\n  [(233, 'rPat'), (676, 'rPat')],\n  [(231, 'mAux')],\n  [(528, 'Pat'), (780, 'Cont')],\n  [(237, 'mPunc'), (528, 'mPunc'), (780, 'mPunc')],\n  [(236, 'Sco')],\n  [(237, 'Exp'), (514, 'Agt'), (780, 'Exp')],\n  [(201, 'eSucc')],\n  [(682, 'mPrep')],\n  [(243, 'Loc'), (659, 'Loc')],\n  [(243, 'Nmod')],\n  [(697, 'Desc')],\n  [(199, 'Desc'), (243, 'Nmod'), (659, 'Desc')],\n  [(100, 'Cont')],\n  [(312, 'mPunc')],\n  [(249, 'Poss')],\n  [(245, 'mAux')],\n  [(249, 'Desc')],\n  [(249, 'Desc'), (445, 'Desc')],\n  [(107, 'Agt')],\n  [(252, 'mPrep')],\n  [(252, 'Desc')],\n  [(737, 'Loc')],\n  [(252, 'mRang')],\n  [(142, 'dTime')],\n  [(254, 'mTime'), (804, 'mTime')],\n  [(254, 'mPunc'), (871, 'mPunc')],\n  [(258, 'Desc'), (708, 'Desc'), (799, 'Desc')],\n  [(669, 'Pat')],\n  [(669, 'mMod')],\n  [(810, 'mPrep')],\n  [(669, 'Agt')],\n  [(142, 'eSucc')],\n  [(156, 'mPunc')],\n  [(158, 'Agt')],\n  [(266, 'Nmod')],\n  [(268, 'Nmod'), (301, 'Nmod')],\n  [(268, 'Nmod'), (301, 'Nmod'), (596, 'Nmod'), (864, 'Nmod')],\n  [(158, 'Agt')],\n  [(874, 'eSucc')],\n  [(269, 'mPunc'),\n   (446, 'mPunc'),\n   (550, 'mPunc'),\n   (834, 'mPunc'),\n   (843, 'mPunc')],\n  [(888, 'dExp')],\n  [(11, 'Cont'), (450, 'Cont')],\n  [(269, 'dCont')],\n  [(888, 'mPunc')],\n  [(276, 'Desc'), (746, 'Desc')],\n  [(277, 'Pat'), (288, 'Pat')],\n  [(597, 'eSucc')],\n  [(288, 'Pat')],\n  [(142, 'eSucc'), (737, 'eSucc'), (874, 'eSucc')],\n  [(419, 'mPunc')],\n  [(865, 'mConj')],\n  [(124, 'Desc'), (276, 'Desc'), (283, 'Desc'), (746, 'Desc')],\n  [(284, 'Pat'), (288, 'Pat'), (977, 'Agt')],\n  [(285, 'Desc')],\n  [(142, 'Pat'), (288, 'Pat'), (597, 'Pat')],\n  [(288, 'mNeg')],\n  [(288, 'Agt'), (597, 'Agt')],\n  [(142, 'eSucc'), (566, 'eSucc'), (874, 'eSucc')],\n  [(288, 'mPunc'), (597, 'mPunc')],\n  [(288, 'mConj'), (597, 'mConj')],\n  [(288, 'mNeg'), (597, 'eResu')],\n  [(597, 'Cont')],\n  [(571, 'mPunc'), (597, 'mPunc')],\n  [(158, 'Agt')],\n  [(116, 'Nmod'),\n   (264, 'Nmod'),\n   (294, 'Nmod'),\n   (448, 'Nmod'),\n   (450, 'Agt'),\n   (862, 'Nmod')],\n  [(295, 'mPunc')],\n  [(268, 'Loc'), (301, 'Loc')],\n  [(268, 'Nmod'), (301, 'Nmod')],\n  [(268, 'Nmod'), (301, 'Nmod')],\n  [(301, 'Desc'), (306, 'Desc')],\n  [(752, 'Agt')],\n  [(301, 'mPunc')],\n  [(301, 'Loc')],\n  [(301, 'Nmod'), (306, 'Nmod')],\n  [(301, 'Nmod'), (306, 'Nmod')],\n  [(174, 'Agt')],\n  [(308, 'mNeg')],\n  [(158, 'eSucc')],\n  [(65, 'mPunc')],\n  [(312, 'mMod')],\n  [(312, 'mNeg')],\n  [(457, 'eSucc')],\n  [(314, 'Desc'), (485, 'Desc')],\n  [(312, 'Cont')],\n  [(312, 'mPunc')],\n  [(317, 'mPrep')],\n  [(811, 'Sproc')],\n  [(780, 'eSucc')],\n  [(912, 'mPunc')],\n  [(321, 'Tmod'), (322, 'Tmod'), (323, 'Tmod')],\n  [(324, 'Tmod')],\n  [(324, 'Tmod')],\n  [(618, 'Time')],\n  [(82, 'Time')],\n  [(324, 'mDegr')],\n  [(65, 'mPunc')],\n  [(312, 'Agt')],\n  [(327, 'Nmod')],\n  [(211, 'dTime')],\n  [(331, 'Nmod')],\n  [(337, 'Nmod')],\n  [(74, 'mPunc'),\n   (77, 'mPunc'),\n   (78, 'mPunc'),\n   (218, 'mPunc'),\n   (331, 'mPunc'),\n   (333, 'mPunc'),\n   (334, 'mPunc'),\n   (335, 'mPunc')],\n  [(77, 'Nmod'), (218, 'Nmod'), (331, 'Nmod'), (334, 'Nmod')],\n  [(335, 'Nmod')],\n  [(690, 'dDesc')],\n  [(77, 'mPunc'), (331, 'mPunc'), (334, 'mPunc')],\n  [(338, 'Desc')],\n  [(329, 'Datv')],\n  [(334, 'mPrep')],\n  [(342, 'Nmod'), (351, 'Nmod')],\n  [(80, 'Seq'),\n   (334, 'Quan'),\n   (337, 'Seq'),\n   (342, 'Seq'),\n   (351, 'Seq'),\n   (391, 'Seq')],\n  [(506, 'Exp')],\n  [(344, 'mPrep'), (640, 'mPrep')],\n  [(335, 'Dir'), (347, 'Lini'), (811, 'Orig'), (826, 'Dir')],\n  [(346, 'mPrep')],\n  [(78, 'Dir'), (335, 'Dir'), (347, 'Dir'), (811, 'Dir')],\n  [(181, 'dCont')],\n  [(347, 'mDir')],\n  [(351, 'Nmod')],\n  [(0, 'Root'),\n   (77, 'Seq'),\n   (80, 'Seq'),\n   (218, 'Seq'),\n   (334, 'Seq'),\n   (337, 'Seq'),\n   (342, 'Seq'),\n   (351, 'Seq'),\n   (353, 'Quan'),\n   (369, 'Seq'),\n   (391, 'Seq'),\n   (416, 'Seq')],\n  [(335, 'Loc')],\n  [(353, 'Quan'), (356, 'Quan')],\n  [(78, 'Qp'), (335, 'Qp')],\n  [(78, 'mPunc')],\n  [(168, 'Quan'),\n   (188, 'Quan'),\n   (353, 'Quan'),\n   (356, 'Quan'),\n   (498, 'Quan'),\n   (632, 'Quan'),\n   (771, 'Quan'),\n   (794, 'Quan'),\n   (906, 'Quan'),\n   (910, 'Quan'),\n   (928, 'Quan')],\n  [(78, 'Qp'), (335, 'Qp')],\n  [(229, 'Clas')],\n  [(488, 'mTime'), (804, 'mTime')],\n  [(488, 'mPunc'), (804, 'mPunc')],\n  [(218, 'mPrep'), (779, 'mPrep'), (810, 'mPrep')],\n  [(787, 'Loc')],\n  [(787, 'Nmod')],\n  [(210, 'Dir'), (335, 'Dir')],\n  [(510, 'Poss')],\n  [(649, 'Nmod')],\n  [(370, 'rPat'), (510, 'rCont'), (799, 'rCont')],\n  [(366, 'mAux'), (941, 'mAux')],\n  [(218, 'Nmod'), (369, 'Nmod')],\n  [(221, 'Nmod'), (370, 'Nmod'), (510, 'Nmod'), (663, 'Nmod')],\n  [(211, 'Poss'), (374, 'Pat'), (514, 'Pat'), (669, 'Pat')],\n  [(78, 'mPunc'), (219, 'mPunc'), (335, 'mPunc'), (372, 'mPunc')],\n  [(347, 'Loc'), (374, 'Loc')],\n  [(372, 'mRang')],\n  [(514, 'eSucc')],\n  [(335, 'Agt')],\n  [(74, 'mPunc')],\n  [(492, 'Agt')],\n  [(74, 'mPunc')],\n  [(74, 'eCoo')],\n  [(74, 'mPunc')],\n  [(74, 'eCoo')],\n  [(74, 'mPunc')],\n  [(74, 'eCoo')],\n  [(383, 'mPunc')],\n  [(327, 'Nmod')],\n  [(78, 'mPunc')],\n  [(3, 'dCont')],\n  [(387, 'mPunc')],\n  [(215, 'Nmod'), (390, 'Nmod')],\n  [(19, 'Nmod'),\n   (48, 'Nmod'),\n   (80, 'Seq'),\n   (337, 'Nmod'),\n   (342, 'Seq'),\n   (351, 'Seq'),\n   (391, 'Seq'),\n   (399, 'Nmod'),\n   (416, 'Nmod'),\n   (563, 'Nmod'),\n   (589, 'Nmod')],\n  [(81, 'Nmod'), (338, 'Nmod'), (392, 'Nmod'), (931, 'eEqu')],\n  [(393, 'Poss')],\n  [(347, 'Exp')],\n  [(669, 'mMod')],\n  [(510, 'mPrep'), (527, 'mPrep'), (779, 'mPrep'), (810, 'mPrep')],\n  [(334, 'mPrep')],\n  [(342, 'Nmod'), (399, 'Nmod')],\n  [(337, 'Seq'), (342, 'Seq'), (399, 'Seq'), (416, 'Seq'), (563, 'Seq')],\n  [(254, 'Loc')],\n  [(401, 'mPrep')],\n  [(254, 'Dir'), (404, 'Dir'), (407, 'Loc')],\n  [(403, 'mPrep'), (736, 'mPrep')],\n  [(404, 'Dir'), (407, 'Dir')],\n  [(417, 'rExp')],\n  [(219, 'Agt')],\n  [(98, 'Nmod'), (405, 'Nmod')],\n  [(979, 'rCont')],\n  [(407, 'mAux')],\n  [(560, 'Nmod')],\n  [(416, 'Nmod'), (563, 'Nmod')],\n  [(334, 'mPunc'),\n   (412, 'mPunc'),\n   (413, 'mPunc'),\n   (414, 'mPunc'),\n   (560, 'mPunc'),\n   (561, 'mPunc')],\n  [(218, 'Nmod'), (413, 'Nmod'), (560, 'Nmod')],\n  [(414, 'Nmod')],\n  [(708, 'dDesc'), (979, 'dDesc')],\n  [(334, 'mPunc'), (560, 'mPunc')],\n  [(285, 'Desc'), (417, 'Desc'), (565, 'Desc'), (746, 'Desc'), (979, 'Desc')],\n  [(288, 'Pat')],\n  [(254, 'Loc')],\n  [(3, 'dCont')],\n  [(419, 'mPunc'), (737, 'mPunc')],\n  [(597, 'eSucc')],\n  [(450, 'Agt')],\n  [(733, 'mConj')],\n  [(13, 'Nmod')],\n  [(742, 'mPunc')],\n  [(13, 'eCoo')],\n  [(742, 'mPunc')],\n  [(13, 'eCoo')],\n  [(424, 'mPunc')],\n  [(13, 'eCoo')],\n  [(426, 'mPunc'), (428, 'mPunc')],\n  [(567, 'Nmod')],\n  [(426, 'mPunc'), (428, 'mPunc'), (729, 'mPunc')],\n  [(254, 'Agt'),\n   (288, 'Agt'),\n   (414, 'Agt'),\n   (435, 'Agt'),\n   (439, 'Exp'),\n   (977, 'Agt')],\n  [(737, 'eSucc')],\n  [(737, 'mPunc')],\n  [(438, 'Quan')],\n  [(118, 'Poss'),\n   (279, 'Exp'),\n   (288, 'Exp'),\n   (414, 'Exp'),\n   (435, 'Exp'),\n   (439, 'Exp'),\n   (865, 'Exp'),\n   (977, 'Agt')],\n  [(737, 'eSucc')],\n  [(439, 'mPunc')],\n  [(133, 'Loc'),\n   (268, 'Nmod'),\n   (442, 'Nmod'),\n   (594, 'Nmod'),\n   (846, 'Nmod'),\n   (850, 'Nmod'),\n   (881, 'Nmod')],\n  [(444, 'Nmod'), (445, 'Poss'), (596, 'Poss')],\n  [(444, 'Desc'), (745, 'Desc')],\n  [(139, 'Desc'), (268, 'Desc'), (445, 'Desc'), (596, 'Desc')],\n  [(269, 'Agt'), (288, 'Agt'), (446, 'Agt')],\n  [(142, 'eSucc'), (874, 'eSucc')],\n  [(446, 'mPunc'),\n   (550, 'mPunc'),\n   (834, 'mPunc'),\n   (843, 'mPunc'),\n   (878, 'mPunc')],\n  [(597, 'Agt')],\n  [(9, 'Nmod'),\n   (116, 'Nmod'),\n   (264, 'Nmod'),\n   (294, 'Nmod'),\n   (448, 'Nmod'),\n   (450, 'Agt'),\n   (836, 'Nmod')],\n  [(597, 'eSucc')],\n  [(11, 'Pat'), (152, 'Datv'), (450, 'Pat'), (741, 'Pat')],\n  [(453, 'mNeg'), (888, 'mNeg'), (892, 'mNeg')],\n  [(269, 'dCont')],\n  [(455, 'Desc'), (461, 'Desc'), (604, 'Desc')],\n  [(453, 'Cont')],\n  [(453, 'mPunc'), (857, 'mPunc'), (888, 'mPunc'), (892, 'mPunc')],\n  [(857, 'eSucc')],\n  [(461, 'Poss')],\n  [(458, 'mAux')],\n  [(461, 'Desc'), (476, 'Desc')],\n  [(457, 'Cont')],\n  [(457, 'mPunc'), (470, 'mPunc')],\n  [(312, 'Agt')],\n  [(470, 'eSucc')],\n  [(464, 'Belg')],\n  [(470, 'dCont')],\n  [(763, 'Pat')],\n  [(752, 'eSucc')],\n  [(470, 'mNeg')],\n  [(752, 'eSucc')],\n  [(472, 'Mann')],\n  [(181, 'dCont'), (470, 'dCont')],\n  [(314, 'Poss')],\n  [(473, 'mAux')],\n  [(314, 'Desc'), (461, 'Desc'), (476, 'Desc')],\n  [(472, 'Cont')],\n  [(896, 'mPunc')],\n  [(312, 'Agt')],\n  [(478, 'Nmod')],\n  [(59, 'mPunc')],\n  [(312, 'Agt')],\n  [(481, 'Nmod')],\n  [(470, 'eSucc')],\n  [(314, 'Desc'), (485, 'Desc')],\n  [(472, 'Cont')],\n  [(312, 'mPunc')],\n  [(488, 'Exp')],\n  [(82, 'dTime'), (312, 'dTime')],\n  [(488, 'mTime')],\n  [(488, 'mPunc')],\n  [(237, 'Agt'),\n   (492, 'Agt'),\n   (514, 'Agt'),\n   (528, 'Agt'),\n   (669, 'Agt'),\n   (780, 'Agt'),\n   (811, 'Agt')],\n  [(201, 'dCont')],\n  [(494, 'Nmod')],\n  [(492, 'Lfin')],\n  [(811, 'eSucc')],\n  [(495, 'eSucc'), (543, 'eSucc')],\n  [(188, 'Quan'),\n   (356, 'Quan'),\n   (498, 'Quan'),\n   (632, 'Quan'),\n   (682, 'Quan'),\n   (771, 'Quan'),\n   (794, 'Quan'),\n   (906, 'Quan'),\n   (910, 'Quan'),\n   (928, 'Quan')],\n  [(496, 'TDur')],\n  [(780, 'mPunc')],\n  [(501, 'mPrep')],\n  [(201, 'Mann')],\n  [(503, 'Exp')],\n  [(780, 'eSucc')],\n  [(503, 'mPunc')],\n  [(78, 'Exp')],\n  [(503, 'dClas')],\n  [(506, 'mPunc')],\n  [(509, 'Quan')],\n  [(510, 'Qp')],\n  [(511, 'Exp'), (831, 'Pat')],\n  [(780, 'eSucc')],\n  [(312, 'mPunc')],\n  [(514, 'Agt'), (669, 'Agt')],\n  [(201, 'eSucc')],\n  [(514, 'Cont')],\n  [(188, 'Quan'),\n   (498, 'Quan'),\n   (517, 'Quan'),\n   (632, 'Quan'),\n   (710, 'Quan'),\n   (771, 'Quan'),\n   (794, 'Quan'),\n   (801, 'Quan'),\n   (910, 'Quan'),\n   (922, 'Quan'),\n   (928, 'Quan')],\n  [(515, 'Qp'), (669, 'eSucc')],\n  [(312, 'mPunc')],\n  [(520, 'Tmod'), (521, 'Tmod')],\n  [(521, 'Tmod'), (646, 'Tmod')],\n  [(669, 'Time')],\n  [(684, 'mPunc')],\n  [(236, 'Sco')],\n  [(525, 'Desc')],\n  [(201, 'Agt'), (492, 'Agt'), (528, 'Agt'), (821, 'Agt')],\n  [(81, 'mPrep'), (527, 'mPrep'), (779, 'mPrep'), (810, 'mPrep')],\n  [(811, 'Datv')],\n  [(821, 'eSucc')],\n  [(530, 'Desc')],\n  [(528, 'Cont'), (780, 'Cont'), (811, 'Pat')],\n  [(201, 'mPunc')],\n  [(935, 'Agt'), (938, 'Agt')],\n  [(690, 'dDesc')],\n  [(329, 'TDur')],\n  [(201, 'dCont')],\n  [(537, 'Quan'), (922, 'Quan')],\n  [(538, 'Agt'), (826, 'Agt'), (935, 'Agt'), (938, 'Agt')],\n  [(535, 'dCont')],\n  [(535, 'mPunc')],\n  [(669, 'dTime')],\n  [(540, 'mTime'), (804, 'mTime')],\n  [(201, 'dCont')],\n  [(514, 'eSucc')],\n  [(543, 'eSucc')],\n  [(546, 'Quan')],\n  [(547, 'Qp')],\n  [(669, 'TDur')],\n  [(834, 'mPunc')],\n  [(446, 'mConj'), (550, 'mConj'), (834, 'mConj'), (843, 'mRang')],\n  [(142, 'eSucc')],\n  [(446, 'mPunc'), (550, 'mPunc'), (834, 'mPunc'), (843, 'mPunc')],\n  [(107, 'Agt')],\n  [(98, 'Nmod'), (405, 'Nmod'), (552, 'Nmod'), (836, 'Nmod')],\n  [(417, 'rCont'), (979, 'rCont')],\n  [(404, 'mAux'), (407, 'mAux'), (554, 'mAux')],\n  [(442, 'Nmod')],\n  [(564, 'Nmod')],\n  [(561, 'mPunc')],\n  [(413, 'Nmod'), (560, 'Nmod')],\n  [(416, 'Nmod'), (563, 'Nmod')],\n  [(979, 'dDesc')],\n  [(560, 'mPunc')],\n  [(417, 'Desc'), (564, 'Desc'), (565, 'Desc'), (590, 'Desc')],\n  [(565, 'Poss')],\n  [(142, 'Agt'), (566, 'Exp'), (737, 'Agt')],\n  [(142, 'eSucc'), (737, 'eSucc'), (874, 'eSucc')],\n  [(142, 'Agt'), (597, 'Agt'), (737, 'Agt')],\n  [(567, 'Nmod'), (836, 'Nmod')],\n  [(597, 'mPunc')],\n  [(116, 'Nmod')],\n  [(737, 'eSucc')],\n  [(17, 'Agt'), (288, 'Agt'), (573, 'Agt'), (977, 'Agt')],\n  [(575, 'rPat'), (604, 'rCont'), (884, 'rCont')],\n  [(573, 'mAux'), (977, 'mAux')],\n  [(571, 'Clas'), (597, 'Clas')],\n  [(571, 'mPunc')],\n  [(124, 'Sco'), (276, 'Sco'), (578, 'Sco'), (590, 'Sco')],\n  [(571, 'Exp'), (579, 'Exp'), (597, 'Agt')],\n  [(419, 'eSucc'), (737, 'eSucc'), (874, 'eCoo')],\n  [(147, 'mPrep'), (585, 'mPrep'), (724, 'mPrep')],\n  [(133, 'Loc'), (585, 'Loc')],\n  [(133, 'Nmod'), (139, 'Nmod'), (147, 'Nmod'), (585, 'Nmod')],\n  [(585, 'Nmod')],\n  [(133, 'Desc'), (139, 'Desc'), (147, 'Desc'), (585, 'Desc')],\n  [(567, 'Poss')],\n  [(597, 'mPunc')],\n  [(442, 'Nmod')],\n  [(19, 'Nmod'), (416, 'Nmod'), (563, 'Nmod'), (589, 'Nmod')],\n  [(126, 'Desc'),\n   (276, 'Desc'),\n   (417, 'Desc'),\n   (564, 'Desc'),\n   (578, 'Desc'),\n   (590, 'Desc'),\n   (746, 'Desc')],\n  [(288, 'Exp'), (571, 'Exp'), (579, 'Exp'), (597, 'Agt')],\n  [(287, 'mPrep'), (596, 'mPrep'), (881, 'mPrep')],\n  [(596, 'Poss')],\n  [(133, 'Loc'),\n   (442, 'Nmod'),\n   (585, 'Nmod'),\n   (594, 'Nmod'),\n   (596, 'Nmod'),\n   (846, 'Nmod'),\n   (881, 'Nmod')],\n  [(133, 'Nmod'), (596, 'Nmod')],\n  [(133, 'Nmod'),\n   (139, 'Nmod'),\n   (147, 'Nmod'),\n   (268, 'Nmod'),\n   (445, 'Nmod'),\n   (585, 'Nmod'),\n   (596, 'Nmod')],\n  [(142, 'Datv'), (288, 'Datv'), (597, 'Datv')],\n  [(142, 'eSucc'), (419, 'eSucc'), (737, 'eSucc'), (874, 'eSucc')],\n  [(453, 'mTime'), (597, 'mTime'), (882, 'mTime')],\n  [(852, 'Desc')],\n  [(602, 'Desc')],\n  [(602, 'Desc')],\n  [(455, 'Desc')],\n  [(455, 'Desc'), (604, 'Desc')],\n  [(453, 'Cont'), (457, 'Cont')],\n  [(892, 'mPunc')],\n  [(607, 'Desc'), (616, 'Desc'), (900, 'Desc')],\n  [(608, 'Exp')],\n  [(896, 'eCoo')],\n  [(168, 'Quan'),\n   (610, 'Quan'),\n   (760, 'Quan'),\n   (771, 'Quan'),\n   (896, 'Quan'),\n   (902, 'Quan'),\n   (906, 'Quan'),\n   (910, 'Quan')],\n  [(457, 'eSucc'), (608, 'Clas')],\n  [(457, 'mPunc'), (470, 'mPunc'), (896, 'mPunc')],\n  [(470, 'mConj')],\n  [(614, 'eCoo'), (621, 'Desc'), (900, 'Desc')],\n  [(616, 'Desc'), (623, 'Desc'), (900, 'Desc')],\n  [(171, 'Desc'), (616, 'Desc'), (623, 'Desc'), (630, 'Desc'), (900, 'Desc')],\n  [(902, 'Exp')],\n  [(168, 'Quan'), (618, 'Quan'), (815, 'Quan'), (896, 'Quan'), (902, 'Quan')],\n  [(457, 'eSucc'), (470, 'eSucc')],\n  [(470, 'mPunc')],\n  [(621, 'Desc'), (900, 'Desc')],\n  [(629, 'Pat')],\n  [(171, 'Desc'),\n   (616, 'Desc'),\n   (623, 'Desc'),\n   (630, 'Desc'),\n   (768, 'Desc'),\n   (900, 'Desc')],\n  [(625, 'Exp'), (632, 'Exp'), (902, 'Exp'), (906, 'Exp')],\n  [(168, 'Quan'),\n   (188, 'Quan'),\n   (356, 'Quan'),\n   (498, 'Quan'),\n   (610, 'Quan'),\n   (625, 'Quan'),\n   (632, 'Quan'),\n   (710, 'Quan'),\n   (760, 'Quan'),\n   (771, 'Quan'),\n   (794, 'Quan'),\n   (801, 'Quan'),\n   (815, 'Quan'),\n   (902, 'Quan'),\n   (906, 'Quan'),\n   (910, 'Quan'),\n   (928, 'Quan')],\n  [(470, 'eSucc')],\n  [(470, 'mPunc'), (902, 'mPunc')],\n  [(621, 'Desc'), (628, 'Desc'), (926, 'Desc')],\n  [(623, 'Desc'), (630, 'Desc'), (926, 'Desc')],\n  [(171, 'Desc'), (623, 'Desc'), (630, 'Desc'), (768, 'Desc'), (790, 'Desc')],\n  [(625, 'Exp'),\n   (632, 'Exp'),\n   (771, 'Exp'),\n   (902, 'Exp'),\n   (906, 'Exp'),\n   (910, 'Exp')],\n  [(168, 'Quan'),\n   (188, 'Quan'),\n   (356, 'Quan'),\n   (498, 'Quan'),\n   (517, 'Quan'),\n   (610, 'Quan'),\n   (625, 'Quan'),\n   (632, 'Quan'),\n   (710, 'Quan'),\n   (760, 'Quan'),\n   (771, 'Quan'),\n   (794, 'Quan'),\n   (801, 'Quan'),\n   (815, 'Quan'),\n   (902, 'Quan'),\n   (906, 'Quan'),\n   (910, 'Quan'),\n   (928, 'Quan')],\n  [(82, 'eSucc'), (470, 'eSucc')],\n  [(312, 'mPunc')],\n  [(171, 'Desc'), (623, 'Desc'), (630, 'Desc'), (635, 'Desc'), (790, 'Desc')],\n  [(542, 'Time')],\n  [(372, 'mPrep'), (640, 'mPrep')],\n  [(321, 'Tmod'),\n   (322, 'Tmod'),\n   (520, 'Tmod'),\n   (638, 'Tmod'),\n   (639, 'Tmod'),\n   (644, 'Tmod'),\n   (645, 'Tmod')],\n  [(640, 'Tmod')],\n  [(640, 'Tmod')],\n  [(347, 'Tini')],\n  [(640, 'mTime')],\n  [(646, 'mPrep')],\n  [(520, 'Tmod'), (644, 'Tmod'), (645, 'Tmod')],\n  [(646, 'Tmod')],\n  [(646, 'Tmod')],\n  [(801, 'Tfin')],\n  [(324, 'mTime')],\n  [(632, 'mPunc')],\n  [(514, 'Agt')],\n  [(190, 'Nmod'),\n   (221, 'Nmod'),\n   (327, 'Nmod'),\n   (649, 'Nmod'),\n   (651, 'Agt'),\n   (941, 'Agt')],\n  [(224, 'rPat'),\n   (370, 'rPat'),\n   (653, 'rDatv'),\n   (663, 'rPat'),\n   (790, 'dDesc'),\n   (799, 'dDesc'),\n   (917, 'rPat'),\n   (931, 'rCont')],\n  [(366, 'mAux'), (651, 'mAux'), (915, 'mAux'), (941, 'mAux')],\n  [(503, 'Exp'), (514, 'Agt'), (669, 'Agt')],\n  [(201, 'eSucc')],\n  [(659, 'Loc')],\n  [(243, 'Nmod'), (659, 'Nmod')],\n  [(510, 'Desc')],\n  [(243, 'Desc'), (510, 'Desc'), (659, 'Desc')],\n  [(374, 'Datv'), (514, 'Datv'), (669, 'Pat')],\n  [(514, 'mPunc')],\n  [(218, 'Nmod'), (662, 'Nmod')],\n  [(221, 'Nmod'), (224, 'Nmod'), (663, 'Nmod'), (787, 'Nmod')],\n  [(514, 'Agt'), (669, 'Agt')],\n  [(372, 'mPrep'), (668, 'mPrep')],\n  [(666, 'Nmod')],\n  [(668, 'Nmod')],\n  [(199, 'Nmod'), (218, 'Nmod'), (243, 'Nmod'), (668, 'Nmod'), (787, 'Nmod')],\n  [(669, 'Datv')],\n  [(780, 'eSucc')],\n  [(374, 'mTime'), (669, 'mTime')],\n  [(209, 'Poss')],\n  [(674, 'Desc')],\n  [(674, 'Desc')],\n  [(675, 'Desc')],\n  [(676, 'Desc')],\n  [(528, 'Cont'), (811, 'Pat')],\n  [(528, 'mPunc')],\n  [(171, 'Desc'), (679, 'Desc'), (790, 'Desc')],\n  [(680, 'Exp')],\n  [(821, 'eSucc')],\n  [(682, 'Quan'), (692, 'Quan'), (794, 'Quan'), (815, 'Quan'), (922, 'Quan')],\n  [(201, 'Qp'),\n   (237, 'eSucc'),\n   (528, 'eSucc'),\n   (530, 'Qp'),\n   (680, 'Clas'),\n   (792, 'Cont'),\n   (918, 'Clas')],\n  [(528, 'mPunc'), (780, 'mPunc')],\n  [(514, 'mConj')],\n  [(945, 'dDesc')],\n  [(685, 'Belg')],\n  [(221, 'Desc')],\n  [(329, 'Cont')],\n  [(679, 'Desc'), (690, 'Desc'), (790, 'Desc')],\n  [(692, 'Exp'), (922, 'Exp')],\n  [(682, 'Quan'), (692, 'Quan'), (701, 'Quan'), (794, 'Quan'), (922, 'Quan')],\n  [(201, 'dCont'), (503, 'Clas'), (918, 'eSucc')],\n  [(237, 'mPunc')],\n  [(945, 'dDesc')],\n  [(694, 'Exp')],\n  [(697, 'Desc')],\n  [(938, 'Cont')],\n  [(690, 'Desc'), (790, 'Desc'), (799, 'Desc')],\n  [(701, 'Exp')],\n  [(692, 'Quan'), (701, 'Quan'), (922, 'Quan')],\n  [(878, 'dCont')],\n  [(692, 'mPunc')],\n  [(708, 'dDesc')],\n  [(703, 'Exp')],\n  [(706, 'Desc')],\n  [(708, 'Desc')],\n  [(708, 'Desc')],\n  [(710, 'Exp'), (801, 'Exp')],\n  [(188, 'Quan'),\n   (517, 'Quan'),\n   (610, 'Quan'),\n   (632, 'Quan'),\n   (701, 'Quan'),\n   (710, 'Quan'),\n   (771, 'Quan'),\n   (794, 'Quan'),\n   (801, 'Quan'),\n   (906, 'Quan'),\n   (910, 'Quan'),\n   (928, 'Quan')],\n  [(142, 'eSucc')],\n  [(571, 'mPunc')],\n  [(713, 'Desc')],\n  [(288, 'Time')],\n  [(718, 'mPrep'), (724, 'mPrep')],\n  [(6, 'Tmod'),\n   (594, 'Tmod'),\n   (716, 'Tmod'),\n   (717, 'Tmod'),\n   (722, 'Tmod'),\n   (723, 'Tmod'),\n   (850, 'Tmod'),\n   (870, 'Tmod'),\n   (881, 'Tmod')],\n  [(850, 'Tmod'), (870, 'Tmod')],\n  [(718, 'Tmod')],\n  [(288, 'Tini'), (419, 'Tini'), (597, 'Tini'), (737, 'Time'), (874, 'Tini')],\n  [(718, 'mTime')],\n  [(724, 'mPrep')],\n  [(722, 'Tmod'), (723, 'Tmod'), (850, 'Tmod'), (870, 'Tmod')],\n  [(724, 'Tmod')],\n  [(724, 'Tmod')],\n  [(288, 'Tfin')],\n  [(724, 'mTime')],\n  [(871, 'mPunc')],\n  [(152, 'Agt')],\n  [(727, 'mPunc'), (742, 'mPunc')],\n  [(836, 'Nmod')],\n  [(729, 'mPunc')],\n  [(729, 'eCoo')],\n  [(426, 'mPunc'), (428, 'mPunc'), (729, 'mPunc'), (731, 'mPunc')],\n  [(142, 'Agt')],\n  [(142, 'mTime'),\n   (288, 'mTime'),\n   (419, 'mTime'),\n   (737, 'mTime'),\n   (874, 'mTime')],\n  [(287, 'mPrep'), (596, 'mPrep'), (736, 'mPrep'), (981, 'mPrep')],\n  [(142, 'Datv'), (288, 'Datv'), (597, 'Datv'), (737, 'Datv'), (982, 'Datv')],\n  [(3, 'dCont')],\n  [(142, 'Cont'), (737, 'Cont')],\n  [(142, 'mPunc')],\n  [(116, 'Nmod'),\n   (152, 'Agt'),\n   (264, 'Nmod'),\n   (288, 'Agt'),\n   (294, 'Nmod'),\n   (448, 'Nmod'),\n   (597, 'Agt'),\n   (746, 'Poss'),\n   (836, 'Nmod'),\n   (882, 'Agt')],\n  [(597, 'eSucc')],\n  [(11, 'Cont'), (741, 'Pat')],\n  [(733, 'mConj'), (746, 'mConj')],\n  [(745, 'Desc'), (746, 'Desc'), (852, 'Desc')],\n  [(746, 'Desc'), (864, 'Desc')],\n  [(288, 'Pat'), (597, 'Cont'), (882, 'Exp')],\n  [(288, 'mRang'),\n   (597, 'mRang'),\n   (749, 'mRang'),\n   (888, 'mRang'),\n   (892, 'mRang')],\n  [(749, 'Quan'), (859, 'Quan'), (888, 'Quan'), (892, 'Quan')],\n  [(566, 'eSucc'), (597, 'eSucc'), (857, 'Clas')],\n  [(597, 'mPunc')],\n  [(158, 'Agt'), (752, 'Agt')],\n  [(269, 'eSucc')],\n  [(52, 'Cont')],\n  [(164, 'mConj'), (768, 'mConj')],\n  [(926, 'Desc')],\n  [(768, 'Desc')],\n  [(896, 'Exp')],\n  [(618, 'mMod'),\n   (632, 'mMod'),\n   (896, 'mMod'),\n   (902, 'mMod'),\n   (906, 'mMod'),\n   (910, 'mMod')],\n  [(168, 'Quan'),\n   (610, 'Quan'),\n   (760, 'Quan'),\n   (771, 'Quan'),\n   (896, 'Quan'),\n   (902, 'Quan'),\n   (906, 'Quan'),\n   (910, 'Quan')],\n  [(457, 'eSucc')],\n  [(896, 'mPunc')],\n  [(763, 'Agt')],\n  [(312, 'eSucc')],\n  [(763, 'Pat')],\n  [(768, 'mConj')],\n  [(926, 'Desc')],\n  [(768, 'Desc')],\n  [(174, 'Cont')],\n  [(618, 'mRang'),\n   (625, 'mRang'),\n   (632, 'mRang'),\n   (771, 'mMod'),\n   (906, 'mRang'),\n   (910, 'mMod'),\n   (922, 'mMod'),\n   (928, 'mMod')],\n  [(168, 'Quan'),\n   (188, 'Quan'),\n   (498, 'Quan'),\n   (517, 'Quan'),\n   (610, 'Quan'),\n   (625, 'Quan'),\n   (632, 'Quan'),\n   (710, 'Quan'),\n   (760, 'Quan'),\n   (771, 'Quan'),\n   (794, 'Quan'),\n   (801, 'Quan'),\n   (815, 'Quan'),\n   (902, 'Quan'),\n   (906, 'Quan'),\n   (910, 'Quan'),\n   (928, 'Quan')],\n  [(608, 'eSucc')],\n  [(470, 'mPunc')],\n  [(201, 'Agt'),\n   (312, 'Agt'),\n   (492, 'Agt'),\n   (528, 'Agt'),\n   (780, 'Agt'),\n   (811, 'Agt'),\n   (821, 'Agt')],\n  [(528, 'mTime'), (780, 'mTime')],\n  [(527, 'mPrep'), (779, 'mPrep'), (810, 'mPrep')],\n  [(494, 'Nmod')],\n  [(778, 'Desc')],\n  [(199, 'Nmod'), (306, 'Nmod'), (779, 'Nmod'), (787, 'Nmod')],\n  [(528, 'Datv'), (780, 'Datv'), (811, 'Datv')],\n  [(174, 'eSucc')],\n  [(528, 'Cont'), (780, 'Cont')],\n  [(780, 'mPunc')],\n  [(92, 'Nmod'), (784, 'Nmod'), (787, 'Nmod')],\n  [(787, 'Poss')],\n  [(199, 'Nmod'), (787, 'Nmod')],\n  [(199, 'Nmod'), (787, 'Nmod')],\n  [(219, 'Agt')],\n  [(210, 'Pat')],\n  [(224, 'Desc'),\n   (630, 'Desc'),\n   (653, 'Desc'),\n   (679, 'Desc'),\n   (790, 'Desc'),\n   (799, 'Desc'),\n   (931, 'Desc')],\n  [(632, 'Exp')],\n  [(792, 'mTime')],\n  [(618, 'mMod'),\n   (625, 'mMod'),\n   (632, 'mMod'),\n   (815, 'mMod'),\n   (902, 'mMod'),\n   (906, 'mMod'),\n   (910, 'mMod')],\n  [(168, 'Quan'),\n   (188, 'Quan'),\n   (353, 'Quan'),\n   (498, 'Quan'),\n   (546, 'Quan'),\n   (632, 'Quan'),\n   (682, 'Quan'),\n   (692, 'Quan'),\n   (771, 'Quan'),\n   (794, 'Quan'),\n   (801, 'Quan'),\n   (815, 'Quan'),\n   (906, 'Quan'),\n   (910, 'Quan'),\n   (922, 'Quan'),\n   (928, 'Quan')],\n  [(792, 'Cont')],\n  [(780, 'mPunc')],\n  [(209, 'Desc'), (797, 'Desc'), (944, 'Desc')],\n  [(210, 'Pat'), (221, 'Desc')],\n  [(224, 'Desc'), (663, 'Desc'), (790, 'Desc'), (799, 'Desc')],\n  [(517, 'Exp'), (669, 'Exp'), (710, 'Exp'), (801, 'Exp')],\n  [(188, 'Quan'),\n   (517, 'Quan'),\n   (632, 'Quan'),\n   (710, 'Quan'),\n   (771, 'Quan'),\n   (794, 'Quan'),\n   (801, 'Quan'),\n   (906, 'Quan'),\n   (910, 'Quan'),\n   (928, 'Quan')],\n  [(503, 'Clas')],\n  [(312, 'mPunc')],\n  [(210, 'Exp'), (804, 'Exp')],\n  [(514, 'dTime'), (669, 'dTime')],\n  [(540, 'mTime'), (804, 'mTime')],\n  [(521, 'mPunc'), (804, 'mPunc')],\n  [(514, 'Agt'), (669, 'Agt')],\n  [(649, 'Nmod'), (807, 'Nmod')],\n  [(510, 'mPrep'), (779, 'mPrep'), (810, 'mPrep')],\n  [(935, 'Datv')],\n  [(181, 'dCont')],\n  [(676, 'Desc'), (813, 'Desc')],\n  [(82, 'Cont'), (86, 'Exp'), (618, 'Exp'), (811, 'Pat'), (922, 'Exp')],\n  [(353, 'Quan'),\n   (498, 'Quan'),\n   (682, 'Quan'),\n   (794, 'Quan'),\n   (815, 'Quan'),\n   (922, 'Quan')],\n  [(813, 'Qp')],\n  [(312, 'mPunc')],\n  [(823, 'Desc')],\n  [(817, 'mPunc')],\n  [(96, 'Aft'), (201, 'Agt'), (318, 'Agt'), (821, 'Agt')],\n  [(528, 'mRang'), (821, 'mRang')],\n  [(528, 'eSucc')],\n  [(823, 'Sco')],\n  [(690, 'Desc')],\n  [(826, 'Agt')],\n  [(826, 'Mann')],\n  [(181, 'dCont'), (821, 'dCont')],\n  [(780, 'mPunc')],\n  [(829, 'mNeg')],\n  [(669, 'eSucc')],\n  [(935, 'Agt')],\n  [(514, 'eSucc'), (829, 'dCont')],\n  [(834, 'mPunc')],\n  [(446, 'mConj'), (550, 'mConj'), (834, 'mConj'), (843, 'mMod')],\n  [(3, 'eSucc')],\n  [(550, 'mPunc'), (834, 'mPunc'), (843, 'mPunc')],\n  [(142, 'Agt'), (874, 'Agt')],\n  [(98, 'Nmod'),\n   (113, 'Nmod'),\n   (116, 'Nmod'),\n   (190, 'Nmod'),\n   (264, 'Nmod'),\n   (405, 'Nmod'),\n   (448, 'Nmod'),\n   (552, 'Nmod'),\n   (649, 'Nmod'),\n   (807, 'Nmod'),\n   (836, 'Nmod')],\n  [(834, 'dCont')],\n  [(840, 'Loc')],\n  [(838, 'Clas')],\n  [(142, 'mPunc')],\n  [(446, 'mFreq'), (550, 'mFreq'), (834, 'mFreq'), (843, 'mFreq')],\n  [(142, 'eSucc'), (874, 'eSucc')],\n  [(550, 'mPunc'), (843, 'mPunc')],\n  [(133, 'Nmod'),\n   (442, 'Nmod'),\n   (585, 'Nmod'),\n   (594, 'Nmod'),\n   (846, 'Nmod'),\n   (850, 'Nmod'),\n   (881, 'Nmod')],\n  [(450, 'Agt'), (847, 'Agt')],\n  [(856, 'rCont')],\n  [(554, 'mAux'), (847, 'mAux')],\n  [(745, 'Time'), (850, 'Seq'), (852, 'Time'), (870, 'Tmod'), (881, 'Tmod')],\n  [(20, 'Time')],\n  [(276, 'Desc'), (745, 'Desc'), (852, 'Desc')],\n  [(864, 'Poss')],\n  [(884, 'Desc')],\n  [(855, 'mMod')],\n  [(856, 'Desc')],\n  [(288, 'Pat'), (882, 'Exp')],\n  [(269, 'dCont')],\n  [(749, 'Quan'), (859, 'Quan'), (888, 'Quan')],\n  [(597, 'eSucc'), (857, 'Clas')],\n  [(857, 'mPunc'), (888, 'mPunc')],\n  [(862, 'Desc')],\n  [(864, 'Poss')],\n  [(864, 'Desc')],\n  [(288, 'Pat')],\n  [(888, 'eCoo')],\n  [(546, 'Quan'), (867, 'Quan')],\n  [(737, 'eSucc')],\n  [(439, 'mPunc')],\n  [(6, 'Tmod'),\n   (7, 'Tmod'),\n   (717, 'Tmod'),\n   (850, 'Tmod'),\n   (870, 'Tmod'),\n   (871, 'Tmod')],\n  [(724, 'Tmod'), (871, 'Tmod')],\n  [(142, 'Time'), (597, 'Time'), (874, 'Time')],\n  [(7, 'mPunc'), (871, 'mPunc')],\n  [(142, 'Agt'),\n   (152, 'Agt'),\n   (156, 'Agt'),\n   (158, 'Agt'),\n   (269, 'Agt'),\n   (446, 'Aft'),\n   (597, 'Agt'),\n   (874, 'Agt'),\n   (878, 'Agt')],\n  [(3, 'dCont')],\n  [(139, 'mConj'), (585, 'mPrep')],\n  [(142, 'Datv')],\n  [(142, 'mPunc'), (288, 'mPunc'), (566, 'mPunc'), (597, 'mPunc')],\n  [(142, 'eSucc'), (566, 'eSucc'), (597, 'eSucc'), (874, 'eSucc')],\n  [(881, 'mPrep')],\n  [(16, 'Sco'),\n   (19, 'Sco'),\n   (133, 'Sco'),\n   (442, 'Sco'),\n   (594, 'Sco'),\n   (850, 'Sco'),\n   (881, 'Sco')],\n  [(11, 'Cont'), (152, 'Cont'), (288, 'Reas'), (450, 'Reas'), (882, 'Reas')],\n  [(874, 'dCont')],\n  [(884, 'Desc')],\n  [(142, 'Cont'), (453, 'Cont'), (597, 'Cont'), (737, 'Cont'), (882, 'Prod')],\n  [(597, 'mPunc')],\n  [(888, 'Exp')],\n  [(749, 'Quan'), (859, 'Quan'), (888, 'Quan'), (892, 'Quan')],\n  [(269, 'dCont'),\n   (446, 'dCont'),\n   (566, 'eSucc'),\n   (597, 'eSucc'),\n   (843, 'dCont'),\n   (878, 'dCont')],\n  [(857, 'mPunc'), (888, 'mPunc'), (892, 'mPunc')],\n  [(896, 'Exp')],\n  [(35, 'Quan'), (749, 'Quan'), (888, 'Quan'), (892, 'Quan'), (896, 'Quan')],\n  [(269, 'eSucc'),\n   (566, 'eSucc'),\n   (579, 'eSucc'),\n   (597, 'eSucc'),\n   (857, 'eSucc'),\n   (878, 'dCont'),\n   (882, 'eSucc')],\n  [(892, 'mPunc')],\n  [(752, 'Exp')],\n  [(35, 'Quan'), (38, 'Quan'), (760, 'Quan'), (896, 'Quan'), (902, 'Quan')],\n  [(269, 'eSucc'), (857, 'eSucc')],\n  [(470, 'mPunc'), (896, 'mPunc')],\n  [(621, 'Desc'), (900, 'Desc')],\n  [(900, 'Desc')],\n  [(902, 'Exp')],\n  [(168, 'Quan'), (896, 'Quan'), (902, 'Quan'), (906, 'Quan'), (910, 'Quan')],\n  [(470, 'eCoo')],\n  [(470, 'mPunc')],\n  [(763, 'Pat')],\n  [(168, 'Quan'),\n   (188, 'Quan'),\n   (353, 'Quan'),\n   (356, 'Quan'),\n   (498, 'Quan'),\n   (610, 'Quan'),\n   (625, 'Quan'),\n   (632, 'Quan'),\n   (710, 'Quan'),\n   (771, 'Quan'),\n   (794, 'Quan'),\n   (801, 'Quan'),\n   (902, 'Quan'),\n   (906, 'Quan'),\n   (910, 'Quan'),\n   (928, 'Quan')],\n  [(470, 'eSucc')],\n  [(902, 'mPunc')],\n  [(312, 'mRang'),\n   (625, 'mRang'),\n   (632, 'mRang'),\n   (771, 'mRang'),\n   (906, 'mRang'),\n   (910, 'mRang'),\n   (928, 'mRang')],\n  [(168, 'Quan'),\n   (188, 'Quan'),\n   (610, 'Quan'),\n   (625, 'Quan'),\n   (632, 'Quan'),\n   (771, 'Quan'),\n   (794, 'Quan'),\n   (801, 'Quan'),\n   (902, 'Quan'),\n   (906, 'Quan'),\n   (910, 'Quan'),\n   (928, 'Quan')],\n  [(470, 'eSucc')],\n  [(470, 'mPunc')],\n  [(82, 'mConj')],\n  [(912, 'mPunc')],\n  [(763, 'Agt'), (915, 'Agt')],\n  [(623, 'rCont'), (630, 'rCont'), (917, 'rCont')],\n  [(71, 'mAux'), (231, 'mAux'), (651, 'mAux'), (915, 'mAux'), (941, 'mAux')],\n  [(503, 'Exp'), (918, 'Exp')],\n  [(174, 'eSucc'), (470, 'eSucc'), (618, 'eSucc')],\n  [(201, 'mPunc'), (503, 'mPunc')],\n  [(506, 'Exp')],\n  [(353, 'Quan'),\n   (682, 'Quan'),\n   (692, 'Quan'),\n   (794, 'Quan'),\n   (815, 'Quan'),\n   (922, 'Quan')],\n  [(201, 'dCont'),\n   (225, 'Clas'),\n   (237, 'eSucc'),\n   (503, 'Clas'),\n   (654, 'Clas'),\n   (792, 'Cont'),\n   (918, 'eSucc')],\n  [(506, 'mPunc')],\n  [(926, 'Desc')],\n  [(510, 'Desc')],\n  [(632, 'Exp')],\n  [(168, 'Quan'),\n   (188, 'Quan'),\n   (356, 'Quan'),\n   (498, 'Quan'),\n   (517, 'Quan'),\n   (546, 'Quan'),\n   (610, 'Quan'),\n   (625, 'Quan'),\n   (632, 'Quan'),\n   (710, 'Quan'),\n   (771, 'Quan'),\n   (794, 'Quan'),\n   (801, 'Quan'),\n   (906, 'Quan'),\n   (910, 'Quan'),\n   (928, 'Quan')],\n  [(792, 'eSucc')],\n  [(312, 'mPunc')],\n  [(171, 'Desc'), (236, 'Desc'), (679, 'Desc'), (931, 'Desc')],\n  [(201, 'Cont'),\n   (225, 'Exp'),\n   (503, 'Exp'),\n   (514, 'Exp'),\n   (654, 'Exp'),\n   (669, 'Exp'),\n   (918, 'Exp'),\n   (933, 'Exp')],\n  [(653, 'mPunc'), (931, 'mPunc')],\n  [(821, 'eSucc')],\n  [(935, 'Agt'), (938, 'Agt')],\n  [(918, 'eSucc'), (933, 'eSucc')],\n  [(935, 'mPunc')],\n  [(935, 'Agt'), (938, 'Agt')],\n  [(918, 'eSucc')],\n  [(935, 'mPunc')],\n  [(366, 'Agt'), (651, 'Agt'), (941, 'Agt')],\n  [(370, 'rCont'), (510, 'rCont'), (799, 'rCont'), (917, 'rCont')],\n  [(366, 'mAux'), (651, 'mAux'), (941, 'mAux')],\n  [(209, 'Desc'), (944, 'Desc'), (948, 'Desc'), (954, 'Desc')],\n  [(945, 'Desc')],\n  [(514, 'Cont')],\n  [(945, 'mPunc')],\n  [(945, 'Desc'), (948, 'Desc'), (954, 'Desc')],\n  [(514, 'Cont')],\n  [(945, 'mPunc'), (948, 'mPunc'), (954, 'mPunc')],\n  [(799, 'Desc'), (951, 'Desc')],\n  [(945, 'eCoo')],\n  [(945, 'mPunc'), (948, 'mPunc'), (954, 'mPunc'), (957, 'mPunc')],\n  [(799, 'Desc')],\n  [(514, 'Cont')],\n  [(945, 'mPunc')],\n  [(926, 'Desc')],\n  [(799, 'eCoo')],\n  [(954, 'mPunc'), (957, 'mPunc')],\n  [(210, 'Pat')],\n  [(510, 'Desc'), (630, 'dDesc'), (790, 'Desc'), (799, 'dDesc')],\n  [(799, 'eCoo')],\n  [(957, 'mPunc')],\n  [(209, 'Poss')],\n  [(374, 'Cont')],\n  [(954, 'mPunc')],\n  [(951, 'eCoo')],\n  [(957, 'mPunc')],\n  [(969, 'Desc')],\n  [(254, 'Exp')],\n  [(969, 'mMaj')],\n  [(404, 'mTime')],\n  [(973, 'mPrep')],\n  [(407, 'Agt'), (974, 'Agt'), (977, 'Agt')],\n  [(3, 'dCont')],\n  [(733, 'mConj')],\n  [(977, 'Agt')],\n  [(979, 'rCont')],\n  [(407, 'mAux'), (554, 'mAux'), (977, 'mAux')],\n  [(288, 'Pat')],\n  [(401, 'mPrep'), (736, 'mPrep'), (981, 'mPrep')],\n  [(982, 'Exp')],\n  [(421, 'eSucc')],\n  [(982, 'Clas')],\n  [(446, 'mPunc')]],\n 'con': ['TOP', [['IP', [['NP', [['NP', [['NN', ['原告']]]], ['NP', [['NR', ['崔秀英']]]]]], ['VP', [['VV', ['诉称']], ['PU', ['，']], ['IP', [['IP', [['IP', [['IP', [['IP', [['IP', [['IP', [['NP', [['NT', ['2013年']], ['NT', ['9月']], ['NT', ['1日']]]], ['PU', ['，']], ['NP', [['NP', [['NN', ['被告']]]], ['NP', [['NR', ['刘润伟']]]]]], ['VP', [['VV', ['驾驶']], ['NP', [['NP', [['NP', [['IP', [['NP', [['NP', [['NR', ['鲁']], ['NR', ['XXXXX']], ['PRN', [['PU', ['（']], ['NR', ['鲁']], ['NR', ['XXXXX']], ['VP', [['VV', ['挂']]]], ['PU', ['）']]]], ['NP', [['M', ['号']]]]]], ['NP', [['NN', ['货车']]]]]], ['VP', [['PP', [['PP', [['P', ['沿']], ['QP', [['NP', [['NN', ['国道']]]], ['QP', [['OD', ['206']], ['CLP', [['M', ['线']]]]]]]]]], ['PP', [['PP', [['P', ['由']], ['NP', [['NN', ['南']]]]]], ['PP', [['P', ['向']], ['NP', [['NN', ['北']]]]]]]]]], ['VP', [['VV', ['行驶']]]]]]]], ['VV', ['至']], ['NP', [['NP', [['NN', ['国道']]]], ['QP', [['OD', ['206']], ['CLP', [['M', ['线']]]]]]]]]], ['QP', [['CD', ['334']], ['CLP', [['M', ['公里']]]]]], ['PU', ['＋']], ['QP', [['CD', ['500']], ['CLP', [['M', ['米']]]]]]]], ['NP', [['NN', ['处']]]]]]]], ['LC', ['时']], ['PU', ['，']], ['VP', [['VP', [['VP', [['PP', [['LCP', [['IP', [['VP', [['PP', [['P', ['与']], ['NP', [['CP', [['CP', [['IP', [['NP', [['NR', ['赵同庆']]]], ['VP', [['VV', ['驾驶']]]]]], ['DEC', ['的']]]]]], ['NP', [['NR', ['鲁']], ['NR', ['XXXXX']], ['NP', [['NN', ['号']]]]]], ['NP', [['NN', ['三轮车']]]], ['PRN', [['PU', ['（']], ['IP', [['NP', [['NN', ['车上']]]], ['VP', [['VV', ['乘坐']], ['NP', [['NR', ['崔秀英']], ['PU', ['、']], ['NR', ['刘玉强']], ['PU', ['、']], ['NR', ['杨灿珠']], ['PU', ['、']], ['NR', ['张先升']], ['PU', ['、']], ['NR', ['于常美']], ['PU', ['、']], ['NR', ['张渤海']]]]]]]], ['PU', ['）']]]]]]]], ['VP', [['VV', ['相撞']]]]]]]], ['LC', ['后']]]], ['PU', ['，']], ['ADVP', [['AD', ['又']]]], ['PP', [['P', ['与']], ['NP', [['CP', [['CP', [['IP', [['NP', [['NR', ['张上海']]]], ['VP', [['VV', ['驾驶']]]]]], ['DEC', ['的']]]]]], ['NP', [['NR', ['鲁']], ['NR', ['XXXXX']], ['PRN', [['PU', ['（']], ['NR', ['鲁']], ['NR', ['XXXXX']], ['VP', [['VV', ['挂']]]], ['PU', ['）']]]], ['NP', [['M', ['号']]]]]], ['NP', [['NN', ['货车']]]]]]]]]], ['VP', [['VV', ['相撞']]]]]], ['PU', ['，']], ['VP', [['VV', ['致']], ['NP', [['NN', ['原告']]]], ['VP', [['VV', ['受伤']]]]]]]], ['PU', ['，']], ['IP', [['NP', [['NN', ['车辆']]]], ['VP', [['VV', ['受损']]]]]]]], ['PU', ['。']], ['IP', [['NP', [['NP', [['NR', ['安丘市']], ['NN', ['公安局']]]], ['NP', [['NN', ['交通']], ['NN', ['警察']], ['NN', ['大队']]]]]], ['VP', [['VV', ['认定']], ['PU', ['，']], ['IP', [['IP', [['NP', [['IP', [['IP', [['NP', [['NP', [['NN', ['被告']]]], ['NP', [['NR', ['刘润伟']]]]]], ['VP', [['VV', ['承担']], ['NP', [['DNP', [['NP', [['NN', ['事故']]]], ['DEG', ['的']]]], ['ADJP', [['JJ', ['主要']]]], ['NP', [['NN', ['责任']]]]]]]]]], ['PU', ['，']], ['IP', [['NP', [['NR', ['赵同庆']]]], ['VP', [['VV', ['承担']], ['NP', [['DNP', [['NP', [['NN', ['事故']]]], ['DEG', ['的']]]], ['ADJP', [['JJ', ['次要']]]], ['NP', [['NN', ['责任']]]]]]]]]]]], ['PU', ['，']], ['NP', [['NP', [['NN', ['被告']]]], ['NP', [['NR', ['张上海']]]]]]]], ['PU', ['、']], ['IP', [['NP', [['NP', [['NN', ['原告']]]], ['NP', [['NR', ['崔秀英']]]]]], ['VP', [['VE', ['无']], ['NP', [['NN', ['事故']], ['NN', ['责任']]]]]]]]]], ['PU', ['。']], ['IP', [['QP', [['OD', ['二']]]], ['NP', [['NP', [['NN', ['肇事']], ['NN', ['车辆']]]], ['NN', ['登记']], ['NN', ['车主']]]], ['VP', [['ADVP', [['ADVP', [['AD', ['分别']]]], ['PP', [['VC', ['为']], ['NP', [['NP', [['NP', [['NR', ['安丘市']]]], ['NR', ['万鑫']], ['NP', [['NN', ['物流']]]], ['ADJP', [['JJ', ['有限']]]], ['NP', [['NN', ['公司']]]]]], ['PU', ['、']], ['NP', [['NR', ['淄博']], ['NR', ['天炀']], ['NN', ['物流']], ['ADJP', [['JJ', ['有限']]]], ['NP', [['NN', ['公司']]]]]]]]]], ['PU', ['，']], ['ADVP', [['AD', ['分别']]]]]], ['VP', [['VV', ['投保']], ['PP', [['P', ['于']], ['NP', [['NP', [['QP', [['OD', ['二']]]], ['NP', [['NN', ['被告']]]]]], ['NP', [['NN', ['保险']], ['NN', ['公司']]]]]]]]]]]]]]]]]]]]]], ['PU', ['。']], ['IP', [['ADVP', [['AD', ['为此']]]], ['PU', ['，']], ['NP', [['NN', ['原告']]]], ['VP', [['VP', [['VRD', [['VV', ['诉']], ['VV', ['至']]]], ['NP', [['NN', ['本院']]]]]], ['PU', ['，']], ['VP', [['VV', ['请求']], ['IP', [['VP', [['ADVP', [['AD', ['依法']]]], ['VP', [['VV', ['判令']], ['NP', [['NN', ['被告']]]], ['VP', [['VP', [['VV', ['赔偿']], ['NP', [['NP', [['NN', ['原告']]]], ['NP', [['NN', ['医疗费']], ['PU', ['、']], ['NN', ['护理费']], ['ETC', ['等']]]]]]]], ['VP', [['ADVP', [['AD', ['共计']]]], ['QP', [['CD', ['10000']], ['CLP', [['M', ['元']]]]]]]]]]]]]]]]]]]]]], ['PU', ['；']], ['IP', [['NP', [['NN', ['诉讼']], ['NN', ['费用']]]], ['VP', [['PP', [['P', ['由']], ['NP', [['NN', ['被告']]]]]], ['VP', [['VV', ['负担']]]]]]]], ['PU', ['。']], ['IP', [['IP', [['ADVP', [['AD', ['后']]]], ['VP', [['VV', ['变更']], ['NP', [['NN', ['诉讼']], ['NN', ['请求']]]]]]]], ['PU', ['，']], ['VP', [['VP', [['VV', ['要求']], ['IP', [['VP', [['VV', ['赔偿']], ['NP', [['NP', [['NP', [['NN', ['医疗费']]]], ['ETC', ['等']]]], ['NP', [['NN', ['损失']]]]]]]]]]]], ['VP', [['ADVP', [['VV', ['共计']]]], ['QP', [['CD', ['9605.55']], ['CLP', [['M', ['元']]]]]]]]]]]], ['PU', ['。']], ['IP', [['NP', [['NP', [['NN', ['被告']]]], ['NP', [['NP', [['NR', ['刘润伟']], ['PU', ['、']], ['NR', ['王建法']]]], ['PU', ['、']], ['NP', [['NR', ['安丘市']], ['NR', ['万鑫']], ['NP', [['NN', ['物流']]]], ['ADJP', [['JJ', ['有限']]]], ['NP', [['NN', ['公司']]]]]]]]]], ['VP', [['ADVP', [['AD', ['共同']]]], ['VP', [['VV', ['辩称']], ['PU', ['，']], ['IP', [['IP', [['IP', [['VP', [['IP', [['VP', [['VV', ['发生']], ['NP', [['NN', ['事故']]]]]]]], ['VP', [['VA', ['属实']]]]]]]], ['PU', ['，']], ['VP', [['PP', [['P', ['对']], ['NP', [['NN', ['事故']], ['NN', ['责任']], ['NN', ['划分']]]]]], ['VP', [['VE', ['无']], ['NP', [['NN', ['异议']]]]]]]]]], ['PU', ['。']], ['IP', [['NP', [['IP', [['NP', [['DNP', [['NP', [['NR', ['鲁']], ['NR', ['XXXXX']], ['PRN', [['PU', ['（']], ['NP', [['NR', ['鲁']], ['VP', [['NR', ['XXXXX']], ['VP', [['VV', ['挂']]]]]]]], ['PU', ['）']]]], ['NP', [['NN', ['车辆']]]]]], ['DEG', ['的']]]], ['ADJP', [['JJ', ['实际']]]], ['NP', [['NN', ['车主']]]]]], ['VP', [['VC', ['是']], ['NP', [['NR', ['王建法']]]]]]]], ['PU', ['，']], ['NP', [['NR', ['刘润伟']]]]]], ['VP', [['VC', ['是']], ['NP', [['CP', [['CP', [['IP', [['NP', [['NR', ['王建法']]]], ['VP', [['VV', ['雇佣']]]]]], ['DEC', ['的']]]]]], ['NP', [['NN', ['驾驶员']]]]]]]]]]]]]]]]]], ['PU', ['，']], ['IP', [['NP', [['DP', [['DT', ['该']]]], ['NP', [['NN', ['车辆']]]]]], ['VP', [['VV', ['挂靠']], ['PP', [['P', ['于']], ['NP', [['NP', [['NR', ['安丘市']]]], ['NR', ['万鑫']], ['NP', [['NN', ['物流']]]], ['ADJP', [['JJ', ['有限']]]], ['NP', [['NN', ['公司']]]]]]]]]]]], ['PU', ['。']], ['IP', [['LCP', [['NP', [['DNP', [['NP', [['NN', ['原告']]]], ['DEG', ['的']]]], ['NP', [['NN', ['损失']], ['NN', ['保险']], ['NN', ['公司']]]]]], ['PP', [['VP', [['PP', [['P', ['在']], ['LCP', [['NP', [['NN', ['交强险']], ['NP', [['NN', ['范围']]]]]], ['LC', ['内']]]]]], ['VP', [['VV', ['赔偿']]]]]], ['LC', ['后']]]]]], ['PU', ['，']], ['NP', [['ADJP', [['JJ', ['剩余']]]], ['NP', [['NN', ['部分']]]]]], ['VP', [['VV', ['应']], ['VP', [['PP', [['P', ['由']], ['NP', [['NR', ['王建法']]]]]], ['VP', [['VV', ['承担']]]]]]]]]], ['PU', ['。']], ['IP', [['IP', [['NP', [['NP', [['NN', ['被告']]]], ['NP', [['NP', [['NP', [['NP', [['NP', [['NR', ['太平洋']], ['NP', [['NN', ['保险']]]]]], ['NR', ['安丘']], ['NN', ['支公司']]]], ['VV', ['辩称']], ['PU', ['，']], ['NP', [['IP', [['NP', [['IP', [['IP', [['IP', [['VP', [['VV', ['发生']], ['NP', [['NN', ['事故']]]]]]]], ['VP', [['VV', ['属实']]]]]], ['PU', ['，']], ['IP', [['NP', [['NP', [['NN', ['肇事']], ['NN', ['车辆']]]], ['VP', [['VV', ['投保']], ['NP', [['NN', ['交强险']]]]]]]], ['VP', [['VV', ['属实']]]]]]]], ['PU', ['，']], ['ADVP', [['CC', ['但']]]], ['NP', [['NP', [['NN', ['投保']], ['NN', ['车辆']]]], ['NP', [['VV', ['更改']], ['NP', [['NN', ['车牌号']]]]]]]]]], ['VP', [['VP', [['ADVP', [['AD', ['未经']]]], ['NP', [['NN', ['公司']]]], ['VP', [['VV', ['改批']]]]]], ['PU', ['，']], ['VP', [['ADVP', [['AD', ['所以']]]], ['VP', [['VV', ['不予']], ['NP', [['NN', ['赔偿']]]]]]]]]]]], ['PU', ['。']], ['NP', [['NP', [['NN', ['被告']]]], ['NP', [['NR', ['张上海']]]]]]]]]], ['PU', ['、']], ['NR', ['淄博']], ['NR', ['天炀']], ['NP', [['NN', ['物流']]]], ['ADJP', [['JJ', ['有限']]]], ['NP', [['NN', ['公司']]]]]], ['PU', ['、']], ['NP', [['NP', [['NR', ['中国']], ['NP', [['NN', ['人保']]]]]], ['NP', [['NR', ['博山']], ['NN', ['支公司']]]]]]]]]], ['VP', [['ADVP', [['AD', ['未']]]], ['VP', [['VV', ['到庭']]]]]]]], ['PU', ['，']], ['VP', [['ADVP', [['AD', ['亦']]]], ['ADVP', [['AD', ['未']]]], ['VP', [['VV', ['提交']], ['NP', [['ADJP', [['JJ', ['书面']]]], ['NP', [['NN', ['答辩状']]]]]]]]]]]], ['PU', ['。']], ['IP', [['PP', [['PP', [['P', ['经']], ['IP', [['NP', [['NN', ['审理']]]], ['VP', [['VV', ['查明']]]]]]]], ['PU', ['，']], ['LCP', [['IP', [['VP', [['NP', [['NP', [['NT', ['2013年']], ['NT', ['9月']], ['NT', ['1日']], ['NT', ['7时']], ['NT', ['47分']]]], ['ADVP', [['AD', ['许']]]]]], ['PU', ['，']], ['NP', [['NP', [['NP', [['NN', ['被告']]]], ['NP', [['NR', ['刘润伟']]]]]], ['VP', [['VV', ['驾驶']], ['NP', [['NP', [['NP', [['NP', [['NP', [['NP', [['NR', ['鲁']], ['NR', ['XXXXX']], ['PRN', [['PU', ['（']], ['NR', ['鲁']], ['NR', ['XXXXX']], ['VP', [['VV', ['挂']]]], ['PU', ['）']]]], ['NP', [['M', ['号']]]]]], ['NP', [['NN', ['货车']]]]]], ['PP', [['P', ['沿']], ['NP', [['NN', ['国道']]]]]]]], ['QP', [['OD', ['206']]]], ['NP', [['NN', ['线']]]]]], ['PP', [['PP', [['PP', [['P', ['由']], ['NP', [['NN', ['南']]]]]], ['PP', [['P', ['向']], ['NP', [['NN', ['北']]]]]]]], ['VP', [['VRD', [['VV', ['行驶']], ['VV', ['至']]]], ['NP', [['NP', [['NN', ['国道']]]], ['QP', [['QP', [['OD', ['206']]]], ['CLP', [['M', ['线']]]]]]]]]]]]]], ['QP', [['CD', ['334']], ['CLP', [['M', ['公里']]]]]], ['PU', ['＋']], ['QP', [['CD', ['500']], ['CLP', [['M', ['米']]]]]], ['NP', [['NN', ['处']]]]]]]]]]]]]], ['LC', ['时']]]]]], ['PU', ['，']], ['VP', [['VP', [['PP', [['PP', [['IP', [['VP', [['PP', [['P', ['与']], ['NP', [['CP', [['CP', [['IP', [['NP', [['NP', [['NP', [['NN', ['前方']], ['NR', ['顺行']]]], ['NP', [['NP', [['NN', ['左']]]], ['NN', ['转弯']]]]]], ['NP', [['NR', ['赵同庆']]]]]], ['VP', [['VV', ['驾驶']]]]]], ['DEC', ['的']]]]]], ['NP', [['NR', ['鲁']], ['NN', ['XXXXX号']]]], ['NP', [['NN', ['三轮车']]]], ['PRN', [['PU', ['（']], ['NP', [['LCP', [['NP', [['NN', ['车斗']]]], ['LC', ['内']]]], ['VP', [['VV', ['乘坐']], ['NP', [['NR', ['崔秀英']], ['PU', ['、']], ['NR', ['刘玉强']], ['PU', ['、']], ['NR', ['杨灿珠']], ['PU', ['、']], ['NR', ['于常美']], ['PU', ['、']], ['NR', ['张先升']], ['PU', ['、']], ['NR', ['张渤海']]]]]]]], ['PU', ['）']]]]]]]], ['VP', [['VV', ['相撞']]]]]]]], ['PU', ['，']], ['NP', [['NP', [['NP', [['NR', ['鲁']]]], ['QP', [['NR', ['XXXXX']], ['NP', [['NN', ['号']]]]]], ['NP', [['NN', ['三轮车']]]]]], ['NP', [['NN', ['前侧']]]]]]]], ['ADVP', [['AD', ['又']]]], ['PP', [['P', ['与']], ['NP', [['NP', [['CP', [['CP', [['IP', [['VP', [['PP', [['CP', [['IP', [['VP', [['NP', [['P', ['沿']], ['NP', [['NP', [['NN', ['国道']]]], ['QP', [['OD', ['206']], ['CLP', [['M', ['线']]]]]]]]]], ['VP', [['PP', [['PP', [['P', ['由']], ['NP', [['NN', ['北']]]]]], ['PP', [['P', ['向']], ['NP', [['NN', ['南']]]]]]]], ['VP', [['VV', ['行驶']]]]]]]]]]]], ['NP', [['NP', [['NN', ['被告']]]], ['NP', [['NR', ['张上海']]]]]]]], ['VP', [['VV', ['驾驶']]]]]]]], ['DEC', ['的']]]]]], ['NP', [['NR', ['鲁']], ['NR', ['XXXXX']], ['PRN', [['PU', ['（']], ['NR', ['鲁']], ['NR', ['XXXXX']], ['VP', [['VV', ['挂']]]], ['PU', ['）']]]], ['NP', [['NN', ['号']]]]]], ['NP', [['NN', ['货车']]]]]], ['NP', [['NN', ['左侧']]]]]]]]]], ['VP', [['VV', ['相撞']]]]]], ['PU', ['，']], ['VP', [['VV', ['致']], ['IP', [['IP', [['NP', [['NP', [['NN', ['原告']]]], ['CC', ['及']], ['NP', [['NR', ['赵同庆']], ['PU', ['、']], ['NR', ['刘玉强']], ['PU', ['、']], ['NR', ['杨灿珠']], ['PU', ['、']], ['NR', ['张先升']], ['PU', ['、']], ['NR', ['于常美']], ['PU', ['、']], ['NR', ['张渤海']]]]]], ['VP', [['VV', ['受伤']]]]]], ['PU', ['，']], ['IP', [['NP', [['QP', [['CD', ['三']]]], ['NP', [['NN', ['车']]]]]], ['VP', [['VV', ['受损']]]]]]]]]]]]]], ['PU', ['。']], ['IP', [['NP', [['NP', [['NR', ['安丘市']], ['NN', ['公安局']]]], ['NP', [['NN', ['交通']], ['NN', ['警察']], ['NN', ['大队']]]]]], ['VP', [['VV', ['认定']], ['PU', ['，']], ['NP', [['NP', [['NN', ['被告']]]], ['NP', [['NR', ['刘润伟']]]]]], ['VP', [['VP', [['VP', [['VV', ['驾驶']], ['NP', [['NN', ['机动车']]]]]], ['VP', [['ADVP', [['AD', ['未']]]], ['VP', [['VV', ['保持']], ['NP', [['ADJP', [['JJ', ['安全']]]], ['NP', [['NN', ['车速']]]]]]]]]]]], ['PU', ['，']], ['VP', [['VV', ['承担']], ['NP', [['DNP', [['NP', [['NN', ['事故']]]], ['DEG', ['的']]]], ['ADJP', [['JJ', ['主要']]]], ['NP', [['NN', ['责任']]]]]]]]]], ['PU', ['，']], ['IP', [['NP', [['NR', ['赵同庆']]]], ['VP', [['VP', [['VP', [['VE', ['无']], ['NP', [['NN', ['证']]]]]], ['VP', [['VP', [['VV', ['驾驶']], ['NP', [['NN', ['机动车']]]]]], ['VP', [['VV', ['转弯']]]]]]]], ['VP', [['ADVP', [['AD', ['未']]]], ['VP', [['VV', ['确保']], ['IP', [['VP', [['ADVP', [['AD', ['安全']]]], ['VP', [['VV', ['承担']], ['NP', [['DNP', [['NP', [['NN', ['事故']]]], ['DEG', ['的']]]], ['ADJP', [['JJ', ['次要']]]], ['NP', [['NN', ['责任']]]]]]]]]]]]]]]]]]]], ['PU', ['，']], ['IP', [['NP', [['NP', [['NP', [['NN', ['被告']]]], ['NP', [['NR', ['张上海']]]]]], ['PU', ['、']], ['NP', [['NP', [['NN', ['原告']]]], ['NP', [['NR', ['崔秀英']]]]]]]], ['VP', [['VE', ['无']], ['NP', [['NN', ['事故']], ['NN', ['责任']]]]]]]]]]]], ['PU', ['。']], ['IP', [['LCP', [['IP', [['NP', [['NN', ['事故']]]], ['VP', [['VV', ['发生']]]]]], ['LC', ['后']]]], ['PU', ['，']], ['NP', [['NN', ['原告']]]], ['VP', [['VP', [['VV', ['入']], ['NP', [['NR', ['安丘市']], ['NN', ['中医院']]]]]], ['VP', [['VCD', [['VV', ['住院']], ['VV', ['治疗']]]], ['QP', [['CD', ['12']], ['CLP', [['M', ['天']]]]]]]]]]]], ['PU', ['，']], ['IP', [['PP', [['P', ['经']], ['NP', [['NN', ['诊断']]]]]], ['NP', [['NN', ['伤情']]]], ['VP', [['VC', ['为']], ['PU', ['：']], ['IP', [['IP', [['NP', [['NN', ['左踝部皮']]]], ['VP', [['VV', ['裂伤']]]]]], ['PU', ['、']], ['IP', [['NP', [['QP', [['CD', ['多']], ['CLP', [['M', ['处']]]]]], ['NP', [['NN', ['皮']]]]]], ['VP', [['VV', ['擦伤']]]]]]]]]]]], ['PU', ['。']], ['IP', [['NP', [['NN', ['原告']]]], ['VP', [['VV', ['支出']], ['NP', [['NN', ['医疗费']]]], ['QP', [['CD', ['5459.31']], ['CLP', [['M', ['元']]]]]]]]]], ['PU', ['。']], ['IP', [['NP', [['NT', ['2014年']], ['NT', ['1月']], ['NT', ['21日']]]], ['PU', ['，']], ['NP', [['DP', [['DT', ['该']]]], ['NP', [['NN', ['诊疗']], ['NN', ['医院']]]]]], ['VP', [['PP', [['P', ['为']], ['NP', [['NN', ['原告']]]]]], ['VP', [['VV', ['出具']], ['NP', [['NN', ['伤情']], ['NN', ['证明']]]]]]]]]]]], ['PU', ['：']], ['IP', [['NP', [['NN', ['原告']]]], ['VP', [['VP', [['NP', [['VP', [['VV', ['住院']]]], ['NN', ['期间']]]], ['VP', [['VV', ['需']], ['IP', [['NP', [['QP', [['CD', ['1']]]], ['NP', [['NN', ['人']]]]]], ['VP', [['VV', ['陪护']]]]]]]]]], ['PU', ['，']], ['IP', [['VP', [['LCP', [['IP', [['VP', [['VV', ['出院']]]]]], ['LC', ['后']]]], ['VP', [['VV', ['继续']], ['VP', [['VSB', [['VV', ['休息']], ['VV', ['治疗']]]], ['NP', [['QP', [['CD', ['1']], ['CLP', [['M', ['个']]]]]], ['NP', [['NN', ['月']]]]]]]]]]]]]]]]]]]], ['PU', ['。']], ['IP', [['VP', [['ADVP', [['AD', ['另']]]], ['VP', [['VV', ['查明']], ['PU', ['，']], ['IP', [['IP', [['IP', [['NP', [['NP', [['CP', [['CP', [['IP', [['NP', [['NP', [['NN', ['被告']]]], ['NP', [['NR', ['刘润伟']]]]]], ['VP', [['VV', ['驾驶']]]]]], ['DEC', ['的']]]]]], ['NP', [['NP', [['NR', ['鲁']], ['NR', ['XXXXX']], ['PRN', [['PRN', [['PU', ['（']], ['NP', [['NR', ['鲁']], ['NR', ['XXXXX']]]], ['VP', [['VV', ['挂']]]], ['PU', ['）']]]], ['CLP', [['NN', ['号']]]]]]]], ['NP', [['NN', ['货车']]]]]]]], ['NP', [['NN', ['车主']]]]]], ['VP', [['VC', ['为']], ['NP', [['NP', [['NN', ['被告']]]], ['NP', [['NR', ['王建法']]]]]]]]]], ['PU', ['，']], ['IP', [['NP', [['NR', ['刘润伟']]]], ['VP', [['VC', ['是']], ['NP', [['CP', [['CP', [['IP', [['NP', [['NR', ['王建法']]]], ['VP', [['VV', ['雇佣']]]]]], ['DEC', ['的']]]]]], ['NP', [['NN', ['驾驶员']]]]]]]]]], ['PU', ['，']], ['IP', [['NP', [['DP', [['DT', ['该']]]], ['NP', [['NN', ['车辆']]]]]], ['VP', [['VV', ['挂靠']], ['PP', [['P', ['于']], ['NP', [['NP', [['NR', ['安丘市']]]], ['NR', ['万鑫']], ['NP', [['NN', ['物流']]]], ['ADJP', [['JJ', ['有限']]]], ['NP', [['NN', ['公司']]]]]]]]]]]]]], ['PU', ['。']], ['IP', [['NP', [['NP', [['NR', ['鲁']], ['NP', [['NR', ['XXXXX']], ['NP', [['NN', ['号']]]]]]]], ['NP', [['NN', ['车辆']]]]]], ['VP', [['PP', [['P', ['在']], ['NP', [['NP', [['NN', ['被告']]]], ['NP', [['NR', ['太平洋']], ['NN', ['保险']], ['NR', ['安丘']], ['NN', ['支公司']]]]]]]], ['VP', [['VV', ['投保']], ['AS', ['了']], ['NP', [['NN', ['机动车']], ['NN', ['交通']], ['NN', ['事故']], ['NN', ['责任']], ['ADJP', [['JJ', ['强制']]]], ['NP', [['NN', ['保险']]]]]]]]]]]]]], ['PU', ['，']], ['IP', [['NP', [['NN', ['责任']], ['NN', ['限额']]]], ['VP', [['VC', ['为']], ['QP', [['CD', ['122000']], ['CLP', [['M', ['元']]]]]]]]]], ['PU', ['，']], ['IP', [['NP', [['NN', ['其中']]]], ['NP', [['NP', [['NN', ['死亡']], ['NN', ['伤残']]]], ['NN', ['赔偿']], ['NN', ['限额']]]], ['VP', [['QP', [['CD', ['110000']], ['CLP', [['M', ['元']]]]]]]]]], ['PU', ['，']], ['IP', [['NP', [['NN', ['医疗']], ['NN', ['费用']], ['NN', ['赔偿']], ['NN', ['限额']]]], ['VP', [['QP', [['CD', ['10000']], ['CLP', [['M', ['元']]]]]]]]]], ['PU', ['，']], ['IP', [['NP', [['NN', ['财产']], ['NN', ['损失']], ['NN', ['赔偿']], ['NN', ['限额']]]], ['VP', [['QP', [['CD', ['2000']], ['CLP', [['M', ['元']]]]]]]]]]]]]]]], ['PU', ['。']], ['IP', [['NP', [['NN', ['保险']], ['NN', ['期间']]]], ['VP', [['PP', [['P', ['自']], ['LCP', [['NP', [['NT', ['2013年']], ['NT', ['6月']], ['NT', ['10日']], ['NT', ['零时']]]], ['LC', ['起']]]]]], ['VP', [['CC', ['至']], ['LCP', [['NP', [['NT', ['2014年']], ['NT', ['6月']], ['NT', ['9日']], ['NT', ['24时']]]], ['VP', [['VV', ['止']]]]]]]]]]]], ['PU', ['。']], ['IP', [['IP', [['NP', [['CP', [['CP', [['IP', [['NP', [['NP', [['NN', ['被告']]]], ['NP', [['NR', ['张上海']]]]]], ['VP', [['VV', ['驾驶']]]]]], ['DEC', ['的']]]]]], ['NP', [['NN', ['车主']]]]]], ['VP', [['VC', ['为']], ['NP', [['NR', ['淄博']], ['NR', ['天炀']], ['NN', ['物流']], ['ADJP', [['JJ', ['有限']]]], ['NP', [['NN', ['公司']]]]]]]]]], ['PU', ['，']], ['IP', [['NP', [['NR', ['鲁']], ['NR', ['XXXXX号']], ['NN', ['货车']]]], ['VP', [['PP', [['P', ['在']], ['NP', [['NR', ['中国']], ['NN', ['人保']], ['NR', ['博山']], ['NN', ['支公司']]]]]], ['VP', [['VV', ['投保']], ['AS', ['了']], ['NP', [['NP', [['NN', ['机动车']]]], ['NN', ['交通']], ['NN', ['事故']], ['NN', ['责任']], ['ADJP', [['JJ', ['强制']]]], ['NP', [['NN', ['保险']]]]]]]]]]]]]], ['PU', ['，']], ['IP', [['NP', [['NN', ['责任']], ['NN', ['限额']]]], ['VP', [['VC', ['为']], ['QP', [['CD', ['122000']], ['CLP', [['M', ['元']]]]]]]]]], ['PU', ['，']], ['IP', [['NP', [['NN', ['其中']]]], ['NP', [['CP', [['IP', [['VP', [['VE', ['无']], ['NP', [['NN', ['责任']]]]]]]]]], ['NP', [['NN', ['死亡']], ['NN', ['伤残']], ['NN', ['赔偿']], ['NN', ['限额']]]]]], ['VP', [['QP', [['CD', ['11000']], ['CLP', [['M', ['元']]]]]]]]]], ['PU', ['，']], ['IP', [['NP', [['CP', [['IP', [['VP', [['VE', ['无']], ['NP', [['NN', ['责任']]]]]]]]]], ['NP', [['NP', [['NN', ['医疗']], ['NN', ['费用']]]], ['NN', ['赔偿']], ['NN', ['限额']]]]]], ['VP', [['QP', [['CD', ['1000']], ['CLP', [['M', ['元']]]]]]]]]], ['PU', ['，']], ['IP', [['NP', [['NP', [['IP', [['VP', [['VE', ['无']], ['NP', [['NN', ['责任']]]]]]]], ['NN', ['财产']], ['NN', ['损失']]]], ['NP', [['NN', ['赔偿']], ['NN', ['限额']]]]]], ['VP', [['QP', [['CD', ['100']], ['CLP', [['M', ['元']]]]]]]]]], ['PU', ['。']], ['IP', [['NP', [['IP', [['NP', [['NN', ['保险']], ['NN', ['期间']]]], ['VP', [['PP', [['P', ['自']], ['LCP', [['NP', [['NT', ['2012年']], ['NT', ['11月']], ['NT', ['9日']], ['NT', ['零时']]]], ['LC', ['起']]]]]], ['VP', [['P', ['至']], ['LCP', [['NP', [['NT', ['2013年']], ['NT', ['11月']], ['NT', ['8日']], ['NT', ['24时']]]], ['VP', [['VV', ['止']]]]]]]]]]]], ['PU', ['。']], ['NP', [['NR', ['杨灿珠']], ['PU', ['、']], ['NR', ['张先升']], ['PU', ['、']], ['NR', ['于常美']], ['PU', ['、']], ['NR', ['赵同庆']]]]]], ['VP', [['ADVP', [['AD', ['已']]]], ['PP', [['P', ['向']], ['NP', [['NN', ['本院']]]]]], ['VP', [['VV', ['提起']], ['NP', [['NN', ['诉讼']]]]]]]]]]]], ['PU', ['，']], ['IP', [['NP', [['NP', [['NR', ['张先升']]]], ['NP', [['VV', ['花费']], ['NN', ['医疗费']], ['CC', ['及']], ['NN', ['住院']], ['NN', ['伙食']], ['NN', ['补助费']]]]]], ['VP', [['ADVP', [['AD', ['共计']]]], ['QP', [['CD', ['6203.82']], ['CLP', [['M', ['元']]]]]]]]]], ['PU', ['，']], ['IP', [['NP', [['NR', ['赵同庆']]]], ['VP', [['VV', ['花费']], ['NP', [['NN', ['医疗费']], ['CC', ['及']], ['NN', ['住院']], ['NN', ['伙食']], ['NN', ['补助费']]]], ['VP', [['ADVP', [['AD', ['共计']]]], ['QP', [['CD', ['11492.16']], ['CLP', [['M', ['元']]]]]]]]]]]], ['PU', ['，']], ['IP', [['NP', [['NP', [['NR', ['于常美']]]], ['NP', [['VV', ['花费']], ['NN', ['医疗费']], ['CC', ['及']], ['NN', ['住院']], ['NN', ['伙食']], ['NN', ['补助费']]]]]], ['VP', [['ADVP', [['AD', ['共计']]]], ['QP', [['CD', ['5628.42']], ['CLP', [['M', ['元']]]]]]]]]], ['PU', ['。']], ['IP', [['NP', [['NR', ['杨灿珠']]]], ['VP', [['ADVP', [['AD', ['已']]]], ['PP', [['P', ['同']], ['NP', [['NR', ['太平洋']], ['NN', ['保险']], ['NR', ['安丘']], ['NN', ['支公司']]]]]], ['VP', [['VV', ['达成']], ['NP', [['NN', ['调解']]]]]]]]]], ['PU', ['，']], ['IP', [['NP', [['NP', [['NR', ['太平洋']], ['NN', ['保险']], ['NR', ['安丘']], ['NN', ['支']], ['NN', ['公司']]]], ['NP', [['NN', ['医疗费']], ['NN', ['赔偿']], ['NN', ['限额']]]]]], ['VP', [['ADVP', [['AD', ['尚']]]], ['VP', [['VV', ['余']], ['QP', [['CD', ['8000']], ['CLP', [['M', ['元']]]]]]]]]]]], ['PU', ['，']], ['IP', [['NP', [['NN', ['死亡']], ['NN', ['伤残']], ['NN', ['赔偿']], ['NN', ['限额']]]], ['VP', [['QP', [['CD', ['107556']], ['CLP', [['M', ['元']]]]]]]]]], ['PU', ['。']], ['IP', [['LCP', [['IP', [['NP', [['NN', ['事故']]]], ['VP', [['VV', ['发生']]]]]], ['LC', ['后']]]], ['PU', ['，']], ['NP', [['NP', [['NN', ['被告']]]], ['NP', [['NR', ['王建法']]]]]], ['VP', [['PP', [['P', ['为']], ['NP', [['NN', ['原告']]]]]], ['VP', [['VV', ['垫付']], ['NP', [['NN', ['医疗']], ['NN', ['费用']]]], ['QP', [['CD', ['3500']], ['CLP', [['M', ['元']]]]]]]]]]]]]], ['PU', ['。']], ['IP', [['NP', [['ADJP', [['JJ', ['原']]]], ['PU', ['、']], ['NP', [['NN', ['被告']]]]]], ['VP', [['ADVP', [['AD', ['一致']]]], ['VP', [['VV', ['同意']], ['IP', [['NP', [['NP', [['DP', [['DT', ['该']]]], ['NP', [['NN', ['垫付款']]]]]], ['NP', [['PN', ['双方']]]]]], ['VP', [['ADVP', [['AD', ['自行']]]], ['VP', [['VV', ['处理']]]]]]]]]]]]]], ['PU', ['，']], ['VP', [['ADVP', [['AD', ['不']]]], ['VP', [['VV', ['需']], ['IP', [['NP', [['NN', ['原告']]]], ['VP', [['VV', ['返还']]]]]]]]]], ['PU', ['。']], ['IP', [['VP', [['ADVP', [['AD', ['还']]]], ['VP', [['VV', ['查明']], ['PU', ['，']], ['IP', [['NP', [['NP', [['NN', ['原告']]]], ['NP', [['NR', ['崔秀英']]]]]], ['VP', [['VC', ['为']], ['NP', [['NN', ['农村']], ['NN', ['居民']]]]]]]]]]]]]]]], ['PU', ['。']], ['IP', [['VP', [['ADVP', [['AD', ['再']]]], ['VP', [['VV', ['查明']], ['PU', ['，']], ['IP', [['NP', [['CP', [['CP', [['IP', [['NP', [['NR', ['山东省']], ['NN', ['统计局']]]], ['VP', [['VV', ['公布']]]]]], ['DEC', ['的']]]]]], ['NP', [['NT', ['2012']], ['NP', [['NN', ['年度']]]]]], ['NP', [['NN', ['城镇']], ['NN', ['居民']]]], ['ADJP', [['ADJP', [['JJ', ['人均']]]], ['CP', [['IP', [['VP', [['VV', ['可']], ['VP', [['VV', ['支配']]]]]]]]]]]], ['NP', [['NN', ['收入']]]]]], ['VP', [['VC', ['为']], ['QP', [['CD', ['25755']], ['CLP', [['M', ['元／年']]]]]]]], ['PU', ['，']], ['IP', [['NP', [['NP', [['NN', ['农村']], ['NN', ['居民']]]], ['ADJP', [['JJ', ['人均']]]], ['NP', [['NN', ['纯收入']]]]]], ['VP', [['VC', ['为']], ['QP', [['CD', ['9446']], ['CLP', [['M', ['元／年']]]]]]]]]]]]]]]]]], ['PU', ['。']], ['IP', [['NP', [['NT', ['2013年']], ['NT', ['12月']], ['NT', ['28日']]]], ['PU', ['，']], ['NP', [['NN', ['原告']]]], ['VP', [['VP', [['VV', ['诉']], ['PP', [['VV', ['至']], ['NP', [['NN', ['本院']]]]]]]], ['PU', ['，']], ['VP', [['VV', ['主张']], ['IP', [['VP', [['PP', [['P', ['因']], ['NP', [['DP', [['DT', ['该']]]], ['NP', [['NN', ['事故']]]]]]]], ['VP', [['VV', ['造成']], ['NP', [['ADJP', [['JJ', ['如下']]]], ['NP', [['NN', ['损失']]]]]]]]]]]]]]]]]]]], ['PU', ['：']], ['IP', [['IP', [['NP', [['NN', ['医疗费']]]], ['VP', [['QP', [['CD', ['5459.31']], ['CLP', [['M', ['元']]]]]]]]]], ['PU', ['、']], ['IP', [['NP', [['NN', ['误工费']]]], ['VP', [['QP', [['CD', ['2963.52']], ['CLP', [['M', ['元']]]]]]]]]], ['PU', ['、']], ['IP', [['NP', [['NN', ['护理费']]]], ['VP', [['QP', [['CD', ['846.72']], ['CLP', [['M', ['元']]]]]]]]]], ['PU', ['、']], ['IP', [['NP', [['NN', ['住院']], ['NN', ['伙食']], ['NN', ['补助费']]]], ['VP', [['QP', [['CD', ['36']], ['CLP', [['M', ['元']]]]]]]]]], ['PU', ['、']], ['IP', [['NP', [['NN', ['交通费']]]], ['VP', [['QP', [['CD', ['300']], ['CLP', [['M', ['元']]]]]]]]]], ['PU', ['，']], ['VP', [['ADVP', [['AD', ['共计']]]], ['QP', [['CD', ['9605.55']], ['CLP', [['M', ['元']]]]]]]]]], ['PU', ['。']], ['IP', [['NP', [['NN', ['其中']]]], ['PU', ['，']], ['NP', [['CP', [['CP', [['IP', [['NP', [['NN', ['被告']]]], ['VP', [['VV', ['认可']]]]]], ['DEC', ['的']]]]]], ['NP', [['NN', ['损失']]]]]], ['VP', [['VE', ['有']], ['PU', ['：']], ['IP', [['IP', [['NP', [['NN', ['医疗费']]]], ['VP', [['QP', [['CD', ['5459.31']], ['CLP', [['M', ['元']]]]]]]]]], ['PU', ['、']], ['IP', [['NP', [['NN', ['住院']], ['NN', ['伙食']], ['NN', ['补助费']]]], ['VP', [['QP', [['CD', ['36']], ['CLP', [['M', ['元']]]]]]]]]]]]]]]]]], ['PU', ['。']], ['IP', [['NP', [['ADJP', [['JJ', ['上述']]]], ['NP', [['NN', ['事实']]]]]], ['PU', ['，']], ['VP', [['VP', [['VE', ['有']], ['IP', [['NP', [['NN', ['原告']]]], ['VP', [['VV', ['陈述']]]]]]]], ['PU', ['、']], ['IP', [['NP', [['IP', [['NP', [['NN', ['被告']]]], ['VP', [['VV', ['答辩']]]]]], ['PU', ['，']], ['NP', [['CP', [['CP', [['NP', [['NP', [['CP', [['CP', [['IP', [['NP', [['NN', ['原告']]]], ['VP', [['VV', ['提供']]]]]], ['DEC', ['的']]]]]], ['NP', [['NP', [['NP', [['NN', ['交通']], ['NN', ['事故']]]], ['NP', [['NN', ['认定书']]]]]], ['PU', ['、']], ['NN', ['住院']], ['NN', ['病历']], ['PU', ['、']], ['NN', ['医疗费']], ['NN', ['单据']], ['PU', ['、']], ['NP', [['NN', ['汇总']], ['NN', ['清单']]]], ['PU', ['、']], ['NN', ['伤情']], ['NN', ['证明']], ['PU', ['、']], ['NP', [['NN', ['车辆']], ['NN', ['挂靠']], ['NN', ['协议']]]], ['PU', ['，']], ['NP', [['NN', ['机动车']], ['NN', ['行驶证']]]], ['PU', ['、']], ['NN', ['驾驶证']]]], ['PU', ['、']], ['NN', ['交强险']], ['NN', ['保单']]]], ['ETC', ['等']]]], ['CP', [['CP', [['IP', [['VP', [['ADVP', [['AD', ['已']]]], ['VP', [['PP', [['P', ['经']], ['NP', [['IP', [['NP', [['NN', ['当事人']]]], ['VP', [['VV', ['质证']]]]]], ['CC', ['和']], ['NP', [['NN', ['本院']]]]]]]], ['VP', [['VV', ['审查']]]]]]]]]], ['DEC', ['的']]]]]]]]]], ['NP', [['NN', ['证据']]]]]]]], ['VP', [['PP', [['P', ['在']], ['NP', [['NN', ['案']]]]]], ['VP', [['VV', ['为']], ['NP', [['NN', ['证']]]]]]]]]]]]]], ['PU', ['。']]]]]]}"
     },
     "execution_count": 20,
     "metadata": {},
     "output_type": "execute_result"
    }
   ],
   "source": [
    "resp2"
   ],
   "metadata": {
    "collapsed": false,
    "pycharm": {
     "name": "#%%\n"
    }
   }
  },
  {
   "cell_type": "code",
   "execution_count": 23,
   "outputs": [
    {
     "name": "stdout",
     "output_type": "stream",
     "text": [
      "原告\n",
      "崔秀英\n",
      "诉称\n",
      "，\n",
      "2013年\n",
      "9月\n",
      "1日\n",
      "，\n",
      "被告\n",
      "刘润伟\n",
      "驾驶\n",
      "鲁\n",
      "XXXXX\n",
      "（\n",
      "鲁\n",
      "XXXXX\n",
      "挂\n",
      "）\n",
      "号\n",
      "货车\n",
      "沿\n",
      "国道\n",
      "206\n",
      "线\n",
      "由\n",
      "南\n",
      "向\n",
      "北\n",
      "行驶\n",
      "至\n",
      "国道\n",
      "206\n",
      "线\n",
      "334\n",
      "公里\n",
      "＋\n",
      "500\n",
      "米\n",
      "处\n",
      "时\n",
      "，\n",
      "与\n",
      "赵同庆\n",
      "驾驶\n",
      "的\n",
      "鲁\n",
      "XXXXX\n",
      "号\n",
      "三轮车\n",
      "（\n",
      "车上\n",
      "乘坐\n",
      "崔秀英\n",
      "、\n",
      "刘玉强\n",
      "、\n",
      "杨灿珠\n",
      "、\n",
      "张先升\n",
      "、\n",
      "于常美\n",
      "、\n",
      "张渤海\n",
      "）\n",
      "相撞\n",
      "后\n",
      "，\n",
      "又\n",
      "与\n",
      "张上海\n",
      "驾驶\n",
      "的\n",
      "鲁\n",
      "XXXXX\n",
      "（\n",
      "鲁\n",
      "XXXXX\n",
      "挂\n",
      "）\n",
      "号\n",
      "货车\n",
      "相撞\n",
      "，\n",
      "致\n",
      "原告\n",
      "受伤\n",
      "，\n",
      "车辆\n",
      "受损\n",
      "。\n",
      "安丘市\n",
      "公安局\n",
      "交通\n",
      "警察\n",
      "大队\n",
      "认定\n",
      "，\n",
      "被告\n",
      "刘润伟\n",
      "承担\n",
      "事故\n",
      "的\n",
      "主要\n",
      "责任\n",
      "，\n",
      "赵同庆\n",
      "承担\n",
      "事故\n",
      "的\n",
      "次要\n",
      "责任\n",
      "，\n",
      "被告\n",
      "张上海\n",
      "、\n",
      "原告\n",
      "崔秀英\n",
      "无\n",
      "事故\n",
      "责任\n",
      "。\n",
      "二\n",
      "肇事\n",
      "车辆\n",
      "登记\n",
      "车主\n",
      "分别\n",
      "为\n",
      "安丘市\n",
      "万鑫\n",
      "物流\n",
      "有限\n",
      "公司\n",
      "、\n",
      "淄博\n",
      "天炀\n",
      "物流\n",
      "有限\n",
      "公司\n",
      "，\n",
      "分别\n",
      "投保\n",
      "于\n",
      "二\n",
      "被告\n",
      "保险\n",
      "公司\n",
      "。\n",
      "为此\n",
      "，\n",
      "原告\n",
      "诉\n",
      "至\n",
      "本院\n",
      "，\n",
      "请求\n",
      "依法\n",
      "判令\n",
      "被告\n",
      "赔偿\n",
      "原告\n",
      "医疗费\n",
      "、\n",
      "护理费\n",
      "等\n",
      "共计\n",
      "10000\n",
      "元\n",
      "；\n",
      "诉讼\n",
      "费用\n",
      "由\n",
      "被告\n",
      "负担\n",
      "。\n",
      "后\n",
      "变更\n",
      "诉讼\n",
      "请求\n",
      "，\n",
      "要求\n",
      "赔偿\n",
      "医疗费\n",
      "等\n",
      "损失\n",
      "共计\n",
      "9605.55\n",
      "元\n",
      "。\n",
      "被告\n",
      "刘润伟\n",
      "、\n",
      "王建法\n",
      "、\n",
      "安丘市\n",
      "万鑫\n",
      "物流\n",
      "有限\n",
      "公司\n",
      "共同\n",
      "辩称\n",
      "，\n",
      "发生\n",
      "事故\n",
      "属实\n",
      "，\n",
      "对\n",
      "事故\n",
      "责任\n",
      "划分\n",
      "无\n",
      "异议\n",
      "。\n",
      "鲁\n",
      "XXXXX\n",
      "（\n",
      "鲁\n",
      "XXXXX\n",
      "挂\n",
      "）\n",
      "车辆\n",
      "的\n",
      "实际\n",
      "车主\n",
      "是\n",
      "王建法\n",
      "，\n",
      "刘润伟\n",
      "是\n",
      "王建法\n",
      "雇佣\n",
      "的\n",
      "驾驶员\n",
      "，\n",
      "该\n",
      "车辆\n",
      "挂靠\n",
      "于\n",
      "安丘市\n",
      "万鑫\n",
      "物流\n",
      "有限\n",
      "公司\n",
      "。\n",
      "原告\n",
      "的\n",
      "损失\n",
      "保险\n",
      "公司\n",
      "在\n",
      "交强险\n",
      "范围\n",
      "内\n",
      "赔偿\n",
      "后\n",
      "，\n",
      "剩余\n",
      "部分\n",
      "应\n",
      "由\n",
      "王建法\n",
      "承担\n",
      "。\n",
      "被告\n",
      "太平洋\n",
      "保险\n",
      "安丘\n",
      "支公司\n",
      "辩称\n",
      "，\n",
      "发生\n",
      "事故\n",
      "属实\n",
      "，\n",
      "肇事\n",
      "车辆\n",
      "投保\n",
      "交强险\n",
      "属实\n",
      "，\n",
      "但\n",
      "投保\n",
      "车辆\n",
      "更改\n",
      "车牌号\n",
      "未经\n",
      "公司\n",
      "改批\n",
      "，\n",
      "所以\n",
      "不予\n",
      "赔偿\n",
      "。\n",
      "被告\n",
      "张上海\n",
      "、\n",
      "淄博\n",
      "天炀\n",
      "物流\n",
      "有限\n",
      "公司\n",
      "、\n",
      "中国\n",
      "人保\n",
      "博山\n",
      "支公司\n",
      "未\n",
      "到庭\n",
      "，\n",
      "亦\n",
      "未\n",
      "提交\n",
      "书面\n",
      "答辩状\n",
      "。\n",
      "经\n",
      "审理\n",
      "查明\n",
      "，\n",
      "2013年\n",
      "9月\n",
      "1日\n",
      "7时\n",
      "47分\n",
      "许\n",
      "，\n",
      "被告\n",
      "刘润伟\n",
      "驾驶\n",
      "鲁\n",
      "XXXXX\n",
      "（\n",
      "鲁\n",
      "XXXXX\n",
      "挂\n",
      "）\n",
      "号\n",
      "货车\n",
      "沿\n",
      "国道\n",
      "206\n",
      "线\n",
      "由\n",
      "南\n",
      "向\n",
      "北\n",
      "行驶\n",
      "至\n",
      "国道\n",
      "206\n",
      "线\n",
      "334\n",
      "公里\n",
      "＋\n",
      "500\n",
      "米\n",
      "处\n",
      "时\n",
      "，\n",
      "与\n",
      "前方\n",
      "顺行\n",
      "左\n",
      "转弯\n",
      "赵同庆\n",
      "驾驶\n",
      "的\n",
      "鲁\n",
      "XXXXX号\n",
      "三轮车\n",
      "（\n",
      "车斗\n",
      "内\n",
      "乘坐\n",
      "崔秀英\n",
      "、\n",
      "刘玉强\n",
      "、\n",
      "杨灿珠\n",
      "、\n",
      "于常美\n",
      "、\n",
      "张先升\n",
      "、\n",
      "张渤海\n",
      "）\n",
      "相撞\n",
      "，\n",
      "鲁\n",
      "XXXXX\n",
      "号\n",
      "三轮车\n",
      "前侧\n",
      "又\n",
      "与\n",
      "沿\n",
      "国道\n",
      "206\n",
      "线\n",
      "由\n",
      "北\n",
      "向\n",
      "南\n",
      "行驶\n",
      "被告\n",
      "张上海\n",
      "驾驶\n",
      "的\n",
      "鲁\n",
      "XXXXX\n",
      "（\n",
      "鲁\n",
      "XXXXX\n",
      "挂\n",
      "）\n",
      "号\n",
      "货车\n",
      "左侧\n",
      "相撞\n",
      "，\n",
      "致\n",
      "原告\n",
      "及\n",
      "赵同庆\n",
      "、\n",
      "刘玉强\n",
      "、\n",
      "杨灿珠\n",
      "、\n",
      "张先升\n",
      "、\n",
      "于常美\n",
      "、\n",
      "张渤海\n",
      "受伤\n",
      "，\n",
      "三\n",
      "车\n",
      "受损\n",
      "。\n",
      "安丘市\n",
      "公安局\n",
      "交通\n",
      "警察\n",
      "大队\n",
      "认定\n",
      "，\n",
      "被告\n",
      "刘润伟\n",
      "驾驶\n",
      "机动车\n",
      "未\n",
      "保持\n",
      "安全\n",
      "车速\n",
      "，\n",
      "承担\n",
      "事故\n",
      "的\n",
      "主要\n",
      "责任\n",
      "，\n",
      "赵同庆\n",
      "无\n",
      "证\n",
      "驾驶\n",
      "机动车\n",
      "转弯\n",
      "未\n",
      "确保\n",
      "安全\n",
      "承担\n",
      "事故\n",
      "的\n",
      "次要\n",
      "责任\n",
      "，\n",
      "被告\n",
      "张上海\n",
      "、\n",
      "原告\n",
      "崔秀英\n",
      "无\n",
      "事故\n",
      "责任\n",
      "。\n",
      "事故\n",
      "发生\n",
      "后\n",
      "，\n",
      "原告\n",
      "入\n",
      "安丘市\n",
      "中医院\n",
      "住院\n",
      "治疗\n",
      "12\n",
      "天\n",
      "，\n",
      "经\n",
      "诊断\n",
      "伤情\n",
      "为\n",
      "：\n",
      "左踝部皮\n",
      "裂伤\n",
      "、\n",
      "多\n",
      "处\n",
      "皮\n",
      "擦伤\n",
      "。\n",
      "原告\n",
      "支出\n",
      "医疗费\n",
      "5459.31\n",
      "元\n",
      "。\n",
      "2014年\n",
      "1月\n",
      "21日\n",
      "，\n",
      "该\n",
      "诊疗\n",
      "医院\n",
      "为\n",
      "原告\n",
      "出具\n",
      "伤情\n",
      "证明\n",
      "：\n",
      "原告\n",
      "住院\n",
      "期间\n",
      "需\n",
      "1\n",
      "人\n",
      "陪护\n",
      "，\n",
      "出院\n",
      "后\n",
      "继续\n",
      "休息\n",
      "治疗\n",
      "1\n",
      "个\n",
      "月\n",
      "。\n",
      "另\n",
      "查明\n",
      "，\n",
      "被告\n",
      "刘润伟\n",
      "驾驶\n",
      "的\n",
      "鲁\n",
      "XXXXX\n",
      "（\n",
      "鲁\n",
      "XXXXX\n",
      "挂\n",
      "）\n",
      "号\n",
      "货车\n",
      "车主\n",
      "为\n",
      "被告\n",
      "王建法\n",
      "，\n",
      "刘润伟\n",
      "是\n",
      "王建法\n",
      "雇佣\n",
      "的\n",
      "驾驶员\n",
      "，\n",
      "该\n",
      "车辆\n",
      "挂靠\n",
      "于\n",
      "安丘市\n",
      "万鑫\n",
      "物流\n",
      "有限\n",
      "公司\n",
      "。\n",
      "鲁\n",
      "XXXXX\n",
      "号\n",
      "车辆\n",
      "在\n",
      "被告\n",
      "太平洋\n",
      "保险\n",
      "安丘\n",
      "支公司\n",
      "投保\n",
      "了\n",
      "机动车\n",
      "交通\n",
      "事故\n",
      "责任\n",
      "强制\n",
      "保险\n",
      "，\n",
      "责任\n",
      "限额\n",
      "为\n",
      "122000\n",
      "元\n",
      "，\n",
      "其中\n",
      "死亡\n",
      "伤残\n",
      "赔偿\n",
      "限额\n",
      "110000\n",
      "元\n",
      "，\n",
      "医疗\n",
      "费用\n",
      "赔偿\n",
      "限额\n",
      "10000\n",
      "元\n",
      "，\n",
      "财产\n",
      "损失\n",
      "赔偿\n",
      "限额\n",
      "2000\n",
      "元\n",
      "。\n",
      "保险\n",
      "期间\n",
      "自\n",
      "2013年\n",
      "6月\n",
      "10日\n",
      "零时\n",
      "起\n",
      "至\n",
      "2014年\n",
      "6月\n",
      "9日\n",
      "24时\n",
      "止\n",
      "。\n",
      "被告\n",
      "张上海\n",
      "驾驶\n",
      "的\n",
      "车主\n",
      "为\n",
      "淄博\n",
      "天炀\n",
      "物流\n",
      "有限\n",
      "公司\n",
      "，\n",
      "鲁\n",
      "XXXXX号\n",
      "货车\n",
      "在\n",
      "中国\n",
      "人保\n",
      "博山\n",
      "支公司\n",
      "投保\n",
      "了\n",
      "机动车\n",
      "交通\n",
      "事故\n",
      "责任\n",
      "强制\n",
      "保险\n",
      "，\n",
      "责任\n",
      "限额\n",
      "为\n",
      "122000\n",
      "元\n",
      "，\n",
      "其中\n",
      "无\n",
      "责任\n",
      "死亡\n",
      "伤残\n",
      "赔偿\n",
      "限额\n",
      "11000\n",
      "元\n",
      "，\n",
      "无\n",
      "责任\n",
      "医疗\n",
      "费用\n",
      "赔偿\n",
      "限额\n",
      "1000\n",
      "元\n",
      "，\n",
      "无\n",
      "责任\n",
      "财产\n",
      "损失\n",
      "赔偿\n",
      "限额\n",
      "100\n",
      "元\n",
      "。\n",
      "保险\n",
      "期间\n",
      "自\n",
      "2012年\n",
      "11月\n",
      "9日\n",
      "零时\n",
      "起\n",
      "至\n",
      "2013年\n",
      "11月\n",
      "8日\n",
      "24时\n",
      "止\n",
      "。\n",
      "杨灿珠\n",
      "、\n",
      "张先升\n",
      "、\n",
      "于常美\n",
      "、\n",
      "赵同庆\n",
      "已\n",
      "向\n",
      "本院\n",
      "提起\n",
      "诉讼\n",
      "，\n",
      "张先升\n",
      "花费\n",
      "医疗费\n",
      "及\n",
      "住院\n",
      "伙食\n",
      "补助费\n",
      "共计\n",
      "6203.82\n",
      "元\n",
      "，\n",
      "赵同庆\n",
      "花费\n",
      "医疗费\n",
      "及\n",
      "住院\n",
      "伙食\n",
      "补助费\n",
      "共计\n",
      "11492.16\n",
      "元\n",
      "，\n",
      "于常美\n",
      "花费\n",
      "医疗费\n",
      "及\n",
      "住院\n",
      "伙食\n",
      "补助费\n",
      "共计\n",
      "5628.42\n",
      "元\n",
      "。\n",
      "杨灿珠\n",
      "已\n",
      "同\n",
      "太平洋\n",
      "保险\n",
      "安丘\n",
      "支公司\n",
      "达成\n",
      "调解\n",
      "，\n",
      "太平洋\n",
      "保险\n",
      "安丘\n",
      "支\n",
      "公司\n",
      "医疗费\n",
      "赔偿\n",
      "限额\n",
      "尚\n",
      "余\n",
      "8000\n",
      "元\n",
      "，\n",
      "死亡\n",
      "伤残\n",
      "赔偿\n",
      "限额\n",
      "107556\n",
      "元\n",
      "。\n",
      "事故\n",
      "发生\n",
      "后\n",
      "，\n",
      "被告\n",
      "王建法\n",
      "为\n",
      "原告\n",
      "垫付\n",
      "医疗\n",
      "费用\n",
      "3500\n",
      "元\n",
      "。\n",
      "原\n",
      "、\n",
      "被告\n",
      "一致\n",
      "同意\n",
      "该\n",
      "垫付款\n",
      "双方\n",
      "自行\n",
      "处理\n",
      "，\n",
      "不\n",
      "需\n",
      "原告\n",
      "返还\n",
      "。\n",
      "还\n",
      "查明\n",
      "，\n",
      "原告\n",
      "崔秀英\n",
      "为\n",
      "农村\n",
      "居民\n",
      "。\n",
      "再\n",
      "查明\n",
      "，\n",
      "山东省\n",
      "统计局\n",
      "公布\n",
      "的\n",
      "2012\n",
      "年度\n",
      "城镇\n",
      "居民\n",
      "人均\n",
      "可\n",
      "支配\n",
      "收入\n",
      "为\n",
      "25755\n",
      "元／年\n",
      "，\n",
      "农村\n",
      "居民\n",
      "人均\n",
      "纯收入\n",
      "为\n",
      "9446\n",
      "元／年\n",
      "。\n",
      "2013年\n",
      "12月\n",
      "28日\n",
      "，\n",
      "原告\n",
      "诉\n",
      "至\n",
      "本院\n",
      "，\n",
      "主张\n",
      "因\n",
      "该\n",
      "事故\n",
      "造成\n",
      "如下\n",
      "损失\n",
      "：\n",
      "医疗费\n",
      "5459.31\n",
      "元\n",
      "、\n",
      "误工费\n",
      "2963.52\n",
      "元\n",
      "、\n",
      "护理费\n",
      "846.72\n",
      "元\n",
      "、\n",
      "住院\n",
      "伙食\n",
      "补助费\n",
      "36\n",
      "元\n",
      "、\n",
      "交通费\n",
      "300\n",
      "元\n",
      "，\n",
      "共计\n",
      "9605.55\n",
      "元\n",
      "。\n",
      "其中\n",
      "，\n",
      "被告\n",
      "认可\n",
      "的\n",
      "损失\n",
      "有\n",
      "：\n",
      "医疗费\n",
      "5459.31\n",
      "元\n",
      "、\n",
      "住院\n",
      "伙食\n",
      "补助费\n",
      "36\n",
      "元\n",
      "。\n",
      "上述\n",
      "事实\n",
      "，\n",
      "有\n",
      "原告\n",
      "陈述\n",
      "、\n",
      "被告\n",
      "答辩\n",
      "，\n",
      "原告\n",
      "提供\n",
      "的\n",
      "交通\n",
      "事故\n",
      "认定书\n",
      "、\n",
      "住院\n",
      "病历\n",
      "、\n",
      "医疗费\n",
      "单据\n",
      "、\n",
      "汇总\n",
      "清单\n",
      "、\n",
      "伤情\n",
      "证明\n",
      "、\n",
      "车辆\n",
      "挂靠\n",
      "协议\n",
      "，\n",
      "机动车\n",
      "行驶证\n",
      "、\n",
      "驾驶证\n",
      "、\n",
      "交强险\n",
      "保单\n",
      "等\n",
      "已\n",
      "经\n",
      "当事人\n",
      "质证\n",
      "和\n",
      "本院\n",
      "审查\n",
      "的\n",
      "证据\n",
      "在\n",
      "案\n",
      "为\n",
      "证\n",
      "。\n"
     ]
    }
   ],
   "source": [
    "for token in resp2['tok/fine']:\n",
    "    print(token)"
   ],
   "metadata": {
    "collapsed": false,
    "pycharm": {
     "name": "#%%\n"
    }
   }
  },
  {
   "cell_type": "code",
   "execution_count": 28,
   "outputs": [
    {
     "data": {
      "text/plain": "dict_keys(['tok/fine', 'tok/coarse', 'pos/ctb', 'pos/pku', 'pos/863', 'ner/msra', 'ner/pku', 'ner/ontonotes', 'srl', 'dep', 'sdp', 'con'])"
     },
     "execution_count": 28,
     "metadata": {},
     "output_type": "execute_result"
    }
   ],
   "source": [
    "resp2.keys()"
   ],
   "metadata": {
    "collapsed": false,
    "pycharm": {
     "name": "#%%\n"
    }
   }
  },
  {
   "cell_type": "code",
   "execution_count": 25,
   "outputs": [
    {
     "data": {
      "text/plain": "'原告崔秀英诉称，2013年9月1日，被告刘润伟驾驶鲁XXXXX（鲁XXXXX挂）号货车沿国道206线由南向北行驶至国道206线334公里＋500米处时，与赵同庆驾驶的鲁XXXXX号三轮车（车上乘坐崔秀英、刘玉强、杨灿珠、张先升、于常美、张渤海）相撞后，又与张上海驾驶的鲁XXXXX（鲁XXXXX挂）号货车相撞，致原告受伤，车辆受损。安丘市公安局交通警察大队认定，被告刘润伟承担事故的主要责任，赵同庆承担事故的次要责任，被告张上海、原告崔秀英无事故责任。二肇事车辆登记车主分别为安丘市万鑫物流有限公司、淄博天炀物流有限公司，分别投保于二被告保险公司。为此，原告诉至本院，请求依法判令被告赔偿原告医疗费、护理费等共计10000元；诉讼费用由被告负担。后变更诉讼请求，要求赔偿医疗费等损失共计9605.55元。被告刘润伟、王建法、安丘市万鑫物流有限公司共同辩称，发生事故属实，对事故责任划分无异议。鲁XXXXX（鲁XXXXX挂）车辆的实际车主是王建法，刘润伟是王建法雇佣的驾驶员，该车辆挂靠于安丘市万鑫物流有限公司。原告的损失保险公司在交强险范围内赔偿后，剩余部分应由王建法承担。被告太平洋保险安丘支公司辩称，发生事故属实，肇事车辆投保交强险属实，但投保车辆更改车牌号未经公司改批，所以不予赔偿。被告张上海、淄博天炀物流有限公司、中国人保博山支公司未到庭，亦未提交书面答辩状。经审理查明，2013年9月1日7时47分许，被告刘润伟驾驶鲁XXXXX（鲁XXXXX挂）号货车沿国道206线由南向北行驶至国道206线334公里＋500米处时，与前方顺行左转弯赵同庆驾驶的鲁XXXXX号三轮车（车斗内乘坐崔秀英、刘玉强、杨灿珠、于常美、张先升、张渤海）相撞，鲁XXXXX号三轮车前侧又与沿国道206线由北向南行驶被告张上海驾驶的鲁XXXXX（鲁XXXXX挂）号货车左侧相撞，致原告及赵同庆、刘玉强、杨灿珠、张先升、于常美、张渤海受伤，三车受损。安丘市公安局交通警察大队认定，被告刘润伟驾驶机动车未保持安全车速，承担事故的主要责任，赵同庆无证驾驶机动车转弯未确保安全承担事故的次要责任，被告张上海、原告崔秀英无事故责任。事故发生后，原告入安丘市中医院住院治疗12天，经诊断伤情为：左踝部皮裂伤、多处皮擦伤。原告支出医疗费5459.31元。2014年1月21日，该诊疗医院为原告出具伤情证明：原告住院期间需1人陪护，出院后继续休息治疗1个月。另查明，被告刘润伟驾驶的鲁XXXXX（鲁XXXXX挂）号货车车主为被告王建法，刘润伟是王建法雇佣的驾驶员，该车辆挂靠于安丘市万鑫物流有限公司。鲁XXXXX号车辆在被告太平洋保险安丘支公司投保了机动车交通事故责任强制保险，责任限额为122000元，其中死亡伤残赔偿限额110000元，医疗费用赔偿限额10000元，财产损失赔偿限额2000元。保险期间自2013年6月10日零时起至2014年6月9日24时止。被告张上海驾驶的车主为淄博天炀物流有限公司，鲁XXXXX号货车在中国人保博山支公司投保了机动车交通事故责任强制保险，责任限额为122000元，其中无责任死亡伤残赔偿限额11000元，无责任医疗费用赔偿限额1000元，无责任财产损失赔偿限额100元。保险期间自2012年11月9日零时起至2013年11月8日24时止。杨灿珠、张先升、于常美、赵同庆已向本院提起诉讼，张先升花费医疗费及住院伙食补助费共计6203.82元，赵同庆花费医疗费及住院伙食补助费共计11492.16元，于常美花费医疗费及住院伙食补助费共计5628.42元。杨灿珠已同太平洋保险安丘支公司达成调解，太平洋保险安丘支公司医疗费赔偿限额尚余8000元，死亡伤残赔偿限额107556元。事故发生后，被告王建法为原告垫付医疗费用3500元。原、被告一致同意该垫付款双方自行处理，不需原告返还。还查明，原告崔秀英为农村居民。再查明，山东省统计局公布的2012年度城镇居民人均可支配收入为25755元／年，农村居民人均纯收入为9446元／年。2013年12月28日，原告诉至本院，主张因该事故造成如下损失：医疗费5459.31元、误工费2963.52元、护理费846.72元、住院伙食补助费36元、交通费300元，共计9605.55元。其中，被告认可的损失有：医疗费5459.31元、住院伙食补助费36元。上述事实，有原告陈述、被告答辩，原告提供的交通事故认定书、住院病历、医疗费单据、汇总清单、伤情证明、车辆挂靠协议，机动车行驶证、驾驶证、交强险保单等已经当事人质证和本院审查的证据在案为证。'"
     },
     "execution_count": 25,
     "metadata": {},
     "output_type": "execute_result"
    }
   ],
   "source": [
    "test_fact"
   ],
   "metadata": {
    "collapsed": false,
    "pycharm": {
     "name": "#%%\n"
    }
   }
  },
  {
   "cell_type": "code",
   "execution_count": 55,
   "outputs": [
    {
     "name": "stdout",
     "output_type": "stream",
     "text": [
      "{'ORG', 'TIME', 'PERSON', 'DATE', 'CARDINAL', 'FAC', 'PRODUCT', 'QUANTITY', 'MONEY'}\n"
     ]
    }
   ],
   "source": [
    "have_set = set()\n",
    "for one in resp2['ner/ontonotes']:\n",
    "    # print(one[1])\n",
    "    have_set.add(one[1])\n",
    "print(have_set)"
   ],
   "metadata": {
    "collapsed": false,
    "pycharm": {
     "name": "#%%\n"
    }
   }
  },
  {
   "cell_type": "code",
   "execution_count": 68,
   "outputs": [],
   "source": [
    "test_fact = test_load_list[2]['fact']"
   ],
   "metadata": {
    "collapsed": false,
    "pycharm": {
     "name": "#%%\n"
    }
   }
  },
  {
   "cell_type": "code",
   "execution_count": 69,
   "outputs": [],
   "source": [
    "for token in resp2['ner/ontonotes']:\n",
    "    if token[1] == 'PERSON':\n",
    "        test_fact = test_fact.replace(token[0], '')\n",
    "    elif token[1] == \"DATE\":\n",
    "        test_fact = test_fact.replace(token[0], '')\n",
    "    elif token[1] == \"ORG\":\n",
    "        test_fact = test_fact.replace(token[0], '')\n",
    "    elif token[1] == \"MONEY\":\n",
    "        test_fact = test_fact.replace(token[0], '元')\n",
    "    elif token == \"TIME\":\n",
    "        test_fact = test_fact.replace(token[0], '')\n",
    "    elif token == \"CARDINAL\":\n",
    "        test_fact = test_fact.replace(token[0], '<CARDINAL>')\n",
    "    elif token == \"PERCENT\":\n",
    "        test_fact = test_fact.replace(token[0], '<PERCENT>')\n",
    "    elif token == \"FAC\":\n",
    "        test_fact = test_fact.replace(token[0], '<FAC>')\n",
    "    elif token == \"GPE\":\n",
    "        test_fact = test_fact.replace(token[0], '<GPE>')\n",
    "    elif token == \"LOC\":\n",
    "        test_fact = test_fact.replace(token[0], '<LOC>')\n",
    "    elif token == \"PRODUCT\":\n",
    "        test_fact = test_fact.replace(token[0], '<PRODUCT>')\n",
    "    elif token == \"EVENT\":\n",
    "        test_fact = test_fact.replace(token[0], '<EVENT>')\n",
    "    elif token == \"WORK_OF_ART\":\n",
    "        test_fact = test_fact.replace(token[0], '<WORK_OF_ART>')\n",
    "    elif token == \"LAW\":\n",
    "        test_fact = test_fact.replace(token[0], '<LAW>')\n",
    "    # break"
   ],
   "metadata": {
    "collapsed": false,
    "pycharm": {
     "name": "#%%\n"
    }
   }
  },
  {
   "cell_type": "code",
   "execution_count": 74,
   "outputs": [],
   "source": [
    "test_fact = test_fact.replace('、', '').replace('，，', '，')"
   ],
   "metadata": {
    "collapsed": false,
    "pycharm": {
     "name": "#%%\n"
    }
   }
  },
  {
   "cell_type": "code",
   "execution_count": 82,
   "outputs": [
    {
     "ename": "KeyError",
     "evalue": "'ner/msra'",
     "output_type": "error",
     "traceback": [
      "\u001B[0;31m---------------------------------------------------------------------------\u001B[0m",
      "\u001B[0;31mKeyError\u001B[0m                                  Traceback (most recent call last)",
      "Input \u001B[0;32mIn [82]\u001B[0m, in \u001B[0;36m<cell line: 2>\u001B[0;34m()\u001B[0m\n\u001B[1;32m      1\u001B[0m \u001B[38;5;66;03m# test_fact = test_load_list[2]['fact']\u001B[39;00m\n\u001B[0;32m----> 2\u001B[0m \u001B[38;5;28;01mfor\u001B[39;00m one \u001B[38;5;129;01min\u001B[39;00m \u001B[43mresp\u001B[49m\u001B[43m[\u001B[49m\u001B[38;5;124;43m'\u001B[39;49m\u001B[38;5;124;43mner/msra\u001B[39;49m\u001B[38;5;124;43m'\u001B[39;49m\u001B[43m]\u001B[49m:\n\u001B[1;32m      3\u001B[0m     \u001B[38;5;66;03m# test_fact = test_fact.replace(one[0], '')\u001B[39;00m\n\u001B[1;32m      4\u001B[0m     \u001B[38;5;28mprint\u001B[39m(one)\n",
      "\u001B[0;31mKeyError\u001B[0m: 'ner/msra'"
     ]
    }
   ],
   "source": [
    "# test_fact = test_load_list[2]['fact']\n",
    "for one in resp['ner/msra']:\n",
    "    # test_fact = test_fact.replace(one[0], '')\n",
    "    print(one)"
   ],
   "metadata": {
    "collapsed": false,
    "pycharm": {
     "name": "#%%\n"
    }
   }
  },
  {
   "cell_type": "code",
   "execution_count": 80,
   "outputs": [],
   "source": [
    "test_fact = test_fact.replace('、', '').replace('，，', '，')"
   ],
   "metadata": {
    "collapsed": false,
    "pycharm": {
     "name": "#%%\n"
    }
   }
  },
  {
   "cell_type": "code",
   "execution_count": 81,
   "outputs": [
    {
     "data": {
      "text/plain": "'原告诉称，被告驾驶（挂）货车沿由南向北行驶至334＋500处时，与驾驶的轮车（车上乘坐）相撞后，又与驾驶的（挂）货车相撞，致原告受伤，车辆受损。认定，被告承担事故的主要责任，承担事故的次要责任，被告原告无事故责任。肇事车辆登记车主分别为，分别投保于被告。为此，原告诉至，请求依法判令被告赔偿原告医疗费护理费等共计10000元；诉讼费用由被告负担。后变更诉讼请求，要求赔偿医疗费等损失共计元。被告共同辩称，发生事故属实，对事故责任划分无异议。（挂）车辆的实际车主是，是雇佣的驾驶员，该车辆挂靠于。原告的损失在交强险范围内赔偿后，剩余部分应由承担。被告辩称，发生事故属实，肇事车辆投保交强险属实，但投保车辆更改车牌未经改批，所以不予赔偿。被告未到庭，亦未提交书面答辩状。经审理查明，许，被告驾驶（挂）货车沿由南向北行驶至334＋500处时，与左转弯驾驶的轮车（车斗内乘坐）相撞，轮车前侧又与沿由北向南行驶被告驾驶的（挂）货车左侧相撞，致原告及受伤，车受损。认定，被告驾驶机动车未保持安全车速，承担事故的主要责任，无证驾驶机动车转弯未确保安全承担事故的次要责任，被告原告无事故责任。事故发生后，原告入住院治疗12天，经诊断伤情为：左踝部皮裂伤多处皮擦伤。原告支出医疗费元。2，该诊疗医院为原告出具伤情证明：原告住院期间需1人陪护，出院后继续休息治疗1个月。另查明，被告驾驶的（挂）货车车主为被告，是雇佣的驾驶员，该车辆挂靠于。车辆在被告投保了机动车交通事故责任强制保险，责任限额为122000元，其中死亡伤残赔偿限额110000元，医疗费用赔偿限额10000元，财产损失赔偿限额2000元。保险期间自起至止。被告驾驶的车主为，货车在投保了机动车交通事故责任强制保险，责任限额为122000元，其中无责任死亡伤残赔偿限额11000元，无责任医疗费用赔偿限额1000元，无责任财产损失赔偿限额100元。保险期间自1起至1止。已向提起诉讼，花费医疗费及住院伙食补助费共计元，花费医疗费及住院伙食补助费共计元，花费医疗费及住院伙食补助费共计元。已同达成调解，医疗费赔偿限额尚余8000元，死亡伤残赔偿限额元。事故发生后，被告为原告垫付医疗费用3500元。原被告一致同意该垫付款双方自行处理，不需原告返还。还查明，原告为农村居民。再查明，公布的度城镇居民人均可支配收入为25755元／年，农村居民人均纯收入为9446元／年。2，原告诉至，主张因该事故造成如下损失：医疗费元误工费2963.52元护理费元住院伙食补助费36元交通费300元，共计元。其中，被告认可的损失有：医疗费元住院伙食补助费36元。上述事实，有原告陈述被告答辩，原告提供的交通事故认定书住院病历医疗费单据汇总清单伤情证明车辆挂靠协议，机动车行驶证驾驶证交强险保单等已经当事人质证和审查的证据在案为证。'"
     },
     "execution_count": 81,
     "metadata": {},
     "output_type": "execute_result"
    }
   ],
   "source": [
    "test_fact"
   ],
   "metadata": {
    "collapsed": false,
    "pycharm": {
     "name": "#%%\n"
    }
   }
  },
  {
   "cell_type": "code",
   "execution_count": 93,
   "outputs": [],
   "source": [
    "test_filter_fact = filter_str(2)\n",
    "test_resp = ner(test_filter_fact, tasks='ner/msra')\n",
    "for token in test_resp['ner/msra']:\n",
    "    test_filter_fact = test_filter_fact.replace(token[0], '')\n",
    "test_filter_fact = test_filter_fact.replace('、', '').replace('，，', '，')"
   ],
   "metadata": {
    "collapsed": false,
    "pycharm": {
     "name": "#%%\n"
    }
   }
  },
  {
   "cell_type": "code",
   "execution_count": 94,
   "outputs": [
    {
     "data": {
      "text/plain": "1091"
     },
     "execution_count": 94,
     "metadata": {},
     "output_type": "execute_result"
    }
   ],
   "source": [
    "len(test_filter_fact)"
   ],
   "metadata": {
    "collapsed": false,
    "pycharm": {
     "name": "#%%\n"
    }
   }
  },
  {
   "cell_type": "code",
   "execution_count": 95,
   "outputs": [
    {
     "data": {
      "text/plain": "'原告诉称,,被告驾驶挂号货车沿由南向北行驶至处时,与驾驶的号轮车车上乘坐于相撞后,又与上海驾驶的挂号货车相撞,致原告受伤,车辆受损,认定,被告承担事故的主要责任,承担事故的次要责任,被告上海原告无事故责任,肇事车辆登记车主分别为,分别投保于被告,为此,原告诉至,请求依法判令被告赔偿原告医疗费护理费等共计元,诉讼费用由被告负担,后变更诉讼请求,要求赔偿医疗费等损失共计元,被告共同辩称,发生事故属实,对事故责任划分无异议,挂车辆的实际车主是,是雇佣的驾驶员,该车辆挂靠于,原告的损失在交强险范围内赔偿后,剩余部分应由承担,被告辩称,发生事故属实,肇事车辆投保交强险属实,但投保车辆更改车牌号未经公司改批,所以不予赔偿,被告未到庭,亦未提交书面答辩状,经审理查明,时分许,被告驾驶挂号货车沿由南向北行驶至处时,与前方顺行左转弯驾驶的号轮车车斗内乘坐于相撞,号轮车前侧又与沿由北向南行驶被告上海驾驶的挂号货车左侧相撞,致原告及于受伤,车受损,认定,被告驾驶机动车未保持安全车速,承担事故的主要责任,无证驾驶机动车转弯未确保安全承担事故的次要责任,被告上海原告无事故责任,事故发生后,原告入住院治疗天,经诊断伤情为,裂伤多处皮擦伤,原告支出医疗费元,,该诊疗医院为原告出具伤情证明,原告住院期间需人陪护,出院后继续休息治疗个月,另查明,被告驾驶的挂号货车车主为被告,是雇佣的驾驶员,该车辆挂靠于,号车辆在被告投保了机动车交通事故责任强制保险,责任限额为元,其中死亡伤残赔偿限额元,医疗费用赔偿限额元,财产损失赔偿限额元,保险期间自起至时止,被告上海驾驶的车主为,号货车在投保了机动车交通事故责任强制保险,责任限额为元,其中无责任死亡伤残赔偿限额元,无责任医疗费用赔偿限额元,无责任财产损失赔偿限额元,保险期间自起至时止,于已向提起诉讼,花费医疗费及住院伙食补助费共计元,花费医疗费及住院伙食补助费共计元,于花费医疗费及住院伙食补助费共计元,已同达成调解,医疗费赔偿限额尚余元,死亡伤残赔偿限额元,事故发生后,被告为原告垫付医疗费用元,原被告一致同意该垫付款双方自行处理,不需原告返还,还查明,原告为农村居民,再查明,公布的度城镇居民人均可支配收入为元,农村居民人均纯收入为元,,原告诉至,主因该事故造成如下损失,医疗费元误工费元护理费元住院伙食补助费元交通费元,共计元,其中,被告认可的损失有,医疗费元住院伙食补助费元,上述事实,有原告陈述被告答辩,原告提供的交通事故认定书住院病历医疗费单据汇总清单伤情证明车辆挂靠协议,机动车行驶证驾驶证交强险保单等已经当事人质证和审查的证据在案为证,'"
     },
     "execution_count": 95,
     "metadata": {},
     "output_type": "execute_result"
    }
   ],
   "source": [
    "test_filter_fact"
   ],
   "metadata": {
    "collapsed": false,
    "pycharm": {
     "name": "#%%\n"
    }
   }
  },
  {
   "cell_type": "code",
   "execution_count": null,
   "outputs": [],
   "source": [
    "fact_len_sum = 0\n",
    "for i in range(len(test_load_list)):\n",
    "    # one_fact = filter_str(i)\n",
    "    # print(len(one_fact))\n",
    "    one_fact = test_load_list[i]['fact']\n",
    "    fact_len_sum += len(one_fact)\n",
    "fact_mean_sum = fact_len_sum / len(test_load_list)"
   ],
   "metadata": {
    "collapsed": false,
    "pycharm": {
     "name": "#%%\n"
    }
   }
  }
 ],
 "metadata": {
  "kernelspec": {
   "name": "conda-env-nlp-py",
   "language": "python",
   "display_name": "Python [conda env:nlp] *"
  },
  "language_info": {
   "codemirror_mode": {
    "name": "ipython",
    "version": 2
   },
   "file_extension": ".py",
   "mimetype": "text/x-python",
   "name": "python",
   "nbconvert_exporter": "python",
   "pygments_lexer": "ipython2",
   "version": "2.7.6"
  }
 },
 "nbformat": 4,
 "nbformat_minor": 0
}