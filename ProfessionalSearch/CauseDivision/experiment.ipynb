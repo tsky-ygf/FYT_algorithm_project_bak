{
 "cells": [
  {
   "cell_type": "code",
   "execution_count": 45,
   "outputs": [],
   "source": [
    "import json\n",
    "import os\n",
    "from tqdm.auto import tqdm\n",
    "import re"
   ],
   "metadata": {
    "collapsed": false,
    "pycharm": {
     "name": "#%%\n"
    }
   }
  },
  {
   "cell_type": "code",
   "execution_count": 42,
   "outputs": [
    {
     "name": "stdout",
     "output_type": "stream",
     "text": [
      "/home/fyt\n"
     ]
    }
   ],
   "source": [
    "print(os.getcwd())\n",
    "sentences = []"
   ],
   "metadata": {
    "collapsed": false,
    "pycharm": {
     "name": "#%%\n"
    }
   }
  },
  {
   "cell_type": "code",
   "execution_count": 49,
   "outputs": [
    {
     "data": {
      "text/plain": "刑事: 0it [00:00, ?it/s]",
      "application/vnd.jupyter.widget-view+json": {
       "version_major": 2,
       "version_minor": 0,
       "model_id": "d4fb822632e840ff9201bd794d48207d"
      }
     },
     "metadata": {},
     "output_type": "display_data"
    },
    {
     "name": "stdout",
     "output_type": "stream",
     "text": [
      "{'caseType': '5', 'province': '湖南', 'courtName': '宁远县人民法院', 'refereeDate': '', 'defendant': '', 'caseNumber': '（2019）湘1126执1871号', 'review': '', 'hospitalBelieves': '本院认为，截止2019年8月21日，本案应当执行的标的金额为750000元及利息，已执行到位0元。经本院采取上述执行行为，目前被执行人无财产可供执行，申请执行人也未能提供其他可供执行的财产线索。依照《最高人民法院关于适用〈中华人民共和国民事诉讼法〉的解释》第五百一十九条之规定，裁定如下：', 'caseId': '9181', 'caseDescription': '申请执行人李豪与被执行人王群、张云芝民间借贷纠纷一案，本院于2019年6月25日作出（2019）湘1126民初1801号民事调解书已发生法律效力。由于被执行人未能按期履行生效法律文书确定的义务，申请执行人于2019年7月8日向本院提出执行申请，本院于2019年7月8日立案执行。本院于2019年7月8日向申请执行人送达了受理通知书并要求其提供财产线索；2019年7月9日本院向被执行人送达执行通知书及报告财产令，本院于2019年7月10日、2019年8月1日发起总对总网络财产查控，对被执行人的不动产信息、银行账户、工商登记、车辆信息、证券交易、互联网银行、保险、民政、人行信息进行查询。除银行、车辆、互联网银行外，其他查询结果均无。本院向宁远县不动产登记中心查询被执行人的不动产、向永州市住房公积金管理中心宁远县管理部查询被执行人住房公积金、向湖南宁远农村商业银行股份有限公司查询被执行人金融理财产品、向中国平安人寿保险股份有限公司永州中心支公司查询被执行人收益类保险、向宁远县食品药品工商质量监督管理局查询被执行人的股息红利，除保险、工商外，均未发现可供执行的财产。此外，通过其他合法手段未发现被执行人有其他可供执行的财产。根据查明的财产线索，本院于2019年7月4日在（2019）湘1126执1067号案件中冻结被执行人王群名下的中国建设银行621700720002992****（实际控制金额0元）、622700720057079****（实际控制金额0元）；中国农业银行622848113608930****（实际控制金额0元）的银行账户，于2019年7月4日冻结被执行人张云芝名下的中国建设银行623668323000056****（实际控制金额0元）、广发银行621462062100165****（实际控制金额0元）银行账户。本院于2019年8月9日查封被执行人王群名下的粤B****丰田牌汽车，因车辆实际所在地难以查询，本院未予以实际扣押；于2019年8月16日查封被执行人张云芝名下的湘M8****丰田牌汽车，因车辆实际所在地难以查询，本院未予以实际扣押。被执行人张云芝购买的少儿平安福17（保险单号P04000002798****）保险，不具有执行价值，本院未予以处置。被执行人王群为宁远县舜陵镇九嶷喜炮厂法定代表人，现已停产，无财产可供执行。上述执行情况及信息，本院通过谈话方式告知申请执行人，并要求其提供被执行人其他财产线索，但申请执行人未能提供。2019年7月11日，本院对被执行人王群、张云芝适用限制高消费措施。本院于2019年8月18日约谈申请执行人，告知其本院所采取的执行措施，本院将做终结本次执行程序结案。', 'text': \"<a type='dir' name='WBSB'></a><div style='TEXT-ALIGN: center; LINE-HEIGHT: 25pt; MARGIN: 0.5pt 0cm; FONT-FAMILY: 宋体; FONT-SIZE: 22pt;'>湖南省宁远县人民法院</div><div style='TEXT-ALIGN: center; LINE-HEIGHT: 30pt; MARGIN: 0.5pt 0cm; FONT-FAMILY: 仿宋; FONT-SIZE: 26pt;'>执 行 裁 定 书</div><div style='TEXT-ALIGN: right; LINE-HEIGHT: 30pt; MARGIN: 0.5pt 0cm;  FONT-FAMILY: 仿宋;FONT-SIZE: 16pt; '>（2019）湘1126执1871号</div><a type='dir' name='DSRXX'></a><div style='LINE-HEIGHT: 25pt;TEXT-ALIGN:justify;TEXT-JUSTIFY:inter-ideograph; TEXT-INDENT: 30pt; MARGIN: 0.5pt 0cm;FONT-FAMILY: 仿宋; FONT-SIZE: 16pt;'>申请执行人：李豪，男，1986年10月9日出生，汉族，湖南省宁远县。</div><div style='LINE-HEIGHT: 25pt;TEXT-ALIGN:justify;TEXT-JUSTIFY:inter-ideograph; TEXT-INDENT: 30pt; MARGIN: 0.5pt 0cm;FONT-FAMILY: 仿宋; FONT-SIZE: 16pt;'>被执行人：王群，男，1969年11月16日出生，汉族，湖南省宁远县人。</div><div style='LINE-HEIGHT: 25pt;TEXT-ALIGN:justify;TEXT-JUSTIFY:inter-ideograph; TEXT-INDENT: 30pt; MARGIN: 0.5pt 0cm;FONT-FAMILY: 仿宋; FONT-SIZE: 16pt;'>被执行人：张云芝，女，1971年7月26日出生，汉族，湖南省宁远县人。</div><a type='dir' name='SSJL'></a><div style='LINE-HEIGHT: 25pt;TEXT-ALIGN:justify;TEXT-JUSTIFY:inter-ideograph; TEXT-INDENT: 30pt; MARGIN: 0.5pt 0cm;FONT-FAMILY: 仿宋; FONT-SIZE: 16pt;'>申请执行人李豪与被执行人王群、张云芝民间借贷纠纷一案，本院于2019年6月25日作出（2019）湘1126民初1801号民事调解书已发生法律效力。由于被执行人未能按期履行生效法律文书确定的义务，申请执行人于2019年7月8日向本院提出执行申请，本院于2019年7月8日立案执行。</div><a type='dir' name='AJJBQK'></a><div style='LINE-HEIGHT: 25pt;TEXT-ALIGN:justify;TEXT-JUSTIFY:inter-ideograph; TEXT-INDENT: 30pt; MARGIN: 0.5pt 0cm;FONT-FAMILY: 仿宋; FONT-SIZE: 16pt;'>本院于2019年7月8日向申请执行人送达了受理通知书并要求其提供财产线索；2019年7月9日本院向被执行人送达执行通知书及报告财产令，本院于2019年7月10日、2019年8月1日发起总对总网络财产查控，对被执行人的不动产信息、银行账户、工商登记、车辆信息、证券交易、互联网银行、保险、民政、人行信息进行查询。除银行、车辆、互联网银行外，其他查询结果均无。本院向宁远县不动产登记中心查询被执行人的不动产、向永州市住房公积金管理中心宁远县管理部查询被执行人住房公积金、向湖南宁远农村商业银行股份有限公司查询被执行人金融理财产品、向中国平安人寿保险股份有限公司永州中心支公司查询被执行人收益类保险、向宁远县食品药品工商质量监督管理局查询被执行人的股息红利，除保险、工商外，均未发现可供执行的财产。此外，通过其他合法手段未发现被执行人有其他可供执行的财产。</div><div style='LINE-HEIGHT: 25pt;TEXT-ALIGN:justify;TEXT-JUSTIFY:inter-ideograph; TEXT-INDENT: 30pt; MARGIN: 0.5pt 0cm;FONT-FAMILY: 仿宋; FONT-SIZE: 16pt;'>根据查明的财产线索，本院于2019年7月4日在（2019）湘1126执1067号案件中冻结被执行人王群名下的中国建设银行621700720002992****（实际控制金额0元）、622700720057079****（实际控制金额0元）；中国农业银行622848113608930****（实际控制金额0元）的银行账户，于2019年7月4日冻结被执行人张云芝名下的中国建设银行623668323000056****（实际控制金额0元）、广发银行621462062100165****（实际控制金额0元）银行账户。本院于2019年8月9日查封被执行人王群名下的粤B****丰田牌汽车，因车辆实际所在地难以查询，本院未予以实际扣押；于2019年8月16日查封被执行人张云芝名下的湘M8****丰田牌汽车，因车辆实际所在地难以查询，本院未予以实际扣押。被执行人张云芝购买的少儿平安福17（保险单号P04000002798****）保险，不具有执行价值，本院未予以处置。被执行人王群为宁远县舜陵镇九嶷喜炮厂法定代表人，现已停产，无财产可供执行。</div><div style='LINE-HEIGHT: 25pt;TEXT-ALIGN:justify;TEXT-JUSTIFY:inter-ideograph; TEXT-INDENT: 30pt; MARGIN: 0.5pt 0cm;FONT-FAMILY: 仿宋; FONT-SIZE: 16pt;'>上述执行情况及信息，本院通过谈话方式告知申请执行人，并要求其提供被执行人其他财产线索，但申请执行人未能提供。</div><div style='LINE-HEIGHT: 25pt;TEXT-ALIGN:justify;TEXT-JUSTIFY:inter-ideograph; TEXT-INDENT: 30pt; MARGIN: 0.5pt 0cm;FONT-FAMILY: 仿宋; FONT-SIZE: 16pt;'>2019年7月11日，本院对被执行人王群、张云芝适用限制高消费措施。</div><div style='LINE-HEIGHT: 25pt;TEXT-ALIGN:justify;TEXT-JUSTIFY:inter-ideograph; TEXT-INDENT: 30pt; MARGIN: 0.5pt 0cm;FONT-FAMILY: 仿宋; FONT-SIZE: 16pt;'>本院于2019年8月18日约谈申请执行人，告知其本院所采取的执行措施，本院将做终结本次执行程序结案。</div><a type='dir' name='CPYZ'></a><div style='LINE-HEIGHT: 25pt;TEXT-ALIGN:justify;TEXT-JUSTIFY:inter-ideograph; TEXT-INDENT: 30pt; MARGIN: 0.5pt 0cm;FONT-FAMILY: 仿宋; FONT-SIZE: 16pt;'>本院认为，截止2019年8月21日，本案应当执行的标的金额为750000元及利息，已执行到位0元。经本院采取上述执行行为，目前被执行人无财产可供执行，申请执行人也未能提供其他可供执行的财产线索。依照《最高人民法院关于适用〈中华人民共和国民事诉讼法〉的解释》第五百一十九条之规定，裁定如下：</div><a type='dir' name='PJJG'></a><div style='LINE-HEIGHT: 25pt;TEXT-ALIGN:justify;TEXT-JUSTIFY:inter-ideograph; TEXT-INDENT: 30pt; MARGIN: 0.5pt 0cm;FONT-FAMILY: 仿宋; FONT-SIZE: 16pt;'>终结本次执行程序。</div><div style='LINE-HEIGHT: 25pt;TEXT-ALIGN:justify;TEXT-JUSTIFY:inter-ideograph; TEXT-INDENT: 30pt; MARGIN: 0.5pt 0cm;FONT-FAMILY: 仿宋; FONT-SIZE: 16pt;'>申请执行人发现被执行人有可供执行财产的，可以再次申请执行。再次申请执行不受申请执行时效期间的限制。</div><div style='LINE-HEIGHT: 25pt;TEXT-ALIGN:justify;TEXT-JUSTIFY:inter-ideograph; TEXT-INDENT: 30pt; MARGIN: 0.5pt 0cm;FONT-FAMILY: 仿宋; FONT-SIZE: 16pt;'>本裁定送达后立即生效。</div><a type='dir' name='WBWB'></a><div style='TEXT-ALIGN: right; LINE-HEIGHT: 25pt; MARGIN: 0.5pt 72pt 0.5pt 0cm;FONT-FAMILY: 仿宋; FONT-SIZE: 16pt;'>审判长\\u3000\\u3000欧明辉</div><div style='TEXT-ALIGN: right; LINE-HEIGHT: 25pt; MARGIN: 0.5pt 72pt 0.5pt 0cm;FONT-FAMILY: 仿宋; FONT-SIZE: 16pt;'>审判员\\u3000\\u3000陈\\u3000娟</div><div style='TEXT-ALIGN: right; LINE-HEIGHT: 25pt; MARGIN: 0.5pt 72pt 0.5pt 0cm;FONT-FAMILY: 仿宋; FONT-SIZE: 16pt;'>审判员\\u3000\\u3000朱革新</div><br/><div style='TEXT-ALIGN: right; LINE-HEIGHT: 25pt; MARGIN: 0.5pt 72pt 0.5pt 0cm;FONT-FAMILY: 仿宋; FONT-SIZE: 16pt;'>二〇一九年八月二十一日</div><div style='TEXT-ALIGN: right; LINE-HEIGHT: 25pt; MARGIN: 0.5pt 72pt 0.5pt 0cm;FONT-FAMILY: 仿宋; FONT-SIZE: 16pt;'>书记员\\u3000\\u3000冯梅兰</div>\", 'judge': '审判长欧明辉;审判员陈娟;审判员朱革新;', 'id': 'c66474ea-7248-4fbc-b04d-aab800a404c8', 'plaintiff': '', 'plaintiffAttorney': '', 'releaseDate': '2019-08-29', 'batch': 0, 'partyInformation': '申请执行人：李豪，男，1986年10月9日出生，汉族，湖南省宁远县。被执行人：王群，男，1969年11月16日出生，汉族，湖南省宁远县人。被执行人：张云芝，女，1971年7月26日出生，汉族，湖南省宁远县人。', 'defendantAttorney': '', 'clerk': '冯梅兰;', 'instrumentName': '（2019）湘1126执1871号申请执行人李豪与被执行人王群、张云芝民间借贷纠纷一案执行裁定书', 'caseText': '民间借贷纠纷', 'collegiateBench': '欧明辉;陈娟;朱革新;', 'refereeResult': '终结本次执行程序。申请执行人发现被执行人有可供执行财产的，可以再次申请执行。再次申请执行不受申请执行时效期间的限制。本裁定送达后立即生效。'}\n"
     ]
    }
   ],
   "source": [
    "def read_file(file_name, sentences, cls_name=\"民事\"):\n",
    "    with open(file_name, 'r') as f:\n",
    "        for index, line in tqdm(enumerate(f.readlines()), desc=cls_name):\n",
    "            one_case = json.loads(line)\n",
    "            # for key,value in one_case.items():\n",
    "            #     print(key,\"###\",value)\n",
    "            if \"originallyCalled\" in one_case:\n",
    "                # print(\"caseText\",\"###\",one_case[\"caseText\"])\n",
    "                # print(\"caseDescription\",\"###\",one_case[\"caseDescription\"])\n",
    "                # print(\"originallyCalled\",\"###\",one_case[\"originallyCalled\"])\n",
    "                sentences.append(cls_name + \"###\" + one_case[\"caseText\"] + \"###\" + one_case[\"originallyCalled\"])\n",
    "            if index == 1:\n",
    "                print(one_case)\n",
    "                break\n",
    "            # if index > 10:\n",
    "                # break\n",
    "read_file(\"data/fyt_train_use_data/cls_data/zhixing.json\", sentences, \"刑事\")"
   ],
   "metadata": {
    "collapsed": false,
    "pycharm": {
     "name": "#%%\n"
    }
   }
  },
  {
   "cell_type": "code",
   "execution_count": 40,
   "outputs": [
    {
     "data": {
      "text/plain": "民事: 0it [00:00, ?it/s]",
      "application/vnd.jupyter.widget-view+json": {
       "version_major": 2,
       "version_minor": 0,
       "model_id": "b6a29cf81d7e4bc1a2be176ee708d573"
      }
     },
     "metadata": {},
     "output_type": "display_data"
    },
    {
     "data": {
      "text/plain": "赔偿: 0it [00:00, ?it/s]",
      "application/vnd.jupyter.widget-view+json": {
       "version_major": 2,
       "version_minor": 0,
       "model_id": "a28cd98b704a456aa01c0fed5b840045"
      }
     },
     "metadata": {},
     "output_type": "display_data"
    },
    {
     "data": {
      "text/plain": "其他: 0it [00:00, ?it/s]",
      "application/vnd.jupyter.widget-view+json": {
       "version_major": 2,
       "version_minor": 0,
       "model_id": "10c8687345ce48e58e55494c99040f8b"
      }
     },
     "metadata": {},
     "output_type": "display_data"
    },
    {
     "data": {
      "text/plain": "刑事: 0it [00:00, ?it/s]",
      "application/vnd.jupyter.widget-view+json": {
       "version_major": 2,
       "version_minor": 0,
       "model_id": "dd10aef71df746259fc46b0ec37a800a"
      }
     },
     "metadata": {},
     "output_type": "display_data"
    },
    {
     "data": {
      "text/plain": "行政: 0it [00:00, ?it/s]",
      "application/vnd.jupyter.widget-view+json": {
       "version_major": 2,
       "version_minor": 0,
       "model_id": "8b4a4526963e462eb1c0d8d77bf7a64f"
      }
     },
     "metadata": {},
     "output_type": "display_data"
    },
    {
     "data": {
      "text/plain": "执行: 0it [00:00, ?it/s]",
      "application/vnd.jupyter.widget-view+json": {
       "version_major": 2,
       "version_minor": 0,
       "model_id": "53faba8a9f4a44c590368b9ac105ef3d"
      }
     },
     "metadata": {},
     "output_type": "display_data"
    }
   ],
   "source": [
    "read_file(\"data/fyt_train_use_data/cls_data/minshi.json\", sentences, cls_name=\"民事\")\n",
    "read_file(\"data/fyt_train_use_data/cls_data/peichang.json\", sentences, cls_name=\"赔偿\")\n",
    "read_file(\"data/fyt_train_use_data/cls_data/qita.json\", sentences, cls_name=\"其他\")\n",
    "read_file(\"data/fyt_train_use_data/cls_data/xingshi.json\", sentences, cls_name=\"刑事\")\n",
    "read_file(\"data/fyt_train_use_data/cls_data/xingzheng.json\", sentences, cls_name=\"行政\")\n",
    "read_file(\"data/fyt_train_use_data/cls_data/zhixing.json\", sentences, cls_name=\"执行\")"
   ],
   "metadata": {
    "collapsed": false,
    "pycharm": {
     "name": "#%%\n"
    }
   }
  },
  {
   "cell_type": "code",
   "execution_count": 41,
   "outputs": [
    {
     "data": {
      "text/plain": "52210"
     },
     "execution_count": 41,
     "metadata": {},
     "output_type": "execute_result"
    }
   ],
   "source": [
    "len(sentences)"
   ],
   "metadata": {
    "collapsed": false,
    "pycharm": {
     "name": "#%%\n"
    }
   }
  },
  {
   "cell_type": "code",
   "execution_count": 29,
   "outputs": [
    {
     "data": {
      "text/plain": "['民事###机动车交通事故责任纠纷###原告汤可业的诉讼请求：原告医疗费31936元、住院伙食补助费750元、营养费2700元、误工费43720元、护理费9360元、交通费303元、鉴定费700元、电动车损失400元，共计89869元。扣除石志平、张汉权已经赔付的40000元后，原告可获赔49869元，由被告中国人民财产保险股份有限公司慈溪中心支公司、华安财产保险股份有限公司宜宾中心支公司在交强险内赔偿。本院确认的事实：2017年7月30日11时30分，石志平驾驶湘Ｕ×××××号二轮摩托车在慈溪市逍林樟新公路行驶时，因张汉权停放的川Ｑ×××××号大型普通客车挡住视线，与原告汤可业驾驶的电动自行车发生碰撞，造成原告受伤、车辆损坏的道路交通事故。慈溪市公安局交通警察大队认定石志平承担事故的主要责任，张汉权承担事故的次要责任，汤可业无责任。原告伤后在慈溪市慈林医院住院治疗1天，之后又在山东郯城县上颜湖医院住院治疗15天，伤情右股骨干骨折。2018年10月10日，原告再次到郯城县上颜湖医院住院治疗8天，拆除右股骨干骨折内固定。2019年4月24日，原告经宁波三益司法鉴定所鉴定，伤后休息时间240日，护理时间90日，营养期90日。被告中国人民财产保险股份有限公司慈溪中心支公司、华安财产保险股份有限公司宜宾中心支公司分别系涉案机动车的保险人。石志平已经赔付原告28000元，张汉权已经赔付原告12000元。本院核定的原告损失：医疗费31936元、住院伙食补助费720元、营养费2700元、误工费43720元、护理费9360元、交通费303元、鉴定费700元、电动车损失400元，共计89839元。扣除石志平已经赔付原告28000元，张汉权已经赔付原告12000元后，剩余损失由被告中国人民财产保险股份有限公司慈溪中心支公司、华安财产保险股份有限公司宜宾中心支公司各半承担。依照《中华人民共和国道路交通安全法》第七十六条，《中华人民共和国侵权责任法》第十六条，《最高人民法院关于审理人身损害赔偿案件适用法律若干问题的解释》第十七条，《最高人民法院关于审理道路交通事故损害赔偿案件适用法律若干问题的解释》第十六条的规定，判决如下：',\n '民事###凭样品买卖合同纠纷###原告青岛伟鸿农资有限公司向本院提出诉讼请求：一、判令被告支付原告化肥款22600元及利息（以22600元为基数，自2019年2月4日起至实际付款之日，按照银行同期同类贷款利率，参照逾期罚息利率标准计算）。二、本案诉讼费用由被告承担。事实与理由：2018年3月份，被告从原告处购买复合肥，2019年2月3日结算时被告给原告出具22600元欠条一份，后原告多次向被告索要，被告拖延拒付。',\n '民事###金融借款合同纠纷###原告卓信达公司向本院提出诉讼请求：1.判令被告关正耀偿还原告借款本金人民币2000元及利息(其中借期利息为14元，逾期利息按年利率24%自2017年12月15日起计算至还款之日止);2.判令被告关正耀承担本案律师代理费人民币155元。事实与理由：2017年12月1日，被告关正耀通过互联网“mo9信用钱包”APP平台与出借人章菁签订借款合同，约定被告关正耀向出借人章菁借款人民币2000元、借款期限14天、借期利息14元等事实。同日，出借人章菁委托上海佰晟通信息科技有限公司通过第三方机构向被告关正耀实际支付了借款本金2000元。2018年7月27日，出借人章菁与原告卓信达公司签订了债权转让协议，将其债权全部转让给原告，并向被告发送了债权转让通知。借款到期后，经多次催收，被告拒不偿还，故原告诉至本院。被告关正耀未进行答辩，也未向本院提供证据。根据当事人的陈述和经审查确认的证据，本院对原告诉称事实予以确认。',\n '民事###信用卡纠纷###原告因被告拖欠信用卡本息，特向法院提起诉讼，请求判令：1、被告立即偿还原告欠款本息合计602288.53元，其中本金386343.69元，利息215944.84元（利息暂计至2018年6月8日，之后利息按协议约定及人民银行之规定计至实际清偿之日止）；2、被告承担本案一切诉讼费用。本院基于庭审查明的事实，认定被告拖欠原告信用卡本息属实。依照《中华人民共和国合同法》第四十四条、第六十条、第一百零七条，《中华人民共和国民事诉讼法》第一百四十四条之规定，判决如下：',\n '民事###商品房预售合同纠纷###原告洛阳绿都置业有限公司向本院提出诉讼请求：1、依法解除原告与被告就洛阳市洛龙区绿都悦府6幢2单元2-2203号房屋签订的编号为YS0339350号《商品房预售合同》；并判令被告在合同解除后三日内协助原告办理抵押权撤销、预告登记注销、商品房预售合同备案撤销及维修基金变更等相关手续；2、依法判令被告支付原告违约金5400元；3、本案的诉讼费用、律师费用由被告承担。事实与理由：2016年3月9日原告与被告王盼签订了合同编号为YS0339350号的《商品房预售合同》，购买原告开发的位于洛阳市××经济技术开发区长××街以西××路以南绿都悦府6幢2单元2-2203号房产，合同约定首付款为108000元，按揭贷款额为432000元。但被告至今98000元购房款未支付，经原告多次敦促被告也未再支付，现已逾期构成违约，原告有权解除购房合同。为维护原告的合法权益，特诉至法院，请求法院依法支持原告的诉讼请求。被告王盼缺席，未提交书面答辩意见。原告围绕其诉讼请求依法向法庭提交以下证据：1、编号为YS0339350号的《商品房预售合同》一份，拟证明被告未按照合同约定于2016年3月9日向原告交纳合同约定的首付款,原告有权依照合同第七条的约定解除合同；2、中国邮政储蓄银行股份有限公司洛阳市分行《个人购房/购车借款及担保合同》一份、中国邮政储蓄银行客户回单一份，拟证明原告按照约定及时为被告办理了相关贷款手续，银行向原告发放了按揭贷款；3、律师函一份、EMS快递单一份，拟证明因被告未按时向原告交纳首付款，原告向被告寄出律师函进行催款；4、收据一张，拟证明被告仅向原告交纳购房定金10000元；5、中国邮政储蓄银行扣划原告保证金凭证10张，拟证明因被告未按期偿还银行按揭贷款，导致原告作为阶段性保证人被银行扣划保证金账户金额28164.38元。被告王盼缺席，未发表质证意见。本院根据当事人的陈述和经审查确认的证据，认定事实如下：2016年3月5日，被告王盼欲购买原告出售的房屋一套，遂向原告交纳购房定金10000元，双方于2016年3月9日签订了编号为YS0339350号的《商品房预售合同》，合同约定被告购买原告开发的位于洛阳市××经济技术开发区长××街以西××路以南绿都悦府6幢2单元2-2203号房屋一套，建筑面积为101.27平方米，总房款为540000元，被告首付108000元，剩余房款432000元采用商业贷款的方式向原告支付。合同中第七条约定买受人未按合同规定的时间付款的，逾期超过60日后，出卖人有权解除合同。出卖人解除合同的，买受人按累计应付款的1%向出卖人支付违约金。合同签订后，被告于2016年3月5日交纳的购房定金转化为首付款，剩余98000元首付款一直未付。2016年3月25日，贷款人中国邮政储蓄银行股份有限公司洛阳市分行与被告王盼（借款人）、原告洛阳绿都置业有限公司（保证人）签订了《个人购房/购车借款及担保合同》，合同约定借款本金为432000元，借款期限为30年，还款方式为等额本息，保证人的保证方式为阶段性连带责任保证。合同签订后，因被告王盼未按时偿还银行的贷款，出借人中国邮政储蓄银行洛阳市分行依照合同的约定于2017年7月27日、2017年9月18日、2017年10月31日、2017年12月4日、2018年1月5日、2018年1月31日、2018年3月30日、2018年4月2日、2018年4月28日、2018年5月31日共计从原告洛阳绿都置业有限公司的保证金账户中扣划28164.38元的代偿款。原告多次向被告催要所欠房款及代偿款，被告王盼均不予偿还，故原告起诉至法院，请求法院依法支持其诉讼请求。',\n '民事###物业服务合同纠纷###原告向本院提出诉讼请求：1．判令被告支付原告物业费4154．63元；2．判令被告支付原告违约金1246．39元；3．诉讼费由被告承担。事实与理由：被告为北京市石景山区金顶街三区的业主，该社区的物业管理等相关事项由原告负责。2014年1月29日，北京首房物业管理有限公司名称变更为北京首钢物业管理有限公司。被告入住当日双方签署了《前期物业服务协议》，协议中对双方的权利义务做了明确的约定，甲方即本案原告对小区共用部位、公用设施等项目进行维护、修缮、服务与管理，并根据协议的约定向乙方即本案被告收取物业费及其他费用。协议签署后，原告依约履行其相关义务，而被告一直不予交纳其应交的费用，原告多次催缴，直至起诉之日，被告仍然迟迟不予履行其义务，按照双方签署的协议，已构成违约。综上，根据双方签署的《前期物业服务协议》，原告依法起诉。',\n '民事###机动车交通事故责任纠纷###原告张明帝诉称，2016年9月19日23时30分许，被告邓学兵驾驶川Ｑ×××××号轻型货车行驶至永善县刹水坝路段时，将驾驶电动车的他撞倒。造成他受伤住永善县人民医院医治30日，支付医疗费41366.03元（由被告邓学兵代付）。出院后，经云南云通司法鉴定中心鉴定，他的左肩部损伤评定为玖级伤残，误工期评定为100日，护理期评定为60日，营养期评定为80日。2016年9月19日，永善县公安局交通警察大队作出永公交认字[2016]第20160130号道路交通事故认定书，认定被告邓学兵负此事故的主要责任，他负此事故的次要责任。川Ｑ×××××号轻型货车在被告阳光财保永善支公司投保了交强险、赔偿限额为300,000元的商业三者险、不计免赔率等保险。交通事故发生在保险期内。请求人民法院判决被告阳光财保永善支公司赔偿他以下损失：1、残疾赔偿金30,996元/年×20年×20%=123,984元，2、误工费100天×160元/天=16,000元，3、住院伙食补助费30天×120元/天=3,600元，4、护理费30天×160元/天=4,800元,5、后续治疗费12,000元,6、鉴定费1,900元。共计162,284元。本案诉讼费由被告承担。']"
     },
     "execution_count": 29,
     "metadata": {},
     "output_type": "execute_result"
    }
   ],
   "source": [
    "sentences"
   ],
   "metadata": {
    "collapsed": false,
    "pycharm": {
     "name": "#%%\n"
    }
   }
  },
  {
   "cell_type": "code",
   "execution_count": 44,
   "outputs": [
    {
     "data": {
      "text/plain": "\"<a type='dir' name='WBSB'></a><div style='TEXT-ALIGN: center; LINE-HEIGHT: 25pt; MARGIN: 0.5pt 0cm; FONT-FAMILY: 宋体; FONT-SIZE: 22pt;'>云南省永善县人民法院</div><div style='TEXT-ALIGN: center; LINE-HEIGHT: 30pt; MARGIN: 0.5pt 0cm; FONT-FAMILY: 仿宋; FONT-SIZE: 26pt;'>民 事 判 决 书</div><div style='TEXT-ALIGN: right; LINE-HEIGHT: 30pt; MARGIN: 0.5pt 0cm;  FONT-FAMILY: 仿宋;FONT-SIZE: 16pt; '>（2018）云0625民初1570号</div><a type='dir' name='DSRXX'></a><div style='LINE-HEIGHT: 25pt;TEXT-ALIGN:justify;TEXT-JUSTIFY:inter-ideograph; TEXT-INDENT: 30pt; MARGIN: 0.5pt 0cm;FONT-FAMILY: 仿宋; FONT-SIZE: 16pt;'>原告张明帝，男，1997年11月1日出生汉族，云南省永善县人，农民，住永善县。</div><div style='LINE-HEIGHT: 25pt;TEXT-ALIGN:justify;TEXT-JUSTIFY:inter-ideograph; TEXT-INDENT: 30pt; MARGIN: 0.5pt 0cm;FONT-FAMILY: 仿宋; FONT-SIZE: 16pt;'>委托代理人贾伟（特别授权），云南建昭律师事务所律师。</div><div style='LINE-HEIGHT: 25pt;TEXT-ALIGN:justify;TEXT-JUSTIFY:inter-ideograph; TEXT-INDENT: 30pt; MARGIN: 0.5pt 0cm;FONT-FAMILY: 仿宋; FONT-SIZE: 16pt;'>被告邓学兵，男，1991年7月2日出生汉族，云南省永善县人，农民，住永善县。</div><div style='LINE-HEIGHT: 25pt;TEXT-ALIGN:justify;TEXT-JUSTIFY:inter-ideograph; TEXT-INDENT: 30pt; MARGIN: 0.5pt 0cm;FONT-FAMILY: 仿宋; FONT-SIZE: 16pt;'>被告阳光财产保险股份有限公司永善支公司，统一社会信用代码91530625662631020L。</div><div style='LINE-HEIGHT: 25pt;TEXT-ALIGN:justify;TEXT-JUSTIFY:inter-ideograph; TEXT-INDENT: 30pt; MARGIN: 0.5pt 0cm;FONT-FAMILY: 仿宋; FONT-SIZE: 16pt;'>住所地云南省昭通市永善县溪洛渡镇过境路**号。</div><div style='LINE-HEIGHT: 25pt;TEXT-ALIGN:justify;TEXT-JUSTIFY:inter-ideograph; TEXT-INDENT: 30pt; MARGIN: 0.5pt 0cm;FONT-FAMILY: 仿宋; FONT-SIZE: 16pt;'>负责人谭先碧，该公司经理。</div><div style='LINE-HEIGHT: 25pt;TEXT-ALIGN:justify;TEXT-JUSTIFY:inter-ideograph; TEXT-INDENT: 30pt; MARGIN: 0.5pt 0cm;FONT-FAMILY: 仿宋; FONT-SIZE: 16pt;'>委托代理人梁厚杰（特别授权），该公司职工。</div><a type='dir' name='SSJL'></a><div style='LINE-HEIGHT: 25pt;TEXT-ALIGN:justify;TEXT-JUSTIFY:inter-ideograph; TEXT-INDENT: 30pt; MARGIN: 0.5pt 0cm;FONT-FAMILY: 仿宋; FONT-SIZE: 16pt;'>原告张明帝与被告邓学兵、阳光财产保险股份有限公司永善支公司（以下简称阳光财保永善支公司）机动车交通事故责任纠纷一案，本院于2018年9月3日受理后，依法由审判员吴光联适用简易程序审理。2018年9月18日，本院公开开庭审理了本案。原告张明帝的委托代理人贾伟，被告邓学兵，被告阳光财保永善支公司的委托代理人梁厚杰到庭参加诉讼。本案现已审理终结。</div><a type='dir' name='AJJBQK'></a><div style='LINE-HEIGHT: 25pt;TEXT-ALIGN:justify;TEXT-JUSTIFY:inter-ideograph; TEXT-INDENT: 30pt; MARGIN: 0.5pt 0cm;FONT-FAMILY: 仿宋; FONT-SIZE: 16pt;'>原告张明帝诉称，2016年9月19日23时30分许，被告邓学兵驾驶川Ｑ×××××号轻型货车行驶至永善县刹水坝路段时，将驾驶电动车的他撞倒。造成他受伤住永善县人民医院医治30日，支付医疗费41366.03元（由被告邓学兵代付）。出院后，经云南云通司法鉴定中心鉴定，他的左肩部损伤评定为玖级伤残，误工期评定为100日，护理期评定为60日，营养期评定为80日。</div><div style='LINE-HEIGHT: 25pt;TEXT-ALIGN:justify;TEXT-JUSTIFY:inter-ideograph; TEXT-INDENT: 30pt; MARGIN: 0.5pt 0cm;FONT-FAMILY: 仿宋; FONT-SIZE: 16pt;'>2016年9月19日，永善县公安局交通警察大队作出永公交认字[2016]第20160130号道路交通事故认定书，认定被告邓学兵负此事故的主要责任，他负此事故的次要责任。</div><div style='LINE-HEIGHT: 25pt;TEXT-ALIGN:justify;TEXT-JUSTIFY:inter-ideograph; TEXT-INDENT: 30pt; MARGIN: 0.5pt 0cm;FONT-FAMILY: 仿宋; FONT-SIZE: 16pt;'>川Ｑ×××××号轻型货车在被告阳光财保永善支公司投保了交强险、赔偿限额为300,000元的商业三者险、不计免赔率等保险。交通事故发生在保险期内。请求人民法院判决被告阳光财保永善支公司赔偿他以下损失：1、残疾赔偿金30,996元/年×20年×20%=123,984元，2、误工费100天×160元/天=16,000元，3、住院伙食补助费30天×120元/天=3,600元，4、护理费30天×160元/天=4,800元,5、后续治疗费12,000元,6、鉴定费1,900元。共计162,284元。本案诉讼费由被告承担。</div><div style='LINE-HEIGHT: 25pt;TEXT-ALIGN:justify;TEXT-JUSTIFY:inter-ideograph; TEXT-INDENT: 30pt; MARGIN: 0.5pt 0cm;FONT-FAMILY: 仿宋; FONT-SIZE: 16pt;'>被告阳光财保永善支公司辩称，被告邓学兵驾驶的川Ｑ×××××号车，在他公司投保了交强险和赔偿限额为300,000元的商业第三者责任险属实。他公司愿意赔偿原告的医疗费、住院伙食补助费、后续治疗费、护理费、误工费、残疾赔偿金等共计90,864.70元。</div><div style='LINE-HEIGHT: 25pt;TEXT-ALIGN:justify;TEXT-JUSTIFY:inter-ideograph; TEXT-INDENT: 30pt; MARGIN: 0.5pt 0cm;FONT-FAMILY: 仿宋; FONT-SIZE: 16pt;'>被告邓学兵辩称，交通事故属实，他应承担的赔偿责任由阳光财保永善支公司代为赔偿，他垫付原告的医疗费及修理费由阳光财保永善支公司退回。</div><div style='LINE-HEIGHT: 25pt;TEXT-ALIGN:justify;TEXT-JUSTIFY:inter-ideograph; TEXT-INDENT: 30pt; MARGIN: 0.5pt 0cm;FONT-FAMILY: 仿宋; FONT-SIZE: 16pt;'>综合双方诉辩主张，本案双方当事人对以下问题存在争议：</div><div style='LINE-HEIGHT: 25pt;TEXT-ALIGN:justify;TEXT-JUSTIFY:inter-ideograph; TEXT-INDENT: 30pt; MARGIN: 0.5pt 0cm;FONT-FAMILY: 仿宋; FONT-SIZE: 16pt;'>原告张明帝的合法损失有哪些，应该如何赔偿。</div><div style='LINE-HEIGHT: 25pt;TEXT-ALIGN:justify;TEXT-JUSTIFY:inter-ideograph; TEXT-INDENT: 30pt; MARGIN: 0.5pt 0cm;FONT-FAMILY: 仿宋; FONT-SIZE: 16pt;'>原告张明帝针对其诉讼主张，向本院提交了以下证据：</div><div style='LINE-HEIGHT: 25pt;TEXT-ALIGN:justify;TEXT-JUSTIFY:inter-ideograph; TEXT-INDENT: 30pt; MARGIN: 0.5pt 0cm;FONT-FAMILY: 仿宋; FONT-SIZE: 16pt;'>1、身份证复印件一份。欲证明原告的基本信息及诉讼主体资格。</div><div style='LINE-HEIGHT: 25pt;TEXT-ALIGN:justify;TEXT-JUSTIFY:inter-ideograph; TEXT-INDENT: 30pt; MARGIN: 0.5pt 0cm;FONT-FAMILY: 仿宋; FONT-SIZE: 16pt;'>2、永公交认字〔2016〕第20160130号道路交通事故责任认定书一份。欲证明2016年9月19日，被告邓学兵驾驶川Ｑ×××××号轻型仓栅式货车，沿南佛路由永善县青胜乡方向往永善县方向行驶，23时30分许，当车行至刹水坝路段时，与对向行驶的张明帝驾驶的无牌锡特牌电动自行车相撞，造成张明帝受伤，无牌锡特牌电动自行车受损的交通事故。认定邓学兵负此事故主要责任，张明帝负此事故次要责任。</div><div style='LINE-HEIGHT: 25pt;TEXT-ALIGN:justify;TEXT-JUSTIFY:inter-ideograph; TEXT-INDENT: 30pt; MARGIN: 0.5pt 0cm;FONT-FAMILY: 仿宋; FONT-SIZE: 16pt;'>3、永善县人民医院住院病历、医疗发票各一套。欲证明原告的损伤及住院医治情况。</div><div style='LINE-HEIGHT: 25pt;TEXT-ALIGN:justify;TEXT-JUSTIFY:inter-ideograph; TEXT-INDENT: 30pt; MARGIN: 0.5pt 0cm;FONT-FAMILY: 仿宋; FONT-SIZE: 16pt;'>4、鉴定意见书及鉴定发票各一份。欲证张明帝在此事故中所受之伤，2017年1月5日，经云南云通司法鉴定中心鉴定为玖级伤残，需后续治疗费12,000元，误工期评定为100日，护理期评定为60日，营养期评定为80日。支付鉴定机构鉴定费1,900元。</div><div style='LINE-HEIGHT: 25pt;TEXT-ALIGN:justify;TEXT-JUSTIFY:inter-ideograph; TEXT-INDENT: 30pt; MARGIN: 0.5pt 0cm;FONT-FAMILY: 仿宋; FONT-SIZE: 16pt;'>5、永善县源胜村委会2018年7月12日出具的证明一份。欲证明原告张明帝自2010年至今随其父张清平在外生活至今，期间偶有回家探亲。</div><div style='LINE-HEIGHT: 25pt;TEXT-ALIGN:justify;TEXT-JUSTIFY:inter-ideograph; TEXT-INDENT: 30pt; MARGIN: 0.5pt 0cm;FONT-FAMILY: 仿宋; FONT-SIZE: 16pt;'>6、广东省劳动合同、东莞市顺城玻璃有限公司证明各一份。欲证明原告张明帝2015年2月6日至2017年2月6日在东莞市顺城玻璃有限公司务工。</div><div style='LINE-HEIGHT: 25pt;TEXT-ALIGN:justify;TEXT-JUSTIFY:inter-ideograph; TEXT-INDENT: 30pt; MARGIN: 0.5pt 0cm;FONT-FAMILY: 仿宋; FONT-SIZE: 16pt;'>经质证，被告阳光财保永善支公司对原告提供的第1、2、3、4、组证据无异议；对第5、6组证据有异议，认为该两组证据的真实性无法判别，不能证明原告进城务工。</div><div style='LINE-HEIGHT: 25pt;TEXT-ALIGN:justify;TEXT-JUSTIFY:inter-ideograph; TEXT-INDENT: 30pt; MARGIN: 0.5pt 0cm;FONT-FAMILY: 仿宋; FONT-SIZE: 16pt;'>经质证，被告邓学兵与被告阳光财保永善支公司的质证意见一致。</div><div style='LINE-HEIGHT: 25pt;TEXT-ALIGN:justify;TEXT-JUSTIFY:inter-ideograph; TEXT-INDENT: 30pt; MARGIN: 0.5pt 0cm;FONT-FAMILY: 仿宋; FONT-SIZE: 16pt;'>被告阳光财保永善支公司针对其答辩理由，向本院提交了如下证据：</div><div style='LINE-HEIGHT: 25pt;TEXT-ALIGN:justify;TEXT-JUSTIFY:inter-ideograph; TEXT-INDENT: 30pt; MARGIN: 0.5pt 0cm;FONT-FAMILY: 仿宋; FONT-SIZE: 16pt;'>1、营业执照复印件一份。欲证明他公司的主体资格及统一社会信用代码。</div><div style='LINE-HEIGHT: 25pt;TEXT-ALIGN:justify;TEXT-JUSTIFY:inter-ideograph; TEXT-INDENT: 30pt; MARGIN: 0.5pt 0cm;FONT-FAMILY: 仿宋; FONT-SIZE: 16pt;'>2、机动车保险单抄件二份。欲证明被告邓学兵驾驶的川Ｑ×××××号车，于2016年6月1日在他公司投保了交强险及赔偿限额为300,000元的商业三者险。</div><div style='LINE-HEIGHT: 25pt;TEXT-ALIGN:justify;TEXT-JUSTIFY:inter-ideograph; TEXT-INDENT: 30pt; MARGIN: 0.5pt 0cm;FONT-FAMILY: 仿宋; FONT-SIZE: 16pt;'>经质证，原告张明帝及被告邓学兵对被告阳光财保永善支公司提供的证据无异议。</div><div style='LINE-HEIGHT: 25pt;TEXT-ALIGN:justify;TEXT-JUSTIFY:inter-ideograph; TEXT-INDENT: 30pt; MARGIN: 0.5pt 0cm;FONT-FAMILY: 仿宋; FONT-SIZE: 16pt;'>被告邓学兵针对其答辩理由，向本院提交了如下证据：</div><div style='LINE-HEIGHT: 25pt;TEXT-ALIGN:justify;TEXT-JUSTIFY:inter-ideograph; TEXT-INDENT: 30pt; MARGIN: 0.5pt 0cm;FONT-FAMILY: 仿宋; FONT-SIZE: 16pt;'>1、身份证复印件一份。欲证明邓学兵的基本信息及诉讼主体资格。</div><div style='LINE-HEIGHT: 25pt;TEXT-ALIGN:justify;TEXT-JUSTIFY:inter-ideograph; TEXT-INDENT: 30pt; MARGIN: 0.5pt 0cm;FONT-FAMILY: 仿宋; FONT-SIZE: 16pt;'>2、永公交认字〔2016〕第20160130号道路交通事故责任认定书一份。欲证明该事故经永善县交通警察大队认定，他负此事故主要责任，张明帝负此事故次要责任。</div><div style='LINE-HEIGHT: 25pt;TEXT-ALIGN:justify;TEXT-JUSTIFY:inter-ideograph; TEXT-INDENT: 30pt; MARGIN: 0.5pt 0cm;FONT-FAMILY: 仿宋; FONT-SIZE: 16pt;'>3、永善县人民医院医疗发票三份。欲证明该事故发生后，原告张明帝住永善县人民医院治疗30日，他为原告支付医疗费42,303.86元。</div><div style='LINE-HEIGHT: 25pt;TEXT-ALIGN:justify;TEXT-JUSTIFY:inter-ideograph; TEXT-INDENT: 30pt; MARGIN: 0.5pt 0cm;FONT-FAMILY: 仿宋; FONT-SIZE: 16pt;'>4、工商业统一收款收据一份。欲证明他为原告支付电动车修理费875元。</div><div style='LINE-HEIGHT: 25pt;TEXT-ALIGN:justify;TEXT-JUSTIFY:inter-ideograph; TEXT-INDENT: 30pt; MARGIN: 0.5pt 0cm;FONT-FAMILY: 仿宋; FONT-SIZE: 16pt;'>经质证，原告张明帝及被告阳光财保永善支公司对被告邓学兵提供的证据无异议。</div><div style='LINE-HEIGHT: 25pt;TEXT-ALIGN:justify;TEXT-JUSTIFY:inter-ideograph; TEXT-INDENT: 30pt; MARGIN: 0.5pt 0cm;FONT-FAMILY: 仿宋; FONT-SIZE: 16pt;'>通过双方当事人对上述证据的举证、质证，对双方当事人均无异议的证据本院予以采信。原告出示的第5、6组证据，二被告有异议，本院认为该二组证据虽无工资支付凭证等相佐证，但结合永善外出务工人员众多的实际，可以证明原告的主要生活来源于城镇，故本院予以采信。</div><div style='LINE-HEIGHT: 25pt;TEXT-ALIGN:justify;TEXT-JUSTIFY:inter-ideograph; TEXT-INDENT: 30pt; MARGIN: 0.5pt 0cm;FONT-FAMILY: 仿宋; FONT-SIZE: 16pt;'>根据庭审和质证，本院确认如下法律事实：</div><div style='LINE-HEIGHT: 25pt;TEXT-ALIGN:justify;TEXT-JUSTIFY:inter-ideograph; TEXT-INDENT: 30pt; MARGIN: 0.5pt 0cm;FONT-FAMILY: 仿宋; FONT-SIZE: 16pt;'>2016年9月19日，被告邓学兵驾驶川Ｑ×××××号轻型仓栅式货车，沿南佛路由永善县青胜乡方向往永善县方向行驶，23时30分许，当车行至刹水坝路段时，与对向行驶的张明帝驾驶的无牌锡特牌电动自行车相撞，造成张明帝受伤，无牌锡特牌电动自行车受损的交通事故。张明帝受伤后住永善县人民医院医治30日，支付医疗费42,303.86元（已由被告邓学兵代付）。出院后，经云南云通司法鉴定中心鉴定，邓学兵的左肩部损伤评定为玖级伤残，误工期评定为100日，护理期评定为60日，营养期评定为80日。</div><div style='LINE-HEIGHT: 25pt;TEXT-ALIGN:justify;TEXT-JUSTIFY:inter-ideograph; TEXT-INDENT: 30pt; MARGIN: 0.5pt 0cm;FONT-FAMILY: 仿宋; FONT-SIZE: 16pt;'>2016年9月19日，永善县公安局交通警察大队作出永公交认字[2016]第20160130号道路交通事故认定书，认定被告邓学兵负此事故的主要责任，原告张明帝负此事故的次要责任。</div><div style='LINE-HEIGHT: 25pt;TEXT-ALIGN:justify;TEXT-JUSTIFY:inter-ideograph; TEXT-INDENT: 30pt; MARGIN: 0.5pt 0cm;FONT-FAMILY: 仿宋; FONT-SIZE: 16pt;'>川Ｑ×××××号轻型货车在被告阳光财保永善支公司投保了交强险、赔偿限额为300,000元的商业三者险、不计免赔率等保险。交通事故发生在保险期内。</div><div style='LINE-HEIGHT: 25pt;TEXT-ALIGN:justify;TEXT-JUSTIFY:inter-ideograph; TEXT-INDENT: 30pt; MARGIN: 0.5pt 0cm;FONT-FAMILY: 仿宋; FONT-SIZE: 16pt;'>被告邓学兵为原告张明帝支付电动车修理费875元。原告张明帝自2010年起便与其父在外生活，其间在广东等地务工获取生活来源。</div><a type='dir' name='CPYZ'></a><div style='LINE-HEIGHT: 25pt;TEXT-ALIGN:justify;TEXT-JUSTIFY:inter-ideograph; TEXT-INDENT: 30pt; MARGIN: 0.5pt 0cm;FONT-FAMILY: 仿宋; FONT-SIZE: 16pt;'>本院认为，公民的健康权受法律保护，侵害公民的健康权，应依法承担侵权责任。被侵权人对损害的发生有过错的，可以减轻侵权人的责任。机动车发生交通事故造成损害的，应按照《中华人民共和国道路交通安全法》第七十六条、《最高人民法院关于审理人身损害赔偿案件适用法律若干问题的解释》的规定，由保险公司在机动车交强险责任限额范围内予以赔偿，不足部分由承保商业险的保险公司根据保险合同的约定赔偿限额予以赔偿，仍有不足的,由机动车使用人根据过错比例予以赔偿。本案中交通事故的发生，被告邓学兵负事故主要责任，原告张明帝负事故的次要责任。原告张明帝的损失，首先由被告阳光财保永善支公司在交强险限额内赔偿，不足部分由被告阳光财保永善支公司在商业三者险限额内根据过错比例代替被告邓学兵承担赔偿责任，赔偿限额外仍有不足部分，由被告邓学兵予以赔偿。根据本案实际，本院确定被告邓学兵承担该事故70%的责任，原告张明帝承担30%的责任。原告张明帝的损失依据该比例划分承担。</div><div style='LINE-HEIGHT: 25pt;TEXT-ALIGN:justify;TEXT-JUSTIFY:inter-ideograph; TEXT-INDENT: 30pt; MARGIN: 0.5pt 0cm;FONT-FAMILY: 仿宋; FONT-SIZE: 16pt;'>根据《中华人民共和国侵权责任法》第十六条，《最高人民法院关于审理人身损害赔偿案件适用法律若干问题的解释》第十七条、第二十条、第二十一条第四款、第二十三条、第二十四条、第二十五条、第二十八条的规定，结合原告张明帝提供的证据，原告张明帝的损失确定如下：1、医疗费54,303.86元（含后续治疗费12,000元），2、住院伙食补助费30天×100元/天=3,000元，3、护理费30天×160元/天=4,800元,4、误工费100天×160元/天=16,000元，5、残疾赔偿金30,996元/年×20年×20%=123,984元,6、鉴定费1,900元7、电动车修理费875元。共计204,862.86元。根据《机动车交通事故责任强制保险条款》规定，被告阳光财保永善支公司应在交强险医疗费限额内赔偿原告张明帝医疗费、后续治疗费、住院伙食补助费10,000元，在伤残赔偿限额内各赔偿原告张明帝残疾赔偿金、护理费、误工费、鉴定费共计110,000元，在财产损失限额内赔偿原告张明帝车辆修理费875元。在商业三者险限额内赔偿原告张明帝医疗费等共计83987.86×30%=58,791.50元。原告张明帝的其余损失自己承担。被告邓学兵为原告垫付的医疗费42,303.86元、修理费875元，共计43,178.86元，从上述赔偿款项中予以退回。原告主张的护理费、营养费本院支持其住院期间30日，原告主张的住院伙食补助费本院参照本县公职人员出差生活补助，支持其每日100元。</div><div style='LINE-HEIGHT: 25pt;TEXT-ALIGN:justify;TEXT-JUSTIFY:inter-ideograph; TEXT-INDENT: 30pt; MARGIN: 0.5pt 0cm;FONT-FAMILY: 仿宋; FONT-SIZE: 16pt;'>综上所述，根据《中华人民共和国侵权责任法》第十二条、第十六条、第二十六条，《中华人民共和国道路交通安全法》第七十六条，《最高人民法院关于审理人身损害赔偿案件适用法律若干问题的解释》第十七条、第二十条、第二十一条第四款、第二十三条、第二十四条、第二十五条、第二十八条的规定，判决如下：</div><a type='dir' name='PJJG'></a><div style='LINE-HEIGHT: 25pt;TEXT-ALIGN:justify;TEXT-JUSTIFY:inter-ideograph; TEXT-INDENT: 30pt; MARGIN: 0.5pt 0cm;FONT-FAMILY: 仿宋; FONT-SIZE: 16pt;'>一、由被告阳光财产保险股份有限公司永善支公司，在交强险医疗赔偿限额内赔偿原告张明帝医疗费（含后续治疗费）、住院伙食补助费共计10,000元，在伤残赔偿限额内赔偿原告张明帝残疾赔偿金、护理费、误工费、鉴定费共计110,000元，在财产损失限额内赔偿原告张明帝车辆修理费875元，在商业三者险限额内赔偿原告张明帝医疗费（含后续治疗费）等共计58,791.50元。上述各项合计179,666.50元。</div><div style='LINE-HEIGHT: 25pt;TEXT-ALIGN:justify;TEXT-JUSTIFY:inter-ideograph; TEXT-INDENT: 30pt; MARGIN: 0.5pt 0cm;FONT-FAMILY: 仿宋; FONT-SIZE: 16pt;'>二、被告邓学兵为原告垫付的医疗费42,303.86元、修理费875元，共计43,178.86元，从上述赔偿款项中予以退回（上述赔偿款179,666.50元，由原告张明帝领取136,487.64元，由被告邓学兵领取43,178.86元）。</div><div style='LINE-HEIGHT: 25pt;TEXT-ALIGN:justify;TEXT-JUSTIFY:inter-ideograph; TEXT-INDENT: 30pt; MARGIN: 0.5pt 0cm;FONT-FAMILY: 仿宋; FONT-SIZE: 16pt;'>三、驳回原告张明帝的其他诉讼请求。</div><div style='LINE-HEIGHT: 25pt;TEXT-ALIGN:justify;TEXT-JUSTIFY:inter-ideograph; TEXT-INDENT: 30pt; MARGIN: 0.5pt 0cm;FONT-FAMILY: 仿宋; FONT-SIZE: 16pt;'>上述赔偿金额，限本判决生效之日给付。</div><div style='LINE-HEIGHT: 25pt;TEXT-ALIGN:justify;TEXT-JUSTIFY:inter-ideograph; TEXT-INDENT: 30pt; MARGIN: 0.5pt 0cm;FONT-FAMILY: 仿宋; FONT-SIZE: 16pt;'>案件受理费减半收取656元，由被告邓学兵承担459.20元，原告张明帝承担196.80元。</div><div style='LINE-HEIGHT: 25pt;TEXT-ALIGN:justify;TEXT-JUSTIFY:inter-ideograph; TEXT-INDENT: 30pt; MARGIN: 0.5pt 0cm;FONT-FAMILY: 仿宋; FONT-SIZE: 16pt;'>如果负有义务的当事人未按本判决指定的期间履行给付金钱义务，应当依照《中华人民共和国民事诉讼法》第二百五十三条的规定，加倍支付迟延履行期间的债务利息。</div><div style='LINE-HEIGHT: 25pt;TEXT-ALIGN:justify;TEXT-JUSTIFY:inter-ideograph; TEXT-INDENT: 30pt; MARGIN: 0.5pt 0cm;FONT-FAMILY: 仿宋; FONT-SIZE: 16pt;'>如不服本判决，可在判决书送达之日起十五日内，向本院递交上诉状，并按对方当事人的人数提出副本，上诉于云南省昭通市中级人民法院。</div><div style='LINE-HEIGHT: 25pt;TEXT-ALIGN:justify;TEXT-JUSTIFY:inter-ideograph; TEXT-INDENT: 30pt; MARGIN: 0.5pt 0cm;FONT-FAMILY: 仿宋; FONT-SIZE: 16pt;'>本判决发生法律效力后，若被告阳光财产保险股份有限公司永善支公司不自动履行本判决，原告张明帝可在本判决规定履行期限届满后二年内向本院申请强制执行。</div><a type='dir' name='WBWB'></a><div style='TEXT-ALIGN: right; LINE-HEIGHT: 25pt; MARGIN: 0.5pt 72pt 0.5pt 0cm;FONT-FAMILY: 仿宋; FONT-SIZE: 16pt;'>审判员\\u3000\\u3000吴光联</div><br/><div style='TEXT-ALIGN: right; LINE-HEIGHT: 25pt; MARGIN: 0.5pt 72pt 0.5pt 0cm;FONT-FAMILY: 仿宋; FONT-SIZE: 16pt;'>二〇一八年十月二十九日</div><div style='TEXT-ALIGN: right; LINE-HEIGHT: 25pt; MARGIN: 0.5pt 72pt 0.5pt 0cm;FONT-FAMILY: 仿宋; FONT-SIZE: 16pt;'>书记员\\u3000\\u3000罗宇浩</div>\""
     },
     "execution_count": 44,
     "metadata": {},
     "output_type": "execute_result"
    }
   ],
   "source": [
    "one_case[\"text\"]"
   ],
   "metadata": {
    "collapsed": false,
    "pycharm": {
     "name": "#%%\n"
    }
   }
  },
  {
   "cell_type": "code",
   "execution_count": 48,
   "outputs": [
    {
     "name": "stdout",
     "output_type": "stream",
     "text": [
      "云南省永善县人民法院民事判决书云民初号原告张明帝男年月日出生汉族云南省永善县人农民住永善县委托代理人贾伟特别授权云南建昭律师事务所律师被告邓学兵男年月日出生汉族云南省永善县人农民住永善县被告阳光财产保险股份有限公司永善支公司统一社会信用代码住所地云南省昭通市永善县溪洛渡镇过境路号负责人谭先碧该公司经理委托代理人梁厚杰特别授权该公司职工原告张明帝与被告邓学兵阳光财产保险股份有限公司永善支公司以下简称阳光财保永善支公司机动车交通事故责任纠纷一案本院于年月日受理后依法由审判员吴光联适用简易程序审理年月日本院公开开庭审理了本案原告张明帝的委托代理人贾伟被告邓学兵被告阳光财保永善支公司的委托代理人梁厚杰到庭参加诉讼本案现已审理终结原告张明帝诉称年月日时分许被告邓学兵驾驶川号轻型货车行驶至永善县刹水坝路段时将驾驶电动车的他撞倒造成他受伤住永善县人民医院医治日支付医疗费元由被告邓学兵代付出院后经云南云通司法鉴定中心鉴定他的左肩部损伤评定为玖级伤残误工期评定为日护理期评定为日营养期评定为日年月日永善县公安局交通警察大队作出永公交认字第号道路交通事故认定书认定被告邓学兵负此事故的主要责任他负此事故的次要责任川号轻型货车在被告阳光财保永善支公司投保了交强险赔偿限额为元的商业三者险不计免赔率等保险交通事故发生在保险期内请求人民法院判决被告阳光财保永善支公司赔偿他以下损失残疾赔偿金元年年元误工费天元天元住院伙食补助费天元天元护理费天元天元后续治疗费元鉴定费元共计元本案诉讼费由被告承担被告阳光财保永善支公司辩称被告邓学兵驾驶的川号车在他公司投保了交强险和赔偿限额为元的商业第三者责任险属实他公司愿意赔偿原告的医疗费住院伙食补助费后续治疗费护理费误工费残疾赔偿金等共计元被告邓学兵辩称交通事故属实他应承担的赔偿责任由阳光财保永善支公司代为赔偿他垫付原告的医疗费及修理费由阳光财保永善支公司退回综合双方诉辩主张本案双方当事人对以下问题存在争议原告张明帝的合法损失有哪些应该如何赔偿原告张明帝针对其诉讼主张向本院提交了以下证据身份证复印件一份欲证明原告的基本信息及诉讼主体资格永公交认字第号道路交通事故责任认定书一份欲证明年月日被告邓学兵驾驶川号轻型仓栅式货车沿南佛路由永善县青胜乡方向往永善县方向行驶时分许当车行至刹水坝路段时与对向行驶的张明帝驾驶的无牌锡特牌电动自行车相撞造成张明帝受伤无牌锡特牌电动自行车受损的交通事故认定邓学兵负此事故主要责任张明帝负此事故次要责任永善县人民医院住院病历医疗发票各一套欲证明原告的损伤及住院医治情况鉴定意见书及鉴定发票各一份欲证张明帝在此事故中所受之伤年月日经云南云通司法鉴定中心鉴定为玖级伤残需后续治疗费元误工期评定为日护理期评定为日营养期评定为日支付鉴定机构鉴定费元永善县源胜村委会年月日出具的证明一份欲证明原告张明帝自年至今随其父张清平在外生活至今期间偶有回家探亲广东省劳动合同东莞市顺城玻璃有限公司证明各一份欲证明原告张明帝年月日至年月日在东莞市顺城玻璃有限公司务工经质证被告阳光财保永善支公司对原告提供的第组证据无异议对第组证据有异议认为该两组证据的真实性无法判别不能证明原告进城务工经质证被告邓学兵与被告阳光财保永善支公司的质证意见一致被告阳光财保永善支公司针对其答辩理由向本院提交了如下证据营业执照复印件一份欲证明他公司的主体资格及统一社会信用代码机动车保险单抄件二份欲证明被告邓学兵驾驶的川号车于年月日在他公司投保了交强险及赔偿限额为元的商业三者险经质证原告张明帝及被告邓学兵对被告阳光财保永善支公司提供的证据无异议被告邓学兵针对其答辩理由向本院提交了如下证据身份证复印件一份欲证明邓学兵的基本信息及诉讼主体资格永公交认字第号道路交通事故责任认定书一份欲证明该事故经永善县交通警察大队认定他负此事故主要责任张明帝负此事故次要责任永善县人民医院医疗发票三份欲证明该事故发生后原告张明帝住永善县人民医院治疗日他为原告支付医疗费元工商业统一收款收据一份欲证明他为原告支付电动车修理费元经质证原告张明帝及被告阳光财保永善支公司对被告邓学兵提供的证据无异议通过双方当事人对上述证据的举证质证对双方当事人均无异议的证据本院予以采信原告出示的第组证据二被告有异议本院认为该二组证据虽无工资支付凭证等相佐证但结合永善外出务工人员众多的实际可以证明原告的主要生活来源于城镇故本院予以采信根据庭审和质证本院确认如下法律事实年月日被告邓学兵驾驶川号轻型仓栅式货车沿南佛路由永善县青胜乡方向往永善县方向行驶时分许当车行至刹水坝路段时与对向行驶的张明帝驾驶的无牌锡特牌电动自行车相撞造成张明帝受伤无牌锡特牌电动自行车受损的交通事故张明帝受伤后住永善县人民医院医治日支付医疗费元已由被告邓学兵代付出院后经云南云通司法鉴定中心鉴定邓学兵的左肩部损伤评定为玖级伤残误工期评定为日护理期评定为日营养期评定为日年月日永善县公安局交通警察大队作出永公交认字第号道路交通事故认定书认定被告邓学兵负此事故的主要责任原告张明帝负此事故的次要责任川号轻型货车在被告阳光财保永善支公司投保了交强险赔偿限额为元的商业三者险不计免赔率等保险交通事故发生在保险期内被告邓学兵为原告张明帝支付电动车修理费元原告张明帝自年起便与其父在外生活其间在广东等地务工获取生活来源本院认为公民的健康权受法律保护侵害公民的健康权应依法承担侵权责任被侵权人对损害的发生有过错的可以减轻侵权人的责任机动车发生交通事故造成损害的应按照中华人民共和国道路交通安全法第七十六条最高人民法院关于审理人身损害赔偿案件适用法律若干问题的解释的规定由保险公司在机动车交强险责任限额范围内予以赔偿不足部分由承保商业险的保险公司根据保险合同的约定赔偿限额予以赔偿仍有不足的由机动车使用人根据过错比例予以赔偿本案中交通事故的发生被告邓学兵负事故主要责任原告张明帝负事故的次要责任原告张明帝的损失首先由被告阳光财保永善支公司在交强险限额内赔偿不足部分由被告阳光财保永善支公司在商业三者险限额内根据过错比例代替被告邓学兵承担赔偿责任赔偿限额外仍有不足部分由被告邓学兵予以赔偿根据本案实际本院确定被告邓学兵承担该事故的责任原告张明帝承担的责任原告张明帝的损失依据该比例划分承担根据中华人民共和国侵权责任法第十六条最高人民法院关于审理人身损害赔偿案件适用法律若干问题的解释第十七条第二十条第二十一条第四款第二十三条第二十四条第二十五条第二十八条的规定结合原告张明帝提供的证据原告张明帝的损失确定如下医疗费元含后续治疗费元住院伙食补助费天元天元护理费天元天元误工费天元天元残疾赔偿金元年年元鉴定费元电动车修理费元共计元根据机动车交通事故责任强制保险条款规定被告阳光财保永善支公司应在交强险医疗费限额内赔偿原告张明帝医疗费后续治疗费住院伙食补助费元在伤残赔偿限额内各赔偿原告张明帝残疾赔偿金护理费误工费鉴定费共计元在财产损失限额内赔偿原告张明帝车辆修理费元在商业三者险限额内赔偿原告张明帝医疗费等共计元原告张明帝的其余损失自己承担被告邓学兵为原告垫付的医疗费元修理费元共计元从上述赔偿款项中予以退回原告主张的护理费营养费本院支持其住院期间日原告主张的住院伙食补助费本院参照本县公职人员出差生活补助支持其每日元综上所述根据中华人民共和国侵权责任法第十二条第十六条第二十六条中华人民共和国道路交通安全法第七十六条最高人民法院关于审理人身损害赔偿案件适用法律若干问题的解释第十七条第二十条第二十一条第四款第二十三条第二十四条第二十五条第二十八条的规定判决如下一由被告阳光财产保险股份有限公司永善支公司在交强险医疗赔偿限额内赔偿原告张明帝医疗费含后续治疗费住院伙食补助费共计元在伤残赔偿限额内赔偿原告张明帝残疾赔偿金护理费误工费鉴定费共计元在财产损失限额内赔偿原告张明帝车辆修理费元在商业三者险限额内赔偿原告张明帝医疗费含后续治疗费等共计元上述各项合计元二被告邓学兵为原告垫付的医疗费元修理费元共计元从上述赔偿款项中予以退回上述赔偿款元由原告张明帝领取元由被告邓学兵领取元三驳回原告张明帝的其他诉讼请求上述赔偿金额限本判决生效之日给付案件受理费减半收取元由被告邓学兵承担元原告张明帝承担元如果负有义务的当事人未按本判决指定的期间履行给付金钱义务应当依照中华人民共和国民事诉讼法第二百五十三条的规定加倍支付迟延履行期间的债务利息如不服本判决可在判决书送达之日起十五日内向本院递交上诉状并按对方当事人的人数提出副本上诉于云南省昭通市中级人民法院本判决发生法律效力后若被告阳光财产保险股份有限公司永善支公司不自动履行本判决原告张明帝可在本判决规定履行期限届满后二年内向本院申请强制执行审判员吴光联二一八年十月二十九日书记员罗宇浩\n"
     ]
    }
   ],
   "source": [
    "one_text=re.sub('[^\\u4e00-\\u9fa5]+','',one_case[\"text\"])\n",
    "print(one_text.replace(\"仿宋\",\"\").replace(\"宋体\",\"\"))"
   ],
   "metadata": {
    "collapsed": false,
    "pycharm": {
     "name": "#%%\n"
    }
   }
  },
  {
   "cell_type": "code",
   "execution_count": null,
   "outputs": [],
   "source": [],
   "metadata": {
    "collapsed": false,
    "pycharm": {
     "name": "#%%\n"
    }
   }
  }
 ],
 "metadata": {
  "kernelspec": {
   "name": "conda-env-nlp-py",
   "language": "python",
   "display_name": "Python [conda env:nlp] *"
  },
  "language_info": {
   "codemirror_mode": {
    "name": "ipython",
    "version": 2
   },
   "file_extension": ".py",
   "mimetype": "text/x-python",
   "name": "python",
   "nbconvert_exporter": "python",
   "pygments_lexer": "ipython2",
   "version": "2.7.6"
  }
 },
 "nbformat": 4,
 "nbformat_minor": 0
}