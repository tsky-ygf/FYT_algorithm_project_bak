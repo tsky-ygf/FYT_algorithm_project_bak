{
 "cells": [
  {
   "cell_type": "code",
   "execution_count": 1,
   "outputs": [],
   "source": [
    "import json\n",
    "import os"
   ],
   "metadata": {
    "collapsed": false,
    "pycharm": {
     "name": "#%%\n"
    }
   }
  },
  {
   "cell_type": "code",
   "execution_count": 2,
   "outputs": [
    {
     "name": "stdout",
     "output_type": "stream",
     "text": [
      "/home/fyt\n"
     ]
    }
   ],
   "source": [
    "print(os.getcwd())"
   ],
   "metadata": {
    "collapsed": false,
    "pycharm": {
     "name": "#%%\n"
    }
   }
  },
  {
   "cell_type": "code",
   "execution_count": 16,
   "outputs": [
    {
     "name": "stdout",
     "output_type": "stream",
     "text": [
      "caseText ### 机动车交通事故责任纠纷\n",
      "caseDescription ### 原告汤可业诉被告石志平、中国人民财产保险股份有限公司慈溪中心支公司、张汉权、华安财产保险股份有限公司宜宾中心支公司机动车交通事故责任纠纷一案，本院于2019年6月11日立案受理。原告以被告石志平、张汉权下落不明无法联系为由向本院申请撤回对该两被告的起诉。本案适用简易程序于2019年7月11日进行了公开开庭审理。原告汤可业及其委托诉讼代理人郑可，被告中国人民财产保险股份有限公司慈溪中心支公司委托诉讼代理人沈烨彬，被告华安财产保险股份有限公司宜宾中心支公司委托诉讼代理人潘依云到庭参加了诉讼。本案现已审理终结。\n",
      "originallyCalled ### 原告汤可业的诉讼请求：原告医疗费31936元、住院伙食补助费750元、营养费2700元、误工费43720元、护理费9360元、交通费303元、鉴定费700元、电动车损失400元，共计89869元。扣除石志平、张汉权已经赔付的40000元后，原告可获赔49869元，由被告中国人民财产保险股份有限公司慈溪中心支公司、华安财产保险股份有限公司宜宾中心支公司在交强险内赔偿。本院确认的事实：2017年7月30日11时30分，石志平驾驶湘Ｕ×××××号二轮摩托车在慈溪市逍林樟新公路行驶时，因张汉权停放的川Ｑ×××××号大型普通客车挡住视线，与原告汤可业驾驶的电动自行车发生碰撞，造成原告受伤、车辆损坏的道路交通事故。慈溪市公安局交通警察大队认定石志平承担事故的主要责任，张汉权承担事故的次要责任，汤可业无责任。原告伤后在慈溪市慈林医院住院治疗1天，之后又在山东郯城县上颜湖医院住院治疗15天，伤情右股骨干骨折。2018年10月10日，原告再次到郯城县上颜湖医院住院治疗8天，拆除右股骨干骨折内固定。2019年4月24日，原告经宁波三益司法鉴定所鉴定，伤后休息时间240日，护理时间90日，营养期90日。被告中国人民财产保险股份有限公司慈溪中心支公司、华安财产保险股份有限公司宜宾中心支公司分别系涉案机动车的保险人。石志平已经赔付原告28000元，张汉权已经赔付原告12000元。本院核定的原告损失：医疗费31936元、住院伙食补助费720元、营养费2700元、误工费43720元、护理费9360元、交通费303元、鉴定费700元、电动车损失400元，共计89839元。扣除石志平已经赔付原告28000元，张汉权已经赔付原告12000元后，剩余损失由被告中国人民财产保险股份有限公司慈溪中心支公司、华安财产保险股份有限公司宜宾中心支公司各半承担。依照《中华人民共和国道路交通安全法》第七十六条，《中华人民共和国侵权责任法》第十六条，《最高人民法院关于审理人身损害赔偿案件适用法律若干问题的解释》第十七条，《最高人民法院关于审理道路交通事故损害赔偿案件适用法律若干问题的解释》第十六条的规定，判决如下：\n"
     ]
    }
   ],
   "source": [
    "with open('data/fyt_train_use_data/cls_data/minshi.json') as f:\n",
    "    for index,line in enumerate(f.readlines()):\n",
    "        if index == 2:\n",
    "            one_case = json.loads(line)\n",
    "            # for key,value in one_case.items():\n",
    "            #     print(key,\"###\",value)\n",
    "            if \"originallyCalled\" in one_case:\n",
    "                print(\"caseText\",\"###\",one_case[\"caseText\"])\n",
    "                print(\"caseDescription\",\"###\",one_case[\"caseDescription\"])\n",
    "                print(\"originallyCalled\",\"###\",one_case[\"originallyCalled\"])\n",
    "            break"
   ],
   "metadata": {
    "collapsed": false,
    "pycharm": {
     "name": "#%%\n"
    }
   }
  },
  {
   "cell_type": "code",
   "execution_count": null,
   "outputs": [],
   "source": [],
   "metadata": {
    "collapsed": false,
    "pycharm": {
     "name": "#%%\n"
    }
   }
  }
 ],
 "metadata": {
  "kernelspec": {
   "name": "conda-env-nlp-py",
   "language": "python",
   "display_name": "Python [conda env:nlp] *"
  },
  "language_info": {
   "codemirror_mode": {
    "name": "ipython",
    "version": 2
   },
   "file_extension": ".py",
   "mimetype": "text/x-python",
   "name": "python",
   "nbconvert_exporter": "python",
   "pygments_lexer": "ipython2",
   "version": "2.7.6"
  }
 },
 "nbformat": 4,
 "nbformat_minor": 0
}