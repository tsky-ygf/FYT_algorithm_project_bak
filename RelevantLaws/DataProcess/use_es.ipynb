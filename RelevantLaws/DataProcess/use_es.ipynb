{
 "cells": [
  {
   "cell_type": "code",
   "execution_count": null,
   "metadata": {
    "collapsed": true,
    "pycharm": {
     "is_executing": true
    }
   },
   "outputs": [],
   "source": [
    "from elasticsearch import Elasticsearch\n",
    "from datetime import datetime"
   ]
  },
  {
   "cell_type": "markdown",
   "source": [],
   "metadata": {
    "collapsed": false
   }
  },
  {
   "cell_type": "code",
   "execution_count": 10,
   "outputs": [
    {
     "ename": "TypeError",
     "evalue": "__init__() missing 1 required positional argument: 'scheme'",
     "output_type": "error",
     "traceback": [
      "\u001B[0;31m---------------------------------------------------------------------------\u001B[0m",
      "\u001B[0;31mTypeError\u001B[0m                                 Traceback (most recent call last)",
      "Input \u001B[0;32mIn [10]\u001B[0m, in \u001B[0;36m<cell line: 1>\u001B[0;34m()\u001B[0m\n\u001B[0;32m----> 1\u001B[0m es\u001B[38;5;241m=\u001B[39m\u001B[43mElasticsearch\u001B[49m\u001B[43m(\u001B[49m\u001B[43m[\u001B[49m\u001B[43m{\u001B[49m\u001B[38;5;124;43m\"\u001B[39;49m\u001B[38;5;124;43mhost\u001B[39;49m\u001B[38;5;124;43m\"\u001B[39;49m\u001B[43m:\u001B[49m\u001B[38;5;124;43m\"\u001B[39;49m\u001B[38;5;124;43mlocalhost\u001B[39;49m\u001B[38;5;124;43m\"\u001B[39;49m\u001B[43m,\u001B[49m\u001B[38;5;124;43m\"\u001B[39;49m\u001B[38;5;124;43mport\u001B[39;49m\u001B[38;5;124;43m\"\u001B[39;49m\u001B[43m:\u001B[49m\u001B[38;5;241;43m9200\u001B[39;49m\u001B[43m}\u001B[49m\u001B[43m]\u001B[49m\u001B[43m)\u001B[49m\n\u001B[1;32m      2\u001B[0m \u001B[38;5;28mprint\u001B[39m(es\u001B[38;5;241m.\u001B[39mcluster\u001B[38;5;241m.\u001B[39mstate())\n",
      "File \u001B[0;32m~/miniconda3/envs/nlp/lib/python3.9/site-packages/elasticsearch/_sync/client/__init__.py:312\u001B[0m, in \u001B[0;36mElasticsearch.__init__\u001B[0;34m(self, hosts, cloud_id, api_key, basic_auth, bearer_auth, opaque_id, headers, connections_per_node, http_compress, verify_certs, ca_certs, client_cert, client_key, ssl_assert_hostname, ssl_assert_fingerprint, ssl_version, ssl_context, ssl_show_warn, transport_class, request_timeout, node_class, node_pool_class, randomize_nodes_in_pool, node_selector_class, dead_node_backoff_factor, max_dead_node_backoff, serializer, serializers, default_mimetype, max_retries, retry_on_status, retry_on_timeout, sniff_on_start, sniff_before_requests, sniff_on_node_failure, sniff_timeout, min_delay_between_sniffing, sniffed_node_callback, meta_header, timeout, randomize_hosts, host_info_callback, sniffer_timeout, sniff_on_connection_fail, http_auth, maxsize, _transport)\u001B[0m\n\u001B[1;32m    309\u001B[0m     sniff_callback \u001B[38;5;241m=\u001B[39m default_sniff_callback\n\u001B[1;32m    311\u001B[0m \u001B[38;5;28;01mif\u001B[39;00m _transport \u001B[38;5;129;01mis\u001B[39;00m \u001B[38;5;28;01mNone\u001B[39;00m:\n\u001B[0;32m--> 312\u001B[0m     node_configs \u001B[38;5;241m=\u001B[39m \u001B[43mclient_node_configs\u001B[49m\u001B[43m(\u001B[49m\n\u001B[1;32m    313\u001B[0m \u001B[43m        \u001B[49m\u001B[43mhosts\u001B[49m\u001B[43m,\u001B[49m\n\u001B[1;32m    314\u001B[0m \u001B[43m        \u001B[49m\u001B[43mcloud_id\u001B[49m\u001B[38;5;241;43m=\u001B[39;49m\u001B[43mcloud_id\u001B[49m\u001B[43m,\u001B[49m\n\u001B[1;32m    315\u001B[0m \u001B[43m        \u001B[49m\u001B[43mconnections_per_node\u001B[49m\u001B[38;5;241;43m=\u001B[39;49m\u001B[43mconnections_per_node\u001B[49m\u001B[43m,\u001B[49m\n\u001B[1;32m    316\u001B[0m \u001B[43m        \u001B[49m\u001B[43mhttp_compress\u001B[49m\u001B[38;5;241;43m=\u001B[39;49m\u001B[43mhttp_compress\u001B[49m\u001B[43m,\u001B[49m\n\u001B[1;32m    317\u001B[0m \u001B[43m        \u001B[49m\u001B[43mverify_certs\u001B[49m\u001B[38;5;241;43m=\u001B[39;49m\u001B[43mverify_certs\u001B[49m\u001B[43m,\u001B[49m\n\u001B[1;32m    318\u001B[0m \u001B[43m        \u001B[49m\u001B[43mca_certs\u001B[49m\u001B[38;5;241;43m=\u001B[39;49m\u001B[43mca_certs\u001B[49m\u001B[43m,\u001B[49m\n\u001B[1;32m    319\u001B[0m \u001B[43m        \u001B[49m\u001B[43mclient_cert\u001B[49m\u001B[38;5;241;43m=\u001B[39;49m\u001B[43mclient_cert\u001B[49m\u001B[43m,\u001B[49m\n\u001B[1;32m    320\u001B[0m \u001B[43m        \u001B[49m\u001B[43mclient_key\u001B[49m\u001B[38;5;241;43m=\u001B[39;49m\u001B[43mclient_key\u001B[49m\u001B[43m,\u001B[49m\n\u001B[1;32m    321\u001B[0m \u001B[43m        \u001B[49m\u001B[43mssl_assert_hostname\u001B[49m\u001B[38;5;241;43m=\u001B[39;49m\u001B[43mssl_assert_hostname\u001B[49m\u001B[43m,\u001B[49m\n\u001B[1;32m    322\u001B[0m \u001B[43m        \u001B[49m\u001B[43mssl_assert_fingerprint\u001B[49m\u001B[38;5;241;43m=\u001B[39;49m\u001B[43mssl_assert_fingerprint\u001B[49m\u001B[43m,\u001B[49m\n\u001B[1;32m    323\u001B[0m \u001B[43m        \u001B[49m\u001B[43mssl_version\u001B[49m\u001B[38;5;241;43m=\u001B[39;49m\u001B[43mssl_version\u001B[49m\u001B[43m,\u001B[49m\n\u001B[1;32m    324\u001B[0m \u001B[43m        \u001B[49m\u001B[43mssl_context\u001B[49m\u001B[38;5;241;43m=\u001B[39;49m\u001B[43mssl_context\u001B[49m\u001B[43m,\u001B[49m\n\u001B[1;32m    325\u001B[0m \u001B[43m        \u001B[49m\u001B[43mssl_show_warn\u001B[49m\u001B[38;5;241;43m=\u001B[39;49m\u001B[43mssl_show_warn\u001B[49m\u001B[43m,\u001B[49m\n\u001B[1;32m    326\u001B[0m \u001B[43m    \u001B[49m\u001B[43m)\u001B[49m\n\u001B[1;32m    327\u001B[0m     transport_kwargs: t\u001B[38;5;241m.\u001B[39mDict[\u001B[38;5;28mstr\u001B[39m, t\u001B[38;5;241m.\u001B[39mAny] \u001B[38;5;241m=\u001B[39m {}\n\u001B[1;32m    328\u001B[0m     \u001B[38;5;28;01mif\u001B[39;00m node_class \u001B[38;5;129;01mis\u001B[39;00m \u001B[38;5;129;01mnot\u001B[39;00m DEFAULT:\n",
      "File \u001B[0;32m~/miniconda3/envs/nlp/lib/python3.9/site-packages/elasticsearch/_sync/client/utils.py:101\u001B[0m, in \u001B[0;36mclient_node_configs\u001B[0;34m(hosts, cloud_id, **kwargs)\u001B[0m\n\u001B[1;32m     99\u001B[0m \u001B[38;5;28;01melse\u001B[39;00m:\n\u001B[1;32m    100\u001B[0m     \u001B[38;5;28;01massert\u001B[39;00m hosts \u001B[38;5;129;01mis\u001B[39;00m \u001B[38;5;129;01mnot\u001B[39;00m \u001B[38;5;28;01mNone\u001B[39;00m\n\u001B[0;32m--> 101\u001B[0m     node_configs \u001B[38;5;241m=\u001B[39m \u001B[43mhosts_to_node_configs\u001B[49m\u001B[43m(\u001B[49m\u001B[43mhosts\u001B[49m\u001B[43m)\u001B[49m\n\u001B[1;32m    103\u001B[0m \u001B[38;5;66;03m# Remove all values which are 'DEFAULT' to avoid overwriting actual defaults.\u001B[39;00m\n\u001B[1;32m    104\u001B[0m node_options \u001B[38;5;241m=\u001B[39m {k: v \u001B[38;5;28;01mfor\u001B[39;00m k, v \u001B[38;5;129;01min\u001B[39;00m kwargs\u001B[38;5;241m.\u001B[39mitems() \u001B[38;5;28;01mif\u001B[39;00m v \u001B[38;5;129;01mis\u001B[39;00m \u001B[38;5;129;01mnot\u001B[39;00m DEFAULT}\n",
      "File \u001B[0;32m~/miniconda3/envs/nlp/lib/python3.9/site-packages/elasticsearch/_sync/client/utils.py:144\u001B[0m, in \u001B[0;36mhosts_to_node_configs\u001B[0;34m(hosts)\u001B[0m\n\u001B[1;32m    141\u001B[0m     node_configs\u001B[38;5;241m.\u001B[39mappend(url_to_node_config(host))\n\u001B[1;32m    143\u001B[0m \u001B[38;5;28;01melif\u001B[39;00m \u001B[38;5;28misinstance\u001B[39m(host, Mapping):\n\u001B[0;32m--> 144\u001B[0m     node_configs\u001B[38;5;241m.\u001B[39mappend(\u001B[43mhost_mapping_to_node_config\u001B[49m\u001B[43m(\u001B[49m\u001B[43mhost\u001B[49m\u001B[43m)\u001B[49m)\n\u001B[1;32m    145\u001B[0m \u001B[38;5;28;01melse\u001B[39;00m:\n\u001B[1;32m    146\u001B[0m     \u001B[38;5;28;01mraise\u001B[39;00m \u001B[38;5;167;01mValueError\u001B[39;00m(\n\u001B[1;32m    147\u001B[0m         \u001B[38;5;124m\"\u001B[39m\u001B[38;5;124m'\u001B[39m\u001B[38;5;124mhosts\u001B[39m\u001B[38;5;124m'\u001B[39m\u001B[38;5;124m must be a list of URLs, NodeConfigs, or dictionaries\u001B[39m\u001B[38;5;124m\"\u001B[39m\n\u001B[1;32m    148\u001B[0m     )\n",
      "File \u001B[0;32m~/miniconda3/envs/nlp/lib/python3.9/site-packages/elasticsearch/_sync/client/utils.py:211\u001B[0m, in \u001B[0;36mhost_mapping_to_node_config\u001B[0;34m(host)\u001B[0m\n\u001B[1;32m    204\u001B[0m     warnings\u001B[38;5;241m.\u001B[39mwarn(\n\u001B[1;32m    205\u001B[0m         \u001B[38;5;124m\"\u001B[39m\u001B[38;5;124mThe \u001B[39m\u001B[38;5;124m'\u001B[39m\u001B[38;5;124murl_prefix\u001B[39m\u001B[38;5;124m'\u001B[39m\u001B[38;5;124m option is deprecated in favor of \u001B[39m\u001B[38;5;124m'\u001B[39m\u001B[38;5;124mpath_prefix\u001B[39m\u001B[38;5;124m'\u001B[39m\u001B[38;5;124m\"\u001B[39m,\n\u001B[1;32m    206\u001B[0m         category\u001B[38;5;241m=\u001B[39m\u001B[38;5;167;01mDeprecationWarning\u001B[39;00m,\n\u001B[1;32m    207\u001B[0m         stacklevel\u001B[38;5;241m=\u001B[39mwarn_stacklevel(),\n\u001B[1;32m    208\u001B[0m     )\n\u001B[1;32m    209\u001B[0m     options[\u001B[38;5;124m\"\u001B[39m\u001B[38;5;124mpath_prefix\u001B[39m\u001B[38;5;124m\"\u001B[39m] \u001B[38;5;241m=\u001B[39m options\u001B[38;5;241m.\u001B[39mpop(\u001B[38;5;124m\"\u001B[39m\u001B[38;5;124murl_prefix\u001B[39m\u001B[38;5;124m\"\u001B[39m)\n\u001B[0;32m--> 211\u001B[0m \u001B[38;5;28;01mreturn\u001B[39;00m \u001B[43mNodeConfig\u001B[49m\u001B[43m(\u001B[49m\u001B[38;5;241;43m*\u001B[39;49m\u001B[38;5;241;43m*\u001B[39;49m\u001B[43moptions\u001B[49m\u001B[43m)\u001B[49m\n",
      "\u001B[0;31mTypeError\u001B[0m: __init__() missing 1 required positional argument: 'scheme'"
     ]
    }
   ],
   "source": [
    "es=Elasticsearch([{\"host\":\"localhost\",\"port\":9200}])\n",
    "print(es.cluster.state())\n",
    "# result = es.indices.create(index='news', ignore=400)\n",
    "# print(result)"
   ],
   "metadata": {
    "collapsed": false,
    "pycharm": {
     "name": "#%%\n"
    }
   }
  },
  {
   "cell_type": "code",
   "execution_count": 6,
   "outputs": [
    {
     "ename": "ValueError",
     "evalue": "Either 'hosts' or 'cloud_id' must be specified",
     "output_type": "error",
     "traceback": [
      "\u001B[0;31m---------------------------------------------------------------------------\u001B[0m",
      "\u001B[0;31mValueError\u001B[0m                                Traceback (most recent call last)",
      "Input \u001B[0;32mIn [6]\u001B[0m, in \u001B[0;36m<cell line: 1>\u001B[0;34m()\u001B[0m\n\u001B[0;32m----> 1\u001B[0m es \u001B[38;5;241m=\u001B[39m \u001B[43mElasticsearch\u001B[49m\u001B[43m(\u001B[49m\u001B[43m)\u001B[49m\n\u001B[1;32m      3\u001B[0m doc \u001B[38;5;241m=\u001B[39m {\n\u001B[1;32m      4\u001B[0m     \u001B[38;5;124m'\u001B[39m\u001B[38;5;124mauthor\u001B[39m\u001B[38;5;124m'\u001B[39m: \u001B[38;5;124m'\u001B[39m\u001B[38;5;124mkimchy\u001B[39m\u001B[38;5;124m'\u001B[39m,\n\u001B[1;32m      5\u001B[0m     \u001B[38;5;124m'\u001B[39m\u001B[38;5;124mtext\u001B[39m\u001B[38;5;124m'\u001B[39m: \u001B[38;5;124m'\u001B[39m\u001B[38;5;124mElasticsearch: cool. bonsai cool.\u001B[39m\u001B[38;5;124m'\u001B[39m,\n\u001B[1;32m      6\u001B[0m     \u001B[38;5;124m'\u001B[39m\u001B[38;5;124mtimestamp\u001B[39m\u001B[38;5;124m'\u001B[39m: datetime\u001B[38;5;241m.\u001B[39mnow(),\n\u001B[1;32m      7\u001B[0m }\n\u001B[1;32m      8\u001B[0m res \u001B[38;5;241m=\u001B[39m es\u001B[38;5;241m.\u001B[39mindex(index\u001B[38;5;241m=\u001B[39m\u001B[38;5;124m\"\u001B[39m\u001B[38;5;124mtest-index\u001B[39m\u001B[38;5;124m\"\u001B[39m, \u001B[38;5;28mid\u001B[39m\u001B[38;5;241m=\u001B[39m\u001B[38;5;241m1\u001B[39m, document\u001B[38;5;241m=\u001B[39mdoc)\n",
      "File \u001B[0;32m~/miniconda3/envs/nlp/lib/python3.9/site-packages/elasticsearch/_sync/client/__init__.py:189\u001B[0m, in \u001B[0;36mElasticsearch.__init__\u001B[0;34m(self, hosts, cloud_id, api_key, basic_auth, bearer_auth, opaque_id, headers, connections_per_node, http_compress, verify_certs, ca_certs, client_cert, client_key, ssl_assert_hostname, ssl_assert_fingerprint, ssl_version, ssl_context, ssl_show_warn, transport_class, request_timeout, node_class, node_pool_class, randomize_nodes_in_pool, node_selector_class, dead_node_backoff_factor, max_dead_node_backoff, serializer, serializers, default_mimetype, max_retries, retry_on_status, retry_on_timeout, sniff_on_start, sniff_before_requests, sniff_on_node_failure, sniff_timeout, min_delay_between_sniffing, sniffed_node_callback, meta_header, timeout, randomize_hosts, host_info_callback, sniffer_timeout, sniff_on_connection_fail, http_auth, maxsize, _transport)\u001B[0m\n\u001B[1;32m    126\u001B[0m \u001B[38;5;28;01mdef\u001B[39;00m \u001B[38;5;21m__init__\u001B[39m(\n\u001B[1;32m    127\u001B[0m     \u001B[38;5;28mself\u001B[39m,\n\u001B[1;32m    128\u001B[0m     hosts: t\u001B[38;5;241m.\u001B[39mOptional[_TYPE_HOSTS] \u001B[38;5;241m=\u001B[39m \u001B[38;5;28;01mNone\u001B[39;00m,\n\u001B[0;32m   (...)\u001B[0m\n\u001B[1;32m    186\u001B[0m     _transport: t\u001B[38;5;241m.\u001B[39mOptional[Transport] \u001B[38;5;241m=\u001B[39m \u001B[38;5;28;01mNone\u001B[39;00m,\n\u001B[1;32m    187\u001B[0m ) \u001B[38;5;241m-\u001B[39m\u001B[38;5;241m>\u001B[39m \u001B[38;5;28;01mNone\u001B[39;00m:\n\u001B[1;32m    188\u001B[0m     \u001B[38;5;28;01mif\u001B[39;00m hosts \u001B[38;5;129;01mis\u001B[39;00m \u001B[38;5;28;01mNone\u001B[39;00m \u001B[38;5;129;01mand\u001B[39;00m cloud_id \u001B[38;5;129;01mis\u001B[39;00m \u001B[38;5;28;01mNone\u001B[39;00m \u001B[38;5;129;01mand\u001B[39;00m _transport \u001B[38;5;129;01mis\u001B[39;00m \u001B[38;5;28;01mNone\u001B[39;00m:\n\u001B[0;32m--> 189\u001B[0m         \u001B[38;5;28;01mraise\u001B[39;00m \u001B[38;5;167;01mValueError\u001B[39;00m(\u001B[38;5;124m\"\u001B[39m\u001B[38;5;124mEither \u001B[39m\u001B[38;5;124m'\u001B[39m\u001B[38;5;124mhosts\u001B[39m\u001B[38;5;124m'\u001B[39m\u001B[38;5;124m or \u001B[39m\u001B[38;5;124m'\u001B[39m\u001B[38;5;124mcloud_id\u001B[39m\u001B[38;5;124m'\u001B[39m\u001B[38;5;124m must be specified\u001B[39m\u001B[38;5;124m\"\u001B[39m)\n\u001B[1;32m    191\u001B[0m     \u001B[38;5;28;01mif\u001B[39;00m timeout \u001B[38;5;129;01mis\u001B[39;00m \u001B[38;5;129;01mnot\u001B[39;00m DEFAULT:\n\u001B[1;32m    192\u001B[0m         \u001B[38;5;28;01mif\u001B[39;00m request_timeout \u001B[38;5;129;01mis\u001B[39;00m \u001B[38;5;129;01mnot\u001B[39;00m DEFAULT:\n",
      "\u001B[0;31mValueError\u001B[0m: Either 'hosts' or 'cloud_id' must be specified"
     ]
    }
   ],
   "source": [
    "# es = Elasticsearch()\n",
    "#\n",
    "# doc = {\n",
    "#     'author': 'kimchy',\n",
    "#     'text': 'Elasticsearch: cool. bonsai cool.',\n",
    "#     'timestamp': datetime.now(),\n",
    "# }\n",
    "# res = es.index(index=\"test-index\", id=1, document=doc)\n",
    "# print(res['result'])\n",
    "#\n",
    "# res = es.get(index=\"test-index\", id=1)\n",
    "# print(res['_source'])\n",
    "#\n",
    "# es.indices.refresh(index=\"test-index\")\n",
    "#\n",
    "# res = es.search(index=\"test-index\", query={\"match_all\": {}})\n",
    "# print(\"Got %d Hits:\" % res['hits']['total']['value'])\n",
    "# for hit in res['hits']['hits']:\n",
    "#     print(\"%(timestamp)s %(author)s: %(text)s\" % hit[\"_source\"])"
   ],
   "metadata": {
    "collapsed": false,
    "pycharm": {
     "name": "#%%\n"
    }
   }
  }
 ],
 "metadata": {
  "kernelspec": {
   "display_name": "Python 3",
   "language": "python",
   "name": "python3"
  },
  "language_info": {
   "codemirror_mode": {
    "name": "ipython",
    "version": 2
   },
   "file_extension": ".py",
   "mimetype": "text/x-python",
   "name": "python",
   "nbconvert_exporter": "python",
   "pygments_lexer": "ipython2",
   "version": "2.7.6"
  }
 },
 "nbformat": 4,
 "nbformat_minor": 0
}